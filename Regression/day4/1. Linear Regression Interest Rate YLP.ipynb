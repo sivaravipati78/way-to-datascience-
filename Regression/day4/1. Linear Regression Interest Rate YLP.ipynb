{
 "cells": [
  {
   "cell_type": "markdown",
   "metadata": {},
   "source": [
    "# Linear Regression "
   ]
  },
  {
   "cell_type": "code",
   "execution_count": 114,
   "metadata": {},
   "outputs": [],
   "source": [
    "import pandas as pd \n",
    "import numpy as np "
   ]
  },
  {
   "cell_type": "code",
   "execution_count": 115,
   "metadata": {},
   "outputs": [],
   "source": [
    "ld_train= pd.read_csv(r'C:\\Users\\SRK\\Desktop\\siva_python\\Regression\\day4\\loan_data_train.csv')\n",
    "ld_test= pd.read_csv(r'C:\\Users\\SRK\\Desktop\\siva_python\\Regression\\day4\\loan_data_test.csv')   \n"
   ]
  },
  {
   "cell_type": "code",
   "execution_count": 116,
   "metadata": {},
   "outputs": [
    {
     "data": {
      "text/html": [
       "<div>\n",
       "<style scoped>\n",
       "    .dataframe tbody tr th:only-of-type {\n",
       "        vertical-align: middle;\n",
       "    }\n",
       "\n",
       "    .dataframe tbody tr th {\n",
       "        vertical-align: top;\n",
       "    }\n",
       "\n",
       "    .dataframe thead th {\n",
       "        text-align: right;\n",
       "    }\n",
       "</style>\n",
       "<table border=\"1\" class=\"dataframe\">\n",
       "  <thead>\n",
       "    <tr style=\"text-align: right;\">\n",
       "      <th></th>\n",
       "      <th>ID</th>\n",
       "      <th>Amount.Requested</th>\n",
       "      <th>Amount.Funded.By.Investors</th>\n",
       "      <th>Loan.Length</th>\n",
       "      <th>Loan.Purpose</th>\n",
       "      <th>Debt.To.Income.Ratio</th>\n",
       "      <th>State</th>\n",
       "      <th>Home.Ownership</th>\n",
       "      <th>Monthly.Income</th>\n",
       "      <th>FICO.Range</th>\n",
       "      <th>Open.CREDIT.Lines</th>\n",
       "      <th>Revolving.CREDIT.Balance</th>\n",
       "      <th>Inquiries.in.the.Last.6.Months</th>\n",
       "      <th>Employment.Length</th>\n",
       "    </tr>\n",
       "  </thead>\n",
       "  <tbody>\n",
       "    <tr>\n",
       "      <th>0</th>\n",
       "      <td>20093</td>\n",
       "      <td>5000</td>\n",
       "      <td>5000</td>\n",
       "      <td>60 months</td>\n",
       "      <td>moving</td>\n",
       "      <td>12.59%</td>\n",
       "      <td>NY</td>\n",
       "      <td>RENT</td>\n",
       "      <td>4416.67</td>\n",
       "      <td>690-694</td>\n",
       "      <td>13</td>\n",
       "      <td>7686</td>\n",
       "      <td>0</td>\n",
       "      <td>&lt; 1 year</td>\n",
       "    </tr>\n",
       "    <tr>\n",
       "      <th>1</th>\n",
       "      <td>62445</td>\n",
       "      <td>18000</td>\n",
       "      <td>18000</td>\n",
       "      <td>60 months</td>\n",
       "      <td>debt_consolidation</td>\n",
       "      <td>4.93%</td>\n",
       "      <td>CA</td>\n",
       "      <td>RENT</td>\n",
       "      <td>5258.50</td>\n",
       "      <td>710-714</td>\n",
       "      <td>6</td>\n",
       "      <td>11596</td>\n",
       "      <td>0</td>\n",
       "      <td>10+ years</td>\n",
       "    </tr>\n",
       "    <tr>\n",
       "      <th>2</th>\n",
       "      <td>65248</td>\n",
       "      <td>7200</td>\n",
       "      <td>7200</td>\n",
       "      <td>60 months</td>\n",
       "      <td>debt_consolidation</td>\n",
       "      <td>25.16%</td>\n",
       "      <td>LA</td>\n",
       "      <td>MORTGAGE</td>\n",
       "      <td>3750.00</td>\n",
       "      <td>750-754</td>\n",
       "      <td>13</td>\n",
       "      <td>7283</td>\n",
       "      <td>0</td>\n",
       "      <td>6 years</td>\n",
       "    </tr>\n",
       "    <tr>\n",
       "      <th>3</th>\n",
       "      <td>81822</td>\n",
       "      <td>7200</td>\n",
       "      <td>7200</td>\n",
       "      <td>36 months</td>\n",
       "      <td>debt_consolidation</td>\n",
       "      <td>17.27%</td>\n",
       "      <td>NY</td>\n",
       "      <td>MORTGAGE</td>\n",
       "      <td>3416.67</td>\n",
       "      <td>790-794</td>\n",
       "      <td>14</td>\n",
       "      <td>4838</td>\n",
       "      <td>0</td>\n",
       "      <td>10+ years</td>\n",
       "    </tr>\n",
       "    <tr>\n",
       "      <th>4</th>\n",
       "      <td>57923</td>\n",
       "      <td>22000</td>\n",
       "      <td>22000</td>\n",
       "      <td>60 months</td>\n",
       "      <td>debt_consolidation</td>\n",
       "      <td>18.28%</td>\n",
       "      <td>MI</td>\n",
       "      <td>MORTGAGE</td>\n",
       "      <td>6083.33</td>\n",
       "      <td>720-724</td>\n",
       "      <td>9</td>\n",
       "      <td>20181</td>\n",
       "      <td>0</td>\n",
       "      <td>8 years</td>\n",
       "    </tr>\n",
       "  </tbody>\n",
       "</table>\n",
       "</div>"
      ],
      "text/plain": [
       "      ID  Amount.Requested Amount.Funded.By.Investors Loan.Length  \\\n",
       "0  20093              5000                       5000   60 months   \n",
       "1  62445             18000                      18000   60 months   \n",
       "2  65248              7200                       7200   60 months   \n",
       "3  81822              7200                       7200   36 months   \n",
       "4  57923             22000                      22000   60 months   \n",
       "\n",
       "         Loan.Purpose Debt.To.Income.Ratio State Home.Ownership  \\\n",
       "0              moving               12.59%    NY           RENT   \n",
       "1  debt_consolidation                4.93%    CA           RENT   \n",
       "2  debt_consolidation               25.16%    LA       MORTGAGE   \n",
       "3  debt_consolidation               17.27%    NY       MORTGAGE   \n",
       "4  debt_consolidation               18.28%    MI       MORTGAGE   \n",
       "\n",
       "   Monthly.Income FICO.Range Open.CREDIT.Lines  Revolving.CREDIT.Balance  \\\n",
       "0         4416.67    690-694                13                      7686   \n",
       "1         5258.50    710-714                 6                     11596   \n",
       "2         3750.00    750-754                13                      7283   \n",
       "3         3416.67    790-794                14                      4838   \n",
       "4         6083.33    720-724                 9                     20181   \n",
       "\n",
       "   Inquiries.in.the.Last.6.Months Employment.Length  \n",
       "0                               0          < 1 year  \n",
       "1                               0         10+ years  \n",
       "2                               0           6 years  \n",
       "3                               0         10+ years  \n",
       "4                               0           8 years  "
      ]
     },
     "execution_count": 116,
     "metadata": {},
     "output_type": "execute_result"
    }
   ],
   "source": [
    "ld_test.head()"
   ]
  },
  {
   "cell_type": "code",
   "execution_count": 117,
   "metadata": {},
   "outputs": [
    {
     "data": {
      "text/html": [
       "<div>\n",
       "<style scoped>\n",
       "    .dataframe tbody tr th:only-of-type {\n",
       "        vertical-align: middle;\n",
       "    }\n",
       "\n",
       "    .dataframe tbody tr th {\n",
       "        vertical-align: top;\n",
       "    }\n",
       "\n",
       "    .dataframe thead th {\n",
       "        text-align: right;\n",
       "    }\n",
       "</style>\n",
       "<table border=\"1\" class=\"dataframe\">\n",
       "  <thead>\n",
       "    <tr style=\"text-align: right;\">\n",
       "      <th></th>\n",
       "      <th>ID</th>\n",
       "      <th>Amount.Requested</th>\n",
       "      <th>Amount.Funded.By.Investors</th>\n",
       "      <th>Interest.Rate</th>\n",
       "      <th>Loan.Length</th>\n",
       "      <th>Loan.Purpose</th>\n",
       "      <th>Debt.To.Income.Ratio</th>\n",
       "      <th>State</th>\n",
       "      <th>Home.Ownership</th>\n",
       "      <th>Monthly.Income</th>\n",
       "      <th>FICO.Range</th>\n",
       "      <th>Open.CREDIT.Lines</th>\n",
       "      <th>Revolving.CREDIT.Balance</th>\n",
       "      <th>Inquiries.in.the.Last.6.Months</th>\n",
       "      <th>Employment.Length</th>\n",
       "    </tr>\n",
       "  </thead>\n",
       "  <tbody>\n",
       "    <tr>\n",
       "      <th>0</th>\n",
       "      <td>79542.0</td>\n",
       "      <td>25000</td>\n",
       "      <td>25000</td>\n",
       "      <td>18.49%</td>\n",
       "      <td>60 months</td>\n",
       "      <td>debt_consolidation</td>\n",
       "      <td>27.56%</td>\n",
       "      <td>VA</td>\n",
       "      <td>MORTGAGE</td>\n",
       "      <td>8606.56</td>\n",
       "      <td>720-724</td>\n",
       "      <td>11</td>\n",
       "      <td>15210</td>\n",
       "      <td>3.0</td>\n",
       "      <td>5 years</td>\n",
       "    </tr>\n",
       "    <tr>\n",
       "      <th>1</th>\n",
       "      <td>75473.0</td>\n",
       "      <td>19750</td>\n",
       "      <td>19750</td>\n",
       "      <td>17.27%</td>\n",
       "      <td>60 months</td>\n",
       "      <td>debt_consolidation</td>\n",
       "      <td>13.39%</td>\n",
       "      <td>NY</td>\n",
       "      <td>MORTGAGE</td>\n",
       "      <td>6737.50</td>\n",
       "      <td>710-714</td>\n",
       "      <td>14</td>\n",
       "      <td>19070</td>\n",
       "      <td>3.0</td>\n",
       "      <td>4 years</td>\n",
       "    </tr>\n",
       "    <tr>\n",
       "      <th>2</th>\n",
       "      <td>67265.0</td>\n",
       "      <td>2100</td>\n",
       "      <td>2100</td>\n",
       "      <td>14.33%</td>\n",
       "      <td>36 months</td>\n",
       "      <td>major_purchase</td>\n",
       "      <td>3.50%</td>\n",
       "      <td>LA</td>\n",
       "      <td>OWN</td>\n",
       "      <td>1000.00</td>\n",
       "      <td>690-694</td>\n",
       "      <td>13</td>\n",
       "      <td>893</td>\n",
       "      <td>1.0</td>\n",
       "      <td>&lt; 1 year</td>\n",
       "    </tr>\n",
       "    <tr>\n",
       "      <th>3</th>\n",
       "      <td>80167.0</td>\n",
       "      <td>28000</td>\n",
       "      <td>28000</td>\n",
       "      <td>16.29%</td>\n",
       "      <td>36 months</td>\n",
       "      <td>credit_card</td>\n",
       "      <td>19.62%</td>\n",
       "      <td>NV</td>\n",
       "      <td>MORTGAGE</td>\n",
       "      <td>7083.33</td>\n",
       "      <td>710-714</td>\n",
       "      <td>12</td>\n",
       "      <td>38194</td>\n",
       "      <td>1.0</td>\n",
       "      <td>10+ years</td>\n",
       "    </tr>\n",
       "    <tr>\n",
       "      <th>4</th>\n",
       "      <td>17240.0</td>\n",
       "      <td>24250</td>\n",
       "      <td>17431.82</td>\n",
       "      <td>12.23%</td>\n",
       "      <td>60 months</td>\n",
       "      <td>credit_card</td>\n",
       "      <td>23.79%</td>\n",
       "      <td>OH</td>\n",
       "      <td>MORTGAGE</td>\n",
       "      <td>5833.33</td>\n",
       "      <td>730-734</td>\n",
       "      <td>6</td>\n",
       "      <td>31061</td>\n",
       "      <td>2.0</td>\n",
       "      <td>10+ years</td>\n",
       "    </tr>\n",
       "  </tbody>\n",
       "</table>\n",
       "</div>"
      ],
      "text/plain": [
       "        ID Amount.Requested Amount.Funded.By.Investors Interest.Rate  \\\n",
       "0  79542.0            25000                      25000        18.49%   \n",
       "1  75473.0            19750                      19750        17.27%   \n",
       "2  67265.0             2100                       2100        14.33%   \n",
       "3  80167.0            28000                      28000        16.29%   \n",
       "4  17240.0            24250                   17431.82        12.23%   \n",
       "\n",
       "  Loan.Length        Loan.Purpose Debt.To.Income.Ratio State Home.Ownership  \\\n",
       "0   60 months  debt_consolidation               27.56%    VA       MORTGAGE   \n",
       "1   60 months  debt_consolidation               13.39%    NY       MORTGAGE   \n",
       "2   36 months      major_purchase                3.50%    LA            OWN   \n",
       "3   36 months         credit_card               19.62%    NV       MORTGAGE   \n",
       "4   60 months         credit_card               23.79%    OH       MORTGAGE   \n",
       "\n",
       "   Monthly.Income FICO.Range Open.CREDIT.Lines Revolving.CREDIT.Balance  \\\n",
       "0         8606.56    720-724                11                    15210   \n",
       "1         6737.50    710-714                14                    19070   \n",
       "2         1000.00    690-694                13                      893   \n",
       "3         7083.33    710-714                12                    38194   \n",
       "4         5833.33    730-734                 6                    31061   \n",
       "\n",
       "   Inquiries.in.the.Last.6.Months Employment.Length  \n",
       "0                             3.0           5 years  \n",
       "1                             3.0           4 years  \n",
       "2                             1.0          < 1 year  \n",
       "3                             1.0         10+ years  \n",
       "4                             2.0         10+ years  "
      ]
     },
     "execution_count": 117,
     "metadata": {},
     "output_type": "execute_result"
    }
   ],
   "source": [
    "ld_train.head()"
   ]
  },
  {
   "cell_type": "code",
   "execution_count": 118,
   "metadata": {},
   "outputs": [],
   "source": [
    "# lets combine the data for data prep\n",
    "\n",
    "ld_test['Interest.Rate']=np.nan\n",
    "ld_train['data']='train'\n",
    "ld_test['data']='test'\n",
    "ld_test=ld_test[ld_train.columns]\n",
    "ld_all=pd.concat([ld_train,ld_test],axis=0)"
   ]
  },
  {
   "cell_type": "code",
   "execution_count": 119,
   "metadata": {},
   "outputs": [
    {
     "data": {
      "text/html": [
       "<div>\n",
       "<style scoped>\n",
       "    .dataframe tbody tr th:only-of-type {\n",
       "        vertical-align: middle;\n",
       "    }\n",
       "\n",
       "    .dataframe tbody tr th {\n",
       "        vertical-align: top;\n",
       "    }\n",
       "\n",
       "    .dataframe thead th {\n",
       "        text-align: right;\n",
       "    }\n",
       "</style>\n",
       "<table border=\"1\" class=\"dataframe\">\n",
       "  <thead>\n",
       "    <tr style=\"text-align: right;\">\n",
       "      <th></th>\n",
       "      <th>ID</th>\n",
       "      <th>Amount.Requested</th>\n",
       "      <th>Amount.Funded.By.Investors</th>\n",
       "      <th>Interest.Rate</th>\n",
       "      <th>Loan.Length</th>\n",
       "      <th>Loan.Purpose</th>\n",
       "      <th>Debt.To.Income.Ratio</th>\n",
       "      <th>State</th>\n",
       "      <th>Home.Ownership</th>\n",
       "      <th>Monthly.Income</th>\n",
       "      <th>FICO.Range</th>\n",
       "      <th>Open.CREDIT.Lines</th>\n",
       "      <th>Revolving.CREDIT.Balance</th>\n",
       "      <th>Inquiries.in.the.Last.6.Months</th>\n",
       "      <th>Employment.Length</th>\n",
       "      <th>data</th>\n",
       "    </tr>\n",
       "  </thead>\n",
       "  <tbody>\n",
       "    <tr>\n",
       "      <th>0</th>\n",
       "      <td>79542.0</td>\n",
       "      <td>25000</td>\n",
       "      <td>25000</td>\n",
       "      <td>18.49%</td>\n",
       "      <td>60 months</td>\n",
       "      <td>debt_consolidation</td>\n",
       "      <td>27.56%</td>\n",
       "      <td>VA</td>\n",
       "      <td>MORTGAGE</td>\n",
       "      <td>8606.56</td>\n",
       "      <td>720-724</td>\n",
       "      <td>11</td>\n",
       "      <td>15210</td>\n",
       "      <td>3.0</td>\n",
       "      <td>5 years</td>\n",
       "      <td>train</td>\n",
       "    </tr>\n",
       "    <tr>\n",
       "      <th>1</th>\n",
       "      <td>75473.0</td>\n",
       "      <td>19750</td>\n",
       "      <td>19750</td>\n",
       "      <td>17.27%</td>\n",
       "      <td>60 months</td>\n",
       "      <td>debt_consolidation</td>\n",
       "      <td>13.39%</td>\n",
       "      <td>NY</td>\n",
       "      <td>MORTGAGE</td>\n",
       "      <td>6737.50</td>\n",
       "      <td>710-714</td>\n",
       "      <td>14</td>\n",
       "      <td>19070</td>\n",
       "      <td>3.0</td>\n",
       "      <td>4 years</td>\n",
       "      <td>train</td>\n",
       "    </tr>\n",
       "    <tr>\n",
       "      <th>2</th>\n",
       "      <td>67265.0</td>\n",
       "      <td>2100</td>\n",
       "      <td>2100</td>\n",
       "      <td>14.33%</td>\n",
       "      <td>36 months</td>\n",
       "      <td>major_purchase</td>\n",
       "      <td>3.50%</td>\n",
       "      <td>LA</td>\n",
       "      <td>OWN</td>\n",
       "      <td>1000.00</td>\n",
       "      <td>690-694</td>\n",
       "      <td>13</td>\n",
       "      <td>893</td>\n",
       "      <td>1.0</td>\n",
       "      <td>&lt; 1 year</td>\n",
       "      <td>train</td>\n",
       "    </tr>\n",
       "    <tr>\n",
       "      <th>3</th>\n",
       "      <td>80167.0</td>\n",
       "      <td>28000</td>\n",
       "      <td>28000</td>\n",
       "      <td>16.29%</td>\n",
       "      <td>36 months</td>\n",
       "      <td>credit_card</td>\n",
       "      <td>19.62%</td>\n",
       "      <td>NV</td>\n",
       "      <td>MORTGAGE</td>\n",
       "      <td>7083.33</td>\n",
       "      <td>710-714</td>\n",
       "      <td>12</td>\n",
       "      <td>38194</td>\n",
       "      <td>1.0</td>\n",
       "      <td>10+ years</td>\n",
       "      <td>train</td>\n",
       "    </tr>\n",
       "    <tr>\n",
       "      <th>4</th>\n",
       "      <td>17240.0</td>\n",
       "      <td>24250</td>\n",
       "      <td>17431.82</td>\n",
       "      <td>12.23%</td>\n",
       "      <td>60 months</td>\n",
       "      <td>credit_card</td>\n",
       "      <td>23.79%</td>\n",
       "      <td>OH</td>\n",
       "      <td>MORTGAGE</td>\n",
       "      <td>5833.33</td>\n",
       "      <td>730-734</td>\n",
       "      <td>6</td>\n",
       "      <td>31061</td>\n",
       "      <td>2.0</td>\n",
       "      <td>10+ years</td>\n",
       "      <td>train</td>\n",
       "    </tr>\n",
       "  </tbody>\n",
       "</table>\n",
       "</div>"
      ],
      "text/plain": [
       "        ID Amount.Requested Amount.Funded.By.Investors Interest.Rate  \\\n",
       "0  79542.0            25000                      25000        18.49%   \n",
       "1  75473.0            19750                      19750        17.27%   \n",
       "2  67265.0             2100                       2100        14.33%   \n",
       "3  80167.0            28000                      28000        16.29%   \n",
       "4  17240.0            24250                   17431.82        12.23%   \n",
       "\n",
       "  Loan.Length        Loan.Purpose Debt.To.Income.Ratio State Home.Ownership  \\\n",
       "0   60 months  debt_consolidation               27.56%    VA       MORTGAGE   \n",
       "1   60 months  debt_consolidation               13.39%    NY       MORTGAGE   \n",
       "2   36 months      major_purchase                3.50%    LA            OWN   \n",
       "3   36 months         credit_card               19.62%    NV       MORTGAGE   \n",
       "4   60 months         credit_card               23.79%    OH       MORTGAGE   \n",
       "\n",
       "   Monthly.Income FICO.Range Open.CREDIT.Lines Revolving.CREDIT.Balance  \\\n",
       "0         8606.56    720-724                11                    15210   \n",
       "1         6737.50    710-714                14                    19070   \n",
       "2         1000.00    690-694                13                      893   \n",
       "3         7083.33    710-714                12                    38194   \n",
       "4         5833.33    730-734                 6                    31061   \n",
       "\n",
       "   Inquiries.in.the.Last.6.Months Employment.Length   data  \n",
       "0                             3.0           5 years  train  \n",
       "1                             3.0           4 years  train  \n",
       "2                             1.0          < 1 year  train  \n",
       "3                             1.0         10+ years  train  \n",
       "4                             2.0         10+ years  train  "
      ]
     },
     "execution_count": 119,
     "metadata": {},
     "output_type": "execute_result"
    }
   ],
   "source": [
    "ld_all.head()"
   ]
  },
  {
   "cell_type": "code",
   "execution_count": 120,
   "metadata": {},
   "outputs": [
    {
     "data": {
      "text/plain": [
       "ID                                float64\n",
       "Amount.Requested                   object\n",
       "Amount.Funded.By.Investors         object\n",
       "Interest.Rate                      object\n",
       "Loan.Length                        object\n",
       "Loan.Purpose                       object\n",
       "Debt.To.Income.Ratio               object\n",
       "State                              object\n",
       "Home.Ownership                     object\n",
       "Monthly.Income                    float64\n",
       "FICO.Range                         object\n",
       "Open.CREDIT.Lines                  object\n",
       "Revolving.CREDIT.Balance           object\n",
       "Inquiries.in.the.Last.6.Months    float64\n",
       "Employment.Length                  object\n",
       "data                               object\n",
       "dtype: object"
      ]
     },
     "execution_count": 120,
     "metadata": {},
     "output_type": "execute_result"
    }
   ],
   "source": [
    "ld_all.dtypes"
   ]
  },
  {
   "cell_type": "code",
   "execution_count": 121,
   "metadata": {},
   "outputs": [],
   "source": [
    "# ID,Amount.Funded.By.Investors : drop \n",
    "# Interest Rate , Debt to income ratio : remove % and then to numeric\n",
    "# Amount.Requested , 'Open.CREDIT.Lines','Revolving.CREDIT.Balance': convert it to numeric \n",
    "# FICO.Range : replace it by a numeric column which is average of the range\n",
    "# Employment Length : convert to number\n",
    "# Loan Lenth, Loan Purpose , State , Home ownership: dummies for categories with good occurence rate"
   ]
  },
  {
   "cell_type": "code",
   "execution_count": 122,
   "metadata": {},
   "outputs": [],
   "source": [
    "ld_all.drop(['ID','Amount.Funded.By.Investors'],axis=1,inplace=True)"
   ]
  },
  {
   "cell_type": "code",
   "execution_count": 123,
   "metadata": {},
   "outputs": [],
   "source": [
    "for col in ['Interest.Rate','Debt.To.Income.Ratio']:\n",
    "    ld_all[col]=ld_all[col].str.replace(\"%\",\"\")"
   ]
  },
  {
   "cell_type": "code",
   "execution_count": 124,
   "metadata": {},
   "outputs": [],
   "source": [
    "for col in ['Amount.Requested', 'Interest.Rate','Debt.To.Income.Ratio',\n",
    "            'Open.CREDIT.Lines','Revolving.CREDIT.Balance']:\n",
    "    ld_all[col]=pd.to_numeric(ld_all[col],errors='coerce')\n",
    "    "
   ]
  },
  {
   "cell_type": "code",
   "execution_count": 125,
   "metadata": {},
   "outputs": [],
   "source": [
    "k=ld_all['FICO.Range'].str.split(\"-\",expand=True).astype(float)\n",
    "\n",
    "ld_all['fico']=0.5*(k[0]+k[1])\n",
    "\n",
    "del ld_all['FICO.Range']\n"
   ]
  },
  {
   "cell_type": "code",
   "execution_count": 126,
   "metadata": {},
   "outputs": [
    {
     "data": {
      "text/plain": [
       "10+ years    653\n",
       "< 1 year     249\n",
       "2 years      243\n",
       "3 years      235\n",
       "5 years      202\n",
       "4 years      191\n",
       "1 year       177\n",
       "6 years      163\n",
       "7 years      127\n",
       "8 years      108\n",
       "9 years       72\n",
       ".              2\n",
       "Name: Employment.Length, dtype: int64"
      ]
     },
     "execution_count": 126,
     "metadata": {},
     "output_type": "execute_result"
    }
   ],
   "source": [
    "ld_all['Employment.Length'].value_counts()"
   ]
  },
  {
   "cell_type": "code",
   "execution_count": 127,
   "metadata": {},
   "outputs": [],
   "source": [
    "ld_all['Employment.Length']=ld_all['Employment.Length'].str.replace('years',\"\")\n",
    "\n",
    "ld_all['Employment.Length']=ld_all['Employment.Length'].str.replace('year',\"\")\n",
    "\n",
    "ld_all['Employment.Length']=np.where(ld_all['Employment.Length'].str[:2]==\"10\",10,ld_all['Employment.Length'])\n",
    "\n",
    "ld_all['Employment.Length']=np.where(ld_all['Employment.Length'].str[0]==\"<\",0,ld_all['Employment.Length'])\n",
    "\n",
    "ld_all['Employment.Length']=pd.to_numeric(ld_all['Employment.Length'],errors='coerce')"
   ]
  },
  {
   "cell_type": "code",
   "execution_count": 128,
   "metadata": {},
   "outputs": [],
   "source": [
    "# Notice that to apply string function on pandas data frame columns you need to str attribute\n",
    "cat_cols=ld_all.select_dtypes(['object']).columns"
   ]
  },
  {
   "cell_type": "code",
   "execution_count": 129,
   "metadata": {},
   "outputs": [
    {
     "data": {
      "text/plain": [
       "Index(['Loan.Length', 'Loan.Purpose', 'State', 'Home.Ownership', 'data'], dtype='object')"
      ]
     },
     "execution_count": 129,
     "metadata": {},
     "output_type": "execute_result"
    }
   ],
   "source": [
    "cat_cols"
   ]
  },
  {
   "cell_type": "code",
   "execution_count": 130,
   "metadata": {},
   "outputs": [],
   "source": [
    "cat_cols=cat_cols[:-1]"
   ]
  },
  {
   "cell_type": "code",
   "execution_count": 131,
   "metadata": {},
   "outputs": [
    {
     "data": {
      "text/plain": [
       "Index(['Loan.Length', 'Loan.Purpose', 'State', 'Home.Ownership'], dtype='object')"
      ]
     },
     "execution_count": 131,
     "metadata": {},
     "output_type": "execute_result"
    }
   ],
   "source": [
    "cat_cols"
   ]
  },
  {
   "cell_type": "code",
   "execution_count": 132,
   "metadata": {},
   "outputs": [
    {
     "data": {
      "text/html": [
       "<div>\n",
       "<style scoped>\n",
       "    .dataframe tbody tr th:only-of-type {\n",
       "        vertical-align: middle;\n",
       "    }\n",
       "\n",
       "    .dataframe tbody tr th {\n",
       "        vertical-align: top;\n",
       "    }\n",
       "\n",
       "    .dataframe thead th {\n",
       "        text-align: right;\n",
       "    }\n",
       "</style>\n",
       "<table border=\"1\" class=\"dataframe\">\n",
       "  <thead>\n",
       "    <tr style=\"text-align: right;\">\n",
       "      <th></th>\n",
       "      <th>Amount.Requested</th>\n",
       "      <th>Interest.Rate</th>\n",
       "      <th>Loan.Length</th>\n",
       "      <th>Loan.Purpose</th>\n",
       "      <th>Debt.To.Income.Ratio</th>\n",
       "      <th>State</th>\n",
       "      <th>Home.Ownership</th>\n",
       "      <th>Monthly.Income</th>\n",
       "      <th>Open.CREDIT.Lines</th>\n",
       "      <th>Revolving.CREDIT.Balance</th>\n",
       "      <th>Inquiries.in.the.Last.6.Months</th>\n",
       "      <th>Employment.Length</th>\n",
       "      <th>data</th>\n",
       "      <th>fico</th>\n",
       "    </tr>\n",
       "  </thead>\n",
       "  <tbody>\n",
       "    <tr>\n",
       "      <th>0</th>\n",
       "      <td>25000.0</td>\n",
       "      <td>18.49</td>\n",
       "      <td>60 months</td>\n",
       "      <td>debt_consolidation</td>\n",
       "      <td>27.56</td>\n",
       "      <td>VA</td>\n",
       "      <td>MORTGAGE</td>\n",
       "      <td>8606.56</td>\n",
       "      <td>11.0</td>\n",
       "      <td>15210.0</td>\n",
       "      <td>3.0</td>\n",
       "      <td>5.0</td>\n",
       "      <td>train</td>\n",
       "      <td>722.0</td>\n",
       "    </tr>\n",
       "    <tr>\n",
       "      <th>1</th>\n",
       "      <td>19750.0</td>\n",
       "      <td>17.27</td>\n",
       "      <td>60 months</td>\n",
       "      <td>debt_consolidation</td>\n",
       "      <td>13.39</td>\n",
       "      <td>NY</td>\n",
       "      <td>MORTGAGE</td>\n",
       "      <td>6737.50</td>\n",
       "      <td>14.0</td>\n",
       "      <td>19070.0</td>\n",
       "      <td>3.0</td>\n",
       "      <td>4.0</td>\n",
       "      <td>train</td>\n",
       "      <td>712.0</td>\n",
       "    </tr>\n",
       "    <tr>\n",
       "      <th>2</th>\n",
       "      <td>2100.0</td>\n",
       "      <td>14.33</td>\n",
       "      <td>36 months</td>\n",
       "      <td>major_purchase</td>\n",
       "      <td>3.50</td>\n",
       "      <td>LA</td>\n",
       "      <td>OWN</td>\n",
       "      <td>1000.00</td>\n",
       "      <td>13.0</td>\n",
       "      <td>893.0</td>\n",
       "      <td>1.0</td>\n",
       "      <td>0.0</td>\n",
       "      <td>train</td>\n",
       "      <td>692.0</td>\n",
       "    </tr>\n",
       "    <tr>\n",
       "      <th>3</th>\n",
       "      <td>28000.0</td>\n",
       "      <td>16.29</td>\n",
       "      <td>36 months</td>\n",
       "      <td>credit_card</td>\n",
       "      <td>19.62</td>\n",
       "      <td>NV</td>\n",
       "      <td>MORTGAGE</td>\n",
       "      <td>7083.33</td>\n",
       "      <td>12.0</td>\n",
       "      <td>38194.0</td>\n",
       "      <td>1.0</td>\n",
       "      <td>10.0</td>\n",
       "      <td>train</td>\n",
       "      <td>712.0</td>\n",
       "    </tr>\n",
       "    <tr>\n",
       "      <th>4</th>\n",
       "      <td>24250.0</td>\n",
       "      <td>12.23</td>\n",
       "      <td>60 months</td>\n",
       "      <td>credit_card</td>\n",
       "      <td>23.79</td>\n",
       "      <td>OH</td>\n",
       "      <td>MORTGAGE</td>\n",
       "      <td>5833.33</td>\n",
       "      <td>6.0</td>\n",
       "      <td>31061.0</td>\n",
       "      <td>2.0</td>\n",
       "      <td>10.0</td>\n",
       "      <td>train</td>\n",
       "      <td>732.0</td>\n",
       "    </tr>\n",
       "  </tbody>\n",
       "</table>\n",
       "</div>"
      ],
      "text/plain": [
       "   Amount.Requested  Interest.Rate Loan.Length        Loan.Purpose  \\\n",
       "0           25000.0          18.49   60 months  debt_consolidation   \n",
       "1           19750.0          17.27   60 months  debt_consolidation   \n",
       "2            2100.0          14.33   36 months      major_purchase   \n",
       "3           28000.0          16.29   36 months         credit_card   \n",
       "4           24250.0          12.23   60 months         credit_card   \n",
       "\n",
       "   Debt.To.Income.Ratio State Home.Ownership  Monthly.Income  \\\n",
       "0                 27.56    VA       MORTGAGE         8606.56   \n",
       "1                 13.39    NY       MORTGAGE         6737.50   \n",
       "2                  3.50    LA            OWN         1000.00   \n",
       "3                 19.62    NV       MORTGAGE         7083.33   \n",
       "4                 23.79    OH       MORTGAGE         5833.33   \n",
       "\n",
       "   Open.CREDIT.Lines  Revolving.CREDIT.Balance  \\\n",
       "0               11.0                   15210.0   \n",
       "1               14.0                   19070.0   \n",
       "2               13.0                     893.0   \n",
       "3               12.0                   38194.0   \n",
       "4                6.0                   31061.0   \n",
       "\n",
       "   Inquiries.in.the.Last.6.Months  Employment.Length   data   fico  \n",
       "0                             3.0                5.0  train  722.0  \n",
       "1                             3.0                4.0  train  712.0  \n",
       "2                             1.0                0.0  train  692.0  \n",
       "3                             1.0               10.0  train  712.0  \n",
       "4                             2.0               10.0  train  732.0  "
      ]
     },
     "execution_count": 132,
     "metadata": {},
     "output_type": "execute_result"
    }
   ],
   "source": [
    "ld_all.head()"
   ]
  },
  {
   "cell_type": "code",
   "execution_count": 133,
   "metadata": {
    "scrolled": false
   },
   "outputs": [
    {
     "name": "stdout",
     "output_type": "stream",
     "text": [
      "Loan.Length\n",
      "--------------\n",
      "36 months    1950\n",
      "60 months     548\n",
      ".               1\n",
      "Name: Loan.Length, dtype: int64\n",
      "--------------\n",
      "Index(['36 months', '60 months'], dtype='object')\n",
      "--------------\n",
      "36 months\n",
      "--------------\n",
      "Loan.Length_36 months\n",
      "--------------\n",
      "60 months\n",
      "--------------\n",
      "Loan.Length_60 months\n",
      "--------------\n",
      "Loan.Length\n",
      "--------------\n",
      "--------------\n",
      "Loan.Purpose\n",
      "--------------\n",
      "debt_consolidation    1307\n",
      "credit_card            444\n",
      "other                  200\n",
      "home_improvement       152\n",
      "major_purchase         101\n",
      "small_business          87\n",
      "car                     50\n",
      "wedding                 39\n",
      "medical                 30\n",
      "moving                  29\n",
      "vacation                21\n",
      "house                   20\n",
      "educational             15\n",
      "renewable_energy         4\n",
      "Name: Loan.Purpose, dtype: int64\n",
      "--------------\n",
      "Index(['debt_consolidation', 'credit_card', 'other', 'home_improvement',\n",
      "       'major_purchase', 'small_business', 'car', 'wedding', 'medical',\n",
      "       'moving', 'vacation'],\n",
      "      dtype='object')\n",
      "--------------\n",
      "debt_consolidation\n",
      "--------------\n",
      "Loan.Purpose_debt_consolidation\n",
      "--------------\n",
      "credit_card\n",
      "--------------\n",
      "Loan.Purpose_credit_card\n",
      "--------------\n",
      "other\n",
      "--------------\n",
      "Loan.Purpose_other\n",
      "--------------\n",
      "home_improvement\n",
      "--------------\n",
      "Loan.Purpose_home_improvement\n",
      "--------------\n",
      "major_purchase\n",
      "--------------\n",
      "Loan.Purpose_major_purchase\n",
      "--------------\n",
      "small_business\n",
      "--------------\n",
      "Loan.Purpose_small_business\n",
      "--------------\n",
      "car\n",
      "--------------\n",
      "Loan.Purpose_car\n",
      "--------------\n",
      "wedding\n",
      "--------------\n",
      "Loan.Purpose_wedding\n",
      "--------------\n",
      "medical\n",
      "--------------\n",
      "Loan.Purpose_medical\n",
      "--------------\n",
      "moving\n",
      "--------------\n",
      "Loan.Purpose_moving\n",
      "--------------\n",
      "vacation\n",
      "--------------\n",
      "Loan.Purpose_vacation\n",
      "--------------\n",
      "Loan.Purpose\n",
      "--------------\n",
      "--------------\n",
      "State\n",
      "--------------\n",
      "CA    433\n",
      "NY    255\n",
      "TX    174\n",
      "FL    169\n",
      "IL    101\n",
      "GA     97\n",
      "PA     96\n",
      "NJ     94\n",
      "VA     78\n",
      "MA     73\n",
      "OH     71\n",
      "MD     68\n",
      "NC     64\n",
      "CO     61\n",
      "WA     58\n",
      "CT     50\n",
      "AZ     46\n",
      "MI     45\n",
      "AL     38\n",
      "MN     38\n",
      "MO     33\n",
      "NV     32\n",
      "OR     30\n",
      "SC     28\n",
      "WI     26\n",
      "KY     23\n",
      "LA     22\n",
      "KS     21\n",
      "OK     21\n",
      "UT     16\n",
      "RI     15\n",
      "NH     15\n",
      "WV     14\n",
      "NM     13\n",
      "AR     13\n",
      "HI     12\n",
      "AK     11\n",
      "DC     11\n",
      "DE      8\n",
      "MT      7\n",
      "VT      5\n",
      "SD      4\n",
      "WY      4\n",
      "IN      3\n",
      "IA      1\n",
      ".       1\n",
      "MS      1\n",
      "Name: State, dtype: int64\n",
      "--------------\n",
      "Index(['CA', 'NY', 'TX', 'FL', 'IL', 'GA', 'PA', 'NJ', 'VA', 'MA', 'OH', 'MD',\n",
      "       'NC', 'CO', 'WA', 'CT', 'AZ', 'MI', 'AL', 'MN', 'MO', 'NV', 'OR', 'SC',\n",
      "       'WI', 'KY', 'LA', 'KS', 'OK'],\n",
      "      dtype='object')\n",
      "--------------\n",
      "CA\n",
      "--------------\n",
      "State_CA\n",
      "--------------\n",
      "NY\n",
      "--------------\n",
      "State_NY\n",
      "--------------\n",
      "TX\n",
      "--------------\n",
      "State_TX\n",
      "--------------\n",
      "FL\n",
      "--------------\n",
      "State_FL\n",
      "--------------\n",
      "IL\n",
      "--------------\n",
      "State_IL\n",
      "--------------\n",
      "GA\n",
      "--------------\n",
      "State_GA\n",
      "--------------\n",
      "PA\n",
      "--------------\n",
      "State_PA\n",
      "--------------\n",
      "NJ\n",
      "--------------\n",
      "State_NJ\n",
      "--------------\n",
      "VA\n",
      "--------------\n",
      "State_VA\n",
      "--------------\n",
      "MA\n",
      "--------------\n",
      "State_MA\n",
      "--------------\n",
      "OH\n",
      "--------------\n",
      "State_OH\n",
      "--------------\n",
      "MD\n",
      "--------------\n",
      "State_MD\n",
      "--------------\n",
      "NC\n",
      "--------------\n",
      "State_NC\n",
      "--------------\n",
      "CO\n",
      "--------------\n",
      "State_CO\n",
      "--------------\n",
      "WA\n",
      "--------------\n",
      "State_WA\n",
      "--------------\n",
      "CT\n",
      "--------------\n",
      "State_CT\n",
      "--------------\n",
      "AZ\n",
      "--------------\n",
      "State_AZ\n",
      "--------------\n",
      "MI\n",
      "--------------\n",
      "State_MI\n",
      "--------------\n",
      "AL\n",
      "--------------\n",
      "State_AL\n",
      "--------------\n",
      "MN\n",
      "--------------\n",
      "State_MN\n",
      "--------------\n",
      "MO\n",
      "--------------\n",
      "State_MO\n",
      "--------------\n",
      "NV\n",
      "--------------\n",
      "State_NV\n",
      "--------------\n",
      "OR\n",
      "--------------\n",
      "State_OR\n",
      "--------------\n",
      "SC\n",
      "--------------\n",
      "State_SC\n",
      "--------------\n",
      "WI\n",
      "--------------\n",
      "State_WI\n",
      "--------------\n",
      "KY\n",
      "--------------\n",
      "State_KY\n",
      "--------------\n",
      "LA\n",
      "--------------\n",
      "State_LA\n",
      "--------------\n",
      "KS\n",
      "--------------\n",
      "State_KS\n",
      "--------------\n",
      "OK\n",
      "--------------\n",
      "State_OK\n",
      "--------------\n",
      "State\n",
      "--------------\n",
      "--------------\n",
      "Home.Ownership\n",
      "--------------\n",
      "MORTGAGE    1147\n",
      "RENT        1146\n",
      "OWN          200\n",
      "OTHER          5\n",
      "NONE           1\n",
      "Name: Home.Ownership, dtype: int64\n",
      "--------------\n",
      "Index(['MORTGAGE', 'RENT', 'OWN'], dtype='object')\n",
      "--------------\n",
      "MORTGAGE\n",
      "--------------\n",
      "Home.Ownership_MORTGAGE\n",
      "--------------\n",
      "RENT\n",
      "--------------\n",
      "Home.Ownership_RENT\n",
      "--------------\n",
      "OWN\n",
      "--------------\n",
      "Home.Ownership_OWN\n",
      "--------------\n",
      "Home.Ownership\n",
      "--------------\n",
      "--------------\n"
     ]
    }
   ],
   "source": [
    "# you can use following method if you want to ignore categories with too low frequencies ,\n",
    "#in next section for logistic regression we will be using  pandas' get dummies function. \n",
    "# you can work with either of these . \n",
    "#ignoring categories with low frequencies however will result in fewer columns without \n",
    "# affecting model performance too much .\n",
    "\n",
    "for col in cat_cols:\n",
    "    print(col)\n",
    "    print('--------------')\n",
    "    freqs=ld_all[col].value_counts()\n",
    "    print(freqs)\n",
    "    print('--------------')\n",
    "    k=freqs.index[freqs>20][:]\n",
    "    print(k)\n",
    "    print('--------------')\n",
    "    for cat in k:\n",
    "        print(cat)\n",
    "        print('--------------')\n",
    "        name=col+'_'+cat\n",
    "        print(name)\n",
    "        print('--------------')\n",
    "        ld_all[name]=(ld_all[col]==cat).astype(int)\n",
    "    del ld_all[col]\n",
    "    print(col)\n",
    "    print('--------------')\n",
    "    print('--------------')\n",
    "    \n",
    "    "
   ]
  },
  {
   "cell_type": "code",
   "execution_count": 68,
   "metadata": {},
   "outputs": [
    {
     "data": {
      "text/plain": [
       "(2500, 51)"
      ]
     },
     "execution_count": 68,
     "metadata": {},
     "output_type": "execute_result"
    }
   ],
   "source": [
    "ld_all.shape"
   ]
  },
  {
   "cell_type": "code",
   "execution_count": 69,
   "metadata": {},
   "outputs": [
    {
     "data": {
      "text/plain": [
       "Amount.Requested                     5\n",
       "Interest.Rate                      300\n",
       "Debt.To.Income.Ratio                 1\n",
       "Monthly.Income                       3\n",
       "Open.CREDIT.Lines                    9\n",
       "Revolving.CREDIT.Balance             5\n",
       "Inquiries.in.the.Last.6.Months       3\n",
       "Employment.Length                   80\n",
       "data                                 0\n",
       "fico                                 0\n",
       "Loan.Length_36 months                0\n",
       "Loan.Purpose_debt_consolidation      0\n",
       "Loan.Purpose_credit_card             0\n",
       "Loan.Purpose_other                   0\n",
       "Loan.Purpose_home_improvement        0\n",
       "Loan.Purpose_major_purchase          0\n",
       "Loan.Purpose_small_business          0\n",
       "Loan.Purpose_car                     0\n",
       "Loan.Purpose_wedding                 0\n",
       "Loan.Purpose_medical                 0\n",
       "Loan.Purpose_moving                  0\n",
       "State_CA                             0\n",
       "State_NY                             0\n",
       "State_TX                             0\n",
       "State_FL                             0\n",
       "State_IL                             0\n",
       "State_GA                             0\n",
       "State_PA                             0\n",
       "State_NJ                             0\n",
       "State_VA                             0\n",
       "State_MA                             0\n",
       "State_OH                             0\n",
       "State_MD                             0\n",
       "State_NC                             0\n",
       "State_CO                             0\n",
       "State_WA                             0\n",
       "State_CT                             0\n",
       "State_AZ                             0\n",
       "State_MI                             0\n",
       "State_AL                             0\n",
       "State_MN                             0\n",
       "State_MO                             0\n",
       "State_NV                             0\n",
       "State_OR                             0\n",
       "State_SC                             0\n",
       "State_WI                             0\n",
       "State_KY                             0\n",
       "State_LA                             0\n",
       "State_KS                             0\n",
       "Home.Ownership_MORTGAGE              0\n",
       "Home.Ownership_RENT                  0\n",
       "dtype: int64"
      ]
     },
     "execution_count": 69,
     "metadata": {},
     "output_type": "execute_result"
    }
   ],
   "source": [
    "ld_all.isnull().sum()"
   ]
  },
  {
   "cell_type": "code",
   "execution_count": 70,
   "metadata": {},
   "outputs": [],
   "source": [
    "for col in ld_all.columns:\n",
    "    if (col not in ['Interest.Rate','data'])& (ld_all[col].isnull().sum()>0):\n",
    "        ld_all.loc[ld_all[col].isnull(),col]=ld_all.loc[ld_all['data']=='train',col].mean()"
   ]
  },
  {
   "cell_type": "code",
   "execution_count": 71,
   "metadata": {},
   "outputs": [
    {
     "data": {
      "text/plain": [
       "Amount.Requested                     0\n",
       "Interest.Rate                      300\n",
       "Debt.To.Income.Ratio                 0\n",
       "Monthly.Income                       0\n",
       "Open.CREDIT.Lines                    0\n",
       "Revolving.CREDIT.Balance             0\n",
       "Inquiries.in.the.Last.6.Months       0\n",
       "Employment.Length                    0\n",
       "data                                 0\n",
       "fico                                 0\n",
       "Loan.Length_36 months                0\n",
       "Loan.Purpose_debt_consolidation      0\n",
       "Loan.Purpose_credit_card             0\n",
       "Loan.Purpose_other                   0\n",
       "Loan.Purpose_home_improvement        0\n",
       "Loan.Purpose_major_purchase          0\n",
       "Loan.Purpose_small_business          0\n",
       "Loan.Purpose_car                     0\n",
       "Loan.Purpose_wedding                 0\n",
       "Loan.Purpose_medical                 0\n",
       "Loan.Purpose_moving                  0\n",
       "State_CA                             0\n",
       "State_NY                             0\n",
       "State_TX                             0\n",
       "State_FL                             0\n",
       "State_IL                             0\n",
       "State_GA                             0\n",
       "State_PA                             0\n",
       "State_NJ                             0\n",
       "State_VA                             0\n",
       "State_MA                             0\n",
       "State_OH                             0\n",
       "State_MD                             0\n",
       "State_NC                             0\n",
       "State_CO                             0\n",
       "State_WA                             0\n",
       "State_CT                             0\n",
       "State_AZ                             0\n",
       "State_MI                             0\n",
       "State_AL                             0\n",
       "State_MN                             0\n",
       "State_MO                             0\n",
       "State_NV                             0\n",
       "State_OR                             0\n",
       "State_SC                             0\n",
       "State_WI                             0\n",
       "State_KY                             0\n",
       "State_LA                             0\n",
       "State_KS                             0\n",
       "Home.Ownership_MORTGAGE              0\n",
       "Home.Ownership_RENT                  0\n",
       "dtype: int64"
      ]
     },
     "execution_count": 71,
     "metadata": {},
     "output_type": "execute_result"
    }
   ],
   "source": [
    "ld_all.isnull().sum()"
   ]
  },
  {
   "cell_type": "code",
   "execution_count": 72,
   "metadata": {},
   "outputs": [
    {
     "name": "stderr",
     "output_type": "stream",
     "text": [
      "C:\\Users\\SRK\\Anaconda3\\lib\\site-packages\\pandas\\core\\frame.py:3994: SettingWithCopyWarning: \n",
      "A value is trying to be set on a copy of a slice from a DataFrame\n",
      "\n",
      "See the caveats in the documentation: https://pandas.pydata.org/pandas-docs/stable/user_guide/indexing.html#returning-a-view-versus-a-copy\n",
      "  errors=errors,\n"
     ]
    }
   ],
   "source": [
    "ld_train=ld_all[ld_all['data']=='train']\n",
    "del ld_train['data']\n",
    "ld_test=ld_all[ld_all['data']=='test']\n",
    "ld_test.drop(['Interest.Rate','data'],axis=1,inplace=True)"
   ]
  },
  {
   "cell_type": "code",
   "execution_count": 73,
   "metadata": {},
   "outputs": [],
   "source": [
    "del ld_all"
   ]
  },
  {
   "cell_type": "code",
   "execution_count": 74,
   "metadata": {},
   "outputs": [],
   "source": [
    "from sklearn.model_selection import train_test_split"
   ]
  },
  {
   "cell_type": "code",
   "execution_count": 75,
   "metadata": {},
   "outputs": [],
   "source": [
    "ld_train1,ld_train2=train_test_split(ld_train,test_size=0.2,random_state=2)"
   ]
  },
  {
   "cell_type": "code",
   "execution_count": 76,
   "metadata": {},
   "outputs": [],
   "source": [
    "# Notice that only train data is used for imputing missing values in both train and test \n",
    "\n",
    "x_train1=ld_train1.drop('Interest.Rate',axis=1)\n",
    "y_train1=ld_train1['Interest.Rate']\n",
    "\n"
   ]
  },
  {
   "cell_type": "code",
   "execution_count": 77,
   "metadata": {},
   "outputs": [],
   "source": [
    "from sklearn.linear_model import LinearRegression"
   ]
  },
  {
   "cell_type": "code",
   "execution_count": 78,
   "metadata": {},
   "outputs": [],
   "source": [
    "lm=LinearRegression()"
   ]
  },
  {
   "cell_type": "code",
   "execution_count": 79,
   "metadata": {},
   "outputs": [
    {
     "data": {
      "text/plain": [
       "LinearRegression(copy_X=True, fit_intercept=True, n_jobs=None, normalize=False)"
      ]
     },
     "execution_count": 79,
     "metadata": {},
     "output_type": "execute_result"
    }
   ],
   "source": [
    "lm.fit(x_train1,y_train1)"
   ]
  },
  {
   "cell_type": "code",
   "execution_count": 80,
   "metadata": {},
   "outputs": [
    {
     "data": {
      "text/plain": [
       "(1760, 49)"
      ]
     },
     "execution_count": 80,
     "metadata": {},
     "output_type": "execute_result"
    }
   ],
   "source": [
    "x_train1.shape"
   ]
  },
  {
   "cell_type": "code",
   "execution_count": 81,
   "metadata": {},
   "outputs": [
    {
     "data": {
      "text/plain": [
       "75.92121413594822"
      ]
     },
     "execution_count": 81,
     "metadata": {},
     "output_type": "execute_result"
    }
   ],
   "source": [
    "lm.intercept_"
   ]
  },
  {
   "cell_type": "code",
   "execution_count": 82,
   "metadata": {},
   "outputs": [
    {
     "data": {
      "text/plain": [
       "[('Amount.Requested', 0.00015602405153877194),\n",
       " ('Debt.To.Income.Ratio', -0.003938504173777325),\n",
       " ('Monthly.Income', -2.6568573569302344e-05),\n",
       " ('Open.CREDIT.Lines', -0.039922608340241916),\n",
       " ('Revolving.CREDIT.Balance', -3.923647858838919e-06),\n",
       " ('Inquiries.in.the.Last.6.Months', 0.3361172111313293),\n",
       " ('Employment.Length', 0.0349936718945103),\n",
       " ('fico', -0.08667701121950772),\n",
       " ('Loan.Length_36 months', -3.14374724695059),\n",
       " ('Loan.Purpose_debt_consolidation', -0.4673935690355955),\n",
       " ('Loan.Purpose_credit_card', -0.6069873604061793),\n",
       " ('Loan.Purpose_other', 0.44417142270192844),\n",
       " ('Loan.Purpose_home_improvement', -0.3611899849181427),\n",
       " ('Loan.Purpose_major_purchase', -0.09589524932665855),\n",
       " ('Loan.Purpose_small_business', 0.06800548772823725),\n",
       " ('Loan.Purpose_car', 0.0252596280360127),\n",
       " ('Loan.Purpose_wedding', -0.7791542650056459),\n",
       " ('Loan.Purpose_medical', -0.4281152109954977),\n",
       " ('Loan.Purpose_moving', 1.2845276544595712),\n",
       " ('State_CA', -0.21159715256759132),\n",
       " ('State_NY', -0.12777976346385994),\n",
       " ('State_TX', 0.46565199969690396),\n",
       " ('State_FL', 0.08536509194007777),\n",
       " ('State_IL', -0.6478521077890989),\n",
       " ('State_GA', -0.02871523268342424),\n",
       " ('State_PA', -0.5531491923550238),\n",
       " ('State_NJ', -0.4252715824292975),\n",
       " ('State_VA', -0.1900182794302408),\n",
       " ('State_MA', 0.090320340363167),\n",
       " ('State_OH', -0.3613940340219993),\n",
       " ('State_MD', -0.016614796909707408),\n",
       " ('State_NC', -0.30125204925156274),\n",
       " ('State_CO', -0.05643938739112127),\n",
       " ('State_WA', -0.24431943682020274),\n",
       " ('State_CT', 0.44506590679109903),\n",
       " ('State_AZ', 0.2647218526843687),\n",
       " ('State_MI', -0.15816583557369668),\n",
       " ('State_AL', -0.32176623527151577),\n",
       " ('State_MN', -0.07658290397396379),\n",
       " ('State_MO', -0.4320941840325292),\n",
       " ('State_NV', -0.12433340941261017),\n",
       " ('State_OR', 0.12024829459476216),\n",
       " ('State_SC', 0.024771345260439948),\n",
       " ('State_WI', -0.16506920267021127),\n",
       " ('State_KY', 0.26922860325685133),\n",
       " ('State_LA', -0.04879687995185669),\n",
       " ('State_KS', 0.24424291796448594),\n",
       " ('Home.Ownership_MORTGAGE', -0.4927899396352776),\n",
       " ('Home.Ownership_RENT', -0.22835804629261114)]"
      ]
     },
     "execution_count": 82,
     "metadata": {},
     "output_type": "execute_result"
    }
   ],
   "source": [
    "list(zip(x_train1.columns,lm.coef_))"
   ]
  },
  {
   "cell_type": "code",
   "execution_count": 83,
   "metadata": {},
   "outputs": [],
   "source": [
    "x_train2=ld_train2.drop('Interest.Rate',axis=1)"
   ]
  },
  {
   "cell_type": "code",
   "execution_count": 84,
   "metadata": {},
   "outputs": [],
   "source": [
    "predicted_ir=lm.predict(x_train2)"
   ]
  },
  {
   "cell_type": "code",
   "execution_count": 85,
   "metadata": {},
   "outputs": [],
   "source": [
    "from sklearn.metrics import mean_absolute_error"
   ]
  },
  {
   "cell_type": "code",
   "execution_count": 86,
   "metadata": {},
   "outputs": [
    {
     "data": {
      "text/plain": [
       "1.6278267948887524"
      ]
     },
     "execution_count": 86,
     "metadata": {},
     "output_type": "execute_result"
    }
   ],
   "source": [
    "mean_absolute_error(ld_train2['Interest.Rate'],predicted_ir)"
   ]
  },
  {
   "cell_type": "markdown",
   "metadata": {},
   "source": [
    "We know the tentative performance now, lets build the model on entire training to make prediction on test/production"
   ]
  },
  {
   "cell_type": "code",
   "execution_count": 87,
   "metadata": {},
   "outputs": [],
   "source": [
    "x_train=ld_train.drop('Interest.Rate',axis=1)\n",
    "y_train=ld_train['Interest.Rate']"
   ]
  },
  {
   "cell_type": "code",
   "execution_count": 88,
   "metadata": {},
   "outputs": [
    {
     "data": {
      "text/plain": [
       "LinearRegression(copy_X=True, fit_intercept=True, n_jobs=None, normalize=False)"
      ]
     },
     "execution_count": 88,
     "metadata": {},
     "output_type": "execute_result"
    }
   ],
   "source": [
    "lm.fit(x_train,y_train)"
   ]
  },
  {
   "cell_type": "code",
   "execution_count": 89,
   "metadata": {},
   "outputs": [],
   "source": [
    "test_pred=lm.predict(ld_test)"
   ]
  },
  {
   "cell_type": "markdown",
   "metadata": {},
   "source": [
    "We can write these to a csv file for submission like this :"
   ]
  },
  {
   "cell_type": "code",
   "execution_count": 90,
   "metadata": {},
   "outputs": [],
   "source": [
    "pd.DataFrame(test_pred).to_csv(\"F:/mysubmission.csv\",index=False)"
   ]
  },
  {
   "cell_type": "markdown",
   "metadata": {},
   "source": [
    "# Ridge  Regression"
   ]
  },
  {
   "cell_type": "code",
   "execution_count": 91,
   "metadata": {},
   "outputs": [],
   "source": [
    "from sklearn.linear_model import Ridge,Lasso\n",
    "from sklearn.model_selection import GridSearchCV"
   ]
  },
  {
   "cell_type": "code",
   "execution_count": 92,
   "metadata": {},
   "outputs": [],
   "source": [
    "lambdas=np.linspace(1,100,100)"
   ]
  },
  {
   "cell_type": "code",
   "execution_count": 93,
   "metadata": {},
   "outputs": [],
   "source": [
    "params={'alpha':lambdas}"
   ]
  },
  {
   "cell_type": "code",
   "execution_count": 94,
   "metadata": {},
   "outputs": [],
   "source": [
    "model=Ridge(fit_intercept=True)"
   ]
  },
  {
   "cell_type": "code",
   "execution_count": 95,
   "metadata": {},
   "outputs": [],
   "source": [
    "grid_search=GridSearchCV(model,param_grid=params,cv=10,scoring='neg_mean_absolute_error')"
   ]
  },
  {
   "cell_type": "code",
   "execution_count": 96,
   "metadata": {},
   "outputs": [
    {
     "data": {
      "text/plain": [
       "GridSearchCV(cv=10, error_score=nan,\n",
       "             estimator=Ridge(alpha=1.0, copy_X=True, fit_intercept=True,\n",
       "                             max_iter=None, normalize=False, random_state=None,\n",
       "                             solver='auto', tol=0.001),\n",
       "             iid='deprecated', n_jobs=None,\n",
       "             param_grid={'alpha': array([  1.,   2.,   3.,   4.,   5.,   6.,   7.,   8.,   9.,  10.,  11.,\n",
       "        12.,  13.,  14.,  15.,  16.,  17.,  18.,  19.,  20.,  21.,  22.,\n",
       "        23.,  24.,  25.,  26.,  27.,  28.,  29.,  30.,  31.,  32.,  33.,\n",
       "        34.,  35....,  41.,  42.,  43.,  44.,\n",
       "        45.,  46.,  47.,  48.,  49.,  50.,  51.,  52.,  53.,  54.,  55.,\n",
       "        56.,  57.,  58.,  59.,  60.,  61.,  62.,  63.,  64.,  65.,  66.,\n",
       "        67.,  68.,  69.,  70.,  71.,  72.,  73.,  74.,  75.,  76.,  77.,\n",
       "        78.,  79.,  80.,  81.,  82.,  83.,  84.,  85.,  86.,  87.,  88.,\n",
       "        89.,  90.,  91.,  92.,  93.,  94.,  95.,  96.,  97.,  98.,  99.,\n",
       "       100.])},\n",
       "             pre_dispatch='2*n_jobs', refit=True, return_train_score=False,\n",
       "             scoring='neg_mean_absolute_error', verbose=0)"
      ]
     },
     "execution_count": 96,
     "metadata": {},
     "output_type": "execute_result"
    }
   ],
   "source": [
    "grid_search.fit(x_train,y_train)"
   ]
  },
  {
   "cell_type": "code",
   "execution_count": 97,
   "metadata": {},
   "outputs": [
    {
     "data": {
      "text/plain": [
       "Ridge(alpha=34.0, copy_X=True, fit_intercept=True, max_iter=None,\n",
       "      normalize=False, random_state=None, solver='auto', tol=0.001)"
      ]
     },
     "execution_count": 97,
     "metadata": {},
     "output_type": "execute_result"
    }
   ],
   "source": [
    "grid_search.best_estimator_"
   ]
  },
  {
   "cell_type": "code",
   "execution_count": null,
   "metadata": {},
   "outputs": [],
   "source": [
    "grid_search."
   ]
  },
  {
   "cell_type": "code",
   "execution_count": 98,
   "metadata": {},
   "outputs": [
    {
     "data": {
      "text/plain": [
       "{'mean_fit_time': array([0.06046596, 0.01649129, 0.01799157, 0.0192889 , 0.01539314,\n",
       "        0.01029379, 0.01019437, 0.00989537, 0.01399422, 0.01449409,\n",
       "        0.01039419, 0.00939589, 0.01289358, 0.01399286, 0.01039457,\n",
       "        0.01469321, 0.01639132, 0.01089618, 0.01349385, 0.01099491,\n",
       "        0.01339283, 0.01589255, 0.0179915 , 0.01079483, 0.01069424,\n",
       "        0.01369212, 0.01429305, 0.01699142, 0.01389434, 0.01099436,\n",
       "        0.01259363, 0.01439278, 0.01279435, 0.01729043, 0.01419301,\n",
       "        0.01509109, 0.01339302, 0.01039622, 0.0108947 , 0.01369321,\n",
       "        0.01279335, 0.01099405, 0.01429217, 0.01559126, 0.01569076,\n",
       "        0.01169562, 0.0108937 , 0.01079471, 0.01298964, 0.01329176,\n",
       "        0.01329226, 0.0100955 , 0.01249321, 0.01219368, 0.01179416,\n",
       "        0.01169395, 0.01069486, 0.01339312, 0.01169319, 0.00959549,\n",
       "        0.01199243, 0.01749005, 0.02528481, 0.01409202, 0.01389227,\n",
       "        0.0196902 , 0.01019373, 0.01908879, 0.01299343, 0.01799068,\n",
       "        0.01109395, 0.01719067, 0.01669178, 0.01829014, 0.01269357,\n",
       "        0.01589103, 0.01319323, 0.01948988, 0.01679189, 0.01319292,\n",
       "        0.01548963, 0.02328806, 0.01689224, 0.0110949 , 0.01079385,\n",
       "        0.01259296, 0.01419179, 0.02238805, 0.01949084, 0.01998951,\n",
       "        0.01079547, 0.01099474, 0.01669252, 0.01339288, 0.01029453,\n",
       "        0.01159363, 0.01279314, 0.01329427, 0.01639068, 0.0102952 ]),\n",
       " 'std_fit_time': array([0.13142878, 0.00200999, 0.00199875, 0.00517463, 0.00313482,\n",
       "        0.00219136, 0.00188653, 0.00186801, 0.00227959, 0.00233306,\n",
       "        0.00219747, 0.00101965, 0.0023409 , 0.00481275, 0.00180001,\n",
       "        0.01009432, 0.0065099 , 0.00144433, 0.00215324, 0.00223513,\n",
       "        0.00210591, 0.00456786, 0.00399893, 0.00166112, 0.00178903,\n",
       "        0.00236706, 0.00300133, 0.00549171, 0.00323646, 0.00227904,\n",
       "        0.00297119, 0.00272636, 0.00203763, 0.00593083, 0.00271126,\n",
       "        0.0030127 , 0.00341055, 0.00156242, 0.00254623, 0.00462438,\n",
       "        0.0033392 , 0.00236523, 0.00734546, 0.00228766, 0.00421805,\n",
       "        0.00232418, 0.00202107, 0.00132546, 0.00167626, 0.00134526,\n",
       "        0.00381996, 0.00175759, 0.00392734, 0.00256092, 0.00231433,\n",
       "        0.00306485, 0.00228013, 0.00410071, 0.00325617, 0.0014278 ,\n",
       "        0.00299871, 0.00429261, 0.01225562, 0.00555564, 0.00480354,\n",
       "        0.00303281, 0.00139943, 0.00999882, 0.00306419, 0.0030963 ,\n",
       "        0.00197103, 0.00218034, 0.00447098, 0.00601335, 0.00357669,\n",
       "        0.00425127, 0.00550764, 0.01551733, 0.00537813, 0.00292381,\n",
       "        0.00369241, 0.00913786, 0.00372526, 0.00338749, 0.00259745,\n",
       "        0.00303795, 0.00566756, 0.01592334, 0.004634  , 0.0026065 ,\n",
       "        0.00183317, 0.00260576, 0.00669044, 0.00224271, 0.00179019,\n",
       "        0.00249675, 0.00177684, 0.00118675, 0.00377198, 0.00178991]),\n",
       " 'mean_score_time': array([0.00549691, 0.00499661, 0.00579569, 0.00589728, 0.00479589,\n",
       "        0.00339799, 0.00299754, 0.00389631, 0.00419555, 0.00489576,\n",
       "        0.00339761, 0.00319712, 0.00469639, 0.00339732, 0.00359747,\n",
       "        0.00389695, 0.00519612, 0.00329826, 0.00409689, 0.00329697,\n",
       "        0.00399706, 0.00459635, 0.00559428, 0.00299699, 0.00379622,\n",
       "        0.00469782, 0.00449679, 0.00639484, 0.00439541, 0.00369842,\n",
       "        0.00419722, 0.0047966 , 0.00429673, 0.0050971 , 0.00419607,\n",
       "        0.00509779, 0.00429704, 0.0033957 , 0.00429702, 0.00419648,\n",
       "        0.0041971 , 0.00359685, 0.00509715, 0.00469615, 0.00519743,\n",
       "        0.00369539, 0.00379775, 0.00339694, 0.00429847, 0.00459709,\n",
       "        0.00469899, 0.00339673, 0.0035969 , 0.00459602, 0.00369697,\n",
       "        0.00399742, 0.00359704, 0.00379658, 0.00399709, 0.0030977 ,\n",
       "        0.00379803, 0.0052964 , 0.00759633, 0.00519717, 0.00579534,\n",
       "        0.00719507, 0.00369835, 0.00799537, 0.00349698, 0.00819511,\n",
       "        0.00449672, 0.00559618, 0.00579631, 0.00739677, 0.00379746,\n",
       "        0.0055969 , 0.00379717, 0.00479643, 0.00529594, 0.00369735,\n",
       "        0.00499716, 0.00759513, 0.00609462, 0.00389791, 0.00319808,\n",
       "        0.00449679, 0.00379715, 0.00459623, 0.0069942 , 0.00549548,\n",
       "        0.0031971 , 0.00369658, 0.00528789, 0.00509665, 0.00379732,\n",
       "        0.00359833, 0.00389707, 0.00309687, 0.00489709, 0.00349748]),\n",
       " 'std_score_time': array([0.0006714 , 0.00063166, 0.00188551, 0.00175907, 0.00116642,\n",
       "        0.0008008 , 0.00109452, 0.00129867, 0.0012479 , 0.00157826,\n",
       "        0.00111309, 0.00059981, 0.00189877, 0.00111227, 0.00101938,\n",
       "        0.00130017, 0.00256025, 0.00100352, 0.00113465, 0.00063982,\n",
       "        0.00141436, 0.00142722, 0.00142878, 0.00063264, 0.00139834,\n",
       "        0.00126935, 0.00120331, 0.00185272, 0.00135474, 0.00127013,\n",
       "        0.00165972, 0.00171982, 0.00109902, 0.00157713, 0.00146951,\n",
       "        0.00157693, 0.00141775, 0.00049011, 0.00189956, 0.00116513,\n",
       "        0.0010766 , 0.00111192, 0.00129874, 0.00100536, 0.00274848,\n",
       "        0.00126727, 0.00159934, 0.00079983, 0.00089949, 0.00190719,\n",
       "        0.00195008, 0.00079976, 0.00119897, 0.00119979, 0.00100685,\n",
       "        0.00099936, 0.00127895, 0.00193856, 0.00134094, 0.00083008,\n",
       "        0.00139998, 0.00228116, 0.00329061, 0.00285648, 0.0025202 ,\n",
       "        0.00339757, 0.00110035, 0.00534524, 0.00092124, 0.00414101,\n",
       "        0.00196156, 0.00329027, 0.00231521, 0.0032926 , 0.00139993,\n",
       "        0.00290322, 0.00165897, 0.00282053, 0.0020509 , 0.00148604,\n",
       "        0.00232297, 0.00261611, 0.00250673, 0.00130048, 0.00116591,\n",
       "        0.00174498, 0.00097952, 0.00111196, 0.00376622, 0.0014993 ,\n",
       "        0.00074915, 0.00141725, 0.00288207, 0.0013008 , 0.00124921,\n",
       "        0.00135725, 0.00192031, 0.00069989, 0.00121952, 0.00049995]),\n",
       " 'param_alpha': masked_array(data=[1.0, 2.0, 3.0, 4.0, 5.0, 6.0, 7.0, 8.0, 9.0, 10.0,\n",
       "                    11.0, 12.0, 13.0, 14.0, 15.0, 16.0, 17.0, 18.0, 19.0,\n",
       "                    20.0, 21.0, 22.0, 23.0, 24.0, 25.0, 26.0, 27.0, 28.0,\n",
       "                    29.0, 30.0, 31.0, 32.0, 33.0, 34.0, 35.0, 36.0, 37.0,\n",
       "                    38.0, 39.0, 40.0, 41.0, 42.0, 43.0, 44.0, 45.0, 46.0,\n",
       "                    47.0, 48.0, 49.0, 50.0, 51.0, 52.0, 53.0, 54.0, 55.0,\n",
       "                    56.0, 57.0, 58.0, 59.0, 60.0, 61.0, 62.0, 63.0, 64.0,\n",
       "                    65.0, 66.0, 67.0, 68.0, 69.0, 70.0, 71.0, 72.0, 73.0,\n",
       "                    74.0, 75.0, 76.0, 77.0, 78.0, 79.0, 80.0, 81.0, 82.0,\n",
       "                    83.0, 84.0, 85.0, 86.0, 87.0, 88.0, 89.0, 90.0, 91.0,\n",
       "                    92.0, 93.0, 94.0, 95.0, 96.0, 97.0, 98.0, 99.0, 100.0],\n",
       "              mask=[False, False, False, False, False, False, False, False,\n",
       "                    False, False, False, False, False, False, False, False,\n",
       "                    False, False, False, False, False, False, False, False,\n",
       "                    False, False, False, False, False, False, False, False,\n",
       "                    False, False, False, False, False, False, False, False,\n",
       "                    False, False, False, False, False, False, False, False,\n",
       "                    False, False, False, False, False, False, False, False,\n",
       "                    False, False, False, False, False, False, False, False,\n",
       "                    False, False, False, False, False, False, False, False,\n",
       "                    False, False, False, False, False, False, False, False,\n",
       "                    False, False, False, False, False, False, False, False,\n",
       "                    False, False, False, False, False, False, False, False,\n",
       "                    False, False, False, False],\n",
       "        fill_value='?',\n",
       "             dtype=object),\n",
       " 'params': [{'alpha': 1.0},\n",
       "  {'alpha': 2.0},\n",
       "  {'alpha': 3.0},\n",
       "  {'alpha': 4.0},\n",
       "  {'alpha': 5.0},\n",
       "  {'alpha': 6.0},\n",
       "  {'alpha': 7.0},\n",
       "  {'alpha': 8.0},\n",
       "  {'alpha': 9.0},\n",
       "  {'alpha': 10.0},\n",
       "  {'alpha': 11.0},\n",
       "  {'alpha': 12.0},\n",
       "  {'alpha': 13.0},\n",
       "  {'alpha': 14.0},\n",
       "  {'alpha': 15.0},\n",
       "  {'alpha': 16.0},\n",
       "  {'alpha': 17.0},\n",
       "  {'alpha': 18.0},\n",
       "  {'alpha': 19.0},\n",
       "  {'alpha': 20.0},\n",
       "  {'alpha': 21.0},\n",
       "  {'alpha': 22.0},\n",
       "  {'alpha': 23.0},\n",
       "  {'alpha': 24.0},\n",
       "  {'alpha': 25.0},\n",
       "  {'alpha': 26.0},\n",
       "  {'alpha': 27.0},\n",
       "  {'alpha': 28.0},\n",
       "  {'alpha': 29.0},\n",
       "  {'alpha': 30.0},\n",
       "  {'alpha': 31.0},\n",
       "  {'alpha': 32.0},\n",
       "  {'alpha': 33.0},\n",
       "  {'alpha': 34.0},\n",
       "  {'alpha': 35.0},\n",
       "  {'alpha': 36.0},\n",
       "  {'alpha': 37.0},\n",
       "  {'alpha': 38.0},\n",
       "  {'alpha': 39.0},\n",
       "  {'alpha': 40.0},\n",
       "  {'alpha': 41.0},\n",
       "  {'alpha': 42.0},\n",
       "  {'alpha': 43.0},\n",
       "  {'alpha': 44.0},\n",
       "  {'alpha': 45.0},\n",
       "  {'alpha': 46.0},\n",
       "  {'alpha': 47.0},\n",
       "  {'alpha': 48.0},\n",
       "  {'alpha': 49.0},\n",
       "  {'alpha': 50.0},\n",
       "  {'alpha': 51.0},\n",
       "  {'alpha': 52.0},\n",
       "  {'alpha': 53.0},\n",
       "  {'alpha': 54.0},\n",
       "  {'alpha': 55.0},\n",
       "  {'alpha': 56.0},\n",
       "  {'alpha': 57.0},\n",
       "  {'alpha': 58.0},\n",
       "  {'alpha': 59.0},\n",
       "  {'alpha': 60.0},\n",
       "  {'alpha': 61.0},\n",
       "  {'alpha': 62.0},\n",
       "  {'alpha': 63.0},\n",
       "  {'alpha': 64.0},\n",
       "  {'alpha': 65.0},\n",
       "  {'alpha': 66.0},\n",
       "  {'alpha': 67.0},\n",
       "  {'alpha': 68.0},\n",
       "  {'alpha': 69.0},\n",
       "  {'alpha': 70.0},\n",
       "  {'alpha': 71.0},\n",
       "  {'alpha': 72.0},\n",
       "  {'alpha': 73.0},\n",
       "  {'alpha': 74.0},\n",
       "  {'alpha': 75.0},\n",
       "  {'alpha': 76.0},\n",
       "  {'alpha': 77.0},\n",
       "  {'alpha': 78.0},\n",
       "  {'alpha': 79.0},\n",
       "  {'alpha': 80.0},\n",
       "  {'alpha': 81.0},\n",
       "  {'alpha': 82.0},\n",
       "  {'alpha': 83.0},\n",
       "  {'alpha': 84.0},\n",
       "  {'alpha': 85.0},\n",
       "  {'alpha': 86.0},\n",
       "  {'alpha': 87.0},\n",
       "  {'alpha': 88.0},\n",
       "  {'alpha': 89.0},\n",
       "  {'alpha': 90.0},\n",
       "  {'alpha': 91.0},\n",
       "  {'alpha': 92.0},\n",
       "  {'alpha': 93.0},\n",
       "  {'alpha': 94.0},\n",
       "  {'alpha': 95.0},\n",
       "  {'alpha': 96.0},\n",
       "  {'alpha': 97.0},\n",
       "  {'alpha': 98.0},\n",
       "  {'alpha': 99.0},\n",
       "  {'alpha': 100.0}],\n",
       " 'split0_test_score': array([-1.72358138, -1.72420643, -1.72488332, -1.72551715, -1.72611705,\n",
       "        -1.726689  , -1.72724387, -1.72782936, -1.72839732, -1.72896669,\n",
       "        -1.72954587, -1.7301274 , -1.73070845, -1.73127717, -1.7318344 ,\n",
       "        -1.7323809 , -1.73291734, -1.73344429, -1.7339623 , -1.73447182,\n",
       "        -1.73497329, -1.73546709, -1.73595358, -1.73643308, -1.73690589,\n",
       "        -1.73737227, -1.73783249, -1.73828676, -1.73873531, -1.73917834,\n",
       "        -1.73961603, -1.74004856, -1.7405097 , -1.74104459, -1.74159538,\n",
       "        -1.74214058, -1.74268031, -1.74321473, -1.74374395, -1.74432305,\n",
       "        -1.74501456, -1.74570004, -1.7463796 , -1.74705336, -1.74772141,\n",
       "        -1.74838387, -1.74904083, -1.74969239, -1.75035082, -1.75101435,\n",
       "        -1.75167244, -1.7523252 , -1.75299962, -1.75367457, -1.75434372,\n",
       "        -1.75500719, -1.75566506, -1.75631744, -1.75696443, -1.75760612,\n",
       "        -1.7582426 , -1.75887395, -1.75950025, -1.7601216 , -1.760746  ,\n",
       "        -1.76139675, -1.76204251, -1.76268335, -1.76331934, -1.76395894,\n",
       "        -1.76460774, -1.76525171, -1.76589091, -1.76652542, -1.76715531,\n",
       "        -1.76778063, -1.7684233 , -1.76906158, -1.76969529, -1.77032448,\n",
       "        -1.77094921, -1.77156954, -1.77218554, -1.77279726, -1.77340474,\n",
       "        -1.77400806, -1.77460725, -1.77520238, -1.77579348, -1.77638062,\n",
       "        -1.77696383, -1.77754318, -1.77811869, -1.77869043, -1.77925842,\n",
       "        -1.77982273, -1.78038338, -1.78094043, -1.78149391, -1.78204386]),\n",
       " 'split1_test_score': array([-1.76219454, -1.75903763, -1.75623933, -1.75395455, -1.75197626,\n",
       "        -1.75017074, -1.74845623, -1.746826  , -1.74527378, -1.74387719,\n",
       "        -1.74258427, -1.74135105, -1.74017328, -1.73904709, -1.73796896,\n",
       "        -1.73693568, -1.73594433, -1.73510332, -1.73429931, -1.73357746,\n",
       "        -1.73289635, -1.73224239, -1.73161399, -1.73100966, -1.73042804,\n",
       "        -1.72986788, -1.72932798, -1.72880728, -1.72830475, -1.72781947,\n",
       "        -1.72735055, -1.72689718, -1.72645858, -1.72603406, -1.72564093,\n",
       "        -1.72527274, -1.7249398 , -1.72461788, -1.72430649, -1.72400516,\n",
       "        -1.72371345, -1.72343094, -1.72315723, -1.72289196, -1.72263477,\n",
       "        -1.72238533, -1.72214332, -1.72190844, -1.72168042, -1.72145899,\n",
       "        -1.72124388, -1.72103486, -1.7208317 , -1.72063418, -1.72044209,\n",
       "        -1.72025524, -1.72007342, -1.71989647, -1.71972421, -1.71955648,\n",
       "        -1.71939312, -1.71923399, -1.71907893, -1.71892781, -1.7187805 ,\n",
       "        -1.71865008, -1.71853846, -1.71842992, -1.71832436, -1.71822169,\n",
       "        -1.71812181, -1.71802463, -1.71793006, -1.71783802, -1.71774842,\n",
       "        -1.71766119, -1.71757625, -1.71749353, -1.71741297, -1.71734177,\n",
       "        -1.71730113, -1.71726236, -1.71722538, -1.71719015, -1.7171566 ,\n",
       "        -1.71715105, -1.71719037, -1.71723934, -1.71728928, -1.71734015,\n",
       "        -1.71739192, -1.71744454, -1.71749799, -1.71755222, -1.7176072 ,\n",
       "        -1.71766291, -1.71771931, -1.71777637, -1.71786817, -1.71797334]),\n",
       " 'split2_test_score': array([-1.77797477, -1.77545201, -1.77326532, -1.77140267, -1.76974652,\n",
       "        -1.7682434 , -1.76692394, -1.76642358, -1.76597837, -1.76557934,\n",
       "        -1.76521963, -1.76489384, -1.76459764, -1.76432751, -1.76408054,\n",
       "        -1.76385429, -1.76364669, -1.76345597, -1.7632806 , -1.76311926,\n",
       "        -1.76297077, -1.76283411, -1.76271385, -1.76263464, -1.76256404,\n",
       "        -1.76250145, -1.76244628, -1.76239803, -1.76235624, -1.76232047,\n",
       "        -1.76229035, -1.76226552, -1.76224565, -1.76223044, -1.76221961,\n",
       "        -1.76221291, -1.7622101 , -1.76221095, -1.76221527, -1.76222286,\n",
       "        -1.76223353, -1.76232306, -1.76248036, -1.76263832, -1.76279686,\n",
       "        -1.76300679, -1.76324751, -1.76348786, -1.7637278 , -1.76397226,\n",
       "        -1.76421705, -1.76446119, -1.76470463, -1.76494736, -1.76518935,\n",
       "        -1.76543058, -1.76567103, -1.76591068, -1.76614951, -1.76639077,\n",
       "        -1.76665418, -1.766939  , -1.76723854, -1.76753889, -1.76788217,\n",
       "        -1.76824165, -1.76859917, -1.76895474, -1.76930837, -1.76966007,\n",
       "        -1.77000984, -1.7703577 , -1.77070365, -1.77106568, -1.77143949,\n",
       "        -1.77181079, -1.77217962, -1.77254599, -1.77290994, -1.7732715 ,\n",
       "        -1.77363069, -1.77398755, -1.77434209, -1.77469435, -1.77504436,\n",
       "        -1.77539213, -1.77573769, -1.77608108, -1.7764223 , -1.77676138,\n",
       "        -1.77709836, -1.77743324, -1.77776606, -1.77809683, -1.77842557,\n",
       "        -1.77875232, -1.77907708, -1.77939988, -1.77972074, -1.78003968]),\n",
       " 'split3_test_score': array([-1.64840333, -1.64735435, -1.64655986, -1.64619483, -1.64586451,\n",
       "        -1.64557283, -1.64530576, -1.64505448, -1.64481599, -1.64458809,\n",
       "        -1.6444109 , -1.64426518, -1.64412587, -1.6439922 , -1.64386355,\n",
       "        -1.64373941, -1.64361935, -1.64351967, -1.64342615, -1.64337521,\n",
       "        -1.64332944, -1.64328551, -1.64324324, -1.6432025 , -1.64316317,\n",
       "        -1.64312513, -1.64308829, -1.64305255, -1.64301784, -1.64298408,\n",
       "        -1.64295121, -1.64291916, -1.64288789, -1.64285734, -1.64282747,\n",
       "        -1.64279824, -1.64276961, -1.64274153, -1.64271398, -1.64268694,\n",
       "        -1.64266329, -1.64265498, -1.6426481 , -1.64264165, -1.6426356 ,\n",
       "        -1.64262993, -1.64262461, -1.64261964, -1.64261498, -1.64261062,\n",
       "        -1.64262829, -1.64265714, -1.64268588, -1.6427145 , -1.642743  ,\n",
       "        -1.64277136, -1.64279958, -1.64282766, -1.64285559, -1.64288337,\n",
       "        -1.642911  , -1.64293848, -1.6429658 , -1.64302244, -1.64309874,\n",
       "        -1.64318636, -1.64327337, -1.64335979, -1.64344562, -1.64353086,\n",
       "        -1.64361551, -1.6436996 , -1.64378311, -1.64386605, -1.64394844,\n",
       "        -1.64403028, -1.64411156, -1.64419231, -1.64428089, -1.64440206,\n",
       "        -1.64452247, -1.64467497, -1.64483078, -1.64498848, -1.64514518,\n",
       "        -1.64531965, -1.64551207, -1.64570335, -1.64590423, -1.6461169 ,\n",
       "        -1.64632837, -1.64653867, -1.64674781, -1.64695578, -1.64716261,\n",
       "        -1.64736831, -1.64757287, -1.64777632, -1.64797866, -1.6481799 ]),\n",
       " 'split4_test_score': array([-1.4528175 , -1.45170879, -1.45056942, -1.44942369, -1.4482914 ,\n",
       "        -1.44718246, -1.44610168, -1.44505108, -1.44403112, -1.44308012,\n",
       "        -1.44218434, -1.44134568, -1.44053185, -1.43976574, -1.43906924,\n",
       "        -1.43839255, -1.43773462, -1.43709499, -1.4364791 , -1.43587933,\n",
       "        -1.43529483, -1.43472779, -1.43417625, -1.43363783, -1.43311916,\n",
       "        -1.4326922 , -1.4322759 , -1.43187156, -1.43152853, -1.43120134,\n",
       "        -1.43088216, -1.4305706 , -1.43031318, -1.43007317, -1.4298396 ,\n",
       "        -1.42961217, -1.42939059, -1.4291746 , -1.42896395, -1.42877128,\n",
       "        -1.42859544, -1.42842363, -1.42825568, -1.42809534, -1.42799323,\n",
       "        -1.42792627, -1.4278619 , -1.42780001, -1.42774047, -1.4276832 ,\n",
       "        -1.42762808, -1.42757502, -1.42752394, -1.42750299, -1.42749653,\n",
       "        -1.42749132, -1.42748729, -1.42748441, -1.4274826 , -1.42748183,\n",
       "        -1.42748203, -1.42748317, -1.42748521, -1.42748809, -1.42749178,\n",
       "        -1.42749624, -1.42751485, -1.42754969, -1.427585  , -1.42762076,\n",
       "        -1.42765694, -1.42769352, -1.42773047, -1.4277956 , -1.42789828,\n",
       "        -1.42800197, -1.42810513, -1.42820775, -1.42830983, -1.42841139,\n",
       "        -1.42851241, -1.42861291, -1.42871287, -1.42881231, -1.42891123,\n",
       "        -1.42900963, -1.42910751, -1.42920487, -1.42930172, -1.42943034,\n",
       "        -1.42956259, -1.42969413, -1.42982497, -1.4299551 , -1.43009326,\n",
       "        -1.43024735, -1.43040057, -1.43055292, -1.4307044 , -1.43085502]),\n",
       " 'split5_test_score': array([-1.64312555, -1.6422563 , -1.64139114, -1.64054028, -1.63970823,\n",
       "        -1.6389013 , -1.63816312, -1.63744394, -1.63674337, -1.63606084,\n",
       "        -1.63539564, -1.63474703, -1.63411429, -1.63349667, -1.63289348,\n",
       "        -1.63230405, -1.63172777, -1.63116403, -1.63061388, -1.630076  ,\n",
       "        -1.62954911, -1.62903278, -1.62852656, -1.62803006, -1.62754289,\n",
       "        -1.6270647 , -1.62659516, -1.62613394, -1.62569538, -1.62528726,\n",
       "        -1.62488729, -1.62449517, -1.62411061, -1.62373333, -1.6233631 ,\n",
       "        -1.62299966, -1.62264279, -1.62229228, -1.6219479 , -1.62160947,\n",
       "        -1.6212768 , -1.62094971, -1.62062803, -1.6203116 , -1.62003353,\n",
       "        -1.61979199, -1.61957105, -1.6193757 , -1.61919222, -1.61901198,\n",
       "        -1.61883488, -1.61866082, -1.61848971, -1.61832148, -1.61815604,\n",
       "        -1.61801513, -1.61790803, -1.61780322, -1.61770062, -1.61760016,\n",
       "        -1.61750178, -1.61740543, -1.61731104, -1.61721855, -1.61712792,\n",
       "        -1.61703909, -1.61695201, -1.61686663, -1.61681129, -1.6167768 ,\n",
       "        -1.61674361, -1.61671169, -1.61668101, -1.61665152, -1.61662319,\n",
       "        -1.61659599, -1.61656988, -1.61655031, -1.61653605, -1.61652264,\n",
       "        -1.61651005, -1.61649826, -1.61651822, -1.61655484, -1.61659176,\n",
       "        -1.61662896, -1.61666642, -1.61670413, -1.61674209, -1.61678027,\n",
       "        -1.61683026, -1.6168855 , -1.61694075, -1.61700291, -1.61709469,\n",
       "        -1.61718624, -1.61727756, -1.61736863, -1.61745946, -1.61755005]),\n",
       " 'split6_test_score': array([-1.43120121, -1.43020632, -1.4293075 , -1.42857716, -1.42804058,\n",
       "        -1.42753515, -1.42705626, -1.42660047, -1.42616515, -1.42575528,\n",
       "        -1.42542414, -1.42511808, -1.42488836, -1.42466955, -1.42446088,\n",
       "        -1.42426167, -1.42407131, -1.42389157, -1.42374376, -1.42360284,\n",
       "        -1.42348502, -1.42340271, -1.42335533, -1.4233135 , -1.42327694,\n",
       "        -1.42324537, -1.42321854, -1.42319621, -1.42317816, -1.42316419,\n",
       "        -1.4231541 , -1.42314772, -1.42314486, -1.42314537, -1.42314909,\n",
       "        -1.42315588, -1.42316561, -1.42321615, -1.42327677, -1.42333941,\n",
       "        -1.42340397, -1.42347037, -1.42354686, -1.42363182, -1.42371821,\n",
       "        -1.42380596, -1.423895  , -1.42398527, -1.42407668, -1.42416919,\n",
       "        -1.42426274, -1.42435727, -1.42445272, -1.42454905, -1.42464621,\n",
       "        -1.42474415, -1.4248534 , -1.42497002, -1.42508716, -1.42520478,\n",
       "        -1.42532286, -1.42544135, -1.42556023, -1.42572837, -1.42595237,\n",
       "        -1.42617595, -1.42639911, -1.42662183, -1.42684409, -1.42706588,\n",
       "        -1.42730915, -1.4275589 , -1.42780794, -1.42805626, -1.42830385,\n",
       "        -1.4285507 , -1.42879681, -1.42904217, -1.42928677, -1.42953061,\n",
       "        -1.42977368, -1.43001597, -1.43025749, -1.43052219, -1.43078855,\n",
       "        -1.43109334, -1.43142155, -1.43174828, -1.43207352, -1.4323973 ,\n",
       "        -1.43271961, -1.43304046, -1.43335987, -1.43367783, -1.43399436,\n",
       "        -1.43430946, -1.43462315, -1.43493542, -1.43524629, -1.43555577]),\n",
       " 'split7_test_score': array([-1.58358516, -1.5818867 , -1.58039288, -1.57905692, -1.57784835,\n",
       "        -1.57674574, -1.57573317, -1.57479834, -1.57393144, -1.5731245 ,\n",
       "        -1.57237089, -1.57172694, -1.57115959, -1.57072183, -1.5703258 ,\n",
       "        -1.56995583, -1.56960987, -1.56928607, -1.56898278, -1.56869848,\n",
       "        -1.56843183, -1.5681816 , -1.56799102, -1.5678245 , -1.5676697 ,\n",
       "        -1.56752585, -1.56739226, -1.56726828, -1.56715332, -1.56704685,\n",
       "        -1.56694834, -1.56685735, -1.56677344, -1.5666962 , -1.56662527,\n",
       "        -1.56656031, -1.56650098, -1.56645551, -1.5664202 , -1.56638996,\n",
       "        -1.56636453, -1.56636591, -1.56641474, -1.56646716, -1.56652305,\n",
       "        -1.56663079, -1.56674933, -1.56686992, -1.56699242, -1.5671167 ,\n",
       "        -1.56724265, -1.56738802, -1.56753471, -1.56768264, -1.5678317 ,\n",
       "        -1.56798181, -1.56814537, -1.56833742, -1.56854898, -1.56878427,\n",
       "        -1.56901912, -1.56925349, -1.56948736, -1.56972071, -1.56995351,\n",
       "        -1.57018575, -1.57041741, -1.57064846, -1.5708789 , -1.5711369 ,\n",
       "        -1.5714243 , -1.57174191, -1.57211297, -1.57248235, -1.57285004,\n",
       "        -1.57321604, -1.57358037, -1.57394301, -1.57430398, -1.57466328,\n",
       "        -1.5750209 , -1.57537686, -1.57573116, -1.5760838 , -1.57643479,\n",
       "        -1.57678414, -1.57713184, -1.57747792, -1.57782236, -1.57816518,\n",
       "        -1.57850639, -1.578846  , -1.579184  , -1.5795204 , -1.57985523,\n",
       "        -1.58018847, -1.58052333, -1.58086747, -1.58121   , -1.58155093]),\n",
       " 'split8_test_score': array([-1.52226143, -1.52237304, -1.52234224, -1.52219924, -1.52198583,\n",
       "        -1.52172704, -1.52148003, -1.5213972 , -1.5213204 , -1.52125159,\n",
       "        -1.52116953, -1.5211393 , -1.5211067 , -1.52106808, -1.52102518,\n",
       "        -1.52097932, -1.52093153, -1.52088263, -1.52083323, -1.52078383,\n",
       "        -1.52073481, -1.52070668, -1.5206801 , -1.52065437, -1.52062964,\n",
       "        -1.52060602, -1.52058361, -1.52056246, -1.52054262, -1.52052413,\n",
       "        -1.52050699, -1.52050132, -1.52052218, -1.52054431, -1.52056768,\n",
       "        -1.52059229, -1.52061809, -1.52064506, -1.52067317, -1.52070239,\n",
       "        -1.52073268, -1.52076402, -1.52079636, -1.52082968, -1.52086395,\n",
       "        -1.5209003 , -1.52095465, -1.52100971, -1.52106544, -1.52112182,\n",
       "        -1.52117883, -1.52123642, -1.52132302, -1.52147839, -1.52163395,\n",
       "        -1.52178967, -1.5219646 , -1.52217376, -1.52238258, -1.52259101,\n",
       "        -1.52279906, -1.52300669, -1.52324017, -1.52347816, -1.52371519,\n",
       "        -1.52395127, -1.52418638, -1.52442053, -1.52465371, -1.52488593,\n",
       "        -1.52511717, -1.52534745, -1.52557675, -1.52580508, -1.52603245,\n",
       "        -1.52625884, -1.52648426, -1.5267327 , -1.52699796, -1.52726189,\n",
       "        -1.52752451, -1.52778582, -1.52804582, -1.52830454, -1.52856196,\n",
       "        -1.52883057, -1.52909787, -1.52936383, -1.52962845, -1.52992684,\n",
       "        -1.53022881, -1.53052925, -1.53082818, -1.5311256 , -1.53142153,\n",
       "        -1.53171596, -1.53200892, -1.53230041, -1.53259044, -1.53287902]),\n",
       " 'split9_test_score': array([-1.66160378, -1.66130772, -1.66105997, -1.66087829, -1.66082681,\n",
       "        -1.66086152, -1.66095374, -1.66109453, -1.66131515, -1.6616064 ,\n",
       "        -1.66192809, -1.66226942, -1.66262823, -1.66300264, -1.66339093,\n",
       "        -1.66379159, -1.66420327, -1.66462475, -1.66505494, -1.66549285,\n",
       "        -1.66593761, -1.66638842, -1.66686827, -1.66740379, -1.66794179,\n",
       "        -1.66848182, -1.66902348, -1.66956639, -1.67011021, -1.67065465,\n",
       "        -1.67119942, -1.67174427, -1.67228897, -1.67283758, -1.67340681,\n",
       "        -1.67397525, -1.67454273, -1.67510912, -1.67567429, -1.6762381 ,\n",
       "        -1.67680045, -1.67736124, -1.67792038, -1.67847778, -1.67903337,\n",
       "        -1.67958709, -1.68016977, -1.68076753, -1.68136332, -1.6819571 ,\n",
       "        -1.6825488 , -1.68316745, -1.68378655, -1.68440417, -1.68504136,\n",
       "        -1.68567541, -1.68630635, -1.68693415, -1.68755884, -1.68818041,\n",
       "        -1.68879887, -1.68942006, -1.69005032, -1.69071346, -1.69137873,\n",
       "        -1.69204048, -1.69269871, -1.69335345, -1.69400472, -1.69465254,\n",
       "        -1.69529693, -1.69593791, -1.69657551, -1.69720973, -1.69784062,\n",
       "        -1.69846818, -1.69909244, -1.69971342, -1.70033115, -1.70094564,\n",
       "        -1.70155692, -1.70216501, -1.70276992, -1.70337169, -1.70397034,\n",
       "        -1.70456588, -1.70515834, -1.70574773, -1.70633409, -1.70691743,\n",
       "        -1.70749777, -1.70807514, -1.70867848, -1.70928966, -1.70989772,\n",
       "        -1.71050267, -1.71110454, -1.71170334, -1.7122991 , -1.71289185]),\n",
       " 'mean_test_score': array([-1.62067487, -1.61957893, -1.6186011 , -1.61777448, -1.61704055,\n",
       "        -1.61636292, -1.61574178, -1.6152519 , -1.61479721, -1.614389  ,\n",
       "        -1.61402333, -1.61369839, -1.61340343, -1.61313685, -1.6128913 ,\n",
       "        -1.61265953, -1.61244061, -1.61224673, -1.6120676 , -1.61190771,\n",
       "        -1.61176031, -1.61162691, -1.61151222, -1.61141439, -1.61132413,\n",
       "        -1.61124827, -1.6111784 , -1.61111435, -1.61106224, -1.61101808,\n",
       "        -1.61097864, -1.61094468, -1.6109255 , -1.61091964, -1.6109235 ,\n",
       "        -1.610932  , -1.61094606, -1.61096778, -1.6109936 , -1.61102886,\n",
       "        -1.61107987, -1.61114439, -1.61122273, -1.61130387, -1.6113954 ,\n",
       "        -1.61150483, -1.6116258 , -1.61175165, -1.61188046, -1.61201162,\n",
       "        -1.61214576, -1.61228634, -1.61243325, -1.61259093, -1.61275239,\n",
       "        -1.61291618, -1.61308741, -1.61326552, -1.61344545, -1.61362792,\n",
       "        -1.61381246, -1.61399956, -1.61419178, -1.61439581, -1.61461269,\n",
       "        -1.61483636, -1.6150622 , -1.61528884, -1.61551754, -1.61575104,\n",
       "        -1.6159903 , -1.6162325 , -1.61647924, -1.61672957, -1.61698401,\n",
       "        -1.61723746, -1.61749196, -1.61774828, -1.61800648, -1.61826752,\n",
       "        -1.6185302 , -1.61879492, -1.61906193, -1.61933196, -1.61960095,\n",
       "        -1.61987834, -1.62016309, -1.62044729, -1.62073115, -1.62102164,\n",
       "        -1.62131279, -1.62160301, -1.62189468, -1.62218668, -1.62248106,\n",
       "        -1.62277564, -1.62306907, -1.62336212, -1.62365712, -1.62395194]),\n",
       " 'std_test_score': array([0.11551888, 0.1151656 , 0.11491623, 0.11476512, 0.11465383,\n",
       "        0.11458133, 0.11453764, 0.11459643, 0.11466585, 0.11474826,\n",
       "        0.11483196, 0.11491052, 0.11498364, 0.11505454, 0.1151221 ,\n",
       "        0.11519357, 0.11526844, 0.11535812, 0.11544543, 0.11554107,\n",
       "        0.11563687, 0.11572718, 0.11581377, 0.11590753, 0.116001  ,\n",
       "        0.1160829 , 0.11616548, 0.11624836, 0.11632395, 0.11639921,\n",
       "        0.11647491, 0.11655023, 0.11662041, 0.11669827, 0.11678169,\n",
       "        0.11686651, 0.11695374, 0.11703461, 0.11711413, 0.11719799,\n",
       "        0.11729357, 0.11739862, 0.11750916, 0.11761783, 0.11771805,\n",
       "        0.11781793, 0.11792186, 0.11802673, 0.11813286, 0.11824062,\n",
       "        0.11834879, 0.11845802, 0.11856812, 0.11866902, 0.11876895,\n",
       "        0.11886868, 0.11896462, 0.11905553, 0.11914547, 0.11923469,\n",
       "        0.11932664, 0.11942158, 0.11951705, 0.11960743, 0.11969627,\n",
       "        0.11979245, 0.1198876 , 0.11998001, 0.12007218, 0.12016406,\n",
       "        0.1202528 , 0.120339  , 0.12042293, 0.12050458, 0.12058192,\n",
       "        0.12065883, 0.1207383 , 0.12081577, 0.12089189, 0.12096913,\n",
       "        0.12104851, 0.12112835, 0.12120798, 0.12128364, 0.12135865,\n",
       "        0.12142888, 0.12149893, 0.12156945, 0.12163995, 0.12170279,\n",
       "        0.12176433, 0.12182566, 0.12188885, 0.12195261, 0.12201466,\n",
       "        0.12207389, 0.12213283, 0.12219122, 0.12225206, 0.1223137 ]),\n",
       " 'rank_test_score': array([ 88,  83,  79,  75,  71,  67,  63,  60,  57,  54,  52,  49,  46,\n",
       "         44,  41,  39,  37,  34,  32,  30,  28,  26,  24,  22,  20,  18,\n",
       "         16,  14,  12,  10,   8,   5,   3,   1,   2,   4,   6,   7,   9,\n",
       "         11,  13,  15,  17,  19,  21,  23,  25,  27,  29,  31,  33,  35,\n",
       "         36,  38,  40,  42,  43,  45,  47,  48,  50,  51,  53,  55,  56,\n",
       "         58,  59,  61,  62,  64,  65,  66,  68,  69,  70,  72,  73,  74,\n",
       "         76,  77,  78,  80,  81,  82,  84,  85,  86,  87,  89,  90,  91,\n",
       "         92,  93,  94,  95,  96,  97,  98,  99, 100])}"
      ]
     },
     "execution_count": 98,
     "metadata": {},
     "output_type": "execute_result"
    }
   ],
   "source": [
    "grid_search.cv_results_"
   ]
  },
  {
   "cell_type": "markdown",
   "metadata": {},
   "source": [
    " if you want you can now fit a ridge regression model with obtained value of alpha , although there is no need, grid search automatically fits the best estimator on the entire data, you can directly use this to make predictions on test_data. But if you want to look at coefficients , its much more convenient to fit the model with direct function"
   ]
  },
  {
   "cell_type": "code",
   "execution_count": 99,
   "metadata": {},
   "outputs": [],
   "source": [
    "test_pred=grid_search.predict(ld_test)"
   ]
  },
  {
   "cell_type": "code",
   "execution_count": 100,
   "metadata": {},
   "outputs": [],
   "source": [
    "pd.DataFrame(test_pred).to_csv(\"mysubmission.csv\",index=False)"
   ]
  },
  {
   "cell_type": "markdown",
   "metadata": {
    "collapsed": true
   },
   "source": [
    "## For looking at coefficients"
   ]
  },
  {
   "cell_type": "code",
   "execution_count": 101,
   "metadata": {},
   "outputs": [],
   "source": [
    "ridge_model=grid_search.best_estimator_"
   ]
  },
  {
   "cell_type": "code",
   "execution_count": 102,
   "metadata": {},
   "outputs": [
    {
     "data": {
      "text/plain": [
       "Ridge(alpha=34.0, copy_X=True, fit_intercept=True, max_iter=None,\n",
       "      normalize=False, random_state=None, solver='auto', tol=0.001)"
      ]
     },
     "execution_count": 102,
     "metadata": {},
     "output_type": "execute_result"
    }
   ],
   "source": [
    "ridge_model.fit(x_train,y_train)"
   ]
  },
  {
   "cell_type": "code",
   "execution_count": 103,
   "metadata": {},
   "outputs": [
    {
     "data": {
      "text/plain": [
       "[('Amount.Requested', 0.00016714537449332437),\n",
       " ('Debt.To.Income.Ratio', -0.001260654425030649),\n",
       " ('Monthly.Income', -2.969851180581745e-05),\n",
       " ('Open.CREDIT.Lines', -0.03680978176797282),\n",
       " ('Revolving.CREDIT.Balance', -3.0023321502439184e-06),\n",
       " ('Inquiries.in.the.Last.6.Months', 0.34237751501355024),\n",
       " ('Employment.Length', 0.019418602187516776),\n",
       " ('fico', -0.08664485391886666),\n",
       " ('Loan.Length_36 months', -2.8299762705866205),\n",
       " ('Loan.Purpose_debt_consolidation', -0.3704218576828521),\n",
       " ('Loan.Purpose_credit_card', -0.46479454726336766),\n",
       " ('Loan.Purpose_other', 0.37785665163622867),\n",
       " ('Loan.Purpose_home_improvement', -0.22927008352909098),\n",
       " ('Loan.Purpose_major_purchase', -0.011304507141031317),\n",
       " ('Loan.Purpose_small_business', 0.08971483773413955),\n",
       " ('Loan.Purpose_car', -0.030458295781704864),\n",
       " ('Loan.Purpose_wedding', -0.32871620194253187),\n",
       " ('Loan.Purpose_medical', -0.09644409135075824),\n",
       " ('Loan.Purpose_moving', 0.4576238471903767),\n",
       " ('State_CA', -0.09391793411410596),\n",
       " ('State_NY', -0.043997671539286555),\n",
       " ('State_TX', 0.4272184777026187),\n",
       " ('State_FL', 0.02409902959694947),\n",
       " ('State_IL', -0.3475483678305887),\n",
       " ('State_GA', -0.08405365767738904),\n",
       " ('State_PA', -0.28116404371457493),\n",
       " ('State_NJ', -0.20973892538236363),\n",
       " ('State_VA', -0.002008987822923932),\n",
       " ('State_MA', -0.017505518805417595),\n",
       " ('State_OH', -0.13254554214913344),\n",
       " ('State_MD', 0.011827292660319552),\n",
       " ('State_NC', -0.24367324438879429),\n",
       " ('State_CO', 0.09233333151064647),\n",
       " ('State_WA', -0.08772672017548837),\n",
       " ('State_CT', 0.2486658062436641),\n",
       " ('State_AZ', 0.2753826811319546),\n",
       " ('State_MI', -0.003753451253503508),\n",
       " ('State_AL', 0.013304019104652731),\n",
       " ('State_MN', -0.04297138105698716),\n",
       " ('State_MO', -0.12088507532801802),\n",
       " ('State_NV', -0.01297022976866183),\n",
       " ('State_OR', 0.04475195215254478),\n",
       " ('State_SC', 0.008945589985711249),\n",
       " ('State_WI', 0.06539120347076842),\n",
       " ('State_KY', 0.06929959383324003),\n",
       " ('State_LA', 0.10860903512946181),\n",
       " ('State_KS', 0.12492599122671143),\n",
       " ('Home.Ownership_MORTGAGE', -0.3039747142080268),\n",
       " ('Home.Ownership_RENT', -0.09558753919624591)]"
      ]
     },
     "execution_count": 103,
     "metadata": {},
     "output_type": "execute_result"
    }
   ],
   "source": [
    "list(zip(x_train1.columns,ridge_model.coef_))"
   ]
  },
  {
   "cell_type": "markdown",
   "metadata": {},
   "source": [
    "## Lasso Regression"
   ]
  },
  {
   "cell_type": "code",
   "execution_count": 104,
   "metadata": {},
   "outputs": [],
   "source": [
    "lambdas=np.linspace(1,10,100)\n",
    "model=Lasso(fit_intercept=True)\n",
    "params={'alpha':lambdas}"
   ]
  },
  {
   "cell_type": "code",
   "execution_count": 105,
   "metadata": {},
   "outputs": [],
   "source": [
    "grid_search=GridSearchCV(model,param_grid=params,cv=10,scoring='neg_mean_absolute_error')"
   ]
  },
  {
   "cell_type": "code",
   "execution_count": 106,
   "metadata": {},
   "outputs": [
    {
     "data": {
      "text/plain": [
       "GridSearchCV(cv=10, error_score=nan,\n",
       "             estimator=Lasso(alpha=1.0, copy_X=True, fit_intercept=True,\n",
       "                             max_iter=1000, normalize=False, positive=False,\n",
       "                             precompute=False, random_state=None,\n",
       "                             selection='cyclic', tol=0.0001, warm_start=False),\n",
       "             iid='deprecated', n_jobs=None,\n",
       "             param_grid={'alpha': array([ 1.        ,  1.09090909,  1.18181818,  1.27272727,  1.36363636,\n",
       "        1.45454545,  1.54545455,  1.636...\n",
       "        7.81818182,  7.90909091,  8.        ,  8.09090909,  8.18181818,\n",
       "        8.27272727,  8.36363636,  8.45454545,  8.54545455,  8.63636364,\n",
       "        8.72727273,  8.81818182,  8.90909091,  9.        ,  9.09090909,\n",
       "        9.18181818,  9.27272727,  9.36363636,  9.45454545,  9.54545455,\n",
       "        9.63636364,  9.72727273,  9.81818182,  9.90909091, 10.        ])},\n",
       "             pre_dispatch='2*n_jobs', refit=True, return_train_score=False,\n",
       "             scoring='neg_mean_absolute_error', verbose=0)"
      ]
     },
     "execution_count": 106,
     "metadata": {},
     "output_type": "execute_result"
    }
   ],
   "source": [
    "grid_search.fit(x_train,y_train)"
   ]
  },
  {
   "cell_type": "code",
   "execution_count": 107,
   "metadata": {},
   "outputs": [
    {
     "data": {
      "text/plain": [
       "Lasso(alpha=1.0, copy_X=True, fit_intercept=True, max_iter=1000,\n",
       "      normalize=False, positive=False, precompute=False, random_state=None,\n",
       "      selection='cyclic', tol=0.0001, warm_start=False)"
      ]
     },
     "execution_count": 107,
     "metadata": {},
     "output_type": "execute_result"
    }
   ],
   "source": [
    "grid_search.best_estimator_"
   ]
  },
  {
   "cell_type": "markdown",
   "metadata": {},
   "source": [
    "you can see that, the best value of alpha comes at the edge of the range that we tried , we should expand the trial range on that side and run this again"
   ]
  },
  {
   "cell_type": "code",
   "execution_count": 108,
   "metadata": {},
   "outputs": [],
   "source": [
    "lambdas=np.linspace(.001,2,100)\n",
    "params={'alpha':lambdas}"
   ]
  },
  {
   "cell_type": "code",
   "execution_count": 109,
   "metadata": {},
   "outputs": [
    {
     "data": {
      "text/plain": [
       "GridSearchCV(cv=10, error_score=nan,\n",
       "             estimator=Lasso(alpha=1.0, copy_X=True, fit_intercept=True,\n",
       "                             max_iter=1000, normalize=False, positive=False,\n",
       "                             precompute=False, random_state=None,\n",
       "                             selection='cyclic', tol=0.0001, warm_start=False),\n",
       "             iid='deprecated', n_jobs=None,\n",
       "             param_grid={'alpha': array([1.00000000e-03, 2.11919192e-02, 4.13838384e-02, 6.15757576e-02,\n",
       "       8.17676768e-02...\n",
       "       1.61635354e+00, 1.63654545e+00, 1.65673737e+00, 1.67692929e+00,\n",
       "       1.69712121e+00, 1.71731313e+00, 1.73750505e+00, 1.75769697e+00,\n",
       "       1.77788889e+00, 1.79808081e+00, 1.81827273e+00, 1.83846465e+00,\n",
       "       1.85865657e+00, 1.87884848e+00, 1.89904040e+00, 1.91923232e+00,\n",
       "       1.93942424e+00, 1.95961616e+00, 1.97980808e+00, 2.00000000e+00])},\n",
       "             pre_dispatch='2*n_jobs', refit=True, return_train_score=False,\n",
       "             scoring='neg_mean_absolute_error', verbose=0)"
      ]
     },
     "execution_count": 109,
     "metadata": {},
     "output_type": "execute_result"
    }
   ],
   "source": [
    "grid_search=GridSearchCV(model,param_grid=params,cv=10,scoring='neg_mean_absolute_error')\n",
    "grid_search.fit(x_train,y_train)"
   ]
  },
  {
   "cell_type": "code",
   "execution_count": 110,
   "metadata": {},
   "outputs": [
    {
     "data": {
      "text/plain": [
       "Lasso(alpha=0.021191919191919192, copy_X=True, fit_intercept=True,\n",
       "      max_iter=1000, normalize=False, positive=False, precompute=False,\n",
       "      random_state=None, selection='cyclic', tol=0.0001, warm_start=False)"
      ]
     },
     "execution_count": 110,
     "metadata": {},
     "output_type": "execute_result"
    }
   ],
   "source": [
    "grid_search.best_estimator_"
   ]
  },
  {
   "cell_type": "code",
   "execution_count": 111,
   "metadata": {},
   "outputs": [],
   "source": [
    "lasso_model=grid_search.best_estimator_"
   ]
  },
  {
   "cell_type": "code",
   "execution_count": 112,
   "metadata": {},
   "outputs": [
    {
     "data": {
      "text/plain": [
       "Lasso(alpha=0.021191919191919192, copy_X=True, fit_intercept=True,\n",
       "      max_iter=1000, normalize=False, positive=False, precompute=False,\n",
       "      random_state=None, selection='cyclic', tol=0.0001, warm_start=False)"
      ]
     },
     "execution_count": 112,
     "metadata": {},
     "output_type": "execute_result"
    }
   ],
   "source": [
    "lasso_model.fit(x_train,y_train)"
   ]
  },
  {
   "cell_type": "code",
   "execution_count": 113,
   "metadata": {},
   "outputs": [
    {
     "data": {
      "text/plain": [
       "[('Amount.Requested', 0.00016025576388069374),\n",
       " ('Debt.To.Income.Ratio', -0.0009940455335086431),\n",
       " ('Monthly.Income', -2.7161150694601474e-05),\n",
       " ('Open.CREDIT.Lines', -0.03776066942268258),\n",
       " ('Revolving.CREDIT.Balance', -3.2291582902347866e-06),\n",
       " ('Inquiries.in.the.Last.6.Months', 0.32734647665538585),\n",
       " ('Employment.Length', 0.011883001638602755),\n",
       " ('fico', -0.08647817945138424),\n",
       " ('Loan.Length_36 months', -3.0098932744846625),\n",
       " ('Loan.Purpose_debt_consolidation', -0.1780182230425123),\n",
       " ('Loan.Purpose_credit_card', -0.22053269213383622),\n",
       " ('Loan.Purpose_other', 0.3196217853383159),\n",
       " ('Loan.Purpose_home_improvement', -0.0),\n",
       " ('Loan.Purpose_major_purchase', 0.0),\n",
       " ('Loan.Purpose_small_business', 0.0),\n",
       " ('Loan.Purpose_car', 0.0),\n",
       " ('Loan.Purpose_wedding', -0.0),\n",
       " ('Loan.Purpose_medical', -0.0),\n",
       " ('Loan.Purpose_moving', 0.0),\n",
       " ('State_CA', -0.0),\n",
       " ('State_NY', 0.0),\n",
       " ('State_TX', 0.2592516325019152),\n",
       " ('State_FL', 0.0),\n",
       " ('State_IL', -0.0),\n",
       " ('State_GA', -0.0),\n",
       " ('State_PA', -0.0),\n",
       " ('State_NJ', -0.0),\n",
       " ('State_VA', 0.0),\n",
       " ('State_MA', 0.0),\n",
       " ('State_OH', -0.0),\n",
       " ('State_MD', 0.0),\n",
       " ('State_NC', -0.0),\n",
       " ('State_CO', 0.0),\n",
       " ('State_WA', -0.0),\n",
       " ('State_CT', 0.0),\n",
       " ('State_AZ', 0.0),\n",
       " ('State_MI', 0.0),\n",
       " ('State_AL', 0.0),\n",
       " ('State_MN', -0.0),\n",
       " ('State_MO', -0.0),\n",
       " ('State_NV', 0.0),\n",
       " ('State_OR', 0.0),\n",
       " ('State_SC', 0.0),\n",
       " ('State_WI', 0.0),\n",
       " ('State_KY', 0.0),\n",
       " ('State_LA', 0.0),\n",
       " ('State_KS', 0.0),\n",
       " ('Home.Ownership_MORTGAGE', -0.15598777750113385),\n",
       " ('Home.Ownership_RENT', 0.0)]"
      ]
     },
     "execution_count": 113,
     "metadata": {},
     "output_type": "execute_result"
    }
   ],
   "source": [
    "list(zip(x_train.columns,lasso_model.coef_))"
   ]
  },
  {
   "cell_type": "code",
   "execution_count": null,
   "metadata": {},
   "outputs": [],
   "source": []
  }
 ],
 "metadata": {
  "kernelspec": {
   "display_name": "Python 3",
   "language": "python",
   "name": "python3"
  },
  "language_info": {
   "codemirror_mode": {
    "name": "ipython",
    "version": 3
   },
   "file_extension": ".py",
   "mimetype": "text/x-python",
   "name": "python",
   "nbconvert_exporter": "python",
   "pygments_lexer": "ipython3",
   "version": "3.7.6"
  }
 },
 "nbformat": 4,
 "nbformat_minor": 2
}
