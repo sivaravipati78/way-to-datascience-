{
 "cells": [
  {
   "cell_type": "code",
   "execution_count": 16,
   "metadata": {},
   "outputs": [],
   "source": [
    "import pandas as pd\n",
    "import numpy as np\n",
    "import matplotlib\n",
    "import matplotlib.pyplot as plt\n",
    "import seaborn as sns\n",
    "import statsmodels.api as sm\n",
    "%matplotlib inline\n",
    "from sklearn.model_selection import train_test_split\n",
    "from sklearn.linear_model import LinearRegression\n",
    "from sklearn.feature_selection import RFE"
   ]
  },
  {
   "cell_type": "code",
   "execution_count": 4,
   "metadata": {},
   "outputs": [],
   "source": [
    "d=pd.read_csv('automobile.csv')\n",
    "pd.set_option('display.Max_rows',None)\n",
    "pd.set_option('display.Max_columns',None)"
   ]
  },
  {
   "cell_type": "code",
   "execution_count": 3,
   "metadata": {},
   "outputs": [
    {
     "name": "stdout",
     "output_type": "stream",
     "text": [
      "<class 'pandas.core.frame.DataFrame'>\n",
      "RangeIndex: 201 entries, 0 to 200\n",
      "Data columns (total 26 columns):\n",
      "symboling              201 non-null int64\n",
      "normalized_losses      201 non-null int64\n",
      "make                   201 non-null object\n",
      "fuel_type              201 non-null object\n",
      "aspiration             201 non-null object\n",
      "number_of_doors        201 non-null object\n",
      "body_style             201 non-null object\n",
      "drive_wheels           201 non-null object\n",
      "engine_location        201 non-null object\n",
      "wheel_base             201 non-null float64\n",
      "length                 201 non-null float64\n",
      "width                  201 non-null float64\n",
      "height                 201 non-null float64\n",
      "curb_weight            201 non-null int64\n",
      "engine_type            201 non-null object\n",
      "number_of_cylinders    201 non-null object\n",
      "engine_size            201 non-null int64\n",
      "fuel_system            201 non-null object\n",
      "bore                   201 non-null float64\n",
      "stroke                 201 non-null float64\n",
      "compression_ratio      201 non-null float64\n",
      "horsepower             201 non-null int64\n",
      "peak_rpm               201 non-null int64\n",
      "city_mpg               201 non-null int64\n",
      "highway_mpg            201 non-null int64\n",
      "price                  201 non-null int64\n",
      "dtypes: float64(7), int64(9), object(10)\n",
      "memory usage: 41.0+ KB\n"
     ]
    }
   ],
   "source": [
    "d.info()"
   ]
  },
  {
   "cell_type": "code",
   "execution_count": 5,
   "metadata": {},
   "outputs": [
    {
     "data": {
      "text/html": [
       "<div>\n",
       "<style scoped>\n",
       "    .dataframe tbody tr th:only-of-type {\n",
       "        vertical-align: middle;\n",
       "    }\n",
       "\n",
       "    .dataframe tbody tr th {\n",
       "        vertical-align: top;\n",
       "    }\n",
       "\n",
       "    .dataframe thead th {\n",
       "        text-align: right;\n",
       "    }\n",
       "</style>\n",
       "<table border=\"1\" class=\"dataframe\">\n",
       "  <thead>\n",
       "    <tr style=\"text-align: right;\">\n",
       "      <th></th>\n",
       "      <th>symboling</th>\n",
       "      <th>normalized_losses</th>\n",
       "      <th>make</th>\n",
       "      <th>fuel_type</th>\n",
       "      <th>aspiration</th>\n",
       "      <th>number_of_doors</th>\n",
       "      <th>body_style</th>\n",
       "      <th>drive_wheels</th>\n",
       "      <th>engine_location</th>\n",
       "      <th>wheel_base</th>\n",
       "      <th>length</th>\n",
       "      <th>width</th>\n",
       "      <th>height</th>\n",
       "      <th>curb_weight</th>\n",
       "      <th>engine_type</th>\n",
       "      <th>number_of_cylinders</th>\n",
       "      <th>engine_size</th>\n",
       "      <th>fuel_system</th>\n",
       "      <th>bore</th>\n",
       "      <th>stroke</th>\n",
       "      <th>compression_ratio</th>\n",
       "      <th>horsepower</th>\n",
       "      <th>peak_rpm</th>\n",
       "      <th>city_mpg</th>\n",
       "      <th>highway_mpg</th>\n",
       "      <th>price</th>\n",
       "    </tr>\n",
       "  </thead>\n",
       "  <tbody>\n",
       "    <tr>\n",
       "      <td>0</td>\n",
       "      <td>3</td>\n",
       "      <td>168</td>\n",
       "      <td>alfa-romero</td>\n",
       "      <td>gas</td>\n",
       "      <td>std</td>\n",
       "      <td>two</td>\n",
       "      <td>convertible</td>\n",
       "      <td>rwd</td>\n",
       "      <td>front</td>\n",
       "      <td>88.6</td>\n",
       "      <td>168.8</td>\n",
       "      <td>64.1</td>\n",
       "      <td>48.8</td>\n",
       "      <td>2548</td>\n",
       "      <td>dohc</td>\n",
       "      <td>four</td>\n",
       "      <td>130</td>\n",
       "      <td>mpfi</td>\n",
       "      <td>3.47</td>\n",
       "      <td>2.68</td>\n",
       "      <td>9.0</td>\n",
       "      <td>111</td>\n",
       "      <td>5000</td>\n",
       "      <td>21</td>\n",
       "      <td>27</td>\n",
       "      <td>13495</td>\n",
       "    </tr>\n",
       "    <tr>\n",
       "      <td>1</td>\n",
       "      <td>3</td>\n",
       "      <td>168</td>\n",
       "      <td>alfa-romero</td>\n",
       "      <td>gas</td>\n",
       "      <td>std</td>\n",
       "      <td>two</td>\n",
       "      <td>convertible</td>\n",
       "      <td>rwd</td>\n",
       "      <td>front</td>\n",
       "      <td>88.6</td>\n",
       "      <td>168.8</td>\n",
       "      <td>64.1</td>\n",
       "      <td>48.8</td>\n",
       "      <td>2548</td>\n",
       "      <td>dohc</td>\n",
       "      <td>four</td>\n",
       "      <td>130</td>\n",
       "      <td>mpfi</td>\n",
       "      <td>3.47</td>\n",
       "      <td>2.68</td>\n",
       "      <td>9.0</td>\n",
       "      <td>111</td>\n",
       "      <td>5000</td>\n",
       "      <td>21</td>\n",
       "      <td>27</td>\n",
       "      <td>16500</td>\n",
       "    </tr>\n",
       "    <tr>\n",
       "      <td>2</td>\n",
       "      <td>1</td>\n",
       "      <td>168</td>\n",
       "      <td>alfa-romero</td>\n",
       "      <td>gas</td>\n",
       "      <td>std</td>\n",
       "      <td>two</td>\n",
       "      <td>hatchback</td>\n",
       "      <td>rwd</td>\n",
       "      <td>front</td>\n",
       "      <td>94.5</td>\n",
       "      <td>171.2</td>\n",
       "      <td>65.5</td>\n",
       "      <td>52.4</td>\n",
       "      <td>2823</td>\n",
       "      <td>ohcv</td>\n",
       "      <td>six</td>\n",
       "      <td>152</td>\n",
       "      <td>mpfi</td>\n",
       "      <td>2.68</td>\n",
       "      <td>3.47</td>\n",
       "      <td>9.0</td>\n",
       "      <td>154</td>\n",
       "      <td>5000</td>\n",
       "      <td>19</td>\n",
       "      <td>26</td>\n",
       "      <td>16500</td>\n",
       "    </tr>\n",
       "    <tr>\n",
       "      <td>3</td>\n",
       "      <td>2</td>\n",
       "      <td>164</td>\n",
       "      <td>audi</td>\n",
       "      <td>gas</td>\n",
       "      <td>std</td>\n",
       "      <td>four</td>\n",
       "      <td>sedan</td>\n",
       "      <td>fwd</td>\n",
       "      <td>front</td>\n",
       "      <td>99.8</td>\n",
       "      <td>176.6</td>\n",
       "      <td>66.2</td>\n",
       "      <td>54.3</td>\n",
       "      <td>2337</td>\n",
       "      <td>ohc</td>\n",
       "      <td>four</td>\n",
       "      <td>109</td>\n",
       "      <td>mpfi</td>\n",
       "      <td>3.19</td>\n",
       "      <td>3.40</td>\n",
       "      <td>10.0</td>\n",
       "      <td>102</td>\n",
       "      <td>5500</td>\n",
       "      <td>24</td>\n",
       "      <td>30</td>\n",
       "      <td>13950</td>\n",
       "    </tr>\n",
       "    <tr>\n",
       "      <td>4</td>\n",
       "      <td>2</td>\n",
       "      <td>164</td>\n",
       "      <td>audi</td>\n",
       "      <td>gas</td>\n",
       "      <td>std</td>\n",
       "      <td>four</td>\n",
       "      <td>sedan</td>\n",
       "      <td>4wd</td>\n",
       "      <td>front</td>\n",
       "      <td>99.4</td>\n",
       "      <td>176.6</td>\n",
       "      <td>66.4</td>\n",
       "      <td>54.3</td>\n",
       "      <td>2824</td>\n",
       "      <td>ohc</td>\n",
       "      <td>five</td>\n",
       "      <td>136</td>\n",
       "      <td>mpfi</td>\n",
       "      <td>3.19</td>\n",
       "      <td>3.40</td>\n",
       "      <td>8.0</td>\n",
       "      <td>115</td>\n",
       "      <td>5500</td>\n",
       "      <td>18</td>\n",
       "      <td>22</td>\n",
       "      <td>17450</td>\n",
       "    </tr>\n",
       "  </tbody>\n",
       "</table>\n",
       "</div>"
      ],
      "text/plain": [
       "   symboling  normalized_losses         make fuel_type aspiration  \\\n",
       "0          3                168  alfa-romero       gas        std   \n",
       "1          3                168  alfa-romero       gas        std   \n",
       "2          1                168  alfa-romero       gas        std   \n",
       "3          2                164         audi       gas        std   \n",
       "4          2                164         audi       gas        std   \n",
       "\n",
       "  number_of_doors   body_style drive_wheels engine_location  wheel_base  \\\n",
       "0             two  convertible          rwd           front        88.6   \n",
       "1             two  convertible          rwd           front        88.6   \n",
       "2             two    hatchback          rwd           front        94.5   \n",
       "3            four        sedan          fwd           front        99.8   \n",
       "4            four        sedan          4wd           front        99.4   \n",
       "\n",
       "   length  width  height  curb_weight engine_type number_of_cylinders  \\\n",
       "0   168.8   64.1    48.8         2548        dohc                four   \n",
       "1   168.8   64.1    48.8         2548        dohc                four   \n",
       "2   171.2   65.5    52.4         2823        ohcv                 six   \n",
       "3   176.6   66.2    54.3         2337         ohc                four   \n",
       "4   176.6   66.4    54.3         2824         ohc                five   \n",
       "\n",
       "   engine_size fuel_system  bore  stroke  compression_ratio  horsepower  \\\n",
       "0          130        mpfi  3.47    2.68                9.0         111   \n",
       "1          130        mpfi  3.47    2.68                9.0         111   \n",
       "2          152        mpfi  2.68    3.47                9.0         154   \n",
       "3          109        mpfi  3.19    3.40               10.0         102   \n",
       "4          136        mpfi  3.19    3.40                8.0         115   \n",
       "\n",
       "   peak_rpm  city_mpg  highway_mpg  price  \n",
       "0      5000        21           27  13495  \n",
       "1      5000        21           27  16500  \n",
       "2      5000        19           26  16500  \n",
       "3      5500        24           30  13950  \n",
       "4      5500        18           22  17450  "
      ]
     },
     "execution_count": 5,
     "metadata": {},
     "output_type": "execute_result"
    }
   ],
   "source": [
    "d.head()"
   ]
  },
  {
   "cell_type": "code",
   "execution_count": 21,
   "metadata": {},
   "outputs": [],
   "source": [
    "d1=pd.get_dummies(data=d,columns=['fuel_type','aspiration','number_of_doors','body_style','drive_wheels','engine_location','engine_type','number_of_cylinders','fuel_system'])"
   ]
  },
  {
   "cell_type": "code",
   "execution_count": 49,
   "metadata": {},
   "outputs": [
    {
     "data": {
      "text/plain": [
       "(201, 54)"
      ]
     },
     "execution_count": 49,
     "metadata": {},
     "output_type": "execute_result"
    }
   ],
   "source": [
    "d.nunique()\n",
    "d1.shape"
   ]
  },
  {
   "cell_type": "code",
   "execution_count": 23,
   "metadata": {},
   "outputs": [],
   "source": [
    "X=d1.drop(['make','price'],axis=1)\n",
    "y=d1['price']"
   ]
  },
  {
   "cell_type": "code",
   "execution_count": 25,
   "metadata": {},
   "outputs": [
    {
     "data": {
      "text/html": [
       "<table class=\"simpletable\">\n",
       "<caption>OLS Regression Results</caption>\n",
       "<tr>\n",
       "  <th>Dep. Variable:</th>          <td>price</td>      <th>  R-squared:         </th> <td>   0.940</td>\n",
       "</tr>\n",
       "<tr>\n",
       "  <th>Model:</th>                   <td>OLS</td>       <th>  Adj. R-squared:    </th> <td>   0.924</td>\n",
       "</tr>\n",
       "<tr>\n",
       "  <th>Method:</th>             <td>Least Squares</td>  <th>  F-statistic:       </th> <td>   60.26</td>\n",
       "</tr>\n",
       "<tr>\n",
       "  <th>Date:</th>             <td>Wed, 29 Jan 2020</td> <th>  Prob (F-statistic):</th> <td>8.80e-78</td>\n",
       "</tr>\n",
       "<tr>\n",
       "  <th>Time:</th>                 <td>16:02:29</td>     <th>  Log-Likelihood:    </th> <td> -1807.8</td>\n",
       "</tr>\n",
       "<tr>\n",
       "  <th>No. Observations:</th>      <td>   201</td>      <th>  AIC:               </th> <td>   3700.</td>\n",
       "</tr>\n",
       "<tr>\n",
       "  <th>Df Residuals:</th>          <td>   159</td>      <th>  BIC:               </th> <td>   3838.</td>\n",
       "</tr>\n",
       "<tr>\n",
       "  <th>Df Model:</th>              <td>    41</td>      <th>                     </th>     <td> </td>   \n",
       "</tr>\n",
       "<tr>\n",
       "  <th>Covariance Type:</th>      <td>nonrobust</td>    <th>                     </th>     <td> </td>   \n",
       "</tr>\n",
       "</table>\n",
       "<table class=\"simpletable\">\n",
       "<tr>\n",
       "               <td></td>                 <th>coef</th>     <th>std err</th>      <th>t</th>      <th>P>|t|</th>  <th>[0.025</th>    <th>0.975]</th>  \n",
       "</tr>\n",
       "<tr>\n",
       "  <th>const</th>                      <td>-8317.3129</td> <td> 3734.974</td> <td>   -2.227</td> <td> 0.027</td> <td>-1.57e+04</td> <td> -940.754</td>\n",
       "</tr>\n",
       "<tr>\n",
       "  <th>symboling</th>                  <td> -105.6334</td> <td>  262.477</td> <td>   -0.402</td> <td> 0.688</td> <td> -624.024</td> <td>  412.757</td>\n",
       "</tr>\n",
       "<tr>\n",
       "  <th>normalized_losses</th>          <td>   11.7615</td> <td>    8.351</td> <td>    1.408</td> <td> 0.161</td> <td>   -4.732</td> <td>   28.255</td>\n",
       "</tr>\n",
       "<tr>\n",
       "  <th>wheel_base</th>                 <td>   55.9721</td> <td>   96.847</td> <td>    0.578</td> <td> 0.564</td> <td> -135.301</td> <td>  247.246</td>\n",
       "</tr>\n",
       "<tr>\n",
       "  <th>length</th>                     <td>  -64.4265</td> <td>   50.073</td> <td>   -1.287</td> <td> 0.200</td> <td> -163.320</td> <td>   34.467</td>\n",
       "</tr>\n",
       "<tr>\n",
       "  <th>width</th>                      <td>  656.7547</td> <td>  240.691</td> <td>    2.729</td> <td> 0.007</td> <td>  181.391</td> <td> 1132.118</td>\n",
       "</tr>\n",
       "<tr>\n",
       "  <th>height</th>                     <td>  132.3088</td> <td>  136.981</td> <td>    0.966</td> <td> 0.336</td> <td> -138.229</td> <td>  402.846</td>\n",
       "</tr>\n",
       "<tr>\n",
       "  <th>curb_weight</th>                <td>    4.2089</td> <td>    1.732</td> <td>    2.430</td> <td> 0.016</td> <td>    0.789</td> <td>    7.629</td>\n",
       "</tr>\n",
       "<tr>\n",
       "  <th>engine_size</th>                <td>  111.8185</td> <td>   25.974</td> <td>    4.305</td> <td> 0.000</td> <td>   60.519</td> <td>  163.118</td>\n",
       "</tr>\n",
       "<tr>\n",
       "  <th>bore</th>                       <td>-1859.9198</td> <td> 1594.547</td> <td>   -1.166</td> <td> 0.245</td> <td>-5009.144</td> <td> 1289.304</td>\n",
       "</tr>\n",
       "<tr>\n",
       "  <th>stroke</th>                     <td>-4411.3187</td> <td>  902.235</td> <td>   -4.889</td> <td> 0.000</td> <td>-6193.229</td> <td>-2629.408</td>\n",
       "</tr>\n",
       "<tr>\n",
       "  <th>compression_ratio</th>          <td> -765.2902</td> <td>  528.772</td> <td>   -1.447</td> <td> 0.150</td> <td>-1809.614</td> <td>  279.033</td>\n",
       "</tr>\n",
       "<tr>\n",
       "  <th>horsepower</th>                 <td>   16.4870</td> <td>   22.534</td> <td>    0.732</td> <td> 0.465</td> <td>  -28.018</td> <td>   60.992</td>\n",
       "</tr>\n",
       "<tr>\n",
       "  <th>peak_rpm</th>                   <td>    1.9154</td> <td>    0.619</td> <td>    3.094</td> <td> 0.002</td> <td>    0.693</td> <td>    3.138</td>\n",
       "</tr>\n",
       "<tr>\n",
       "  <th>city_mpg</th>                   <td> -166.0146</td> <td>  150.117</td> <td>   -1.106</td> <td> 0.270</td> <td> -462.496</td> <td>  130.466</td>\n",
       "</tr>\n",
       "<tr>\n",
       "  <th>highway_mpg</th>                <td>  206.3407</td> <td>  136.196</td> <td>    1.515</td> <td> 0.132</td> <td>  -62.646</td> <td>  475.327</td>\n",
       "</tr>\n",
       "<tr>\n",
       "  <th>fuel_type_diesel</th>           <td>  983.2217</td> <td> 2980.134</td> <td>    0.330</td> <td> 0.742</td> <td>-4902.532</td> <td> 6868.975</td>\n",
       "</tr>\n",
       "<tr>\n",
       "  <th>fuel_type_gas</th>              <td>-9300.5346</td> <td> 2825.660</td> <td>   -3.291</td> <td> 0.001</td> <td>-1.49e+04</td> <td>-3719.867</td>\n",
       "</tr>\n",
       "<tr>\n",
       "  <th>aspiration_std</th>             <td>-4945.3174</td> <td> 1964.528</td> <td>   -2.517</td> <td> 0.013</td> <td>-8825.253</td> <td>-1065.382</td>\n",
       "</tr>\n",
       "<tr>\n",
       "  <th>aspiration_turbo</th>           <td>-3371.9955</td> <td> 1871.459</td> <td>   -1.802</td> <td> 0.073</td> <td>-7068.120</td> <td>  324.129</td>\n",
       "</tr>\n",
       "<tr>\n",
       "  <th>number_of_doors_four</th>       <td>-4211.5939</td> <td> 1898.835</td> <td>   -2.218</td> <td> 0.028</td> <td>-7961.786</td> <td> -461.402</td>\n",
       "</tr>\n",
       "<tr>\n",
       "  <th>number_of_doors_two</th>        <td>-4105.7190</td> <td> 1884.625</td> <td>   -2.179</td> <td> 0.031</td> <td>-7827.847</td> <td> -383.591</td>\n",
       "</tr>\n",
       "<tr>\n",
       "  <th>body_style_convertible</th>     <td>  937.7521</td> <td> 1066.483</td> <td>    0.879</td> <td> 0.381</td> <td>-1168.548</td> <td> 3044.052</td>\n",
       "</tr>\n",
       "<tr>\n",
       "  <th>body_style_hardtop</th>         <td>-2362.7820</td> <td> 1109.774</td> <td>   -2.129</td> <td> 0.035</td> <td>-4554.582</td> <td> -170.982</td>\n",
       "</tr>\n",
       "<tr>\n",
       "  <th>body_style_hatchback</th>       <td>-2506.8683</td> <td>  921.594</td> <td>   -2.720</td> <td> 0.007</td> <td>-4327.012</td> <td> -686.724</td>\n",
       "</tr>\n",
       "<tr>\n",
       "  <th>body_style_sedan</th>           <td>-1593.8084</td> <td>  960.208</td> <td>   -1.660</td> <td> 0.099</td> <td>-3490.215</td> <td>  302.598</td>\n",
       "</tr>\n",
       "<tr>\n",
       "  <th>body_style_wagon</th>           <td>-2791.6063</td> <td> 1103.360</td> <td>   -2.530</td> <td> 0.012</td> <td>-4970.739</td> <td> -612.474</td>\n",
       "</tr>\n",
       "<tr>\n",
       "  <th>drive_wheels_4wd</th>           <td>-2867.6114</td> <td> 1386.221</td> <td>   -2.069</td> <td> 0.040</td> <td>-5605.393</td> <td> -129.830</td>\n",
       "</tr>\n",
       "<tr>\n",
       "  <th>drive_wheels_fwd</th>           <td>-3048.1767</td> <td> 1402.479</td> <td>   -2.173</td> <td> 0.031</td> <td>-5818.068</td> <td> -278.285</td>\n",
       "</tr>\n",
       "<tr>\n",
       "  <th>drive_wheels_rwd</th>           <td>-2401.5248</td> <td> 1385.491</td> <td>   -1.733</td> <td> 0.085</td> <td>-5137.865</td> <td>  334.815</td>\n",
       "</tr>\n",
       "<tr>\n",
       "  <th>engine_location_front</th>      <td>-8246.3535</td> <td> 2162.828</td> <td>   -3.813</td> <td> 0.000</td> <td>-1.25e+04</td> <td>-3974.777</td>\n",
       "</tr>\n",
       "<tr>\n",
       "  <th>engine_location_rear</th>       <td>  -70.9594</td> <td> 2368.026</td> <td>   -0.030</td> <td> 0.976</td> <td>-4747.801</td> <td> 4605.882</td>\n",
       "</tr>\n",
       "<tr>\n",
       "  <th>engine_type_dohc</th>           <td>-1458.5353</td> <td> 1056.020</td> <td>   -1.381</td> <td> 0.169</td> <td>-3544.171</td> <td>  627.100</td>\n",
       "</tr>\n",
       "<tr>\n",
       "  <th>engine_type_l</th>              <td>-3143.2784</td> <td> 1473.462</td> <td>   -2.133</td> <td> 0.034</td> <td>-6053.360</td> <td> -233.197</td>\n",
       "</tr>\n",
       "<tr>\n",
       "  <th>engine_type_ohc</th>            <td> 1624.4630</td> <td>  915.751</td> <td>    1.774</td> <td> 0.078</td> <td> -184.142</td> <td> 3433.068</td>\n",
       "</tr>\n",
       "<tr>\n",
       "  <th>engine_type_ohcf</th>           <td> -132.4827</td> <td> 1204.776</td> <td>   -0.110</td> <td> 0.913</td> <td>-2511.910</td> <td> 2246.945</td>\n",
       "</tr>\n",
       "<tr>\n",
       "  <th>engine_type_ohcv</th>           <td>-7102.4984</td> <td> 1228.883</td> <td>   -5.780</td> <td> 0.000</td> <td>-9529.537</td> <td>-4675.459</td>\n",
       "</tr>\n",
       "<tr>\n",
       "  <th>engine_type_rotor</th>          <td> 1895.0189</td> <td> 1522.544</td> <td>    1.245</td> <td> 0.215</td> <td>-1112.000</td> <td> 4902.038</td>\n",
       "</tr>\n",
       "<tr>\n",
       "  <th>number_of_cylinders_eight</th>  <td> 4301.0249</td> <td> 2298.295</td> <td>    1.871</td> <td> 0.063</td> <td> -238.099</td> <td> 8840.149</td>\n",
       "</tr>\n",
       "<tr>\n",
       "  <th>number_of_cylinders_five</th>   <td>-5022.9594</td> <td> 1654.958</td> <td>   -3.035</td> <td> 0.003</td> <td>-8291.496</td> <td>-1754.423</td>\n",
       "</tr>\n",
       "<tr>\n",
       "  <th>number_of_cylinders_four</th>   <td>-5651.3487</td> <td> 1566.399</td> <td>   -3.608</td> <td> 0.000</td> <td>-8744.981</td> <td>-2557.716</td>\n",
       "</tr>\n",
       "<tr>\n",
       "  <th>number_of_cylinders_six</th>    <td>-2685.4948</td> <td>  991.022</td> <td>   -2.710</td> <td> 0.007</td> <td>-4642.759</td> <td> -728.230</td>\n",
       "</tr>\n",
       "<tr>\n",
       "  <th>number_of_cylinders_three</th>  <td> 4532.1010</td> <td> 3012.147</td> <td>    1.505</td> <td> 0.134</td> <td>-1416.879</td> <td> 1.05e+04</td>\n",
       "</tr>\n",
       "<tr>\n",
       "  <th>number_of_cylinders_twelve</th> <td>-5685.6548</td> <td> 4303.379</td> <td>   -1.321</td> <td> 0.188</td> <td>-1.42e+04</td> <td> 2813.503</td>\n",
       "</tr>\n",
       "<tr>\n",
       "  <th>number_of_cylinders_two</th>    <td> 1895.0189</td> <td> 1522.544</td> <td>    1.245</td> <td> 0.215</td> <td>-1112.000</td> <td> 4902.038</td>\n",
       "</tr>\n",
       "<tr>\n",
       "  <th>fuel_system_1bbl</th>           <td>  170.3902</td> <td> 1080.434</td> <td>    0.158</td> <td> 0.875</td> <td>-1963.463</td> <td> 2304.243</td>\n",
       "</tr>\n",
       "<tr>\n",
       "  <th>fuel_system_2bbl</th>           <td> -206.3698</td> <td>  804.051</td> <td>   -0.257</td> <td> 0.798</td> <td>-1794.368</td> <td> 1381.628</td>\n",
       "</tr>\n",
       "<tr>\n",
       "  <th>fuel_system_4bbl</th>           <td>-1625.2878</td> <td> 2381.382</td> <td>   -0.682</td> <td> 0.496</td> <td>-6328.509</td> <td> 3077.933</td>\n",
       "</tr>\n",
       "<tr>\n",
       "  <th>fuel_system_idi</th>            <td>  983.2217</td> <td> 2980.134</td> <td>    0.330</td> <td> 0.742</td> <td>-4902.532</td> <td> 6868.975</td>\n",
       "</tr>\n",
       "<tr>\n",
       "  <th>fuel_system_mfi</th>            <td>-3678.3732</td> <td> 2146.780</td> <td>   -1.713</td> <td> 0.089</td> <td>-7918.255</td> <td>  561.508</td>\n",
       "</tr>\n",
       "<tr>\n",
       "  <th>fuel_system_mpfi</th>           <td> -468.1033</td> <td>  834.196</td> <td>   -0.561</td> <td> 0.575</td> <td>-2115.637</td> <td> 1179.431</td>\n",
       "</tr>\n",
       "<tr>\n",
       "  <th>fuel_system_spdi</th>           <td>-3228.9071</td> <td> 1097.414</td> <td>   -2.942</td> <td> 0.004</td> <td>-5396.295</td> <td>-1061.519</td>\n",
       "</tr>\n",
       "<tr>\n",
       "  <th>fuel_system_spfi</th>           <td> -263.8835</td> <td> 2089.331</td> <td>   -0.126</td> <td> 0.900</td> <td>-4390.304</td> <td> 3862.537</td>\n",
       "</tr>\n",
       "</table>\n",
       "<table class=\"simpletable\">\n",
       "<tr>\n",
       "  <th>Omnibus:</th>       <td>34.148</td> <th>  Durbin-Watson:     </th> <td>   1.444</td>\n",
       "</tr>\n",
       "<tr>\n",
       "  <th>Prob(Omnibus):</th> <td> 0.000</td> <th>  Jarque-Bera (JB):  </th> <td>  97.281</td>\n",
       "</tr>\n",
       "<tr>\n",
       "  <th>Skew:</th>          <td> 0.685</td> <th>  Prob(JB):          </th> <td>7.51e-22</td>\n",
       "</tr>\n",
       "<tr>\n",
       "  <th>Kurtosis:</th>      <td> 6.121</td> <th>  Cond. No.          </th> <td>1.00e+16</td>\n",
       "</tr>\n",
       "</table><br/><br/>Warnings:<br/>[1] Standard Errors assume that the covariance matrix of the errors is correctly specified.<br/>[2] The smallest eigenvalue is 6.59e-23. This might indicate that there are<br/>strong multicollinearity problems or that the design matrix is singular."
      ],
      "text/plain": [
       "<class 'statsmodels.iolib.summary.Summary'>\n",
       "\"\"\"\n",
       "                            OLS Regression Results                            \n",
       "==============================================================================\n",
       "Dep. Variable:                  price   R-squared:                       0.940\n",
       "Model:                            OLS   Adj. R-squared:                  0.924\n",
       "Method:                 Least Squares   F-statistic:                     60.26\n",
       "Date:                Wed, 29 Jan 2020   Prob (F-statistic):           8.80e-78\n",
       "Time:                        16:02:29   Log-Likelihood:                -1807.8\n",
       "No. Observations:                 201   AIC:                             3700.\n",
       "Df Residuals:                     159   BIC:                             3838.\n",
       "Df Model:                          41                                         \n",
       "Covariance Type:            nonrobust                                         \n",
       "==============================================================================================\n",
       "                                 coef    std err          t      P>|t|      [0.025      0.975]\n",
       "----------------------------------------------------------------------------------------------\n",
       "const                      -8317.3129   3734.974     -2.227      0.027   -1.57e+04    -940.754\n",
       "symboling                   -105.6334    262.477     -0.402      0.688    -624.024     412.757\n",
       "normalized_losses             11.7615      8.351      1.408      0.161      -4.732      28.255\n",
       "wheel_base                    55.9721     96.847      0.578      0.564    -135.301     247.246\n",
       "length                       -64.4265     50.073     -1.287      0.200    -163.320      34.467\n",
       "width                        656.7547    240.691      2.729      0.007     181.391    1132.118\n",
       "height                       132.3088    136.981      0.966      0.336    -138.229     402.846\n",
       "curb_weight                    4.2089      1.732      2.430      0.016       0.789       7.629\n",
       "engine_size                  111.8185     25.974      4.305      0.000      60.519     163.118\n",
       "bore                       -1859.9198   1594.547     -1.166      0.245   -5009.144    1289.304\n",
       "stroke                     -4411.3187    902.235     -4.889      0.000   -6193.229   -2629.408\n",
       "compression_ratio           -765.2902    528.772     -1.447      0.150   -1809.614     279.033\n",
       "horsepower                    16.4870     22.534      0.732      0.465     -28.018      60.992\n",
       "peak_rpm                       1.9154      0.619      3.094      0.002       0.693       3.138\n",
       "city_mpg                    -166.0146    150.117     -1.106      0.270    -462.496     130.466\n",
       "highway_mpg                  206.3407    136.196      1.515      0.132     -62.646     475.327\n",
       "fuel_type_diesel             983.2217   2980.134      0.330      0.742   -4902.532    6868.975\n",
       "fuel_type_gas              -9300.5346   2825.660     -3.291      0.001   -1.49e+04   -3719.867\n",
       "aspiration_std             -4945.3174   1964.528     -2.517      0.013   -8825.253   -1065.382\n",
       "aspiration_turbo           -3371.9955   1871.459     -1.802      0.073   -7068.120     324.129\n",
       "number_of_doors_four       -4211.5939   1898.835     -2.218      0.028   -7961.786    -461.402\n",
       "number_of_doors_two        -4105.7190   1884.625     -2.179      0.031   -7827.847    -383.591\n",
       "body_style_convertible       937.7521   1066.483      0.879      0.381   -1168.548    3044.052\n",
       "body_style_hardtop         -2362.7820   1109.774     -2.129      0.035   -4554.582    -170.982\n",
       "body_style_hatchback       -2506.8683    921.594     -2.720      0.007   -4327.012    -686.724\n",
       "body_style_sedan           -1593.8084    960.208     -1.660      0.099   -3490.215     302.598\n",
       "body_style_wagon           -2791.6063   1103.360     -2.530      0.012   -4970.739    -612.474\n",
       "drive_wheels_4wd           -2867.6114   1386.221     -2.069      0.040   -5605.393    -129.830\n",
       "drive_wheels_fwd           -3048.1767   1402.479     -2.173      0.031   -5818.068    -278.285\n",
       "drive_wheels_rwd           -2401.5248   1385.491     -1.733      0.085   -5137.865     334.815\n",
       "engine_location_front      -8246.3535   2162.828     -3.813      0.000   -1.25e+04   -3974.777\n",
       "engine_location_rear         -70.9594   2368.026     -0.030      0.976   -4747.801    4605.882\n",
       "engine_type_dohc           -1458.5353   1056.020     -1.381      0.169   -3544.171     627.100\n",
       "engine_type_l              -3143.2784   1473.462     -2.133      0.034   -6053.360    -233.197\n",
       "engine_type_ohc             1624.4630    915.751      1.774      0.078    -184.142    3433.068\n",
       "engine_type_ohcf            -132.4827   1204.776     -0.110      0.913   -2511.910    2246.945\n",
       "engine_type_ohcv           -7102.4984   1228.883     -5.780      0.000   -9529.537   -4675.459\n",
       "engine_type_rotor           1895.0189   1522.544      1.245      0.215   -1112.000    4902.038\n",
       "number_of_cylinders_eight   4301.0249   2298.295      1.871      0.063    -238.099    8840.149\n",
       "number_of_cylinders_five   -5022.9594   1654.958     -3.035      0.003   -8291.496   -1754.423\n",
       "number_of_cylinders_four   -5651.3487   1566.399     -3.608      0.000   -8744.981   -2557.716\n",
       "number_of_cylinders_six    -2685.4948    991.022     -2.710      0.007   -4642.759    -728.230\n",
       "number_of_cylinders_three   4532.1010   3012.147      1.505      0.134   -1416.879    1.05e+04\n",
       "number_of_cylinders_twelve -5685.6548   4303.379     -1.321      0.188   -1.42e+04    2813.503\n",
       "number_of_cylinders_two     1895.0189   1522.544      1.245      0.215   -1112.000    4902.038\n",
       "fuel_system_1bbl             170.3902   1080.434      0.158      0.875   -1963.463    2304.243\n",
       "fuel_system_2bbl            -206.3698    804.051     -0.257      0.798   -1794.368    1381.628\n",
       "fuel_system_4bbl           -1625.2878   2381.382     -0.682      0.496   -6328.509    3077.933\n",
       "fuel_system_idi              983.2217   2980.134      0.330      0.742   -4902.532    6868.975\n",
       "fuel_system_mfi            -3678.3732   2146.780     -1.713      0.089   -7918.255     561.508\n",
       "fuel_system_mpfi            -468.1033    834.196     -0.561      0.575   -2115.637    1179.431\n",
       "fuel_system_spdi           -3228.9071   1097.414     -2.942      0.004   -5396.295   -1061.519\n",
       "fuel_system_spfi            -263.8835   2089.331     -0.126      0.900   -4390.304    3862.537\n",
       "==============================================================================\n",
       "Omnibus:                       34.148   Durbin-Watson:                   1.444\n",
       "Prob(Omnibus):                  0.000   Jarque-Bera (JB):               97.281\n",
       "Skew:                           0.685   Prob(JB):                     7.51e-22\n",
       "Kurtosis:                       6.121   Cond. No.                     1.00e+16\n",
       "==============================================================================\n",
       "\n",
       "Warnings:\n",
       "[1] Standard Errors assume that the covariance matrix of the errors is correctly specified.\n",
       "[2] The smallest eigenvalue is 6.59e-23. This might indicate that there are\n",
       "strong multicollinearity problems or that the design matrix is singular.\n",
       "\"\"\""
      ]
     },
     "execution_count": 25,
     "metadata": {},
     "output_type": "execute_result"
    }
   ],
   "source": [
    "X_constant = sm.add_constant(X)\n",
    "model = sm.OLS(y, X_constant).fit()\n",
    "predictions = model.predict(X_constant)\n",
    "model.summary()"
   ]
  },
  {
   "cell_type": "code",
   "execution_count": 26,
   "metadata": {},
   "outputs": [
    {
     "name": "stdout",
     "output_type": "stream",
     "text": [
      "61 61\n"
     ]
    }
   ],
   "source": [
    "X_train,X_test,y_train,y_test=train_test_split(X,y,test_size=0.3,random_state=3)\n",
    "print(len(X_test), len(y_test))"
   ]
  },
  {
   "cell_type": "code",
   "execution_count": 27,
   "metadata": {},
   "outputs": [
    {
     "data": {
      "text/plain": [
       "LinearRegression(copy_X=True, fit_intercept=True, n_jobs=None, normalize=False)"
      ]
     },
     "execution_count": 27,
     "metadata": {},
     "output_type": "execute_result"
    }
   ],
   "source": [
    "lr = LinearRegression()\n",
    "lr.fit(X_train, y_train)"
   ]
  },
  {
   "cell_type": "code",
   "execution_count": 28,
   "metadata": {},
   "outputs": [
    {
     "data": {
      "text/plain": [
       "Ridge(alpha=0.01, copy_X=True, fit_intercept=True, max_iter=None,\n",
       "      normalize=False, random_state=None, solver='auto', tol=0.001)"
      ]
     },
     "execution_count": 28,
     "metadata": {},
     "output_type": "execute_result"
    }
   ],
   "source": [
    "rr = Ridge(alpha=0.01) \n",
    "# restricted and in this case linear and ridge regression resembles\n",
    "rr.fit(X_train, y_train)"
   ]
  },
  {
   "cell_type": "code",
   "execution_count": 29,
   "metadata": {},
   "outputs": [
    {
     "data": {
      "text/plain": [
       "Ridge(alpha=100, copy_X=True, fit_intercept=True, max_iter=None,\n",
       "      normalize=False, random_state=None, solver='auto', tol=0.001)"
      ]
     },
     "execution_count": 29,
     "metadata": {},
     "output_type": "execute_result"
    }
   ],
   "source": [
    "rr100 = Ridge(alpha=100) #  comparison with alpha value\n",
    "rr100.fit(X_train, y_train)"
   ]
  },
  {
   "cell_type": "code",
   "execution_count": 30,
   "metadata": {},
   "outputs": [],
   "source": [
    "train_score=lr.score(X_train, y_train)\n",
    "test_score=lr.score(X_test, y_test)"
   ]
  },
  {
   "cell_type": "code",
   "execution_count": 31,
   "metadata": {},
   "outputs": [],
   "source": [
    "Ridge_train_score = rr.score(X_train,y_train)\n",
    "Ridge_test_score = rr.score(X_test, y_test)"
   ]
  },
  {
   "cell_type": "code",
   "execution_count": 32,
   "metadata": {},
   "outputs": [],
   "source": [
    "Ridge_train_score100 = rr100.score(X_train,y_train)\n",
    "Ridge_test_score100 = rr100.score(X_test, y_test)"
   ]
  },
  {
   "cell_type": "code",
   "execution_count": 33,
   "metadata": {},
   "outputs": [
    {
     "name": "stdout",
     "output_type": "stream",
     "text": [
      "linear regression train score: 0.9562023821562744\n",
      "linear regression test score: 0.8057447121782366\n",
      "ridge regression train score low alpha: 0.9561933796554795\n",
      "ridge regression test score low alpha: 0.8089175502497433\n",
      "ridge regression train score high alpha: 0.870227114416309\n",
      "ridge regression test score high alpha: 0.8081759127024672\n"
     ]
    }
   ],
   "source": [
    "print(\"linear regression train score:\", train_score)\n",
    "print(\"linear regression test score:\", test_score)\n",
    "print(\"ridge regression train score low alpha:\", Ridge_train_score)\n",
    "print(\"ridge regression test score low alpha:\", Ridge_test_score)\n",
    "print(\"ridge regression train score high alpha:\", Ridge_train_score100)\n",
    "print(\"ridge regression test score high alpha:\", Ridge_test_score100)"
   ]
  },
  {
   "cell_type": "code",
   "execution_count": 34,
   "metadata": {},
   "outputs": [
    {
     "data": {
      "text/plain": [
       "[<matplotlib.lines.Line2D at 0x23e838bef88>]"
      ]
     },
     "execution_count": 34,
     "metadata": {},
     "output_type": "execute_result"
    },
    {
     "data": {
      "image/png": "[encoded data removed]",
      "text/plain": [
       "<Figure size 432x288 with 1 Axes>"
      ]
     },
     "metadata": {
      "needs_background": "light"
     },
     "output_type": "display_data"
    }
   ],
   "source": [
    "plt.plot(rr.coef_,alpha=0.7,linestyle='none',marker='*',markersize=5,color='red',label=r'Ridge; $\\alpha = 0.01$',zorder=7) # zorder for ordering the markers"
   ]
  },
  {
   "cell_type": "code",
   "execution_count": 35,
   "metadata": {},
   "outputs": [
    {
     "data": {
      "text/plain": [
       "[<matplotlib.lines.Line2D at 0x23e83971d88>]"
      ]
     },
     "execution_count": 35,
     "metadata": {},
     "output_type": "execute_result"
    },
    {
     "data": {
      "image/png": "[encoded data removed]",
      "text/plain": [
       "<Figure size 432x288 with 1 Axes>"
      ]
     },
     "metadata": {
      "needs_background": "light"
     },
     "output_type": "display_data"
    }
   ],
   "source": [
    "plt.plot(rr100.coef_,alpha=0.5,linestyle='none',marker='d',markersize=6,color='blue',label=r'Ridge; $\\alpha = 100$') # alpha here is for transparency"
   ]
  },
  {
   "cell_type": "code",
   "execution_count": 36,
   "metadata": {},
   "outputs": [
    {
     "data": {
      "text/plain": [
       "[<matplotlib.lines.Line2D at 0x23e839d9ec8>]"
      ]
     },
     "execution_count": 36,
     "metadata": {},
     "output_type": "execute_result"
    },
    {
     "data": {
      "image/png": "[encoded data removed]",
      "text/plain": [
       "<Figure size 432x288 with 1 Axes>"
      ]
     },
     "metadata": {
      "needs_background": "light"
     },
     "output_type": "display_data"
    }
   ],
   "source": [
    "plt.plot(lr.coef_lasso = Lasso()\n",
    "lasso.fit(X_train,y_train)\n",
    "train_score=lasso.score(X_train,y_train)\n",
    "test_score=lasso.score(X_test,y_test)\n",
    "coeff_used = np.sum(lasso.coef_!=0)2,alpha=0.4,linestyle='none',marker='o',markersize=7,color='green',label='Linear Regression')"
   ]
  },
  {
   "cell_type": "code",
   "execution_count": 39,
   "metadata": {},
   "outputs": [
    {
     "name": "stderr",
     "output_type": "stream",
     "text": [
      "C:\\Users\\Arun\\Anaconda3\\lib\\site-packages\\sklearn\\linear_model\\coordinate_descent.py:475: ConvergenceWarning: Objective did not converge. You might want to increase the number of iterations. Duality gap: 165348357.3864877, tolerance: 783415.423697143\n",
      "  positive)\n"
     ]
    }
   ],
   "source": [
    "from sklearn.linear_model import Lasso\n",
    "lasso = Lasso()\n",
    "lasso.fit(X_train,y_train)\n",
    "train_score=lasso.score(X_train,y_train)\n",
    "test_score=lasso.score(X_test,y_test)\n",
    "coeff_used = np.sum(lasso.coef_!=0)"
   ]
  },
  {
   "cell_type": "code",
   "execution_count": 40,
   "metadata": {},
   "outputs": [
    {
     "name": "stdout",
     "output_type": "stream",
     "text": [
      "training score: 0.9560953271527912\n",
      "test score:  0.8067347000848705\n",
      "number of features used:  46\n"
     ]
    }
   ],
   "source": [
    "print(\"training score:\", train_score )\n",
    "print(\"test score: \", test_score)\n",
    "print(\"number of features used: \", coeff_used)"
   ]
  },
  {
   "cell_type": "code",
   "execution_count": 41,
   "metadata": {},
   "outputs": [],
   "source": [
    "lr = LinearRegression()\n",
    "lr.fit(X_train,y_train)\n",
    "lr_train_score=lr.score(X_train,y_train)\n",
    "lr_test_score=lr.score(X_test,y_test)"
   ]
  },
  {
   "cell_type": "code",
   "execution_count": 42,
   "metadata": {},
   "outputs": [
    {
     "name": "stdout",
     "output_type": "stream",
     "text": [
      "LR training score: 0.9562023821562744\n",
      "LR test score:  0.8057447121782366\n"
     ]
    }
   ],
   "source": [
    "print(\"LR training score:\", lr_train_score )\n",
    "print(\"LR test score: \", lr_test_score)"
   ]
  },
  {
   "cell_type": "code",
   "execution_count": 43,
   "metadata": {},
   "outputs": [],
   "source": [
    "# Let's perform a cross-validation to find the best combination of alpha and l1_ratio\n",
    "from sklearn.linear_model import ElasticNetCV, ElasticNet\n",
    "from sklearn.metrics import r2_score\n",
    "\n",
    "cv_model = ElasticNetCV(l1_ratio=[.1, .5, .7, .9, .95, .99, .995, 1], eps=0.001, n_alphas=100, fit_intercept=True, \n",
    "                        normalize=True, precompute='auto', max_iter=2000, tol=0.0001, cv=5, \n",
    "                        copy_X=True, verbose=0, n_jobs=-1, positive=False, random_state=None, selection='cyclic')"
   ]
  },
  {
   "cell_type": "code",
   "execution_count": 44,
   "metadata": {},
   "outputs": [
    {
     "data": {
      "text/plain": [
       "ElasticNetCV(alphas=None, copy_X=True, cv=5, eps=0.001, fit_intercept=True,\n",
       "             l1_ratio=[0.1, 0.5, 0.7, 0.9, 0.95, 0.99, 0.995, 1], max_iter=2000,\n",
       "             n_alphas=100, n_jobs=-1, normalize=True, positive=False,\n",
       "             precompute='auto', random_state=None, selection='cyclic',\n",
       "             tol=0.0001, verbose=0)"
      ]
     },
     "execution_count": 44,
     "metadata": {},
     "output_type": "execute_result"
    }
   ],
   "source": [
    "cv_model.fit(X_train, y_train)"
   ]
  },
  {
   "cell_type": "code",
   "execution_count": 45,
   "metadata": {},
   "outputs": [
    {
     "name": "stdout",
     "output_type": "stream",
     "text": [
      "Optimal alpha: 1.03125618\n",
      "Optimal l1_ratio: 1.000\n",
      "Number of iterations 266\n"
     ]
    }
   ],
   "source": [
    "print('Optimal alpha: %.8f'%cv_model.alpha_)\n",
    "print('Optimal l1_ratio: %.3f'%cv_model.l1_ratio_)\n",
    "print('Number of iterations %d'%cv_model.n_iter_)"
   ]
  },
  {
   "cell_type": "code",
   "execution_count": 46,
   "metadata": {},
   "outputs": [
    {
     "data": {
      "text/plain": [
       "ElasticNet(alpha=1.0312561797850999, copy_X=True, fit_intercept=True,\n",
       "           l1_ratio=1.0, max_iter=266, normalize=True, positive=False,\n",
       "           precompute=False, random_state=None, selection='cyclic', tol=0.0001,\n",
       "           warm_start=False)"
      ]
     },
     "execution_count": 46,
     "metadata": {},
     "output_type": "execute_result"
    }
   ],
   "source": [
    "model = ElasticNet(l1_ratio=cv_model.l1_ratio_, alpha = cv_model.alpha_, max_iter=cv_model.n_iter_, fit_intercept=True, normalize = True)\n",
    "model.fit(X_train, y_train)"
   ]
  },
  {
   "cell_type": "code",
   "execution_count": 47,
   "metadata": {},
   "outputs": [
    {
     "name": "stdout",
     "output_type": "stream",
     "text": [
      "0.9541315255611232\n"
     ]
    }
   ],
   "source": [
    "print(r2_score(y_train, model.predict(X_train)))"
   ]
  },
  {
   "cell_type": "code",
   "execution_count": 48,
   "metadata": {},
   "outputs": [
    {
     "name": "stdout",
     "output_type": "stream",
     "text": [
      "0.8204660636914128\n"
     ]
    }
   ],
   "source": [
    "print(r2_score(y_test, model.predict(X_test)))"
   ]
  },
  {
   "cell_type": "code",
   "execution_count": null,
   "metadata": {},
   "outputs": [],
   "source": []
  }
 ],
 "metadata": {
  "kernelspec": {
   "display_name": "Python 3",
   "language": "python",
   "name": "python3"
  },
  "language_info": {
   "codemirror_mode": {
    "name": "ipython",
    "version": 3
   },
   "file_extension": ".py",
   "mimetype": "text/x-python",
   "name": "python",
   "nbconvert_exporter": "python",
   "pygments_lexer": "ipython3",
   "version": "3.7.1"
  }
 },
 "nbformat": 4,
 "nbformat_minor": 2
}
