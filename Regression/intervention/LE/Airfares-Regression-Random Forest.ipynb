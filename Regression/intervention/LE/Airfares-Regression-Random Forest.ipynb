{
 "cells": [
  {
   "cell_type": "code",
   "execution_count": 1,
   "metadata": {},
   "outputs": [],
   "source": [
    "import matplotlib.pyplot as plt\n",
    "import seaborn as sns\n",
    "import numpy as np\n",
    "import pandas as pd\n",
    "from sklearn import linear_model\n",
    "from sklearn.linear_model import LinearRegression\n",
    "import pandas_profiling"
   ]
  },
  {
   "cell_type": "code",
   "execution_count": 2,
   "metadata": {},
   "outputs": [
    {
     "name": "stderr",
     "output_type": "stream",
     "text": [
      "C:\\Users\\GURURAJAN\\Anaconda3\\lib\\site-packages\\ipykernel_launcher.py:1: FutureWarning: read_table is deprecated, use read_csv instead, passing sep='\\t'.\n",
      "  \"\"\"Entry point for launching an IPython kernel.\n",
      "C:\\Users\\GURURAJAN\\Anaconda3\\lib\\site-packages\\pandas\\io\\parsers.py:702: UserWarning: Duplicate names specified. This will raise an error in the future.\n",
      "  return _read(filepath_or_buffer, kwds)\n"
     ]
    }
   ],
   "source": [
    "\n",
    "\n",
    "df = pd.read_table('Airfares.txt', delim_whitespace=True,header=None,names=('City1','City2','Average Fare','Distance','Average weekly passengers','market leading airline','market share','Average fare','Low price airline','market share','price'))"
   ]
  },
  {
   "cell_type": "code",
   "execution_count": 3,
   "metadata": {},
   "outputs": [
    {
     "data": {
      "text/html": [
       "<div>\n",
       "<style scoped>\n",
       "    .dataframe tbody tr th:only-of-type {\n",
       "        vertical-align: middle;\n",
       "    }\n",
       "\n",
       "    .dataframe tbody tr th {\n",
       "        vertical-align: top;\n",
       "    }\n",
       "\n",
       "    .dataframe thead th {\n",
       "        text-align: right;\n",
       "    }\n",
       "</style>\n",
       "<table border=\"1\" class=\"dataframe\">\n",
       "  <thead>\n",
       "    <tr style=\"text-align: right;\">\n",
       "      <th></th>\n",
       "      <th>City1</th>\n",
       "      <th>City2</th>\n",
       "      <th>Average Fare</th>\n",
       "      <th>Distance</th>\n",
       "      <th>Average weekly passengers</th>\n",
       "      <th>market leading airline</th>\n",
       "      <th>market share</th>\n",
       "      <th>Average fare</th>\n",
       "      <th>Low price airline</th>\n",
       "      <th>market share.1</th>\n",
       "      <th>price</th>\n",
       "    </tr>\n",
       "  </thead>\n",
       "  <tbody>\n",
       "    <tr>\n",
       "      <th>0</th>\n",
       "      <td>CAK</td>\n",
       "      <td>ATL</td>\n",
       "      <td>114.47</td>\n",
       "      <td>528</td>\n",
       "      <td>424.56</td>\n",
       "      <td>FL</td>\n",
       "      <td>70.19</td>\n",
       "      <td>111.03</td>\n",
       "      <td>FL</td>\n",
       "      <td>70.19</td>\n",
       "      <td>111.03</td>\n",
       "    </tr>\n",
       "    <tr>\n",
       "      <th>1</th>\n",
       "      <td>CAK</td>\n",
       "      <td>MCO</td>\n",
       "      <td>122.47</td>\n",
       "      <td>860</td>\n",
       "      <td>276.84</td>\n",
       "      <td>FL</td>\n",
       "      <td>75.10</td>\n",
       "      <td>123.09</td>\n",
       "      <td>DL</td>\n",
       "      <td>17.23</td>\n",
       "      <td>118.94</td>\n",
       "    </tr>\n",
       "    <tr>\n",
       "      <th>2</th>\n",
       "      <td>ALB</td>\n",
       "      <td>ATL</td>\n",
       "      <td>214.42</td>\n",
       "      <td>852</td>\n",
       "      <td>215.76</td>\n",
       "      <td>DL</td>\n",
       "      <td>78.89</td>\n",
       "      <td>223.98</td>\n",
       "      <td>CO</td>\n",
       "      <td>2.77</td>\n",
       "      <td>167.12</td>\n",
       "    </tr>\n",
       "    <tr>\n",
       "      <th>3</th>\n",
       "      <td>ALB</td>\n",
       "      <td>BWI</td>\n",
       "      <td>69.40</td>\n",
       "      <td>288</td>\n",
       "      <td>606.84</td>\n",
       "      <td>WN</td>\n",
       "      <td>96.97</td>\n",
       "      <td>68.86</td>\n",
       "      <td>WN</td>\n",
       "      <td>96.97</td>\n",
       "      <td>68.86</td>\n",
       "    </tr>\n",
       "    <tr>\n",
       "      <th>4</th>\n",
       "      <td>ALB</td>\n",
       "      <td>ORD</td>\n",
       "      <td>158.13</td>\n",
       "      <td>723</td>\n",
       "      <td>313.04</td>\n",
       "      <td>UA</td>\n",
       "      <td>39.79</td>\n",
       "      <td>161.36</td>\n",
       "      <td>WN</td>\n",
       "      <td>15.34</td>\n",
       "      <td>145.42</td>\n",
       "    </tr>\n",
       "  </tbody>\n",
       "</table>\n",
       "</div>"
      ],
      "text/plain": [
       "  City1 City2  Average Fare  Distance  Average weekly passengers  \\\n",
       "0   CAK   ATL        114.47       528                     424.56   \n",
       "1   CAK   MCO        122.47       860                     276.84   \n",
       "2   ALB   ATL        214.42       852                     215.76   \n",
       "3   ALB   BWI         69.40       288                     606.84   \n",
       "4   ALB   ORD        158.13       723                     313.04   \n",
       "\n",
       "  market leading airline  market share  Average fare Low price airline  \\\n",
       "0                     FL         70.19        111.03                FL   \n",
       "1                     FL         75.10        123.09                DL   \n",
       "2                     DL         78.89        223.98                CO   \n",
       "3                     WN         96.97         68.86                WN   \n",
       "4                     UA         39.79        161.36                WN   \n",
       "\n",
       "   market share.1   price  \n",
       "0           70.19  111.03  \n",
       "1           17.23  118.94  \n",
       "2            2.77  167.12  \n",
       "3           96.97   68.86  \n",
       "4           15.34  145.42  "
      ]
     },
     "execution_count": 3,
     "metadata": {},
     "output_type": "execute_result"
    }
   ],
   "source": [
    "df.head()"
   ]
  },
  {
   "cell_type": "code",
   "execution_count": 4,
   "metadata": {},
   "outputs": [
    {
     "name": "stdout",
     "output_type": "stream",
     "text": [
      "<class 'pandas.core.frame.DataFrame'>\n",
      "RangeIndex: 1000 entries, 0 to 999\n",
      "Data columns (total 11 columns):\n",
      "City1                        1000 non-null object\n",
      "City2                        1000 non-null object\n",
      "Average Fare                 1000 non-null float64\n",
      "Distance                     1000 non-null int64\n",
      "Average weekly passengers    1000 non-null float64\n",
      "market leading airline       1000 non-null object\n",
      "market share                 1000 non-null float64\n",
      "Average fare                 1000 non-null float64\n",
      "Low price airline            1000 non-null object\n",
      "market share.1               1000 non-null float64\n",
      "price                        1000 non-null float64\n",
      "dtypes: float64(6), int64(1), object(4)\n",
      "memory usage: 86.0+ KB\n"
     ]
    }
   ],
   "source": [
    "df.info()"
   ]
  },
  {
   "cell_type": "code",
   "execution_count": 5,
   "metadata": {},
   "outputs": [
    {
     "data": {
      "text/plain": [
       "(1000, 11)"
      ]
     },
     "execution_count": 5,
     "metadata": {},
     "output_type": "execute_result"
    }
   ],
   "source": [
    "df.shape"
   ]
  },
  {
   "cell_type": "markdown",
   "metadata": {},
   "source": [
    "We totally have 1000 rows and 11 columns"
   ]
  },
  {
   "cell_type": "markdown",
   "metadata": {},
   "source": [
    "# Descriptive Statistics"
   ]
  },
  {
   "cell_type": "code",
   "execution_count": 6,
   "metadata": {},
   "outputs": [
    {
     "data": {
      "text/html": [
       "<div>\n",
       "<style scoped>\n",
       "    .dataframe tbody tr th:only-of-type {\n",
       "        vertical-align: middle;\n",
       "    }\n",
       "\n",
       "    .dataframe tbody tr th {\n",
       "        vertical-align: top;\n",
       "    }\n",
       "\n",
       "    .dataframe thead th {\n",
       "        text-align: right;\n",
       "    }\n",
       "</style>\n",
       "<table border=\"1\" class=\"dataframe\">\n",
       "  <thead>\n",
       "    <tr style=\"text-align: right;\">\n",
       "      <th></th>\n",
       "      <th>count</th>\n",
       "      <th>mean</th>\n",
       "      <th>std</th>\n",
       "      <th>min</th>\n",
       "      <th>25%</th>\n",
       "      <th>50%</th>\n",
       "      <th>75%</th>\n",
       "      <th>max</th>\n",
       "    </tr>\n",
       "  </thead>\n",
       "  <tbody>\n",
       "    <tr>\n",
       "      <th>Average Fare</th>\n",
       "      <td>1000.0</td>\n",
       "      <td>163.37542</td>\n",
       "      <td>55.365470</td>\n",
       "      <td>50.52</td>\n",
       "      <td>125.9750</td>\n",
       "      <td>161.345</td>\n",
       "      <td>197.3925</td>\n",
       "      <td>401.23</td>\n",
       "    </tr>\n",
       "    <tr>\n",
       "      <th>Distance</th>\n",
       "      <td>1000.0</td>\n",
       "      <td>1056.97300</td>\n",
       "      <td>643.203251</td>\n",
       "      <td>108.00</td>\n",
       "      <td>553.5000</td>\n",
       "      <td>919.000</td>\n",
       "      <td>1452.5000</td>\n",
       "      <td>2724.00</td>\n",
       "    </tr>\n",
       "    <tr>\n",
       "      <th>Average weekly passengers</th>\n",
       "      <td>1000.0</td>\n",
       "      <td>672.27914</td>\n",
       "      <td>766.519254</td>\n",
       "      <td>181.41</td>\n",
       "      <td>257.1975</td>\n",
       "      <td>404.780</td>\n",
       "      <td>769.9125</td>\n",
       "      <td>8950.76</td>\n",
       "    </tr>\n",
       "    <tr>\n",
       "      <th>market share</th>\n",
       "      <td>1000.0</td>\n",
       "      <td>60.12859</td>\n",
       "      <td>19.367779</td>\n",
       "      <td>17.68</td>\n",
       "      <td>46.5100</td>\n",
       "      <td>59.240</td>\n",
       "      <td>73.5100</td>\n",
       "      <td>100.00</td>\n",
       "    </tr>\n",
       "    <tr>\n",
       "      <th>Average fare</th>\n",
       "      <td>1000.0</td>\n",
       "      <td>166.64756</td>\n",
       "      <td>62.660140</td>\n",
       "      <td>50.52</td>\n",
       "      <td>124.0850</td>\n",
       "      <td>161.400</td>\n",
       "      <td>202.9775</td>\n",
       "      <td>490.03</td>\n",
       "    </tr>\n",
       "    <tr>\n",
       "      <th>market share.1</th>\n",
       "      <td>1000.0</td>\n",
       "      <td>34.55148</td>\n",
       "      <td>27.096999</td>\n",
       "      <td>1.06</td>\n",
       "      <td>13.1950</td>\n",
       "      <td>26.140</td>\n",
       "      <td>52.9725</td>\n",
       "      <td>100.00</td>\n",
       "    </tr>\n",
       "    <tr>\n",
       "      <th>price</th>\n",
       "      <td>1000.0</td>\n",
       "      <td>143.19309</td>\n",
       "      <td>47.229184</td>\n",
       "      <td>49.61</td>\n",
       "      <td>113.7675</td>\n",
       "      <td>137.825</td>\n",
       "      <td>168.5300</td>\n",
       "      <td>387.94</td>\n",
       "    </tr>\n",
       "  </tbody>\n",
       "</table>\n",
       "</div>"
      ],
      "text/plain": [
       "                            count        mean         std     min       25%  \\\n",
       "Average Fare               1000.0   163.37542   55.365470   50.52  125.9750   \n",
       "Distance                   1000.0  1056.97300  643.203251  108.00  553.5000   \n",
       "Average weekly passengers  1000.0   672.27914  766.519254  181.41  257.1975   \n",
       "market share               1000.0    60.12859   19.367779   17.68   46.5100   \n",
       "Average fare               1000.0   166.64756   62.660140   50.52  124.0850   \n",
       "market share.1             1000.0    34.55148   27.096999    1.06   13.1950   \n",
       "price                      1000.0   143.19309   47.229184   49.61  113.7675   \n",
       "\n",
       "                               50%        75%      max  \n",
       "Average Fare               161.345   197.3925   401.23  \n",
       "Distance                   919.000  1452.5000  2724.00  \n",
       "Average weekly passengers  404.780   769.9125  8950.76  \n",
       "market share                59.240    73.5100   100.00  \n",
       "Average fare               161.400   202.9775   490.03  \n",
       "market share.1              26.140    52.9725   100.00  \n",
       "price                      137.825   168.5300   387.94  "
      ]
     },
     "execution_count": 6,
     "metadata": {},
     "output_type": "execute_result"
    }
   ],
   "source": [
    "df.describe().T"
   ]
  },
  {
   "cell_type": "markdown",
   "metadata": {},
   "source": [
    "# Checking for Null Values"
   ]
  },
  {
   "cell_type": "code",
   "execution_count": 7,
   "metadata": {},
   "outputs": [
    {
     "data": {
      "text/plain": [
       "City1                        0\n",
       "City2                        0\n",
       "Average Fare                 0\n",
       "Distance                     0\n",
       "Average weekly passengers    0\n",
       "market leading airline       0\n",
       "market share                 0\n",
       "Average fare                 0\n",
       "Low price airline            0\n",
       "market share.1               0\n",
       "price                        0\n",
       "dtype: int64"
      ]
     },
     "execution_count": 7,
     "metadata": {},
     "output_type": "execute_result"
    }
   ],
   "source": [
    "df.isnull().sum()\n"
   ]
  },
  {
   "cell_type": "code",
   "execution_count": 8,
   "metadata": {},
   "outputs": [],
   "source": [
    "numeric = df.select_dtypes(include=['float64', 'int64'])"
   ]
  },
  {
   "cell_type": "code",
   "execution_count": 9,
   "metadata": {},
   "outputs": [],
   "source": [
    "categorical = df.select_dtypes(include=['object'])"
   ]
  },
  {
   "cell_type": "code",
   "execution_count": 10,
   "metadata": {},
   "outputs": [
    {
     "data": {
      "text/html": [
       "<div>\n",
       "<style scoped>\n",
       "    .dataframe tbody tr th:only-of-type {\n",
       "        vertical-align: middle;\n",
       "    }\n",
       "\n",
       "    .dataframe tbody tr th {\n",
       "        vertical-align: top;\n",
       "    }\n",
       "\n",
       "    .dataframe thead th {\n",
       "        text-align: right;\n",
       "    }\n",
       "</style>\n",
       "<table border=\"1\" class=\"dataframe\">\n",
       "  <thead>\n",
       "    <tr style=\"text-align: right;\">\n",
       "      <th></th>\n",
       "      <th>City1</th>\n",
       "      <th>City2</th>\n",
       "      <th>market leading airline</th>\n",
       "      <th>Low price airline</th>\n",
       "    </tr>\n",
       "  </thead>\n",
       "  <tbody>\n",
       "    <tr>\n",
       "      <th>0</th>\n",
       "      <td>16</td>\n",
       "      <td>0</td>\n",
       "      <td>6</td>\n",
       "      <td>8</td>\n",
       "    </tr>\n",
       "    <tr>\n",
       "      <th>1</th>\n",
       "      <td>16</td>\n",
       "      <td>40</td>\n",
       "      <td>6</td>\n",
       "      <td>6</td>\n",
       "    </tr>\n",
       "    <tr>\n",
       "      <th>2</th>\n",
       "      <td>2</td>\n",
       "      <td>0</td>\n",
       "      <td>4</td>\n",
       "      <td>5</td>\n",
       "    </tr>\n",
       "    <tr>\n",
       "      <th>3</th>\n",
       "      <td>2</td>\n",
       "      <td>7</td>\n",
       "      <td>14</td>\n",
       "      <td>17</td>\n",
       "    </tr>\n",
       "    <tr>\n",
       "      <th>4</th>\n",
       "      <td>2</td>\n",
       "      <td>52</td>\n",
       "      <td>12</td>\n",
       "      <td>17</td>\n",
       "    </tr>\n",
       "  </tbody>\n",
       "</table>\n",
       "</div>"
      ],
      "text/plain": [
       "   City1  City2  market leading airline  Low price airline\n",
       "0     16      0                       6                  8\n",
       "1     16     40                       6                  6\n",
       "2      2      0                       4                  5\n",
       "3      2      7                      14                 17\n",
       "4      2     52                      12                 17"
      ]
     },
     "execution_count": 10,
     "metadata": {},
     "output_type": "execute_result"
    }
   ],
   "source": [
    "df_categorical=df[['City1','City2','market leading airline','Low price airline']]\n",
    "from sklearn import preprocessing\n",
    "le = preprocessing.LabelEncoder()\n",
    "df_categorical = df_categorical.apply(le.fit_transform)\n",
    "df_categorical.head()"
   ]
  },
  {
   "cell_type": "code",
   "execution_count": 11,
   "metadata": {},
   "outputs": [
    {
     "data": {
      "text/html": [
       "<div>\n",
       "<style scoped>\n",
       "    .dataframe tbody tr th:only-of-type {\n",
       "        vertical-align: middle;\n",
       "    }\n",
       "\n",
       "    .dataframe tbody tr th {\n",
       "        vertical-align: top;\n",
       "    }\n",
       "\n",
       "    .dataframe thead th {\n",
       "        text-align: right;\n",
       "    }\n",
       "</style>\n",
       "<table border=\"1\" class=\"dataframe\">\n",
       "  <thead>\n",
       "    <tr style=\"text-align: right;\">\n",
       "      <th></th>\n",
       "      <th>Average Fare</th>\n",
       "      <th>Distance</th>\n",
       "      <th>Average weekly passengers</th>\n",
       "      <th>market share</th>\n",
       "      <th>Average fare</th>\n",
       "      <th>market share.1</th>\n",
       "      <th>price</th>\n",
       "      <th>City1</th>\n",
       "      <th>City2</th>\n",
       "      <th>market leading airline</th>\n",
       "      <th>Low price airline</th>\n",
       "    </tr>\n",
       "  </thead>\n",
       "  <tbody>\n",
       "    <tr>\n",
       "      <th>0</th>\n",
       "      <td>114.47</td>\n",
       "      <td>528</td>\n",
       "      <td>424.56</td>\n",
       "      <td>70.19</td>\n",
       "      <td>111.03</td>\n",
       "      <td>70.19</td>\n",
       "      <td>111.03</td>\n",
       "      <td>16</td>\n",
       "      <td>0</td>\n",
       "      <td>6</td>\n",
       "      <td>8</td>\n",
       "    </tr>\n",
       "    <tr>\n",
       "      <th>1</th>\n",
       "      <td>122.47</td>\n",
       "      <td>860</td>\n",
       "      <td>276.84</td>\n",
       "      <td>75.10</td>\n",
       "      <td>123.09</td>\n",
       "      <td>17.23</td>\n",
       "      <td>118.94</td>\n",
       "      <td>16</td>\n",
       "      <td>40</td>\n",
       "      <td>6</td>\n",
       "      <td>6</td>\n",
       "    </tr>\n",
       "    <tr>\n",
       "      <th>2</th>\n",
       "      <td>214.42</td>\n",
       "      <td>852</td>\n",
       "      <td>215.76</td>\n",
       "      <td>78.89</td>\n",
       "      <td>223.98</td>\n",
       "      <td>2.77</td>\n",
       "      <td>167.12</td>\n",
       "      <td>2</td>\n",
       "      <td>0</td>\n",
       "      <td>4</td>\n",
       "      <td>5</td>\n",
       "    </tr>\n",
       "    <tr>\n",
       "      <th>3</th>\n",
       "      <td>69.40</td>\n",
       "      <td>288</td>\n",
       "      <td>606.84</td>\n",
       "      <td>96.97</td>\n",
       "      <td>68.86</td>\n",
       "      <td>96.97</td>\n",
       "      <td>68.86</td>\n",
       "      <td>2</td>\n",
       "      <td>7</td>\n",
       "      <td>14</td>\n",
       "      <td>17</td>\n",
       "    </tr>\n",
       "    <tr>\n",
       "      <th>4</th>\n",
       "      <td>158.13</td>\n",
       "      <td>723</td>\n",
       "      <td>313.04</td>\n",
       "      <td>39.79</td>\n",
       "      <td>161.36</td>\n",
       "      <td>15.34</td>\n",
       "      <td>145.42</td>\n",
       "      <td>2</td>\n",
       "      <td>52</td>\n",
       "      <td>12</td>\n",
       "      <td>17</td>\n",
       "    </tr>\n",
       "  </tbody>\n",
       "</table>\n",
       "</div>"
      ],
      "text/plain": [
       "   Average Fare  Distance  Average weekly passengers  market share  \\\n",
       "0        114.47       528                     424.56         70.19   \n",
       "1        122.47       860                     276.84         75.10   \n",
       "2        214.42       852                     215.76         78.89   \n",
       "3         69.40       288                     606.84         96.97   \n",
       "4        158.13       723                     313.04         39.79   \n",
       "\n",
       "   Average fare  market share.1   price  City1  City2  market leading airline  \\\n",
       "0        111.03           70.19  111.03     16      0                       6   \n",
       "1        123.09           17.23  118.94     16     40                       6   \n",
       "2        223.98            2.77  167.12      2      0                       4   \n",
       "3         68.86           96.97   68.86      2      7                      14   \n",
       "4        161.36           15.34  145.42      2     52                      12   \n",
       "\n",
       "   Low price airline  \n",
       "0                  8  \n",
       "1                  6  \n",
       "2                  5  \n",
       "3                 17  \n",
       "4                 17  "
      ]
     },
     "execution_count": 11,
     "metadata": {},
     "output_type": "execute_result"
    }
   ],
   "source": [
    "# concat df_categorical with original df\n",
    "df = df.drop(df_categorical.columns, axis=1)\n",
    "df = pd.concat([df, df_categorical], axis=1)\n",
    "df.head()"
   ]
  },
  {
   "cell_type": "code",
   "execution_count": 12,
   "metadata": {},
   "outputs": [],
   "source": [
    "X =df.drop('Average Fare',axis=1)\n",
    "y=df['Average Fare']"
   ]
  },
  {
   "cell_type": "code",
   "execution_count": 15,
   "metadata": {},
   "outputs": [],
   "source": [
    "#Creating train test split\n",
    "from sklearn.model_selection import train_test_split\n",
    "X_train, X_test, y_train, y_test = train_test_split(X, y, \n",
    "                                                    train_size=0.7,\n",
    "                                                    test_size = 0.3, random_state=100)"
   ]
  },
  {
   "cell_type": "code",
   "execution_count": 16,
   "metadata": {},
   "outputs": [],
   "source": [
    "from sklearn.ensemble import RandomForestRegressor\n"
   ]
  },
  {
   "cell_type": "code",
   "execution_count": 20,
   "metadata": {},
   "outputs": [],
   "source": [
    "rf = RandomForestRegressor()"
   ]
  },
  {
   "cell_type": "markdown",
   "metadata": {},
   "source": [
    "# Hyper Parameter Tunning"
   ]
  },
  {
   "cell_type": "code",
   "execution_count": 19,
   "metadata": {},
   "outputs": [],
   "source": [
    "from sklearn.model_selection import KFold\n",
    "from sklearn.model_selection import GridSearchCV"
   ]
  },
  {
   "cell_type": "code",
   "execution_count": 21,
   "metadata": {},
   "outputs": [
    {
     "name": "stdout",
     "output_type": "stream",
     "text": [
      "Fitting 5 folds for each of 900 candidates, totalling 4500 fits\n"
     ]
    },
    {
     "name": "stderr",
     "output_type": "stream",
     "text": [
      "[Parallel(n_jobs=-1)]: Using backend LokyBackend with 8 concurrent workers.\n",
      "[Parallel(n_jobs=-1)]: Done  34 tasks      | elapsed:    3.6s\n",
      "[Parallel(n_jobs=-1)]: Done 184 tasks      | elapsed:    7.7s\n",
      "[Parallel(n_jobs=-1)]: Done 434 tasks      | elapsed:   14.6s\n",
      "[Parallel(n_jobs=-1)]: Done 784 tasks      | elapsed:   27.4s\n",
      "[Parallel(n_jobs=-1)]: Done 1234 tasks      | elapsed:   46.8s\n",
      "[Parallel(n_jobs=-1)]: Done 1784 tasks      | elapsed:  1.3min\n",
      "[Parallel(n_jobs=-1)]: Done 2434 tasks      | elapsed:  1.9min\n",
      "[Parallel(n_jobs=-1)]: Done 3184 tasks      | elapsed:  2.8min\n",
      "[Parallel(n_jobs=-1)]: Done 4034 tasks      | elapsed:  3.8min\n",
      "[Parallel(n_jobs=-1)]: Done 4500 out of 4500 | elapsed:  4.4min finished\n"
     ]
    },
    {
     "data": {
      "text/plain": [
       "GridSearchCV(cv=5, error_score='raise-deprecating',\n",
       "             estimator=RandomForestRegressor(bootstrap=True, criterion='mse',\n",
       "                                             max_depth=None,\n",
       "                                             max_features='auto',\n",
       "                                             max_leaf_nodes=None,\n",
       "                                             min_impurity_decrease=0.0,\n",
       "                                             min_impurity_split=None,\n",
       "                                             min_samples_leaf=1,\n",
       "                                             min_samples_split=2,\n",
       "                                             min_weight_fraction_leaf=0.0,\n",
       "                                             n_estimators='warn', n_jobs=None,\n",
       "                                             oob_score=False, random_state=None,\n",
       "                                             verbose=0, warm_start=False),\n",
       "             iid='warn', n_jobs=-1,\n",
       "             param_grid={'max_depth': [1, 2, 3, 4, 5, 6, 7, 8, 9, 10],\n",
       "                         'min_samples_leaf': [1, 2, 3, 4, 5, 6, 7, 8, 9, 10],\n",
       "                         'min_samples_split': [2, 5, 10],\n",
       "                         'n_estimators': [100, 150, 200]},\n",
       "             pre_dispatch='2*n_jobs', refit=True, return_train_score=False,\n",
       "             scoring=None, verbose=1)"
      ]
     },
     "execution_count": 21,
     "metadata": {},
     "output_type": "execute_result"
    }
   ],
   "source": [
    "# Create the parameter grid \n",
    "params = {\n",
    "             'max_depth': [1,2,3,4,5,6,7,8,9,10],\n",
    "             'n_estimators': [100,150,200],\n",
    "              'min_samples_leaf':[1,2,3,4,5,6,7,8,9,10],\n",
    "    'min_samples_split': [2, 5, 10]\n",
    "          }\n",
    "\n",
    "n_folds = 5\n",
    "\n",
    "# Instantiate the grid search model\n",
    "grid_search = GridSearchCV(estimator = rf, param_grid = params, \n",
    "                          cv = n_folds, verbose = 1,n_jobs=-1)\n",
    "\n",
    "# Fit the grid search to the data\n",
    "grid_search.fit(X,y)"
   ]
  },
  {
   "cell_type": "code",
   "execution_count": 22,
   "metadata": {},
   "outputs": [
    {
     "data": {
      "text/html": [
       "<div>\n",
       "<style scoped>\n",
       "    .dataframe tbody tr th:only-of-type {\n",
       "        vertical-align: middle;\n",
       "    }\n",
       "\n",
       "    .dataframe tbody tr th {\n",
       "        vertical-align: top;\n",
       "    }\n",
       "\n",
       "    .dataframe thead th {\n",
       "        text-align: right;\n",
       "    }\n",
       "</style>\n",
       "<table border=\"1\" class=\"dataframe\">\n",
       "  <thead>\n",
       "    <tr style=\"text-align: right;\">\n",
       "      <th></th>\n",
       "      <th>mean_fit_time</th>\n",
       "      <th>std_fit_time</th>\n",
       "      <th>mean_score_time</th>\n",
       "      <th>std_score_time</th>\n",
       "      <th>param_max_depth</th>\n",
       "      <th>param_min_samples_leaf</th>\n",
       "      <th>param_min_samples_split</th>\n",
       "      <th>param_n_estimators</th>\n",
       "      <th>params</th>\n",
       "      <th>split0_test_score</th>\n",
       "      <th>split1_test_score</th>\n",
       "      <th>split2_test_score</th>\n",
       "      <th>split3_test_score</th>\n",
       "      <th>split4_test_score</th>\n",
       "      <th>mean_test_score</th>\n",
       "      <th>std_test_score</th>\n",
       "      <th>rank_test_score</th>\n",
       "    </tr>\n",
       "  </thead>\n",
       "  <tbody>\n",
       "    <tr>\n",
       "      <th>729</th>\n",
       "      <td>0.435435</td>\n",
       "      <td>0.003657</td>\n",
       "      <td>0.010771</td>\n",
       "      <td>0.000399</td>\n",
       "      <td>9</td>\n",
       "      <td>2</td>\n",
       "      <td>2</td>\n",
       "      <td>100</td>\n",
       "      <td>{'max_depth': 9, 'min_samples_leaf': 2, 'min_s...</td>\n",
       "      <td>0.989163</td>\n",
       "      <td>0.979267</td>\n",
       "      <td>0.968744</td>\n",
       "      <td>0.984856</td>\n",
       "      <td>0.97646</td>\n",
       "      <td>0.979698</td>\n",
       "      <td>0.007026</td>\n",
       "      <td>1</td>\n",
       "    </tr>\n",
       "    <tr>\n",
       "      <th>644</th>\n",
       "      <td>0.823597</td>\n",
       "      <td>0.013520</td>\n",
       "      <td>0.019348</td>\n",
       "      <td>0.001739</td>\n",
       "      <td>8</td>\n",
       "      <td>2</td>\n",
       "      <td>5</td>\n",
       "      <td>200</td>\n",
       "      <td>{'max_depth': 8, 'min_samples_leaf': 2, 'min_s...</td>\n",
       "      <td>0.988995</td>\n",
       "      <td>0.978580</td>\n",
       "      <td>0.968742</td>\n",
       "      <td>0.984289</td>\n",
       "      <td>0.97750</td>\n",
       "      <td>0.979621</td>\n",
       "      <td>0.006835</td>\n",
       "      <td>2</td>\n",
       "    </tr>\n",
       "    <tr>\n",
       "      <th>819</th>\n",
       "      <td>0.454384</td>\n",
       "      <td>0.011027</td>\n",
       "      <td>0.011370</td>\n",
       "      <td>0.000489</td>\n",
       "      <td>10</td>\n",
       "      <td>2</td>\n",
       "      <td>2</td>\n",
       "      <td>100</td>\n",
       "      <td>{'max_depth': 10, 'min_samples_leaf': 2, 'min_...</td>\n",
       "      <td>0.989449</td>\n",
       "      <td>0.978838</td>\n",
       "      <td>0.968772</td>\n",
       "      <td>0.983514</td>\n",
       "      <td>0.97742</td>\n",
       "      <td>0.979598</td>\n",
       "      <td>0.006854</td>\n",
       "      <td>3</td>\n",
       "    </tr>\n",
       "    <tr>\n",
       "      <th>730</th>\n",
       "      <td>0.668013</td>\n",
       "      <td>0.015262</td>\n",
       "      <td>0.015758</td>\n",
       "      <td>0.001163</td>\n",
       "      <td>9</td>\n",
       "      <td>2</td>\n",
       "      <td>2</td>\n",
       "      <td>150</td>\n",
       "      <td>{'max_depth': 9, 'min_samples_leaf': 2, 'min_s...</td>\n",
       "      <td>0.988965</td>\n",
       "      <td>0.978492</td>\n",
       "      <td>0.969094</td>\n",
       "      <td>0.983875</td>\n",
       "      <td>0.97745</td>\n",
       "      <td>0.979575</td>\n",
       "      <td>0.006667</td>\n",
       "      <td>4</td>\n",
       "    </tr>\n",
       "    <tr>\n",
       "      <th>733</th>\n",
       "      <td>0.641484</td>\n",
       "      <td>0.008137</td>\n",
       "      <td>0.016556</td>\n",
       "      <td>0.002720</td>\n",
       "      <td>9</td>\n",
       "      <td>2</td>\n",
       "      <td>5</td>\n",
       "      <td>150</td>\n",
       "      <td>{'max_depth': 9, 'min_samples_leaf': 2, 'min_s...</td>\n",
       "      <td>0.989127</td>\n",
       "      <td>0.978920</td>\n",
       "      <td>0.968620</td>\n",
       "      <td>0.984148</td>\n",
       "      <td>0.97689</td>\n",
       "      <td>0.979541</td>\n",
       "      <td>0.006925</td>\n",
       "      <td>5</td>\n",
       "    </tr>\n",
       "  </tbody>\n",
       "</table>\n",
       "</div>"
      ],
      "text/plain": [
       "     mean_fit_time  std_fit_time  mean_score_time  std_score_time  \\\n",
       "729       0.435435      0.003657         0.010771        0.000399   \n",
       "644       0.823597      0.013520         0.019348        0.001739   \n",
       "819       0.454384      0.011027         0.011370        0.000489   \n",
       "730       0.668013      0.015262         0.015758        0.001163   \n",
       "733       0.641484      0.008137         0.016556        0.002720   \n",
       "\n",
       "    param_max_depth param_min_samples_leaf param_min_samples_split  \\\n",
       "729               9                      2                       2   \n",
       "644               8                      2                       5   \n",
       "819              10                      2                       2   \n",
       "730               9                      2                       2   \n",
       "733               9                      2                       5   \n",
       "\n",
       "    param_n_estimators                                             params  \\\n",
       "729                100  {'max_depth': 9, 'min_samples_leaf': 2, 'min_s...   \n",
       "644                200  {'max_depth': 8, 'min_samples_leaf': 2, 'min_s...   \n",
       "819                100  {'max_depth': 10, 'min_samples_leaf': 2, 'min_...   \n",
       "730                150  {'max_depth': 9, 'min_samples_leaf': 2, 'min_s...   \n",
       "733                150  {'max_depth': 9, 'min_samples_leaf': 2, 'min_s...   \n",
       "\n",
       "     split0_test_score  split1_test_score  split2_test_score  \\\n",
       "729           0.989163           0.979267           0.968744   \n",
       "644           0.988995           0.978580           0.968742   \n",
       "819           0.989449           0.978838           0.968772   \n",
       "730           0.988965           0.978492           0.969094   \n",
       "733           0.989127           0.978920           0.968620   \n",
       "\n",
       "     split3_test_score  split4_test_score  mean_test_score  std_test_score  \\\n",
       "729           0.984856            0.97646         0.979698        0.007026   \n",
       "644           0.984289            0.97750         0.979621        0.006835   \n",
       "819           0.983514            0.97742         0.979598        0.006854   \n",
       "730           0.983875            0.97745         0.979575        0.006667   \n",
       "733           0.984148            0.97689         0.979541        0.006925   \n",
       "\n",
       "     rank_test_score  \n",
       "729                1  \n",
       "644                2  \n",
       "819                3  \n",
       "730                4  \n",
       "733                5  "
      ]
     },
     "execution_count": 22,
     "metadata": {},
     "output_type": "execute_result"
    }
   ],
   "source": [
    "# cv results\n",
    "cv_results = pd.DataFrame(grid_search.cv_results_)\n",
    "cv_results.sort_values('mean_test_score', ascending=False)[0:5]"
   ]
  },
  {
   "cell_type": "code",
   "execution_count": 23,
   "metadata": {},
   "outputs": [
    {
     "name": "stdout",
     "output_type": "stream",
     "text": [
      "{'max_depth': 9, 'min_samples_leaf': 2, 'min_samples_split': 2, 'n_estimators': 100}\n"
     ]
    }
   ],
   "source": [
    "print(grid_search.best_params_)"
   ]
  },
  {
   "cell_type": "code",
   "execution_count": 25,
   "metadata": {},
   "outputs": [],
   "source": [
    "rf=RandomForestRegressor(max_depth= 9, min_samples_leaf=2,min_samples_split=2, n_estimators=100)"
   ]
  },
  {
   "cell_type": "code",
   "execution_count": 26,
   "metadata": {},
   "outputs": [
    {
     "name": "stdout",
     "output_type": "stream",
     "text": [
      "5.039190907432254\n",
      "8.340658911090113\n"
     ]
    }
   ],
   "source": [
    "rf.fit(X_train,y_train)\n",
    "pred_rf = rf.predict(X_test)\n",
    "from sklearn.metrics import mean_absolute_error, mean_squared_error\n",
    "print(mean_absolute_error(y_test, pred_rf))\n",
    "print(np.sqrt(mean_squared_error(y_test, pred_rf)))"
   ]
  },
  {
   "cell_type": "markdown",
   "metadata": {},
   "source": [
    "# Feature importance"
   ]
  },
  {
   "cell_type": "code",
   "execution_count": 32,
   "metadata": {},
   "outputs": [
    {
     "data": {
      "text/plain": [
       "<matplotlib.axes._subplots.AxesSubplot at 0x19795f93320>"
      ]
     },
     "execution_count": 32,
     "metadata": {},
     "output_type": "execute_result"
    },
    {
     "data": {
      "image/png": "[encoded data removed]",
      "text/plain": [
       "<Figure size 432x288 with 1 Axes>"
      ]
     },
     "metadata": {
      "needs_background": "light"
     },
     "output_type": "display_data"
    }
   ],
   "source": [
    "feat_importances = pd.Series(rf.feature_importances_, index=X.columns)\n",
    "feat_importances.nlargest(5).plot(kind='barh')"
   ]
  },
  {
   "cell_type": "code",
   "execution_count": null,
   "metadata": {},
   "outputs": [],
   "source": []
  }
 ],
 "metadata": {
  "hide_input": false,
  "kernelspec": {
   "display_name": "Python 3",
   "language": "python",
   "name": "python3"
  },
  "language_info": {
   "codemirror_mode": {
    "name": "ipython",
    "version": 3
   },
   "file_extension": ".py",
   "mimetype": "text/x-python",
   "name": "python",
   "nbconvert_exporter": "python",
   "pygments_lexer": "ipython3",
   "version": "3.7.5"
  },
  "toc": {
   "base_numbering": 1,
   "nav_menu": {},
   "number_sections": true,
   "sideBar": true,
   "skip_h1_title": false,
   "title_cell": "Table of Contents",
   "title_sidebar": "Contents",
   "toc_cell": false,
   "toc_position": {},
   "toc_section_display": true,
   "toc_window_display": false
  },
  "varInspector": {
   "cols": {
    "lenName": 16,
    "lenType": 16,
    "lenVar": 40
   },
   "kernels_config": {
    "python": {
     "delete_cmd_postfix": "",
     "delete_cmd_prefix": "del ",
     "library": "var_list.py",
     "varRefreshCmd": "print(var_dic_list())"
    },
    "r": {
     "delete_cmd_postfix": ") ",
     "delete_cmd_prefix": "rm(",
     "library": "var_list.r",
     "varRefreshCmd": "cat(var_dic_list()) "
    }
   },
   "types_to_exclude": [
    "module",
    "function",
    "builtin_function_or_method",
    "instance",
    "_Feature"
   ],
   "window_display": false
  }
 },
 "nbformat": 4,
 "nbformat_minor": 2
}
