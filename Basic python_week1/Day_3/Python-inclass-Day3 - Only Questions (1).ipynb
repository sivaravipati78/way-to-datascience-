{
 "cells": [
  {
   "cell_type": "markdown",
   "metadata": {},
   "source": [
    "### IF Statement "
   ]
  },
  {
   "cell_type": "markdown",
   "metadata": {},
   "source": [
    "### Problems:"
   ]
  },
  {
   "cell_type": "markdown",
   "metadata": {},
   "source": [
    "## Write a python code to check is x is less than y\n",
    "#### Test Cases: \n",
    "#### 1. x = 20 and y = 30\n",
    "#### 2. x = 35 and y = 15\n"
   ]
  },
  {
   "cell_type": "code",
   "execution_count": 1,
   "metadata": {},
   "outputs": [
    {
     "name": "stdout",
     "output_type": "stream",
     "text": [
      "x is less than y\n"
     ]
    }
   ],
   "source": [
    "x = 20\n",
    "y =30\n",
    "\n",
    "if x>y:\n",
    "    print('x is greater than y')\n",
    "else:\n",
    "    print('x is less than y')"
   ]
  },
  {
   "cell_type": "code",
   "execution_count": 2,
   "metadata": {},
   "outputs": [
    {
     "name": "stdout",
     "output_type": "stream",
     "text": [
      "x is greater than y\n"
     ]
    }
   ],
   "source": [
    "x = 35\n",
    "y =15\n",
    "\n",
    "if x>y:\n",
    "    print('x is greater than y')\n",
    "else:\n",
    "    print('x is less than y')"
   ]
  },
  {
   "cell_type": "markdown",
   "metadata": {},
   "source": [
    "### 2.For a certain Python course's test, the total score is 200 (100 points for the theoritical work and 100 for practical). Write a program to print the print the total score. If the score exceeds 200, display an error message or warning.\n",
    "\n",
    "#### Test cases:\n",
    "#### Theory = 145, Practical = 100\n",
    "#### Theory = 75, Practical = 100"
   ]
  },
  {
   "cell_type": "code",
   "execution_count": 3,
   "metadata": {},
   "outputs": [
    {
     "name": "stdout",
     "output_type": "stream",
     "text": [
      "245\n",
      "Warning!!!! The scores exceeds more than 200\n"
     ]
    }
   ],
   "source": [
    "Theory = 145\n",
    "Practical = 100\n",
    "Total_score = Theory + Practical\n",
    "if (Total_score>200):\n",
    "    print(Total_score)\n",
    "    print('Warning!!!! The scores exceeds more than 200')\n",
    "else:\n",
    "    print(Total_score)"
   ]
  },
  {
   "cell_type": "code",
   "execution_count": 4,
   "metadata": {},
   "outputs": [
    {
     "name": "stdout",
     "output_type": "stream",
     "text": [
      "175\n"
     ]
    }
   ],
   "source": [
    "Theory = 75\n",
    "Practical = 100\n",
    "Total_score = Theory + Practical\n",
    "if (Total_score>200):\n",
    "    print(Total_score)\n",
    "    print('Warning!!!! The scores exceeds more than 200')\n",
    "else:\n",
    "    print(Total_score)"
   ]
  },
  {
   "cell_type": "markdown",
   "metadata": {},
   "source": [
    "# If-else Statement"
   ]
  },
  {
   "cell_type": "markdown",
   "metadata": {},
   "source": [
    "#### 1. Write a python code to check if a student has passed a subject based on a string input (Yes, No)"
   ]
  },
  {
   "cell_type": "code",
   "execution_count": 10,
   "metadata": {},
   "outputs": [
    {
     "name": "stdout",
     "output_type": "stream",
     "text": [
      "enter the input stringYes\n",
      "The student has passed a subject\n"
     ]
    }
   ],
   "source": [
    "i = input('enter the input string')\n",
    "if i == 'Yes':\n",
    "    print('The student has passed a subject')    \n",
    "else:\n",
    "    print('The student has failed a subject')"
   ]
  },
  {
   "cell_type": "markdown",
   "metadata": {},
   "source": [
    "### 2. Write a python code to Take the password as an input from user and check if it is correct and display a message accordingly (Password Accepted , Wrong Password). The correct password is greatl\n",
    "\n",
    "#### Test cases:\n",
    "#### Enter Password: greatl,  Output: Password Accepted\n",
    "#### Enter Password: greatlearning, Output: Wrong Password, Try Again!\n"
   ]
  },
  {
   "cell_type": "code",
   "execution_count": 11,
   "metadata": {},
   "outputs": [
    {
     "name": "stdout",
     "output_type": "stream",
     "text": [
      "Please enter the passwordgreatl\n",
      "Accepted\n"
     ]
    }
   ],
   "source": [
    "password = input('Please enter the password')\n",
    "if password == 'greatl':\n",
    "    print('Accepted')\n",
    "else:\n",
    "    print('Wrong Password, Try Again!')"
   ]
  },
  {
   "cell_type": "code",
   "execution_count": 12,
   "metadata": {},
   "outputs": [
    {
     "name": "stdout",
     "output_type": "stream",
     "text": [
      "Please enter the passwordgreatlearning\n",
      "Wrong Password, Try Again!\n"
     ]
    }
   ],
   "source": [
    "password = input('Please enter the password')\n",
    "if password == 'greatl':\n",
    "    print('Accepted')\n",
    "else:\n",
    "    print('Wrong Password, Try Again!')"
   ]
  },
  {
   "cell_type": "markdown",
   "metadata": {},
   "source": [
    "###  Nested if Statement"
   ]
  },
  {
   "cell_type": "markdown",
   "metadata": {},
   "source": [
    "### 1. Based on the users age, divide them in to three groups and print the relevant message\n",
    "    Group 1 : Age < 18 , Message:  You are a Minor. Minors are not eligible to work.\n",
    "    Group 2 : 18 < Age < 60 , Message: You are eligible to work.\n",
    "    Group 3 : > 60, Message: As per govt. regulations, You have exceeded the age limit to work.\n"
   ]
  },
  {
   "cell_type": "code",
   "execution_count": 61,
   "metadata": {},
   "outputs": [
    {
     "name": "stdout",
     "output_type": "stream",
     "text": [
      "enter age20\n",
      "You are eligible to work.\n"
     ]
    }
   ],
   "source": [
    "Age = int(input('enter age'))\n",
    "if  Age > 18:\n",
    "    if Age<60:\n",
    "        \n",
    "        print('You are eligible to work.')\n",
    "    else:\n",
    "        print(\"Message: 'As per govt. regulations, You have exceeded the age limit to work.\")\n",
    "        \n",
    "else:\n",
    "    print('You are a Minor. Minors are not eligible to work.')\n"
   ]
  },
  {
   "cell_type": "markdown",
   "metadata": {},
   "source": [
    "# While Loop"
   ]
  },
  {
   "cell_type": "markdown",
   "metadata": {},
   "source": [
    "### 1. Take an integer as input from the user and print all the numbers from 0 to that number in reverse order. \n",
    "\n",
    "    Example : if the input is 3, the output should be\n",
    "    3\n",
    "    2\n",
    "    1"
   ]
  },
  {
   "cell_type": "code",
   "execution_count": 17,
   "metadata": {},
   "outputs": [
    {
     "name": "stdout",
     "output_type": "stream",
     "text": [
      "enter the number3\n",
      "3\n",
      "2\n",
      "1\n"
     ]
    }
   ],
   "source": [
    "n = int(input('enter the number'))\n",
    "while n>0 and n<=3:\n",
    "    print(n)\n",
    "    n-=1\n",
    "    \n",
    "\n"
   ]
  },
  {
   "cell_type": "markdown",
   "metadata": {},
   "source": [
    "### 2.  Write a python code to find the squares of all the numbers between 1 to n. n is decided based on user input. \n",
    "\n",
    "    Example : If the input is 10, the output should be\n",
    "    1*1 ,2*2 ,3*3...... 10*10"
   ]
  },
  {
   "cell_type": "code",
   "execution_count": 33,
   "metadata": {},
   "outputs": [
    {
     "name": "stdout",
     "output_type": "stream",
     "text": [
      "enter the number10\n",
      "1*1 ,2*2 ,3*3 ,4*4 ,5*5 ,6*6 ,7*7 ,8*8 ,9*9 ,10*10 ,"
     ]
    }
   ],
   "source": [
    "n = int(input('enter the number'))\n",
    "m = 1\n",
    "i=0\n",
    "while i<n:\n",
    "    #print('{} *{}={}'.format(m,m,m*m))\n",
    "    print('{}*{}'.format(m,m),end =' ,')\n",
    "    m+=1\n",
    "    i+=1\n",
    "    "
   ]
  },
  {
   "cell_type": "markdown",
   "metadata": {},
   "source": [
    "# For Loop"
   ]
  },
  {
   "cell_type": "markdown",
   "metadata": {},
   "source": [
    "### 1. Write a python code to print the multiplication table of a given number.\n",
    "\n",
    "    Example : if the number is 3, the output should print the below :  \n",
    "    3 X 1 = 3\n",
    "    3 X 2 = 6\n",
    "    ...\n",
    "    3 X 10 =30"
   ]
  },
  {
   "cell_type": "code",
   "execution_count": 26,
   "metadata": {},
   "outputs": [
    {
     "name": "stdout",
     "output_type": "stream",
     "text": [
      "enter the number3\n",
      "1 *3=3\n",
      "2 *3=6\n",
      "3 *3=9\n",
      "4 *3=12\n",
      "5 *3=15\n",
      "6 *3=18\n",
      "7 *3=21\n",
      "8 *3=24\n",
      "9 *3=27\n",
      "10 *3=30\n"
     ]
    }
   ],
   "source": [
    "n = int(input('enter the number'))\n",
    "\n",
    "for i in range(1,11):\n",
    "    print('{} *{}={}'.format(i,n,i*n))"
   ]
  },
  {
   "cell_type": "markdown",
   "metadata": {},
   "source": [
    "#### 2. Write a python code to print squares of all numbers present in a list = [1, 12, 24, 36, 11, 20,50]\n"
   ]
  },
  {
   "cell_type": "code",
   "execution_count": 27,
   "metadata": {},
   "outputs": [
    {
     "name": "stdout",
     "output_type": "stream",
     "text": [
      "[1, 144, 576, 1296, 121, 400, 2500]\n"
     ]
    }
   ],
   "source": [
    "list1 = [1, 12, 24, 36, 11, 20,50]\n",
    "l11 =[]\n",
    "for i in list1:\n",
    "    l11.append(i*i)\n",
    "print(l11)"
   ]
  },
  {
   "cell_type": "markdown",
   "metadata": {},
   "source": [
    "# Additional Practice Programs"
   ]
  },
  {
   "cell_type": "markdown",
   "metadata": {},
   "source": [
    "#### 1. Write a python program that takes a list  ['red','black','blue']  and prints each element in the list using whle loop"
   ]
  },
  {
   "cell_type": "code",
   "execution_count": 35,
   "metadata": {},
   "outputs": [
    {
     "name": "stdout",
     "output_type": "stream",
     "text": [
      "red\n",
      "black\n",
      "blue\n"
     ]
    }
   ],
   "source": [
    "list1 = ['red','black','blue']\n",
    "i = 0\n",
    "while i<3:\n",
    "    print(list1[i])\n",
    "    i+=1"
   ]
  },
  {
   "cell_type": "markdown",
   "metadata": {},
   "source": [
    "#### 2. Write the same program as above using a For loop?"
   ]
  },
  {
   "cell_type": "code",
   "execution_count": 36,
   "metadata": {},
   "outputs": [
    {
     "name": "stdout",
     "output_type": "stream",
     "text": [
      "red\n",
      "black\n",
      "blue\n"
     ]
    }
   ],
   "source": [
    "list1 = ['red','black','blue']\n",
    "for i in list1:\n",
    "    print(i)"
   ]
  },
  {
   "cell_type": "markdown",
   "metadata": {},
   "source": [
    "#### 3. Python Program to find the LCM of two numbers?"
   ]
  },
  {
   "cell_type": "code",
   "execution_count": 58,
   "metadata": {},
   "outputs": [
    {
     "name": "stdout",
     "output_type": "stream",
     "text": [
      "16\n"
     ]
    }
   ],
   "source": [
    "x =16\n",
    "y =4\n",
    "\n",
    "if(x>y):\n",
    "    greater =x\n",
    "else:\n",
    "    greater = y\n",
    "while(True):\n",
    "    if (greater%x==0)and (greater%y==0):\n",
    "        lcm = greater\n",
    "        print(lcm)\n",
    "        break\n",
    "    greater+= 1\n"
   ]
  },
  {
   "cell_type": "markdown",
   "metadata": {},
   "source": [
    "#### 4. The Python Program to print the pascal’s triangle for n number of rows given by the user."
   ]
  },
  {
   "cell_type": "code",
   "execution_count": null,
   "metadata": {},
   "outputs": [],
   "source": []
  },
  {
   "cell_type": "markdown",
   "metadata": {},
   "source": [
    "#### 5. Python Program to find the sum of series: 1 + 1/2 + 1/3 + ….. + 1/N."
   ]
  },
  {
   "cell_type": "code",
   "execution_count": 57,
   "metadata": {},
   "outputs": [
    {
     "name": "stdout",
     "output_type": "stream",
     "text": [
      "enter the number10\n",
      "2.9289682539682538\n"
     ]
    }
   ],
   "source": [
    "sum1 =0\n",
    "n = int(input('enter the number')) \n",
    "for i in range(1,n+1):\n",
    "    #reciprocal = 1/i\n",
    "    sum1 = sum1+ 1/i\n",
    "print(sum1)"
   ]
  },
  {
   "cell_type": "markdown",
   "metadata": {},
   "source": [
    "# List Comprehensions"
   ]
  },
  {
   "cell_type": "markdown",
   "metadata": {},
   "source": [
    "#### 1. The Python program for squares range (1-10) \n",
    "\n",
    "* output squares = [0, 1, 4, 9, 16, 25, 36, 49, 64, 81, 100]"
   ]
  },
  {
   "cell_type": "markdown",
   "metadata": {},
   "source": [
    "##### Create a code for the same question as above using a List comprehension"
   ]
  },
  {
   "cell_type": "code",
   "execution_count": 39,
   "metadata": {},
   "outputs": [
    {
     "data": {
      "text/plain": [
       "[0, 1, 4, 9, 16, 25, 36, 49, 64, 81, 100]"
      ]
     },
     "execution_count": 39,
     "metadata": {},
     "output_type": "execute_result"
    }
   ],
   "source": [
    "[i*i for i in range(0,11)]"
   ]
  },
  {
   "cell_type": "markdown",
   "metadata": {},
   "source": [
    "#### 2.Convert a list of integers to a list of strings. Use List comprehension?"
   ]
  },
  {
   "cell_type": "code",
   "execution_count": 40,
   "metadata": {},
   "outputs": [
    {
     "data": {
      "text/plain": [
       "['1', '2', '3', '4', '5']"
      ]
     },
     "execution_count": 40,
     "metadata": {},
     "output_type": "execute_result"
    }
   ],
   "source": [
    "lst =[1,2,3,4,5]\n",
    "[ str(i) for i in lst]"
   ]
  },
  {
   "cell_type": "markdown",
   "metadata": {},
   "source": [
    "#### 3. tuples from two lists with List Comprehensions?"
   ]
  },
  {
   "cell_type": "code",
   "execution_count": 42,
   "metadata": {},
   "outputs": [
    {
     "data": {
      "text/plain": [
       "[(1, 'a'),\n",
       " (1, 'b'),\n",
       " (1, 'c'),\n",
       " (1, 'd'),\n",
       " (1, 'e'),\n",
       " (2, 'a'),\n",
       " (2, 'b'),\n",
       " (2, 'c'),\n",
       " (2, 'd'),\n",
       " (2, 'e'),\n",
       " (3, 'a'),\n",
       " (3, 'b'),\n",
       " (3, 'c'),\n",
       " (3, 'd'),\n",
       " (3, 'e'),\n",
       " (4, 'a'),\n",
       " (4, 'b'),\n",
       " (4, 'c'),\n",
       " (4, 'd'),\n",
       " (4, 'e'),\n",
       " (5, 'a'),\n",
       " (5, 'b'),\n",
       " (5, 'c'),\n",
       " (5, 'd'),\n",
       " (5, 'e')]"
      ]
     },
     "execution_count": 42,
     "metadata": {},
     "output_type": "execute_result"
    }
   ],
   "source": [
    "lst1 =[1,2,3,4,5]\n",
    "lst2 =['a','b','c','d','e']\n",
    "[(i,j) for i in lst1 for j in lst2]\n"
   ]
  },
  {
   "cell_type": "markdown",
   "metadata": {},
   "source": [
    "#### 4. Get Index of Each Element of List with enumerate and List Comprehensions?"
   ]
  },
  {
   "cell_type": "code",
   "execution_count": 43,
   "metadata": {},
   "outputs": [
    {
     "data": {
      "text/plain": [
       "[0, 1, 2, 3, 4]"
      ]
     },
     "execution_count": 43,
     "metadata": {},
     "output_type": "execute_result"
    }
   ],
   "source": [
    "lst1 =[1,2,3,4,5]\n",
    "\n",
    "\n",
    "[lst.index(i) for i in lst1]"
   ]
  },
  {
   "cell_type": "code",
   "execution_count": 3,
   "metadata": {},
   "outputs": [
    {
     "name": "stdout",
     "output_type": "stream",
     "text": [
      "0\n",
      "1\n",
      "********\n",
      "1\n",
      "2\n",
      "********\n",
      "2\n",
      "3\n",
      "********\n",
      "3\n",
      "4\n",
      "********\n",
      "4\n",
      "5\n",
      "********\n"
     ]
    }
   ],
   "source": [
    "lst1 =[1,2,3,4,5]\n",
    "\n",
    "for i,j in enumerate(lst1):\n",
    "    print(i)\n",
    "    #print('--')\n",
    "    print(j)\n",
    "    print('********')"
   ]
  },
  {
   "cell_type": "code",
   "execution_count": null,
   "metadata": {},
   "outputs": [],
   "source": []
  }
 ],
 "metadata": {
  "kernelspec": {
   "display_name": "Python 3",
   "language": "python",
   "name": "python3"
  },
  "language_info": {
   "codemirror_mode": {
    "name": "ipython",
    "version": 3
   },
   "file_extension": ".py",
   "mimetype": "text/x-python",
   "name": "python",
   "nbconvert_exporter": "python",
   "pygments_lexer": "ipython3",
   "version": "3.7.6"
  }
 },
 "nbformat": 4,
 "nbformat_minor": 2
}
