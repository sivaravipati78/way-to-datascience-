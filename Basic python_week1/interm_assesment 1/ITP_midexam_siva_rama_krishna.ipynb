{
 "cells": [
  {
   "cell_type": "markdown",
   "metadata": {},
   "source": [
    "<h1 ,align =center>Section A<h1>"
   ]
  },
  {
   "cell_type": "code",
   "execution_count": 7,
   "metadata": {},
   "outputs": [],
   "source": [
    "# 1 A"
   ]
  },
  {
   "cell_type": "code",
   "execution_count": 8,
   "metadata": {},
   "outputs": [
    {
     "name": "stdout",
     "output_type": "stream",
     "text": [
      "enter the Sales revenue?65436\n",
      "Profit for amazon is $ 21593.88\n"
     ]
    }
   ],
   "source": [
    "x = int(input('enter the Sales revenue?'))\n",
    "out = x*0.33\n",
    "print('Profit for amazon is $',out)"
   ]
  },
  {
   "cell_type": "code",
   "execution_count": null,
   "metadata": {},
   "outputs": [],
   "source": [
    "#1 B"
   ]
  },
  {
   "cell_type": "code",
   "execution_count": 10,
   "metadata": {},
   "outputs": [
    {
     "name": "stdout",
     "output_type": "stream",
     "text": [
      "enter the measure of land?875687\n",
      "the area in acre is 20.10\n"
     ]
    }
   ],
   "source": [
    "x = int(input('enter the measure of land?'))\n",
    "out = x*(1/43560)\n",
    "print('the area in acre is %0.2f' %out)"
   ]
  },
  {
   "cell_type": "markdown",
   "metadata": {},
   "source": [
    "<h1 ,align =center>Section B<h1>"
   ]
  },
  {
   "cell_type": "raw",
   "metadata": {},
   "source": [
    "2. James Deen is an investor specializing in the Technology Domain. James purchases stock in successful technology companies using a stockbroker and later sells them at a profit margin. As part of his investment portfolio, James purchased 2000 units of stock in Google LLC worth $80,000 ($40 apiece) in the month of November, 2019. The stockbroker charged 3% commission on the total purchase value of the stocks. A month later, James sells his entire stock holding in Google LLC for $42.75 apiece. He pays a commission of 3% on this transaction as well to his stockbroker"
   ]
  },
  {
   "cell_type": "code",
   "execution_count": null,
   "metadata": {},
   "outputs": [],
   "source": [
    "#2) 1.The cost of purchasing the entire stock holding in Google LLC "
   ]
  },
  {
   "cell_type": "code",
   "execution_count": 25,
   "metadata": {},
   "outputs": [
    {
     "name": "stdout",
     "output_type": "stream",
     "text": [
      "Total_cost_of_purchase with broker charges is $ 82400.0\n"
     ]
    }
   ],
   "source": [
    "#Given\n",
    "each_apiece = 80000/40\n",
    "broker_charge =80000*(0.03)# 3 percent of total price which is not included inprice of purchase\n",
    "Total_cost_of_purchase = broker_charge + 80000\n",
    "print('Total_cost_of_purchase with broker charges is $',Total_cost_of_purchase)"
   ]
  },
  {
   "cell_type": "code",
   "execution_count": null,
   "metadata": {},
   "outputs": [],
   "source": [
    "#2.)The amount of money paid in commission during the purchase "
   ]
  },
  {
   "cell_type": "code",
   "execution_count": 24,
   "metadata": {},
   "outputs": [
    {
     "name": "stdout",
     "output_type": "stream",
     "text": [
      "broker_charge while purchasing $ 2400.0\n"
     ]
    }
   ],
   "source": [
    "broker_charge =80000*(0.03)\n",
    "print('broker_charge while purchasing $',broker_charge)"
   ]
  },
  {
   "cell_type": "code",
   "execution_count": null,
   "metadata": {},
   "outputs": [],
   "source": [
    "#3.)The selling price of the entire stock holding in Google LLC"
   ]
  },
  {
   "cell_type": "code",
   "execution_count": 16,
   "metadata": {},
   "outputs": [
    {
     "name": "stdout",
     "output_type": "stream",
     "text": [
      "selling price is  $ 85500.0\n"
     ]
    }
   ],
   "source": [
    "# broker charges are not included in the given sold price\n",
    "selling_price = 42.75* each_apiece\n",
    "print('selling price is  $',selling_price)"
   ]
  },
  {
   "cell_type": "code",
   "execution_count": null,
   "metadata": {},
   "outputs": [],
   "source": [
    "#4.)The amount of money paid in commission during the sale "
   ]
  },
  {
   "cell_type": "code",
   "execution_count": 17,
   "metadata": {},
   "outputs": [
    {
     "name": "stdout",
     "output_type": "stream",
     "text": [
      "broker_sellcharge for selling is $ 2565.0\n"
     ]
    }
   ],
   "source": [
    "\n",
    "broker_sellcharge=selling_price*(0.03)\n",
    "print('broker_sellcharge for selling is $',broker_sellcharge)"
   ]
  },
  {
   "cell_type": "code",
   "execution_count": null,
   "metadata": {},
   "outputs": [],
   "source": [
    "# 5.)The profit margin made by James in the entire transaction (purchase & sale, including commissions paid) "
   ]
  },
  {
   "cell_type": "code",
   "execution_count": 18,
   "metadata": {},
   "outputs": [
    {
     "name": "stdout",
     "output_type": "stream",
     "text": [
      "profit on the total transaction is $ 5665.0\n"
     ]
    }
   ],
   "source": [
    "profit =selling_price -(Total_cost_of_purchase-broker_sellcharge)\n",
    "print('profit on the total transaction is $',profit)"
   ]
  },
  {
   "cell_type": "markdown",
   "metadata": {},
   "source": [
    "<h1 ,align =center>Section C<h1>"
   ]
  },
  {
   "cell_type": "markdown",
   "metadata": {},
   "source": [
    "3.) \n",
    "Ernest Shackleton led the Nimrod Expedition to within 97 nautical miles of the pole for the first time in history on the 9th of January,1909. An additional interesting fact about the date is that when expressed in the format MM/DD/YY, Month times the Day equals the Year!  (MM * DD = YY) \n",
    " "
   ]
  },
  {
   "cell_type": "raw",
   "metadata": {},
   "source": [
    "Write a Python program that prompts the user to input the following: 1. Month of the Year in MM format (1-12, numeric format) 2. Day of the Month in DD format (1-31, numeric format) 3. Year in YY format (last 2 digits of the year, numeric forma"
   ]
  },
  {
   "cell_type": "code",
   "execution_count": 19,
   "metadata": {},
   "outputs": [
    {
     "name": "stdout",
     "output_type": "stream",
     "text": [
      "enter the month of the year(1-12, numeric format)02\n",
      "enter the day of the year(1-31, numeric format)10\n",
      "enter the  YY format (last 2 digits of the year, numeric format20\n",
      "magical number\n"
     ]
    }
   ],
   "source": [
    "MM = int(input('enter the month of the year(1-12, numeric format)'))\n",
    "DD = int(input('enter the day of the year(1-31, numeric format)'))\n",
    "YY = int(input('enter the  YY format (last 2 digits of the year, numeric format'))\n",
    "#(MM * DD = YY) \n",
    "def magical_num(MM,DD,YY):\n",
    "    if MM*DD==YY:\n",
    "        print('magical number')\n",
    "    else:\n",
    "        print('NOn magical number')\n",
    "magical_num(MM,DD,YY)"
   ]
  },
  {
   "cell_type": "raw",
   "metadata": {},
   "source": [
    "4. Red, Green & Blue, known as primary colours, can be mixed to produce all other colours in the visible spectrum. When Red & Blue is mixed, we get Purple. When Red & Yellow are mixed, we get Orange. When Blue & Yellow are mixed, we get Green. The resulting colours are called secondary colours. "
   ]
  },
  {
   "cell_type": "code",
   "execution_count": 20,
   "metadata": {},
   "outputs": [
    {
     "name": "stdout",
     "output_type": "stream",
     "text": [
      "enter the first color from  Red, Green & Blue?Red\n",
      "enter the Second colorfrom  Red, Green & Blue?Blue\n",
      "the secondary color is \"Purple\"\n"
     ]
    }
   ],
   "source": [
    "first = input('enter the first color from  Red, Green & Blue?')\n",
    "Second = input('enter the Second colorfrom  Red, Green & Blue?')\n",
    "def color(first,Second):\n",
    "    primary = ['Red', 'Green' ,'Blue']\n",
    "    if first not in primary and Second not in primary:\n",
    "        \n",
    "        print('Error: Please enter a primary colour!')\n",
    "    else:\n",
    "        \n",
    "        if first == primary[0] and Second==primary[2]:\n",
    "            \n",
    "            print('the secondary color is \"Purple\"')\n",
    "        elif first == primary[0] and Second==primary[2]:\n",
    "            print('the secondary color is \"Orange\"')\n",
    "        elif first == primary[1] and Second==primary[2]:\n",
    "            print('the secondary color is \"shades of green\"')\n",
    "        else:\n",
    "            print('the secondary color is not good to look')\n",
    "color(first,Second)"
   ]
  },
  {
   "cell_type": "code",
   "execution_count": null,
   "metadata": {},
   "outputs": [],
   "source": []
  }
 ],
 "metadata": {
  "kernelspec": {
   "display_name": "Python 3",
   "language": "python",
   "name": "python3"
  },
  "language_info": {
   "codemirror_mode": {
    "name": "ipython",
    "version": 3
   },
   "file_extension": ".py",
   "mimetype": "text/x-python",
   "name": "python",
   "nbconvert_exporter": "python",
   "pygments_lexer": "ipython3",
   "version": "3.7.1"
  }
 },
 "nbformat": 4,
 "nbformat_minor": 2
}
