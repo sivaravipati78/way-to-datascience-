{
 "cells": [
  {
   "cell_type": "markdown",
   "metadata": {},
   "source": [
    "# <center>PGP Data Science Engineering</center>\n",
    "## <center>Introduction to Programming – Mini Project:</center>\n"
   ]
  },
  {
   "cell_type": "markdown",
   "metadata": {},
   "source": [
    "### Problem 1:\n",
    "\n",
    "1. Write a program to calculate area of shapes. Your program should be capable of calculating the area of a square, rectangle, triangle and a circle. The user should be presented with options to select the shape. Based on which shape is chosed by the user, the program should ask for the appropriate input and print the resulting area on the screen.\n",
    "\n",
    "When the program is run, the screen should display something like this:\n",
    "\n",
    "**Which shape would you like to calculate the area for? Please enter the option number-**<br>\n",
    "**1. Square**<br>\n",
    "**2. Rectangle**<br>\n",
    "**3. Triangle**<br>\n",
    "**4. Circle**<br>\n",
    "**Enter Option: _**\n",
    "\n",
    "Say the user enters the option 1.\n",
    "\n",
    "**Please enter the length of a side: _**\n",
    "\n",
    "If the user enters a value of 5. The output should be:\n",
    "\n",
    "**The area of the square is 25**\n",
    "\n",
    "This program should indicate that the input is invalid if the user enters a character instead of a number as input. For instance if the user enters a value of ‘a’ instead of 5 in the previous example the program should prompt:\n",
    "\n",
    "**Invalid input, please enter a number: _**\n"
   ]
  },
  {
   "cell_type": "code",
   "execution_count": 42,
   "metadata": {},
   "outputs": [
    {
     "name": "stdout",
     "output_type": "stream",
     "text": [
      "Please select the shape for calculating area  ?\n",
      " 1. Square \n",
      "2. Rectangle \n",
      "3. Traingle \n",
      "4. Circle \n",
      " Enter Options \n",
      "2\n",
      "please enter the length of the rectangle? :\t4\n",
      "please enter the breadth of the rectangle? :\t5\n",
      "Area of rectangle is 20\n"
     ]
    },
    {
     "data": {
      "text/plain": [
       "20"
      ]
     },
     "execution_count": 42,
     "metadata": {},
     "output_type": "execute_result"
    }
   ],
   "source": [
    "def Area(n):\n",
    "    \n",
    "    shapes =['Square',\"Rectangle\",\"Traingle\",'Circle']\n",
    "    if n.lower() == 'abcdefghijklmnopqrstuvwxyz':\n",
    "        print(' enter numeric number')\n",
    "    else:\n",
    "        a = int(n)\n",
    "    \n",
    "        if a>4 or a<1 :\n",
    "            print('Please enter correct Option!!!!.')\n",
    "        else:\n",
    "            b = shapes[a-1]\n",
    "            #print(b)\n",
    "            if b == shapes[0]:\n",
    "                side = input('please enter the length of the side? :\\t')\n",
    "                if side.isnumeric():\n",
    "                    side = int(side)\n",
    "                    Area = side*side\n",
    "                    print('Area of square is',Area )\n",
    "                else: \n",
    "                    print('Please enter numeric value!!!!')\n",
    "            elif b == shapes[1]:\n",
    "                length = input('please enter the length of the rectangle? :\\t')\n",
    "                breadth = input('please enter the breadth of the rectangle? :\\t')\n",
    "                if length.isnumeric() and breadth.isnumeric():\n",
    "                    length = int(length)\n",
    "                    breadth = int(breadth)\n",
    "                    Area = length* breadth\n",
    "                    print('Area of rectangle is',Area )\n",
    "                else: \n",
    "                    print('Please enter numeric value!!!!')\n",
    "            elif b == shapes[2]:\n",
    "                base = input('please enter the base length of the traingle? :\\t')\n",
    "                height = input('please enter the height of the traingle? :\\t')\n",
    "                if base.isnumeric() and height.isnumeric():\n",
    "                    base = int(base)\n",
    "                    height = int(height)\n",
    "                    Area = base* height* 0.5\n",
    "                    print('Area of traingle is',Area )\n",
    "                else: \n",
    "                    print('Please enter numeric value!!!!')\n",
    "            elif b ==shapes[3]:\n",
    "                radius = input('please enter the radius of the Circle? :\\t')\n",
    "                if radius.isnumeric() or int(radius).isnumeric():\n",
    "                    radius = float(radius)\n",
    "                    Area = 3.14 * (radius**2)\n",
    "                    print('Area of Circle is',Area )\n",
    "                else:\n",
    "                    print('Please enter numeric value!!!!')\n",
    "            else:\n",
    "                print('enter correct input')\n",
    "            return Area\n",
    "\n",
    "n = input('Please select the shape for calculating area  ?\\n '\n",
    "     + '1. Square \\n'\n",
    "     + '2. Rectangle \\n'\n",
    "     + '3. Traingle \\n'\n",
    "     + '4. Circle \\n '\n",
    "     +  'Enter Options \\n')\n",
    "Area(n)"
   ]
  },
  {
   "cell_type": "code",
   "execution_count": null,
   "metadata": {},
   "outputs": [],
   "source": []
  },
  {
   "cell_type": "markdown",
   "metadata": {},
   "source": [
    "### Problem 2:\n",
    "\n",
    "Create and encrypter in python based on the ceaser cipher. It is a substitution cipher where each character of the original text is shifted a certain number characters in the alphabet. Write a function that would require 2 arguments – the input text to be encrypted and a key. For eg: Given the input text ‘hello’ and the key 3, the resulting encryted text would be ‘khoor’. Here you can see that every character in the string hello is shifted by 3 characters. ‘h’ has shifted to ‘k’, ‘e’ has shifted to ‘h’ and so on. If a key of 5 were used, the resulting string would be ‘mjqqt’. This function should be capable of ignoring any characters which are not alphabets. Th2 character ‘z’ entered b\n",
    "y the user for a key of 3 would result in ‘c’.\n",
    "\n",
    "Usage:<br>\n",
    "**encrypt(‘hello world!’, 3)**<br>\n",
    "**‘khoor zruog!’**\n",
    "\n",
    "Similarly create decrypter which can decode the encryted text when provided the input text and key\n",
    "\n",
    "Usage:<br>\n",
    "**decrypt(‘khoor zruog!’, 3)**<br>\n",
    "**‘hello world!’**\n",
    "\n",
    "For the sake of simplicity you can assume that input solely consists of lowercase alphabets, spaces and punctuation symbols. Numbers in the input text would also be ignored similar to symbols."
   ]
  },
  {
   "cell_type": "code",
   "execution_count": 89,
   "metadata": {},
   "outputs": [
    {
     "name": "stdout",
     "output_type": "stream",
     "text": [
      "enter the text‘hello world!\n"
     ]
    },
    {
     "data": {
      "text/plain": [
       "'‘khoor zruog!'"
      ]
     },
     "execution_count": 89,
     "metadata": {},
     "output_type": "execute_result"
    }
   ],
   "source": [
    "def encrypt(a,b):\n",
    "    s = 'abcdefghijklmnopqrstuvwxyzabcdefghijklmnopqrstuvwxyz'\n",
    "    out =''\n",
    "    for i in a:\n",
    "        if i in s:\n",
    "            ind= s.index(i)\n",
    "            out = out+ s[ind+b]\n",
    "        else:\n",
    "            out = out+ i\n",
    "    return out\n",
    "Text = input('enter the text')\n",
    "encrypt(Text,3)\n"
   ]
  },
  {
   "cell_type": "code",
   "execution_count": 86,
   "metadata": {},
   "outputs": [
    {
     "name": "stdout",
     "output_type": "stream",
     "text": [
      "enter the textkhoor zruog!\n"
     ]
    },
    {
     "data": {
      "text/plain": [
       "'hello world!'"
      ]
     },
     "execution_count": 86,
     "metadata": {},
     "output_type": "execute_result"
    }
   ],
   "source": [
    "def decrypt(a,b):\n",
    "    s = 'abcdefghijklmnopqrstuvwxyz'\n",
    "    out =''\n",
    "    for i in a:\n",
    "        if i in s:\n",
    "            ind= s.index(i)\n",
    "            out = out+ s[ind-b]\n",
    "        else:\n",
    "            out = out+ i\n",
    "    return out\n",
    "Text = input('enter the text')\n",
    "decrypt(Text,3)"
   ]
  },
  {
   "cell_type": "code",
   "execution_count": null,
   "metadata": {},
   "outputs": [],
   "source": []
  }
 ],
 "metadata": {
  "kernelspec": {
   "display_name": "Python 3",
   "language": "python",
   "name": "python3"
  },
  "language_info": {
   "codemirror_mode": {
    "name": "ipython",
    "version": 3
   },
   "file_extension": ".py",
   "mimetype": "text/x-python",
   "name": "python",
   "nbconvert_exporter": "python",
   "pygments_lexer": "ipython3",
   "version": "3.7.1"
  }
 },
 "nbformat": 4,
 "nbformat_minor": 2
}
