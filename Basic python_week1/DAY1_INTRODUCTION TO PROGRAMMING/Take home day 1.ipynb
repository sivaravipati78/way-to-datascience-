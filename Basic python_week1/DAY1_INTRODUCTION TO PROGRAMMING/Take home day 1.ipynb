{
 "cells": [
  {
   "cell_type": "markdown",
   "metadata": {},
   "source": [
    "1. Write a python code to convert km into miles. Get the input(km) as runtime parameter."
   ]
  },
  {
   "cell_type": "code",
   "execution_count": 1,
   "metadata": {},
   "outputs": [
    {
     "name": "stdout",
     "output_type": "stream",
     "text": [
      "enter the no. of Km ?\n",
      "10\n",
      "6.21371192\n"
     ]
    }
   ],
   "source": [
    "no_of_km = int(input('enter the no. of Km ?\\n'))\n",
    "#1 kilometre = 0.621371192 miles\n",
    "\n",
    "no_of_miles = no_of_km *(0.621371192)\n",
    "print(no_of_miles)"
   ]
  },
  {
   "cell_type": "markdown",
   "metadata": {},
   "source": [
    "2. Convert temperature in celsius to fahrenheit using python, given celsius value is 37.5"
   ]
  },
  {
   "cell_type": "code",
   "execution_count": 2,
   "metadata": {},
   "outputs": [
    {
     "name": "stdout",
     "output_type": "stream",
     "text": [
      "fahrenheit value for 37.5 celsius is 99.5\n"
     ]
    }
   ],
   "source": [
    "#Formula\t(1°C × 9/5) + 32 = 33.8°F\n",
    "\n",
    "celsius = 37.5\n",
    "fahrenheit = (celsius * 9/5) +32\n",
    "print('fahrenheit value for 37.5 celsius is',fahrenheit)"
   ]
  },
  {
   "cell_type": "markdown",
   "metadata": {},
   "source": [
    "3.Take two inputs from user and check whether they are equal or not."
   ]
  },
  {
   "cell_type": "code",
   "execution_count": 3,
   "metadata": {},
   "outputs": [
    {
     "name": "stdout",
     "output_type": "stream",
     "text": [
      "enter the first number10\n",
      "enter the second number20\n",
      "the two numbers are NOT equal\n"
     ]
    }
   ],
   "source": [
    "a = int(input('enter the first number'))\n",
    "b = int(input('enter the second number'))\n",
    "if(a==b):\n",
    "    print(\"the two numbers are equal\")\n",
    "else:\n",
    "    print(\"the two numbers are NOT equal\")"
   ]
  },
  {
   "cell_type": "code",
   "execution_count": 4,
   "metadata": {},
   "outputs": [
    {
     "name": "stdout",
     "output_type": "stream",
     "text": [
      "enter the first number?\tSRK\n",
      "enter the second number? \tSIVA\n",
      "the two inputs are NOT equal\n"
     ]
    }
   ],
   "source": [
    "a = (input('enter the first number?\\t'))\n",
    "b = (input('enter the second number? \\t'))\n",
    "if(a==b):\n",
    "    print(\"the two inputs are equal\")\n",
    "else:\n",
    "    print(\"the two inputs are NOT equal\")"
   ]
  },
  {
   "cell_type": "markdown",
   "metadata": {},
   "source": [
    "4. Write a python code to  calculate the square root for the number 64 (get the input runtime)"
   ]
  },
  {
   "cell_type": "code",
   "execution_count": null,
   "metadata": {},
   "outputs": [],
   "source": [
    "# Method1:"
   ]
  },
  {
   "cell_type": "code",
   "execution_count": 5,
   "metadata": {},
   "outputs": [
    {
     "name": "stdout",
     "output_type": "stream",
     "text": [
      "enter the number?\t 64\n",
      "square root of a number is  8.0\n"
     ]
    }
   ],
   "source": [
    "num = int(input(\"enter the number?\\t \"))\n",
    "sqrt = num**(1/2)\n",
    "print('square root of a number is ',sqrt)"
   ]
  },
  {
   "cell_type": "code",
   "execution_count": null,
   "metadata": {},
   "outputs": [],
   "source": [
    "# Method2:"
   ]
  },
  {
   "cell_type": "code",
   "execution_count": 6,
   "metadata": {},
   "outputs": [
    {
     "name": "stdout",
     "output_type": "stream",
     "text": [
      "enter the number?\t 64\n",
      "square root of a number is  8.0\n"
     ]
    }
   ],
   "source": [
    "from math import sqrt\n",
    "num = int(input(\"enter the number?\\t \"))\n",
    "sqrt_root = sqrt(num)\n",
    "print('square root of a number is ',sqrt_root)"
   ]
  },
  {
   "cell_type": "markdown",
   "metadata": {},
   "source": [
    "5. Calculate the perimeter of triangle using python for the given values a = 5,b = 6,c = 7\n",
    "formula : s = (a+b+c)/2"
   ]
  },
  {
   "cell_type": "code",
   "execution_count": 7,
   "metadata": {},
   "outputs": [
    {
     "name": "stdout",
     "output_type": "stream",
     "text": [
      "9.0\n"
     ]
    }
   ],
   "source": [
    "a= 5\n",
    "b= 6\n",
    "c=7\n",
    "s= (a+b+c)/2\n",
    "print(s)"
   ]
  },
  {
   "cell_type": "markdown",
   "metadata": {},
   "source": [
    "6. Swap 2 variables without 3rd variable using python X = 10,Y=20\n",
    "desired output : X = 20, Y = 10"
   ]
  },
  {
   "cell_type": "code",
   "execution_count": 8,
   "metadata": {},
   "outputs": [
    {
     "name": "stdout",
     "output_type": "stream",
     "text": [
      "x is 20 and y is 10\n"
     ]
    }
   ],
   "source": [
    "x=10\n",
    "y= 20\n",
    "x,y = y,x\n",
    "print('x is {} and y is {}'.format(x,y))"
   ]
  },
  {
   "cell_type": "markdown",
   "metadata": {},
   "source": [
    "\n",
    "7. Write a python code to displayt he calendar  for the given year and month as run time parameter.\n",
    "import the library for calendar using thebelow library\n",
    "import calendar"
   ]
  },
  {
   "cell_type": "code",
   "execution_count": 9,
   "metadata": {},
   "outputs": [
    {
     "name": "stdout",
     "output_type": "stream",
     "text": [
      "enter the year\t2020\n",
      "enter the month\t12\n",
      "   December 2020\n",
      "Mo Tu We Th Fr Sa Su\n",
      "    1  2  3  4  5  6\n",
      " 7  8  9 10 11 12 13\n",
      "14 15 16 17 18 19 20\n",
      "21 22 23 24 25 26 27\n",
      "28 29 30 31\n",
      "\n"
     ]
    }
   ],
   "source": [
    "import calendar\n",
    "year_yy = int(input('enter the year\\t'))\n",
    "month_mm = int(input('enter the month\\t'))\n",
    "print(calendar.month(year_yy,month_mm))\n"
   ]
  },
  {
   "cell_type": "markdown",
   "metadata": {},
   "source": [
    "\n",
    "\n",
    "8. Calculate the area of triangle using python for the given values a = 5,b = 6,c = 7\n",
    "\n",
    "area = √(s(s-a)*(s-b)*(s-c))"
   ]
  },
  {
   "cell_type": "code",
   "execution_count": 10,
   "metadata": {},
   "outputs": [
    {
     "name": "stdout",
     "output_type": "stream",
     "text": [
      "The area of triangle is 152.735065\n"
     ]
    }
   ],
   "source": [
    "a = 5\n",
    "b = 6\n",
    "c = 7\n",
    "s = (a+b+c)/2\n",
    "\n",
    "\n",
    "area = s*(s-a)*(s-b)*(s-c)**0.5    #TypeError: 'float' object is not callable-- if we miss '*' symbol\n",
    "\n",
    "print('The area of triangle is %f' %area)\n"
   ]
  },
  {
   "cell_type": "markdown",
   "metadata": {},
   "source": [
    "9. Write a python code for the given input , inp_str = \"1234 great learning\"\n",
    "\n",
    "desired output :\n",
    "'gninraeltaerg4321'"
   ]
  },
  {
   "cell_type": "code",
   "execution_count": 11,
   "metadata": {},
   "outputs": [
    {
     "name": "stdout",
     "output_type": "stream",
     "text": [
      "input string is gninraeltaerg4321\n"
     ]
    }
   ],
   "source": [
    "inp_str = \"1234 great learning\"\n",
    "inp_str = inp_str.replace(' ','')\n",
    "inp_str = inp_str[::-1]\n",
    "print('input string is',inp_str)"
   ]
  },
  {
   "cell_type": "markdown",
   "metadata": {},
   "source": [
    "10. Find the average value for the given input number a = 10,b=20 and c = 30"
   ]
  },
  {
   "cell_type": "code",
   "execution_count": 12,
   "metadata": {},
   "outputs": [
    {
     "name": "stdout",
     "output_type": "stream",
     "text": [
      "avg of numbers is  30.0\n"
     ]
    }
   ],
   "source": [
    "a = 10\n",
    "b = 20\n",
    "c = 30\n",
    "avg = (a+b+c)/2\n",
    "print('avg of numbers is ',avg)"
   ]
  },
  {
   "cell_type": "code",
   "execution_count": null,
   "metadata": {},
   "outputs": [],
   "source": []
  }
 ],
 "metadata": {
  "hide_input": false,
  "kernelspec": {
   "display_name": "Python 3",
   "language": "python",
   "name": "python3"
  },
  "language_info": {
   "codemirror_mode": {
    "name": "ipython",
    "version": 3
   },
   "file_extension": ".py",
   "mimetype": "text/x-python",
   "name": "python",
   "nbconvert_exporter": "python",
   "pygments_lexer": "ipython3",
   "version": "3.7.1"
  },
  "toc": {
   "base_numbering": 1,
   "nav_menu": {},
   "number_sections": true,
   "sideBar": true,
   "skip_h1_title": false,
   "title_cell": "Table of Contents",
   "title_sidebar": "Contents",
   "toc_cell": false,
   "toc_position": {},
   "toc_section_display": true,
   "toc_window_display": false
  },
  "varInspector": {
   "cols": {
    "lenName": 16,
    "lenType": 16,
    "lenVar": 40
   },
   "kernels_config": {
    "python": {
     "delete_cmd_postfix": "",
     "delete_cmd_prefix": "del ",
     "library": "var_list.py",
     "varRefreshCmd": "print(var_dic_list())"
    },
    "r": {
     "delete_cmd_postfix": ") ",
     "delete_cmd_prefix": "rm(",
     "library": "var_list.r",
     "varRefreshCmd": "cat(var_dic_list()) "
    }
   },
   "types_to_exclude": [
    "module",
    "function",
    "builtin_function_or_method",
    "instance",
    "_Feature"
   ],
   "window_display": false
  }
 },
 "nbformat": 4,
 "nbformat_minor": 2
}
