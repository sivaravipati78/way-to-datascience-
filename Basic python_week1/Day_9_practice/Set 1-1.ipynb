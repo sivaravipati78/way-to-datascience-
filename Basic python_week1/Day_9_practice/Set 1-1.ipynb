{
 "cells": [
  {
   "cell_type": "markdown",
   "metadata": {},
   "source": [
    "## 1.\tPrint the numbers from 0 to 5\n",
    "using for, using while"
   ]
  },
  {
   "cell_type": "code",
   "execution_count": 1,
   "metadata": {},
   "outputs": [
    {
     "name": "stdout",
     "output_type": "stream",
     "text": [
      "0\n",
      "1\n",
      "2\n",
      "3\n",
      "4\n",
      "5\n"
     ]
    }
   ],
   "source": [
    "# using for\n",
    "for i in range(0,6):\n",
    "    print(i)\n"
   ]
  },
  {
   "cell_type": "code",
   "execution_count": 2,
   "metadata": {},
   "outputs": [
    {
     "name": "stdout",
     "output_type": "stream",
     "text": [
      "0\n",
      "1\n",
      "2\n",
      "3\n",
      "4\n",
      "5\n"
     ]
    }
   ],
   "source": [
    "# using while\n",
    "i =0\n",
    "while i<6:\n",
    "    print(i)\n",
    "    i+=1\n"
   ]
  },
  {
   "cell_type": "code",
   "execution_count": 3,
   "metadata": {},
   "outputs": [
    {
     "data": {
      "text/plain": [
       "[0, 1, 2, 3, 4, 5]"
      ]
     },
     "execution_count": 3,
     "metadata": {},
     "output_type": "execute_result"
    }
   ],
   "source": [
    "# Try the same in list comprehension (not advisable to use list comprehension just to print numbers)\n",
    "# (Just for practice purpose)\n",
    "\n",
    "[ i for i in range(0,6)]"
   ]
  },
  {
   "cell_type": "markdown",
   "metadata": {},
   "source": [
    "## 2.\tPrint all the even numbers between 22 and 75"
   ]
  },
  {
   "cell_type": "code",
   "execution_count": 4,
   "metadata": {},
   "outputs": [
    {
     "name": "stdout",
     "output_type": "stream",
     "text": [
      "22\n",
      "24\n",
      "26\n",
      "28\n",
      "30\n",
      "32\n",
      "34\n",
      "36\n",
      "38\n",
      "40\n",
      "42\n",
      "44\n",
      "46\n",
      "48\n",
      "50\n",
      "52\n",
      "54\n",
      "56\n",
      "58\n",
      "60\n",
      "62\n",
      "64\n",
      "66\n",
      "68\n",
      "70\n",
      "72\n",
      "74\n"
     ]
    }
   ],
   "source": [
    "## for loop\n",
    "for i in range(22,76):\n",
    "    if i%2==0:\n",
    "        print(i)"
   ]
  },
  {
   "cell_type": "code",
   "execution_count": 5,
   "metadata": {},
   "outputs": [
    {
     "name": "stdout",
     "output_type": "stream",
     "text": [
      "22\n",
      "24\n",
      "26\n",
      "28\n",
      "30\n",
      "32\n",
      "34\n",
      "36\n",
      "38\n",
      "40\n",
      "42\n",
      "44\n",
      "46\n",
      "48\n",
      "50\n",
      "52\n",
      "54\n",
      "56\n",
      "58\n",
      "60\n",
      "62\n",
      "64\n",
      "66\n",
      "68\n",
      "70\n",
      "72\n",
      "74\n"
     ]
    }
   ],
   "source": [
    "## while\n",
    "i =22\n",
    "while (i>=22) & (i<76):\n",
    "    if i%2==0:\n",
    "        print(i)\n",
    "    i +=1"
   ]
  },
  {
   "cell_type": "code",
   "execution_count": 6,
   "metadata": {},
   "outputs": [
    {
     "data": {
      "text/plain": [
       "[22,\n",
       " 24,\n",
       " 26,\n",
       " 28,\n",
       " 30,\n",
       " 32,\n",
       " 34,\n",
       " 36,\n",
       " 38,\n",
       " 40,\n",
       " 42,\n",
       " 44,\n",
       " 46,\n",
       " 48,\n",
       " 50,\n",
       " 52,\n",
       " 54,\n",
       " 56,\n",
       " 58,\n",
       " 60,\n",
       " 62,\n",
       " 64,\n",
       " 66,\n",
       " 68,\n",
       " 70,\n",
       " 72,\n",
       " 74]"
      ]
     },
     "execution_count": 6,
     "metadata": {},
     "output_type": "execute_result"
    }
   ],
   "source": [
    "## Using list comprehension \n",
    "[i for i in range(22,76) if i%2 ==0]"
   ]
  },
  {
   "cell_type": "markdown",
   "metadata": {},
   "source": [
    "## 3.\tPrint all the letters in a string, tuple, list and dictionary"
   ]
  },
  {
   "cell_type": "code",
   "execution_count": 7,
   "metadata": {},
   "outputs": [
    {
     "name": "stdout",
     "output_type": "stream",
     "text": [
      "P\n",
      "y\n",
      "t\n",
      "h\n",
      "o\n",
      "n\n"
     ]
    }
   ],
   "source": [
    "c = \"Python\"\n",
    "for i in c:\n",
    "    print(i)"
   ]
  },
  {
   "cell_type": "code",
   "execution_count": 8,
   "metadata": {},
   "outputs": [
    {
     "name": "stdout",
     "output_type": "stream",
     "text": [
      "great\n",
      "learning\n",
      "greatlearning\n"
     ]
    }
   ],
   "source": [
    "d = (\"great\",\"learning\",\"greatlearning\")\n",
    "for i in d:\n",
    "    print(i)"
   ]
  },
  {
   "cell_type": "code",
   "execution_count": 9,
   "metadata": {},
   "outputs": [
    {
     "name": "stdout",
     "output_type": "stream",
     "text": [
      "great\n",
      "learning\n",
      "greatlearning\n"
     ]
    }
   ],
   "source": [
    "e = [\"great\",\"learning\",\"greatlearning\"]\n",
    "for i in e:\n",
    "    print(i)"
   ]
  },
  {
   "cell_type": "code",
   "execution_count": 10,
   "metadata": {},
   "outputs": [
    {
     "name": "stdout",
     "output_type": "stream",
     "text": [
      "dict_keys(['great', 'learning', 'greatlearning'])\n",
      "dict_values([26, 23, 28])\n",
      "dict_items([('great', 26), ('learning', 23), ('greatlearning', 28)])\n"
     ]
    }
   ],
   "source": [
    "f =  {\"great\":26,\"learning\":23,\"greatlearning\":28}\n",
    "## only keys\n",
    "keys =f.keys()\n",
    "    #print(v)\n",
    "\n",
    "print(keys)    \n",
    "## only values\n",
    "value = f.values()\n",
    "print(value)    \n",
    "    \n",
    "## both values and keys\n",
    "items =f.items()\n",
    "print(items)"
   ]
  },
  {
   "cell_type": "code",
   "execution_count": 11,
   "metadata": {},
   "outputs": [
    {
     "name": "stdout",
     "output_type": "stream",
     "text": [
      "great 26\n",
      "learning 23\n",
      "greatlearning 28\n"
     ]
    }
   ],
   "source": [
    "for i,v in f.items():\n",
    "    print(i,v)\n",
    "    "
   ]
  },
  {
   "cell_type": "markdown",
   "metadata": {},
   "source": [
    "## 4.\tPrint the total sum and cumulative sum of all the numbers in the list o = [6, 5, 3, 8, 4, 2, 5, 4, 11]"
   ]
  },
  {
   "cell_type": "code",
   "execution_count": 12,
   "metadata": {},
   "outputs": [
    {
     "name": "stdout",
     "output_type": "stream",
     "text": [
      "48\n",
      "cummulative sum \n",
      "6\n",
      "11\n",
      "14\n",
      "22\n",
      "26\n",
      "28\n",
      "33\n",
      "37\n",
      "48\n"
     ]
    }
   ],
   "source": [
    "g = [6, 5, 3, 8, 4, 2, 5, 4, 11]\n",
    "\n",
    "## sum\n",
    "sum1 =0\n",
    "for i in g:\n",
    "    sum1 = sum1+i\n",
    "print(sum1)\n",
    "    \n",
    "\n",
    "## cumsum \n",
    "print('cummulative sum ')\n",
    "sum1 =0\n",
    "for i in g:\n",
    "    sum1 = sum1+i\n",
    "    print(sum1)"
   ]
  },
  {
   "cell_type": "code",
   "execution_count": 13,
   "metadata": {},
   "outputs": [
    {
     "name": "stdout",
     "output_type": "stream",
     "text": [
      "48\n"
     ]
    },
    {
     "data": {
      "text/plain": [
       "[6, 11, 14, 22, 26, 28, 33, 37, 48]"
      ]
     },
     "execution_count": 13,
     "metadata": {},
     "output_type": "execute_result"
    }
   ],
   "source": [
    "## practice the same with advance functions \n",
    "\n",
    "# sum--reduce\n",
    "from functools import reduce\n",
    "print(reduce(lambda a,b : a+b,g))\n",
    "# Cumsum--accumulate\n",
    "from itertools import accumulate\n",
    "a =list(accumulate(g,lambda a,b : a+b))\n",
    "a\n",
    "#itertools.accumulate"
   ]
  },
  {
   "cell_type": "markdown",
   "metadata": {},
   "source": [
    "## 5.\tCombine the given lists a & b, get the count of elements. Eg. ‘hello’ Occurs 3 times, ‘barbie’ occurs 2 times etc.,\n",
    "a=['hello','world','barbie','hello']\n",
    "b=['hello','barbie','hai']\n"
   ]
  },
  {
   "cell_type": "code",
   "execution_count": 14,
   "metadata": {},
   "outputs": [
    {
     "name": "stdout",
     "output_type": "stream",
     "text": [
      "world 1\n",
      "hai 1\n",
      "hello 3\n",
      "barbie 2\n"
     ]
    }
   ],
   "source": [
    "a=['hello','world','barbie','hello'] \n",
    "b=['hello','barbie','hai']\n",
    "\n",
    "c = a+b\n",
    "d =set(c)\n",
    "for i in d:\n",
    "    print(i,c.count(i))\n",
    "#print(cc)"
   ]
  },
  {
   "cell_type": "markdown",
   "metadata": {},
   "source": [
    "## 6.\tWrite a program to remove all the even numbers from the given set, print the updated set and the removed numbers in a new set.\n",
    "S1 = {7,14,21,28,35,42,49,56,63,70,77,84}\n"
   ]
  },
  {
   "cell_type": "code",
   "execution_count": 15,
   "metadata": {},
   "outputs": [
    {
     "name": "stdout",
     "output_type": "stream",
     "text": [
      "{35, 7, 77, 49, 21, 63}\n",
      "{70, 42, 14, 84, 56, 28}\n"
     ]
    }
   ],
   "source": [
    "S1 = {7,14,21,28,35,42,49,56,63,70,77,84}\n",
    "S3 = S1.copy()\n",
    "S2 =set()\n",
    "for i in S3:\n",
    "    if i%2==0:\n",
    "        \n",
    "        S2.add(i)\n",
    "        S1.remove(i)\n",
    "print(S1)\n",
    "print(S2)\n"
   ]
  },
  {
   "cell_type": "markdown",
   "metadata": {},
   "source": [
    "## 7.\tWrite a function to check if the given number is prime or not"
   ]
  },
  {
   "cell_type": "code",
   "execution_count": 16,
   "metadata": {},
   "outputs": [
    {
     "name": "stdout",
     "output_type": "stream",
     "text": [
      "2  is prime\n",
      "3  is prime\n",
      "4 is notprime\n",
      "5  is prime\n",
      "6 is notprime\n",
      "7  is prime\n",
      "8 is notprime\n",
      "9 is notprime\n",
      "10 is notprime\n",
      "11  is prime\n",
      "12 is notprime\n",
      "13  is prime\n",
      "14 is notprime\n",
      "15 is notprime\n",
      "16 is notprime\n",
      "17  is prime\n",
      "18 is notprime\n",
      "19  is prime\n",
      "20 is notprime\n",
      "21 is notprime\n",
      "22 is notprime\n",
      "23  is prime\n",
      "24 is notprime\n",
      "25 is notprime\n",
      "26 is notprime\n",
      "27 is notprime\n",
      "28 is notprime\n",
      "29  is prime\n",
      "30 is notprime\n",
      "31  is prime\n",
      "32 is notprime\n",
      "33 is notprime\n",
      "34 is notprime\n",
      "35 is notprime\n",
      "36 is notprime\n",
      "37  is prime\n",
      "38 is notprime\n",
      "39 is notprime\n",
      "40 is notprime\n",
      "41  is prime\n",
      "42 is notprime\n",
      "43  is prime\n",
      "44 is notprime\n",
      "45 is notprime\n",
      "46 is notprime\n",
      "47  is prime\n",
      "48 is notprime\n",
      "49 is notprime\n",
      "50 is notprime\n",
      "51 is notprime\n",
      "52 is notprime\n",
      "53  is prime\n",
      "54 is notprime\n",
      "55 is notprime\n",
      "56 is notprime\n",
      "57 is notprime\n",
      "58 is notprime\n",
      "59  is prime\n",
      "60 is notprime\n",
      "61  is prime\n",
      "62 is notprime\n",
      "63 is notprime\n",
      "64 is notprime\n",
      "65 is notprime\n",
      "66 is notprime\n",
      "67  is prime\n",
      "68 is notprime\n",
      "69 is notprime\n",
      "70 is notprime\n",
      "71  is prime\n",
      "72 is notprime\n",
      "73  is prime\n",
      "74 is notprime\n",
      "75 is notprime\n",
      "76 is notprime\n",
      "77 is notprime\n",
      "78 is notprime\n",
      "79  is prime\n",
      "80 is notprime\n",
      "81 is notprime\n",
      "82 is notprime\n",
      "83  is prime\n",
      "84 is notprime\n",
      "85 is notprime\n",
      "86 is notprime\n",
      "87 is notprime\n",
      "88 is notprime\n",
      "89  is prime\n",
      "90 is notprime\n",
      "91 is notprime\n",
      "92 is notprime\n",
      "93 is notprime\n",
      "94 is notprime\n",
      "95 is notprime\n",
      "96 is notprime\n",
      "97  is prime\n",
      "98 is notprime\n",
      "99 is notprime\n"
     ]
    }
   ],
   "source": [
    "def primenum(a):\n",
    "    lst =[]\n",
    "    for i in range(2,a):\n",
    "        \n",
    "        if a%i==0:\n",
    "            lst.append(i)\n",
    "        else:\n",
    "            pass\n",
    "    return len(lst)\n",
    "    #if len(lst)>0:\n",
    "        \n",
    "        #print('not prime',len(lst))\n",
    "        \n",
    "for i in range(2,100):\n",
    "    length =primenum(i)\n",
    "    if length>0:\n",
    "        print(i,'is notprime')\n",
    "    else:\n",
    "        print(i,' is prime')\n",
    "    #if a%1==0 and a%a==0"
   ]
  },
  {
   "cell_type": "markdown",
   "metadata": {},
   "source": [
    "## 8.\tWrite a function to print the cube of 78"
   ]
  },
  {
   "cell_type": "code",
   "execution_count": 17,
   "metadata": {},
   "outputs": [
    {
     "data": {
      "text/plain": [
       "64"
      ]
     },
     "execution_count": 17,
     "metadata": {},
     "output_type": "execute_result"
    }
   ],
   "source": [
    "def cube(a):\n",
    "    ac = a**3\n",
    "    return ac\n",
    "cube(4)\n"
   ]
  },
  {
   "cell_type": "code",
   "execution_count": 18,
   "metadata": {},
   "outputs": [
    {
     "data": {
      "text/plain": [
       "27"
      ]
     },
     "execution_count": 18,
     "metadata": {},
     "output_type": "execute_result"
    }
   ],
   "source": [
    "## same using lambda\n",
    "\n",
    "s =lambda x:x**3\n",
    "s(3)\n"
   ]
  },
  {
   "cell_type": "markdown",
   "metadata": {},
   "source": [
    "## 9.\tFunction to check if the given number is a power of 3\n"
   ]
  },
  {
   "cell_type": "code",
   "execution_count": 56,
   "metadata": {},
   "outputs": [
    {
     "name": "stdout",
     "output_type": "stream",
     "text": [
      "number is perfect cube\n"
     ]
    }
   ],
   "source": [
    "def pow_3(a):\n",
    "    #b =a**(1/3)\n",
    "    if (round(a**(1/3))%1)==0:\n",
    "        print('number is perfect cube')\n",
    "    \n",
    "pow_3(1000)"
   ]
  },
  {
   "cell_type": "code",
   "execution_count": 55,
   "metadata": {},
   "outputs": [
    {
     "data": {
      "text/plain": [
       "10"
      ]
     },
     "execution_count": 55,
     "metadata": {},
     "output_type": "execute_result"
    }
   ],
   "source": [
    "round(1000**(1/3))"
   ]
  },
  {
   "cell_type": "markdown",
   "metadata": {},
   "source": [
    "## 10.\tFunction to find factorial of a number (say 6)"
   ]
  },
  {
   "cell_type": "code",
   "execution_count": 20,
   "metadata": {},
   "outputs": [
    {
     "data": {
      "text/plain": [
       "24"
      ]
     },
     "execution_count": 20,
     "metadata": {},
     "output_type": "execute_result"
    }
   ],
   "source": [
    "def fact(num):\n",
    "    c =1\n",
    "    for i in range(1,num+1):\n",
    "        c =c*i\n",
    "    return c\n",
    "fact(4)"
   ]
  },
  {
   "cell_type": "markdown",
   "metadata": {},
   "source": [
    "## 11.\tFunction to print the biggest of 3 number"
   ]
  },
  {
   "cell_type": "code",
   "execution_count": 21,
   "metadata": {},
   "outputs": [
    {
     "name": "stdout",
     "output_type": "stream",
     "text": [
      "c is biggest\n"
     ]
    }
   ],
   "source": [
    "def big(a,b,c):\n",
    "    if a>b &b>c:\n",
    "        print('a is biggest')\n",
    "    elif b>a & b>c:\n",
    "         print('b is biggest')  \n",
    "    else:\n",
    "        print('c is biggest')\n",
    "big(5,4,8)"
   ]
  },
  {
   "cell_type": "markdown",
   "metadata": {},
   "source": [
    "## 12.\tFunction to count the occurrences of each word in a given sentence"
   ]
  },
  {
   "cell_type": "code",
   "execution_count": 22,
   "metadata": {},
   "outputs": [
    {
     "name": "stdout",
     "output_type": "stream",
     "text": [
      "{'was', 'mother', 'her', 'Nory', 'a', 'Catholic', 'because'}\n",
      "was 2\n",
      "mother 1\n",
      "her 1\n",
      "Nory 1\n",
      "a 2\n",
      "Catholic 2\n",
      "because 1\n"
     ]
    }
   ],
   "source": [
    "a = \"Nory was a Catholic because her mother was a Catholic\"\n",
    "b =a.split()\n",
    "c = set(b)\n",
    "print(c)\n",
    "#b.count()\n",
    "for i in c:\n",
    "    coun =b.count(i)\n",
    "    print(i,coun)"
   ]
  },
  {
   "cell_type": "markdown",
   "metadata": {},
   "source": [
    "## 13.\tCustomer segmentation, if cust_credit is b/w 5k – 15k mark as silver customer, if it is greater than or equal to 25k, mark as diamond customer, btw 15k and 25k, gold else bronze"
   ]
  },
  {
   "cell_type": "code",
   "execution_count": 23,
   "metadata": {},
   "outputs": [
    {
     "name": "stdout",
     "output_type": "stream",
     "text": [
      "Diamond cust\n"
     ]
    }
   ],
   "source": [
    "def cust(a):\n",
    "    if (a>5000) & (a<15000):\n",
    "        print('silver cistomer')\n",
    "    elif a>=25000:\n",
    "        print('Diamond cust')\n",
    "    elif (a>=15000) &(a<25000):\n",
    "        print('gold cust')\n",
    "    else:\n",
    "        print('bronze cust')\n",
    "cust(25000)    "
   ]
  },
  {
   "cell_type": "markdown",
   "metadata": {},
   "source": [
    "## 14.\tCount the number of numbers between 555 and 1111 which are divisible by 7"
   ]
  },
  {
   "cell_type": "code",
   "execution_count": 24,
   "metadata": {},
   "outputs": [
    {
     "name": "stdout",
     "output_type": "stream",
     "text": [
      "79\n"
     ]
    }
   ],
   "source": [
    "count =0\n",
    "for i in range(555,1112):\n",
    "    \n",
    "    if i%7==0:\n",
    "        count = count+1\n",
    "print(count)"
   ]
  },
  {
   "cell_type": "code",
   "execution_count": 25,
   "metadata": {},
   "outputs": [
    {
     "data": {
      "text/plain": [
       "79"
      ]
     },
     "execution_count": 25,
     "metadata": {},
     "output_type": "execute_result"
    }
   ],
   "source": [
    "## using list comprehension\n",
    "#lst =[]\n",
    "b =[i for i in range(555,1112) if i%7==0]\n",
    "len(b)"
   ]
  },
  {
   "cell_type": "markdown",
   "metadata": {},
   "source": [
    "## 15.\tWrite a program to print list of numbers which are squares between 1 to 30"
   ]
  },
  {
   "cell_type": "code",
   "execution_count": 26,
   "metadata": {},
   "outputs": [
    {
     "name": "stdout",
     "output_type": "stream",
     "text": [
      "[1, 4, 9, 16, 25]\n"
     ]
    }
   ],
   "source": [
    "lst =[]\n",
    "for i in range(1,31):\n",
    "    if (i**(1/2)%1)==0:\n",
    "        lst.append(i)\n",
    "        #print('number is perfect Square')\n",
    "print(lst)"
   ]
  },
  {
   "cell_type": "code",
   "execution_count": 27,
   "metadata": {},
   "outputs": [
    {
     "data": {
      "text/plain": [
       "[1, 4, 9, 16, 25]"
      ]
     },
     "execution_count": 27,
     "metadata": {},
     "output_type": "execute_result"
    }
   ],
   "source": [
    "## using list comprehension\n",
    "[i for i in range(1,31) if (i**(1/2)%1)==0]"
   ]
  },
  {
   "cell_type": "markdown",
   "metadata": {},
   "source": [
    "## 16.\tfor a given range of values 110,130. Print the values and print a message “id 124 is found” in place of 124."
   ]
  },
  {
   "cell_type": "code",
   "execution_count": 28,
   "metadata": {},
   "outputs": [
    {
     "name": "stdout",
     "output_type": "stream",
     "text": [
      "110\n",
      "111\n",
      "112\n",
      "113\n",
      "114\n",
      "115\n",
      "116\n",
      "117\n",
      "118\n",
      "119\n",
      "120\n",
      "121\n",
      "122\n",
      "123\n",
      "id 124 is found\n",
      "125\n",
      "126\n",
      "127\n",
      "128\n",
      "129\n",
      "130\n"
     ]
    }
   ],
   "source": [
    "for i in range(110,131):\n",
    "    if i==124:\n",
    "        print('id 124 is found')\n",
    "    else:\n",
    "        print(i)"
   ]
  },
  {
   "cell_type": "markdown",
   "metadata": {},
   "source": [
    "## 17.\tFor the given range of value 1 to 10, print all the values till 5 and exit the loop if value 6 is found"
   ]
  },
  {
   "cell_type": "code",
   "execution_count": 29,
   "metadata": {},
   "outputs": [
    {
     "name": "stdout",
     "output_type": "stream",
     "text": [
      "1\n",
      "2\n",
      "3\n",
      "4\n",
      "5\n"
     ]
    }
   ],
   "source": [
    "for i in range(1,11):\n",
    "    if i==6:\n",
    "        break\n",
    "    else:\n",
    "        print(i)"
   ]
  },
  {
   "cell_type": "markdown",
   "metadata": {},
   "source": [
    "## 18.\tPrint numbers from 1 to 20. If a multiple of 5 occurs, skip the number. (Output: 1,2,3,4,6,7,8,9,11…..)"
   ]
  },
  {
   "cell_type": "code",
   "execution_count": 30,
   "metadata": {},
   "outputs": [
    {
     "name": "stdout",
     "output_type": "stream",
     "text": [
      "1\n",
      "2\n",
      "3\n",
      "4\n",
      "6\n",
      "7\n",
      "8\n",
      "9\n",
      "11\n",
      "12\n",
      "13\n",
      "14\n",
      "16\n",
      "17\n",
      "18\n",
      "19\n"
     ]
    }
   ],
   "source": [
    "## Using For\n",
    "for i in range(1,21):\n",
    "    if i%5==0:\n",
    "        continue\n",
    "    else:\n",
    "        print(i)"
   ]
  },
  {
   "cell_type": "code",
   "execution_count": 31,
   "metadata": {},
   "outputs": [
    {
     "name": "stdout",
     "output_type": "stream",
     "text": [
      "1\n",
      "2\n",
      "3\n",
      "4\n",
      "6\n",
      "7\n",
      "8\n",
      "9\n",
      "11\n",
      "12\n",
      "13\n",
      "14\n",
      "16\n",
      "17\n",
      "18\n",
      "19\n",
      "21\n"
     ]
    }
   ],
   "source": [
    "## Using While\n",
    "i=0\n",
    "while i<21:\n",
    "    i+=1\n",
    "    if i%5==0:\n",
    "        continue\n",
    "    else:\n",
    "        print(i)\n",
    "    \n",
    "    \n",
    "    "
   ]
  },
  {
   "cell_type": "markdown",
   "metadata": {},
   "source": [
    "## 19.\tPrint the list of numbers whose length is greater than or equal to 3\n",
    "lis = [234, 45, 4, 44, 454, 32445]\n"
   ]
  },
  {
   "cell_type": "code",
   "execution_count": 32,
   "metadata": {},
   "outputs": [
    {
     "name": "stdout",
     "output_type": "stream",
     "text": [
      "234\n",
      "454\n",
      "32445\n"
     ]
    }
   ],
   "source": [
    "## using loops\n",
    "lis = [234, 45, 4, 44, 454, 32445]\n",
    "for i in lis:\n",
    "    if len(str(i)) >=3:\n",
    "        \n",
    "        print(i)\n",
    "    "
   ]
  },
  {
   "cell_type": "code",
   "execution_count": 33,
   "metadata": {},
   "outputs": [
    {
     "data": {
      "text/plain": [
       "[234, 454, 32445]"
      ]
     },
     "execution_count": 33,
     "metadata": {},
     "output_type": "execute_result"
    }
   ],
   "source": [
    "## using advance functions (filter, map, lambda)\n",
    "a =list(filter(lambda i:len(str(i))>=3 ,lis))\n",
    "a"
   ]
  },
  {
   "cell_type": "code",
   "execution_count": 34,
   "metadata": {},
   "outputs": [
    {
     "name": "stdout",
     "output_type": "stream",
     "text": [
      "[234, 454, 32445]\n"
     ]
    }
   ],
   "source": [
    "## using advance functions (filter, map, lambda)\n",
    "list(map(lambda i:len(str(i))>=3 ,lis))\n",
    "print(a)\n"
   ]
  },
  {
   "cell_type": "code",
   "execution_count": 35,
   "metadata": {},
   "outputs": [
    {
     "data": {
      "text/plain": [
       "[<function __main__.<listcomp>.<lambda>(i)>,\n",
       " <function __main__.<listcomp>.<lambda>(i)>,\n",
       " <function __main__.<listcomp>.<lambda>(i)>,\n",
       " <function __main__.<listcomp>.<lambda>(i)>,\n",
       " <function __main__.<listcomp>.<lambda>(i)>,\n",
       " <function __main__.<listcomp>.<lambda>(i)>]"
      ]
     },
     "execution_count": 35,
     "metadata": {},
     "output_type": "execute_result"
    }
   ],
   "source": [
    "[lambda i:len(str(i))>=3 for i in lis]"
   ]
  },
  {
   "cell_type": "markdown",
   "metadata": {},
   "source": [
    "## 20.\tProgram to print 5 tables using list comprehension (5 x 1 = 5, 5 x 2 = 10, …..)"
   ]
  },
  {
   "cell_type": "code",
   "execution_count": 36,
   "metadata": {},
   "outputs": [
    {
     "data": {
      "text/plain": [
       "[5, 10, 15, 20, 25, 30, 35, 40, 45, 50, 55, 60, 65, 70, 75, 80, 85, 90, 95]"
      ]
     },
     "execution_count": 36,
     "metadata": {},
     "output_type": "execute_result"
    }
   ],
   "source": [
    "[5*i for i in range(1,20)]"
   ]
  },
  {
   "cell_type": "markdown",
   "metadata": {},
   "source": [
    "## 21.\tWrite a program to filter the odd and even numbers and display them in separately\n",
    "l = [7,3,8,2,5,9,12,78]\n"
   ]
  },
  {
   "cell_type": "code",
   "execution_count": 1,
   "metadata": {},
   "outputs": [
    {
     "name": "stdout",
     "output_type": "stream",
     "text": [
      "[8, 2, 12, 78]\n",
      "[7, 3, 5, 9]\n"
     ]
    }
   ],
   "source": [
    "l = [7,3,8,2,5,9,12,78]\n",
    "\n",
    "print(list(filter(lambda i:i%2==0,l)))\n",
    "print(list(filter(lambda i:i%2!=0,l)))"
   ]
  },
  {
   "cell_type": "markdown",
   "metadata": {},
   "source": [
    "## 22. Using list comprehension generate the squares of even numbers and the cubes of odd numbers between 1 to 10"
   ]
  },
  {
   "cell_type": "code",
   "execution_count": 38,
   "metadata": {},
   "outputs": [
    {
     "data": {
      "text/plain": [
       "[1, 4, 27, 16, 125, 36, 343, 64, 729, 100]"
      ]
     },
     "execution_count": 38,
     "metadata": {},
     "output_type": "execute_result"
    }
   ],
   "source": [
    "b =[i**3 if i%2!=0 else i**2 for i in range(1,11) ]\n",
    "b "
   ]
  },
  {
   "cell_type": "markdown",
   "metadata": {},
   "source": [
    "## 23.\tWrite a function to increment all the elements in the list by 2\n",
    "l = [7,3,8,2,5,9,12,78]\n",
    "\n",
    "#### 1. Increment 2 without loops\n",
    "#### 1.Find the sum of all numbers in the list l using reduce function. \n",
    "#### 2.Print the cumulative sum of elements in list l using accumulate function.\n"
   ]
  },
  {
   "cell_type": "code",
   "execution_count": 40,
   "metadata": {},
   "outputs": [],
   "source": [
    "## using advance functions\n",
    "#l =[7,3,8,2,5,9,12,78]\n"
   ]
  },
  {
   "cell_type": "code",
   "execution_count": 41,
   "metadata": {},
   "outputs": [
    {
     "data": {
      "text/plain": [
       "124"
      ]
     },
     "execution_count": 41,
     "metadata": {},
     "output_type": "execute_result"
    }
   ],
   "source": [
    "l =[7,3,8,2,5,9,12,78]\n",
    "\n",
    "from functools import reduce\n",
    "reduce(lambda x,y:x+y ,l)"
   ]
  },
  {
   "cell_type": "code",
   "execution_count": 42,
   "metadata": {},
   "outputs": [
    {
     "data": {
      "text/plain": [
       "[7, 10, 18, 20, 25, 34, 46, 124]"
      ]
     },
     "execution_count": 42,
     "metadata": {},
     "output_type": "execute_result"
    }
   ],
   "source": [
    "from itertools import accumulate\n",
    "list(accumulate(l,lambda x,y:x+y))"
   ]
  },
  {
   "cell_type": "markdown",
   "metadata": {},
   "source": [
    "## 24.\tCreate a list d = a + b – c (using map/filter function)\n",
    "a = [1, 2, -3],\n",
    "b = [17, -12, 18],\n",
    "c = [-1, -4, 5],\n",
    "\n",
    "output: [19, -6, 10]\n"
   ]
  },
  {
   "cell_type": "code",
   "execution_count": 43,
   "metadata": {},
   "outputs": [
    {
     "data": {
      "text/plain": [
       "[19, -6, 10]"
      ]
     },
     "execution_count": 43,
     "metadata": {},
     "output_type": "execute_result"
    }
   ],
   "source": [
    "a = [1, 2, -3]\n",
    "b = [17, -12, 18]\n",
    "c = [-1, -4, 5]\n",
    "\n",
    "list(map(lambda x,y,z:x+y-z,a,b,c))"
   ]
  },
  {
   "cell_type": "code",
   "execution_count": 44,
   "metadata": {},
   "outputs": [],
   "source": [
    "#list(filter(lambda x,y,z:x+y-z,(a,b,c)))"
   ]
  },
  {
   "cell_type": "markdown",
   "metadata": {},
   "source": [
    "## 25.\tCreate dictionary where the keys are numbers between 1 and 15 (both included) and the values are square of keys"
   ]
  },
  {
   "cell_type": "code",
   "execution_count": 45,
   "metadata": {},
   "outputs": [
    {
     "data": {
      "text/plain": [
       "{1: 1,\n",
       " 2: 4,\n",
       " 3: 9,\n",
       " 4: 16,\n",
       " 5: 25,\n",
       " 6: 36,\n",
       " 7: 49,\n",
       " 8: 64,\n",
       " 9: 81,\n",
       " 10: 100,\n",
       " 11: 121,\n",
       " 12: 144,\n",
       " 13: 169,\n",
       " 14: 196,\n",
       " 15: 225}"
      ]
     },
     "execution_count": 45,
     "metadata": {},
     "output_type": "execute_result"
    }
   ],
   "source": [
    "## using dictionary comprehension\n",
    "a =[(i,i**2) for i in range(1,16)]\n",
    "dict(a)"
   ]
  },
  {
   "cell_type": "code",
   "execution_count": 46,
   "metadata": {},
   "outputs": [
    {
     "data": {
      "text/plain": [
       "{200: 1,\n",
       " 201: 4,\n",
       " 202: 9,\n",
       " 203: 16,\n",
       " 204: 25,\n",
       " 205: 36,\n",
       " 206: 49,\n",
       " 207: 64,\n",
       " 208: 81,\n",
       " 209: 100,\n",
       " 210: 121,\n",
       " 211: 144,\n",
       " 212: 169,\n",
       " 213: 196,\n",
       " 214: 225}"
      ]
     },
     "execution_count": 46,
     "metadata": {},
     "output_type": "execute_result"
    }
   ],
   "source": [
    "## modify the above code, keys should start from 200\n",
    "a =[(i+199,i**2) for i in range(1,16)]\n",
    "dict(a)"
   ]
  },
  {
   "cell_type": "markdown",
   "metadata": {},
   "source": [
    "## 26 . Write a program to filter the numbers from the following string."
   ]
  },
  {
   "cell_type": "code",
   "execution_count": 47,
   "metadata": {},
   "outputs": [
    {
     "name": "stdout",
     "output_type": "stream",
     "text": [
      "37341\n",
      "grelrnng\n"
     ]
    }
   ],
   "source": [
    "a = \"gr3e7l34rn1ng\"\n",
    "lst =[]\n",
    "lst1 =[]\n",
    "for i in a:\n",
    "    if i.isnumeric():\n",
    "        lst.append(i)\n",
    "    else:\n",
    "        lst1.append(i)\n",
    "s =''        \n",
    "for i in lst:\n",
    "    s =s+i\n",
    "print(s)\n",
    "l =''        \n",
    "for i in lst1:\n",
    "    l =l+i\n",
    "print(l)\n",
    "\n"
   ]
  },
  {
   "cell_type": "markdown",
   "metadata": {},
   "source": [
    "## 27. ## Write a program that accepts a sentence and calculate the number of letters and digits.\n",
    "Suppose the following input is supplied to the program:\n",
    "hello world 123\n",
    "Then, the output should be:\n",
    "LETTERS 10\n",
    "DIGITS 3"
   ]
  },
  {
   "cell_type": "code",
   "execution_count": 48,
   "metadata": {},
   "outputs": [
    {
     "name": "stdout",
     "output_type": "stream",
     "text": [
      "hello world 123\n",
      "hello world 123\n",
      "letters 10\n",
      "Digits 3\n"
     ]
    }
   ],
   "source": [
    "def alpha(c1):\n",
    "    count =0\n",
    "    c=0\n",
    "    print(c1)\n",
    "    for i in c1:\n",
    "        if i.isnumeric()==True:\n",
    "            count =count+1\n",
    "        elif i.isalpha()==True:\n",
    "            c =c+1\n",
    "    return c,count\n",
    "\n",
    "c1 =input()            \n",
    "c,count = alpha(c1)\n",
    "print('letters',c)\n",
    "print('Digits',count)"
   ]
  },
  {
   "cell_type": "markdown",
   "metadata": {},
   "source": [
    "## 28. Write a program to find out the largest word in the sentence input from user. \n",
    "Eg - \"This is an umbrella\". should give output as umbrella"
   ]
  },
  {
   "cell_type": "code",
   "execution_count": 49,
   "metadata": {},
   "outputs": [
    {
     "name": "stdout",
     "output_type": "stream",
     "text": [
      "enter the textThis is an umbrella\n",
      "['This', 'is', 'an', 'umbrella']\n",
      "8\n",
      "umbrella\n"
     ]
    }
   ],
   "source": [
    "\n",
    "def big(c):\n",
    "    value =0\n",
    "    big =0\n",
    "    temp =0\n",
    "    for i in c :\n",
    "        \n",
    "        #print(i)\n",
    "        b = len(i)\n",
    "        #print(b)\n",
    "        if b>temp:\n",
    "            big =b\n",
    "            #print(big)\n",
    "            temp =b\n",
    "            #print(temp)\n",
    "            value =i\n",
    "            #print(value)\n",
    "        else:\n",
    "            pass\n",
    "    print(big)\n",
    "    print(value)\n",
    "a =input('enter the text')\n",
    "\n",
    "c =a.split()\n",
    "print(c)\n",
    "big(c)"
   ]
  },
  {
   "cell_type": "markdown",
   "metadata": {},
   "source": [
    "## 29. Find the first 7-digit number that’s divisible by 137? "
   ]
  },
  {
   "cell_type": "code",
   "execution_count": 50,
   "metadata": {},
   "outputs": [
    {
     "name": "stdout",
     "output_type": "stream",
     "text": [
      "1000100\n"
     ]
    }
   ],
   "source": [
    "lst =[]\n",
    "for i in range(1,10**8):\n",
    "    if i%137==0:\n",
    "        \n",
    "        if len(str(i))==7:\n",
    "            \n",
    "            print(i)\n",
    "            break\n",
    "\n",
    "    "
   ]
  },
  {
   "cell_type": "code",
   "execution_count": 62,
   "metadata": {},
   "outputs": [
    {
     "name": "stdout",
     "output_type": "stream",
     "text": [
      "*\n",
      "**\n",
      "***\n",
      "****\n",
      "***\n",
      "**\n",
      "*\n"
     ]
    }
   ],
   "source": [
    "for i in range(1,8):\n",
    "    if i<=4:\n",
    "        print(i*'*')\n",
    "    elif i>4 &i<7:\n",
    "        print((8-i)*'*')"
   ]
  },
  {
   "cell_type": "code",
   "execution_count": 63,
   "metadata": {},
   "outputs": [
    {
     "name": "stdout",
     "output_type": "stream",
     "text": [
      "*\n",
      "**\n",
      "***\n",
      "****\n"
     ]
    }
   ],
   "source": [
    "for i in range(1,8):\n",
    "    if i<=4:\n",
    "        print(i*'*')"
   ]
  },
  {
   "cell_type": "code",
   "execution_count": 85,
   "metadata": {},
   "outputs": [
    {
     "name": "stdout",
     "output_type": "stream",
     "text": [
      "\n",
      "\n",
      "1\n",
      "\n",
      "12\n",
      "\n",
      "123\n",
      "\n",
      "1234\n",
      "\n"
     ]
    }
   ],
   "source": [
    "for i in range(1,6):\n",
    "    for j in range(1,i):\n",
    "        #print(i,end=' ')\n",
    "        #print(j)\n",
    "        print(j,end='')\n",
    "        #print('\\n')\n",
    "    print('\\n')"
   ]
  },
  {
   "cell_type": "code",
   "execution_count": 102,
   "metadata": {},
   "outputs": [
    {
     "name": "stdout",
     "output_type": "stream",
     "text": [
      "1\n",
      "\n",
      "22\n",
      "\n",
      "333\n",
      "\n",
      "4444\n",
      "\n"
     ]
    }
   ],
   "source": [
    "for i in range(1,5):\n",
    "    for j in range(1,i+1):\n",
    "        \n",
    "        print(i,end ='')\n",
    "    print('\\n')   "
   ]
  },
  {
   "cell_type": "code",
   "execution_count": 90,
   "metadata": {},
   "outputs": [
    {
     "name": "stdout",
     "output_type": "stream",
     "text": [
      "\n",
      "\n",
      "1\n",
      "\n",
      "21\n",
      "\n",
      "321\n",
      "\n",
      "4321\n",
      "\n"
     ]
    }
   ],
   "source": [
    "for i in range(1,6):\n",
    "    for j in range(i,1,-1):\n",
    "        #print(i,end=' ')\n",
    "        #print(j)\n",
    "        print(j-1,end='')\n",
    "        #print('\\n')\n",
    "    print('\\n')"
   ]
  },
  {
   "cell_type": "code",
   "execution_count": null,
   "metadata": {},
   "outputs": [],
   "source": []
  }
 ],
 "metadata": {
  "kernelspec": {
   "display_name": "Python 3",
   "language": "python",
   "name": "python3"
  },
  "language_info": {
   "codemirror_mode": {
    "name": "ipython",
    "version": 3
   },
   "file_extension": ".py",
   "mimetype": "text/x-python",
   "name": "python",
   "nbconvert_exporter": "python",
   "pygments_lexer": "ipython3",
   "version": "3.7.1"
  }
 },
 "nbformat": 4,
 "nbformat_minor": 2
}
