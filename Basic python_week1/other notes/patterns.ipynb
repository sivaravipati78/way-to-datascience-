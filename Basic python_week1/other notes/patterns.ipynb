{
 "cells": [
  {
   "cell_type": "code",
   "execution_count": 5,
   "metadata": {},
   "outputs": [
    {
     "name": "stdout",
     "output_type": "stream",
     "text": [
      "         #\n",
      "        # #\n",
      "       #   #\n",
      "      #     #\n",
      "     #       #\n",
      "    #         #\n",
      "   #           #\n",
      "  #             #\n",
      " #               #\n",
      "#                 #\n",
      "###################"
     ]
    }
   ],
   "source": [
    "def printPattern( n) : \n",
    "    k = 0\n",
    "    for i in range(1,n+1) : #row 6 \n",
    "      \n",
    "        # Print spaces \n",
    "        for j in range(i,n) : \n",
    "            print(' ', end='') \n",
    "          \n",
    "        # Print # \n",
    "        while (k != (2 * i - 1)) : \n",
    "            if (k == 0 or k == 2 * i - 2) : \n",
    "                print('#', end='') \n",
    "            else : \n",
    "                print(' ', end ='') \n",
    "            k = k + 1\n",
    "        k = 0; \n",
    "        print (\"\") # print next row \n",
    "          \n",
    "    # print last row \n",
    "    for i in range(0, 2 * n -1) : \n",
    "        print ('#', end = '') \n",
    "  \n",
    "# Driver code  \n",
    "n = 10\n",
    "printPattern(n) "
   ]
  },
  {
   "cell_type": "code",
   "execution_count": 12,
   "metadata": {},
   "outputs": [
    {
     "name": "stdout",
     "output_type": "stream",
     "text": [
      "           \n",
      "   ######  \n",
      "  ######## \n",
      " ##########\n",
      " ##########\n",
      " ##########\n",
      " ##########\n",
      " ##########\n",
      " ##########\n",
      "  ######## \n",
      "   ######  \n",
      "\n"
     ]
    }
   ],
   "source": [
    "def circle(i):\n",
    "    i += 1\n",
    "    from math import sqrt\n",
    "    result = \"\"\n",
    "    midden = i / 2.0\n",
    "    for a in range(i):\n",
    "        for b in range(i):\n",
    "            c = sqrt((midden - a)**2 + (midden - b)**2)\n",
    "            if midden > c:\n",
    "                result += \"#\"\n",
    "            else:\n",
    "                result += \" \"\n",
    "        result += \"\\n\"\n",
    "    print(result)\n",
    "circle(10)"
   ]
  },
  {
   "cell_type": "code",
   "execution_count": 13,
   "metadata": {},
   "outputs": [
    {
     "name": "stdout",
     "output_type": "stream",
     "text": [
      "        #######        \n",
      "      ##       ##      \n",
      "    ##           ##    \n",
      "   #               #   \n",
      "  #                 #  \n",
      "  #                 #  \n",
      " #                   # \n",
      " #                   # \n",
      "#                     #\n",
      "#                     #\n",
      "#                     #\n",
      "#                     #\n",
      "#                     #\n",
      "#                     #\n",
      "#                     #\n",
      " #                   # \n",
      " #                   # \n",
      "  #                 #  \n",
      "  #                 #  \n",
      "   #               #   \n",
      "    ##           ##    \n",
      "      ##       ##      \n",
      "        #######        \n"
     ]
    }
   ],
   "source": [
    "from math import sqrt\n",
    "\n",
    "def circle(radius):\n",
    "    pixels = [[' ' for x in range(2*radius+1)] for y in range(2*radius+1)]\n",
    "    y = radius\n",
    "    x = 0\n",
    "    max = (radius + 0.5)**2\n",
    "    while x <= y:\n",
    "        pixels[radius+y][radius+x] = '#'\n",
    "        pixels[radius+y][radius-x] = '#'\n",
    "        pixels[radius-y][radius+x] = '#'\n",
    "        pixels[radius-y][radius-x] = '#'\n",
    "        pixels[radius+x][radius+y] = '#'\n",
    "        pixels[radius+x][radius-y] = '#'\n",
    "        pixels[radius-x][radius+y] = '#'\n",
    "        pixels[radius-x][radius-y] = '#'\n",
    "        x += 1\n",
    "        if x*x + y*y >= max:\n",
    "            y -= 1\n",
    "\n",
    "    return '\\n'.join([''.join([v for v in row]) for row in pixels])\n",
    "\n",
    "print(circle(11))"
   ]
  },
  {
   "cell_type": "code",
   "execution_count": null,
   "metadata": {},
   "outputs": [],
   "source": []
  }
 ],
 "metadata": {
  "kernelspec": {
   "display_name": "Python 3",
   "language": "python",
   "name": "python3"
  },
  "language_info": {
   "codemirror_mode": {
    "name": "ipython",
    "version": 3
   },
   "file_extension": ".py",
   "mimetype": "text/x-python",
   "name": "python",
   "nbconvert_exporter": "python",
   "pygments_lexer": "ipython3",
   "version": "3.7.1"
  }
 },
 "nbformat": 4,
 "nbformat_minor": 2
}
