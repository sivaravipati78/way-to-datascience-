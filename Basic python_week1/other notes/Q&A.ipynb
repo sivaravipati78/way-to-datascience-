{
 "cells": [
  {
   "cell_type": "markdown",
   "metadata": {},
   "source": [
    "# 1.usage of octal constants"
   ]
  },
  {
   "cell_type": "markdown",
   "metadata": {},
   "source": [
    "https://stackoverflow.com/questions/11620151/what-do-numbers-starting-with-0-mean-in-python\n",
    "\n",
    "<b>Python 3 (new format)</b>\n",
    "In Python 3, one must use 0o instead of just 0 to indicate an octal constant, e.g. 0o11 or 0o27, etc. Python 2.x versions >= 2.6 supports both the new and the old format.\n",
    "\n",
    "0o11 is equal to 1*(8**1) + 1*(8**0) = 9,\n",
    "\n",
    "0o100 is equal to 1*(8**2) + 0*(8**1) + 0*(8**0) = 64,\n",
    "\n",
    "0o27 is equal to 2*(8**1) + 7*(8**0) = 16 + 7 = 23."
   ]
  },
  {
   "cell_type": "code",
   "execution_count": 1,
   "metadata": {},
   "outputs": [
    {
     "name": "stdout",
     "output_type": "stream",
     "text": [
      "5\n",
      "6\n",
      "7\n",
      "8\n"
     ]
    }
   ],
   "source": [
    "i = 5\n",
    "while True:\n",
    "    if i%0O11 == 0:# 0o11 is equal to 1*(8**1) + 1*(8**0) = 9,\n",
    "        break\n",
    "    print(i)\n",
    "    i += 1"
   ]
  },
  {
   "cell_type": "markdown",
   "metadata": {},
   "source": [
    "2.  usage of lamda function"
   ]
  },
  {
   "cell_type": "code",
   "execution_count": 3,
   "metadata": {},
   "outputs": [
    {
     "data": {
      "text/plain": [
       "2"
      ]
     },
     "execution_count": 3,
     "metadata": {},
     "output_type": "execute_result"
    }
   ],
   "source": [
    "(lambda x, y, z: (x + y) if (z == 0) else (x * y))(1, 2, 3)\n"
   ]
  },
  {
   "cell_type": "raw",
   "metadata": {},
   "source": [
    "3. You are given a 2D matrix of dimension  and a positive integer .\n",
    "You have to rotate the matrix  times and print the resultant matrix. Rotation should be in anti-clockwise direction.\n",
    "\n",
    "#Hacker Rank"
   ]
  },
  {
   "cell_type": "code",
   "execution_count": 5,
   "metadata": {},
   "outputs": [
    {
     "name": "stdout",
     "output_type": "stream",
     "text": [
      "[2, 3, 4, 8]\n",
      "[1, 7, 11, 12]\n",
      "[5, 6, 10, 16]\n",
      "[9, 13, 14, 15]\n"
     ]
    }
   ],
   "source": [
    "def rotateMatrix(mat):\n",
    "\n",
    "    if not len(mat): \n",
    "        return\n",
    "      \n",
    "    \"\"\" \n",
    "        top : starting row index \n",
    "        bottom : ending row index \n",
    "        left : starting column index \n",
    "        right : ending column index \n",
    "        00 01 02 03 04\n",
    "        10 11 12 13 14\n",
    "        20 21 22 23 24\n",
    "        30 31 32 33 34\n",
    "    \"\"\"\n",
    "    top = 0\n",
    "    bottom = len(mat)-1\n",
    "    left = 0\n",
    "    right = len(mat[0])-1\n",
    "  \n",
    "    while left < right and top < bottom: \n",
    "  \n",
    "        # Store the first element of next row, \n",
    "        # this element will replace first element of \n",
    "        prev = mat[top+1][left] \n",
    "        \n",
    "       # Move elements of leftmost column one step upwards \n",
    "        for i in range(top, bottom+1): \n",
    "            curr = mat[i][left] \n",
    "            mat[i][left] = prev \n",
    "            prev = curr \n",
    "        \n",
    "        left += 1\n",
    "        \n",
    "        # Move elements of bottom row one step right \n",
    "        for i in range(left, right+1): \n",
    "            curr = mat[bottom][i] \n",
    "            mat[bottom][i] = prev \n",
    "            prev = curr \n",
    "  \n",
    "        bottom -= 1\n",
    "        \n",
    "        # Move elements of rightmost column one step upward \n",
    "        for i in range(bottom, left-1,-1): \n",
    "            curr = mat[i][right] \n",
    "            mat[i][right] = prev \n",
    "            prev = curr \n",
    "  \n",
    "        right -= 1\n",
    "  \n",
    "        # Move elements of top row one step  left\n",
    "        for i in range(right+1, left-2,-1): \n",
    "            curr = mat[top][i] \n",
    "            mat[top][i] = prev \n",
    "            prev = curr \n",
    "  \n",
    "        top += 1\n",
    "\n",
    "    return mat \n",
    " \n",
    "  \n",
    "\n",
    "   \n",
    "'''\n",
    "def rotation_rate(matrix,k):\n",
    "    \n",
    "    i=0\n",
    "    while i <k:\n",
    "        matrix = rotateMatrix(matrix)\n",
    "    for row in matrix:\n",
    "        print (row )\n",
    "# Test case 1 \n",
    "matrix =[  \n",
    "            [1,  2,  3,  4 ], \n",
    "            [5,  6,  7,  8 ], \n",
    "            [9,  10, 11, 12 ], \n",
    "            [13, 14, 15, 16 ]   \n",
    "        ] \n",
    "rotation_rate(matrix,3)\n",
    "#matrix = rotateMatrix(matrix) \n",
    "'''\n",
    "def printMatrix(mat): \n",
    "    for row in mat: \n",
    "        print (row )\n",
    "  \n",
    "  \n",
    "# Test case 1 \n",
    "matrix =[  \n",
    "            [1,  2,  3,  4 ], \n",
    "            [5,  6,  7,  8 ], \n",
    "            [9,  10, 11, 12 ], \n",
    "            [13, 14, 15, 16 ]   \n",
    "        ] \n",
    "# Test case 2 \n",
    "\"\"\" \n",
    "matrix =[ \n",
    "            [1, 2, 3], \n",
    "            [4, 5, 6], \n",
    "            [7, 8, 9] \n",
    "        ] \n",
    "\"\"\"\n",
    "  \n",
    "matrix = rotateMatrix(matrix) \n",
    "# Print modified matrix \n",
    "printMatrix(matrix)"
   ]
  },
  {
   "cell_type": "markdown",
   "metadata": {},
   "source": [
    "4. How to add two matrices"
   ]
  },
  {
   "cell_type": "code",
   "execution_count": 8,
   "metadata": {},
   "outputs": [
    {
     "name": "stdout",
     "output_type": "stream",
     "text": [
      "[11, 13, 15]\n",
      "[17, 19, 21]\n",
      "[23, 25, 27]\n"
     ]
    }
   ],
   "source": [
    "X = [[1,2,3],  \n",
    "       [4,5,6],  \n",
    "       [7,8,9]]  \n",
    "  \n",
    "Y = [[10,11,12],  \n",
    "       [13,14,15],  \n",
    "       [16,17,18]]  \n",
    "  \n",
    "result = [[0,0,0],  \n",
    "          [0,0,0],  \n",
    "          [0,0,0]]  \n",
    "# iterate through rows  \n",
    "for i in range(len(X)):  \n",
    "   # iterate through columns  \n",
    "   for j in range(len(X[0])):\n",
    "        \n",
    "        result[i][j] = X[i][j] + Y[i][j]  \n",
    "for r in result:  \n",
    "    print(r)  "
   ]
  },
  {
   "cell_type": "markdown",
   "metadata": {},
   "source": [
    "### 5. multiplication of matrices"
   ]
  },
  {
   "cell_type": "code",
   "execution_count": 22,
   "metadata": {},
   "outputs": [
    {
     "name": "stdout",
     "output_type": "stream",
     "text": [
      "[37, 43, 49]\n",
      "[85, 100, 115]\n",
      "[133, 157, 181]\n"
     ]
    }
   ],
   "source": [
    "X = [[1,2,3],  \n",
    "       [4,5,6],  \n",
    "       [7,8,9]]  \n",
    "  \n",
    "Y = [[3,4,5],  \n",
    "       [5,6,7],  \n",
    "       [8,9,10]]  \n",
    "  \n",
    "result = [[0,0,0],  \n",
    "          [0,0,0],  \n",
    "          [0,0,0]]  \n",
    "# iterate through rows  \n",
    "for i in range(len(X)):  \n",
    "   # iterate through columns  \n",
    "   for j in range(len(Y[0])):\n",
    "        for k in range(len(Y[0])):\n",
    "            result[i][j] += X[i][k] * Y[k][j]\n",
    "for r in result:  \n",
    "    print(r)  "
   ]
  },
  {
   "cell_type": "markdown",
   "metadata": {},
   "source": [
    "### 6. how to get the ascii value of an alphabet"
   ]
  },
  {
   "cell_type": "code",
   "execution_count": 24,
   "metadata": {},
   "outputs": [
    {
     "name": "stdout",
     "output_type": "stream",
     "text": [
      "Enter a character: A\n",
      "The ASCII value of 'A' is 65\n"
     ]
    }
   ],
   "source": [
    "c = input(\"Enter a character: \")  \n",
    "  \n",
    "print(\"The ASCII value of '\" + c + \"' is\",ord(c))  # ord(value)---> ascii value"
   ]
  },
  {
   "cell_type": "markdown",
   "metadata": {},
   "source": [
    "##  7. The pronic number is a product of two consecutive integers of the form: n(n+1).\n",
    "\n",
    "For example:\n",
    "\n",
    "6 = 2(2+1)= n(n+1),\n",
    "72 =8(8+1) = n(n+1)"
   ]
  },
  {
   "cell_type": "code",
   "execution_count": 27,
   "metadata": {},
   "outputs": [
    {
     "name": "stdout",
     "output_type": "stream",
     "text": [
      "Pronic numbers between 1 and 100: \n",
      "[2, 6, 12, 20, 30, 42, 56, 72, 90]\n"
     ]
    }
   ],
   "source": [
    "def isPronicNumber(num):    \n",
    "    flag = False;    \n",
    "        \n",
    "    for j in range(1, num+1):    \n",
    "        #Checks for pronic number by multiplying consecutive numbers    \n",
    "        if((j*(j+1)) == num):    \n",
    "            flag = True;    \n",
    "            break;    \n",
    "    return flag;    \n",
    "     \n",
    "#Displays pronic numbers between 1 and 100    \n",
    "print(\"Pronic numbers between 1 and 100: \"); \n",
    "lst =[]\n",
    "for i in range(1, 101):    \n",
    "    if(isPronicNumber(i)):  \n",
    "        lst.append(i)\n",
    "        #print(i),    \n",
    "        #print(\" \"),\n",
    "print(lst)"
   ]
  },
  {
   "cell_type": "markdown",
   "metadata": {},
   "source": [
    "### 8. pass staement\n",
    "\n",
    "###### Pass statement vs comment\n",
    "You may be wondering that a python comment works similar to the pass statement as it does nothing so we can use comment in place of pass statement. Well, it is not the case, a comment is not a placeholder and it is completely ignored by the Python interpreter while on the other hand pass is not ignored by interpreter, it says the interpreter to do nothing."
   ]
  },
  {
   "cell_type": "code",
   "execution_count": 28,
   "metadata": {},
   "outputs": [
    {
     "name": "stdout",
     "output_type": "stream",
     "text": [
      "11\n",
      "9\n",
      "89\n"
     ]
    }
   ],
   "source": [
    "for num in [20, 11, 9, 66, 4, 89, 44]:\n",
    "    if num%2 == 0:\n",
    "        pass\n",
    "    else:\n",
    "        print(num)"
   ]
  },
  {
   "cell_type": "markdown",
   "metadata": {},
   "source": [
    "## 9. Python program to check whether the input year(entered by user) is leap year or not."
   ]
  },
  {
   "cell_type": "code",
   "execution_count": 1,
   "metadata": {},
   "outputs": [
    {
     "name": "stdout",
     "output_type": "stream",
     "text": [
      "Enter Year: 2015\n",
      "2015 is not a Leap Year\n"
     ]
    }
   ],
   "source": [
    "# User enters the year\n",
    "year = int(input(\"Enter Year: \"))\n",
    "\n",
    "# Leap Year Check\n",
    "if year % 4 == 0 and year % 100 != 0:\n",
    "    print(year, \"is a Leap Year\")\n",
    "elif year % 100 == 0:\n",
    "    print(year, \"is not a Leap Year\")\n",
    "elif year % 400 ==0:\n",
    "    print(year, \"is a Leap Year\")\n",
    "else:\n",
    "    print(year, \"is not a Leap Year\")"
   ]
  },
  {
   "cell_type": "markdown",
   "metadata": {},
   "source": [
    "### 10. Python Program to read a number n and compute n+nn+nnn."
   ]
  },
  {
   "cell_type": "code",
   "execution_count": 2,
   "metadata": {},
   "outputs": [
    {
     "name": "stdout",
     "output_type": "stream",
     "text": [
      "Enter a number n: 10\n",
      "The value is: 102030\n"
     ]
    }
   ],
   "source": [
    "n=int(input(\"Enter a number n: \"))\n",
    "temp=str(n)\n",
    "t1=temp+temp\n",
    "t2=temp+temp+temp\n",
    "comp=n+int(t1)+int(t2)\n",
    "print(\"The value is:\",comp)"
   ]
  },
  {
   "cell_type": "code",
   "execution_count": null,
   "metadata": {},
   "outputs": [],
   "source": []
  }
 ],
 "metadata": {
  "kernelspec": {
   "display_name": "Python 3",
   "language": "python",
   "name": "python3"
  },
  "language_info": {
   "codemirror_mode": {
    "name": "ipython",
    "version": 3
   },
   "file_extension": ".py",
   "mimetype": "text/x-python",
   "name": "python",
   "nbconvert_exporter": "python",
   "pygments_lexer": "ipython3",
   "version": "3.7.1"
  }
 },
 "nbformat": 4,
 "nbformat_minor": 2
}
