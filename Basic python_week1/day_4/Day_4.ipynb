{
 "cells": [
  {
   "cell_type": "code",
   "execution_count": 2,
   "metadata": {},
   "outputs": [],
   "source": [
    "def f1():  # creating  the function\n",
    "    print('srk')"
   ]
  },
  {
   "cell_type": "code",
   "execution_count": 3,
   "metadata": {},
   "outputs": [
    {
     "name": "stdout",
     "output_type": "stream",
     "text": [
      "srk\n"
     ]
    }
   ],
   "source": [
    "f1() # call the function"
   ]
  },
  {
   "cell_type": "code",
   "execution_count": 4,
   "metadata": {},
   "outputs": [],
   "source": [
    "def f2(nm):\n",
    "    print(nm,'gd mrg')"
   ]
  },
  {
   "cell_type": "code",
   "execution_count": 5,
   "metadata": {},
   "outputs": [
    {
     "name": "stdout",
     "output_type": "stream",
     "text": [
      "annn gd mrg\n"
     ]
    }
   ],
   "source": [
    "f2('annn')"
   ]
  },
  {
   "cell_type": "code",
   "execution_count": 6,
   "metadata": {},
   "outputs": [],
   "source": [
    "def f3(f,l):\n",
    "    print(f,l,'Gd mrg')\n",
    "    "
   ]
  },
  {
   "cell_type": "code",
   "execution_count": 7,
   "metadata": {},
   "outputs": [
    {
     "name": "stdout",
     "output_type": "stream",
     "text": [
      "srk ravipati Gd mrg\n"
     ]
    }
   ],
   "source": [
    "f3('srk','ravipati')"
   ]
  },
  {
   "cell_type": "code",
   "execution_count": 10,
   "metadata": {},
   "outputs": [],
   "source": [
    "def add1(a,b):\n",
    "    sum1 =a+b\n",
    "    return sum1"
   ]
  },
  {
   "cell_type": "code",
   "execution_count": 11,
   "metadata": {},
   "outputs": [
    {
     "name": "stdout",
     "output_type": "stream",
     "text": [
      "enter the number10\n",
      "enter the number20\n"
     ]
    },
    {
     "data": {
      "text/plain": [
       "30"
      ]
     },
     "execution_count": 11,
     "metadata": {},
     "output_type": "execute_result"
    }
   ],
   "source": [
    "a = int(input('enter the number'))\n",
    "b = int(input('enter the number'))\n",
    "\n",
    "add1(a,b)"
   ]
  },
  {
   "cell_type": "code",
   "execution_count": 12,
   "metadata": {},
   "outputs": [
    {
     "name": "stdout",
     "output_type": "stream",
     "text": [
      "value of c : 9\n",
      "value of d : -1\n",
      "(9, -1)\n"
     ]
    }
   ],
   "source": [
    "def empty_return(x,y):\n",
    "    c = x+y\n",
    "    print('value of c :',c)\n",
    "    d =x-y\n",
    "    print('value of d :',d)\n",
    "    return c,d\n",
    "\n",
    "res = empty_return(4,5)\n",
    "print(res)\n"
   ]
  },
  {
   "cell_type": "code",
   "execution_count": 13,
   "metadata": {},
   "outputs": [
    {
     "name": "stdout",
     "output_type": "stream",
     "text": [
      "100\n",
      "1000\n",
      "(100, 1000)\n"
     ]
    }
   ],
   "source": [
    "def power(a):\n",
    "    c = a**2\n",
    "    print(c)\n",
    "    d = a**3\n",
    "    print(d)\n",
    "    return c,d\n",
    "res = power(10)\n",
    "print(res)"
   ]
  },
  {
   "cell_type": "code",
   "execution_count": 14,
   "metadata": {},
   "outputs": [
    {
     "name": "stdout",
     "output_type": "stream",
     "text": [
      "srk ravipati Gd mrg\n"
     ]
    }
   ],
   "source": [
    "def f3(f,l):\n",
    "    print(f,l,'Gd mrg')\n",
    "f3(f='srk',l='ravipati')"
   ]
  },
  {
   "cell_type": "code",
   "execution_count": 15,
   "metadata": {},
   "outputs": [
    {
     "name": "stdout",
     "output_type": "stream",
     "text": [
      "srk ravipati Gd mrg\n"
     ]
    }
   ],
   "source": [
    "def f3(f,l):\n",
    "    print(f,l,'Gd mrg')\n",
    "f3(l='ravipati',f='srk')"
   ]
  },
  {
   "cell_type": "code",
   "execution_count": 18,
   "metadata": {},
   "outputs": [],
   "source": [
    "def details(nm,age,city ='chennai'):\n",
    "    print(nm,age,city)"
   ]
  },
  {
   "cell_type": "code",
   "execution_count": 20,
   "metadata": {},
   "outputs": [
    {
     "name": "stdout",
     "output_type": "stream",
     "text": [
      "srk 18 che\n"
     ]
    }
   ],
   "source": [
    "details('srk',18,'che')"
   ]
  },
  {
   "cell_type": "code",
   "execution_count": 21,
   "metadata": {},
   "outputs": [
    {
     "name": "stdout",
     "output_type": "stream",
     "text": [
      "18 srk chennai\n"
     ]
    }
   ],
   "source": [
    "details(18,'srk')"
   ]
  },
  {
   "cell_type": "code",
   "execution_count": 22,
   "metadata": {},
   "outputs": [],
   "source": [
    "def detail(nm,age=24,city = 'chennai'):\n",
    "    print(nm,age,city)"
   ]
  },
  {
   "cell_type": "code",
   "execution_count": 23,
   "metadata": {},
   "outputs": [
    {
     "name": "stdout",
     "output_type": "stream",
     "text": [
      "ethan 24 chennai\n"
     ]
    }
   ],
   "source": [
    "detail(nm = 'ethan')"
   ]
  },
  {
   "cell_type": "code",
   "execution_count": 24,
   "metadata": {},
   "outputs": [
    {
     "name": "stdout",
     "output_type": "stream",
     "text": [
      "(10, 20, 30)\n",
      "10\n",
      "20\n",
      "30\n"
     ]
    }
   ],
   "source": [
    "def p(*a):\n",
    "    print(a)\n",
    "    for i in a:\n",
    "        print(i)\n",
    "p(10,20,30)"
   ]
  },
  {
   "cell_type": "code",
   "execution_count": 25,
   "metadata": {},
   "outputs": [
    {
     "name": "stdout",
     "output_type": "stream",
     "text": [
      "((10, 20, 30),)\n",
      "(10, 20, 30)\n"
     ]
    }
   ],
   "source": [
    "a = (10,20,30)\n",
    "p(a)"
   ]
  },
  {
   "cell_type": "code",
   "execution_count": 39,
   "metadata": {},
   "outputs": [
    {
     "data": {
      "text/plain": [
       "(['madam', 'mom'], ['wonderful', 'good'])"
      ]
     },
     "execution_count": 39,
     "metadata": {},
     "output_type": "execute_result"
    }
   ],
   "source": [
    "ls =[]\n",
    "ls1 =[]\n",
    "def palandrom(*a):\n",
    "    for i in a:\n",
    "        if i == i[::-1]:\n",
    "            ls.append(i)\n",
    "        #print(i,'is p')\n",
    "        else:\n",
    "            ls1.append(i)\n",
    "    #print(ls)\n",
    "    #print(ls1)\n",
    "    return ls,ls1\n",
    "palandrom(\"madam\",\"wonderful\",'good','mom')\n"
   ]
  },
  {
   "cell_type": "code",
   "execution_count": 41,
   "metadata": {},
   "outputs": [
    {
     "name": "stdout",
     "output_type": "stream",
     "text": [
      "first : great\n",
      "mid : learning\n",
      "end : awesome\n"
     ]
    }
   ],
   "source": [
    "def fun1(**a):\n",
    "    for k,v in a.items():\n",
    "        print(k,':',v)\n",
    "fun1(first ='great',mid = 'learning',end = 'awesome')"
   ]
  },
  {
   "cell_type": "code",
   "execution_count": 43,
   "metadata": {},
   "outputs": [
    {
     "name": "stdout",
     "output_type": "stream",
     "text": [
      "72.68\n"
     ]
    }
   ],
   "source": [
    "def fahrenheit_c(a):\n",
    "    \n",
    "    fahrenheit = (a*9/5)+32\n",
    "    print(fahrenheit)\n",
    "    \n",
    "fahrenheit_c(22.6)"
   ]
  },
  {
   "cell_type": "code",
   "execution_count": 50,
   "metadata": {},
   "outputs": [
    {
     "data": {
      "text/plain": [
       "[72.68, 78.44, 81.14, 85.64]"
      ]
     },
     "execution_count": 50,
     "metadata": {},
     "output_type": "execute_result"
    }
   ],
   "source": [
    "def fahrenheit_c(*a):\n",
    "    lst1= []\n",
    "    for i in a:\n",
    "        for j in i:\n",
    "            \n",
    "            #print(j)\n",
    "            #print(a)\n",
    "            fahrenheit = (j*9/5)+32\n",
    "            lst1.append(fahrenheit)\n",
    "    return lst1\n",
    "lst = [22.6,25.8,27.3,29.8]\n",
    "fahrenheit_c(lst)"
   ]
  },
  {
   "cell_type": "code",
   "execution_count": 57,
   "metadata": {},
   "outputs": [
    {
     "name": "stdout",
     "output_type": "stream",
     "text": [
      "22.6 : 72.68\n",
      "25.8 : 78.44\n",
      "27.3 : 81.14\n",
      "29.8 : 85.64\n"
     ]
    }
   ],
   "source": [
    "def fahrenheit_c(j):\n",
    "    \n",
    "    lst1= []\n",
    "    \n",
    "    fahrenheit = (j*9/5)+32\n",
    "    #lst1.append(fahrenheit)\n",
    "    return fahrenheit\n",
    "lst = [22.6,25.8,27.3,29.8]\n",
    "for i in lst:\n",
    "    print(i, ':',fahrenheit_c(i))\n",
    "#fahrenheit_c(lst)"
   ]
  },
  {
   "cell_type": "code",
   "execution_count": 60,
   "metadata": {},
   "outputs": [
    {
     "data": {
      "text/plain": [
       "120"
      ]
     },
     "execution_count": 60,
     "metadata": {},
     "output_type": "execute_result"
    }
   ],
   "source": [
    "def factorial(n):\n",
    "    mul =1\n",
    "    for i in range(1,n+1):\n",
    "        #1*2*3*4\n",
    "        mul *= i # mul = mul*i\n",
    "    return mul\n",
    "factorial(5)    "
   ]
  },
  {
   "cell_type": "code",
   "execution_count": 63,
   "metadata": {},
   "outputs": [],
   "source": [
    "def fact(n):\n",
    "    if(n<0):\n",
    "        print('enter the value greater than zero')\n",
    "    elif (n==0) or (n==1):\n",
    "        return 1\n",
    "    else:\n",
    "        return n*fact(n-1)\n"
   ]
  },
  {
   "cell_type": "code",
   "execution_count": 64,
   "metadata": {},
   "outputs": [
    {
     "name": "stdout",
     "output_type": "stream",
     "text": [
      "enter the factorial value: 5\n"
     ]
    },
    {
     "data": {
      "text/plain": [
       "120"
      ]
     },
     "execution_count": 64,
     "metadata": {},
     "output_type": "execute_result"
    }
   ],
   "source": [
    "n = int(input('enter the factorial value: '))\n",
    "fact(n)"
   ]
  },
  {
   "cell_type": "code",
   "execution_count": 65,
   "metadata": {},
   "outputs": [
    {
     "name": "stdout",
     "output_type": "stream",
     "text": [
      "enter a charactersiva\n",
      "siva is an alphabet\n"
     ]
    }
   ],
   "source": [
    "ch = input('enter a character')\n",
    "if ((ch>='a' and ch<='z') or (ch>='A' and ch<='Z')):\n",
    "    print(ch, 'is an alphabet')\n",
    "else:\n",
    "    print(ch,'is not a alphabet')"
   ]
  },
  {
   "cell_type": "code",
   "execution_count": 70,
   "metadata": {},
   "outputs": [
    {
     "name": "stdout",
     "output_type": "stream",
     "text": [
      "enter a characterwonderful123456\n"
     ]
    },
    {
     "data": {
      "text/plain": [
       "(['w', 'o', 'n', 'd', 'e', 'r', 'f', 'u', 'l'], [1, 2, 3, 4, 5, 6])"
      ]
     },
     "execution_count": 70,
     "metadata": {},
     "output_type": "execute_result"
    }
   ],
   "source": [
    "def sep(a):\n",
    "    lst =[]\n",
    "    lst1 =[]\n",
    "    for ch in a:\n",
    "        if ((ch>='a' and ch<='z') or (ch>='A' and ch<='Z')):\n",
    "            lst.append(ch)\n",
    "        else:\n",
    "            lst1.append(int(ch))\n",
    "    return lst,lst1\n",
    "str1 = input('enter a character')\n",
    "    \n",
    "sep(str1)    \n",
    "\n",
    "   "
   ]
  },
  {
   "cell_type": "code",
   "execution_count": 76,
   "metadata": {},
   "outputs": [
    {
     "name": "stdout",
     "output_type": "stream",
     "text": [
      "great learning!!! is a great place to work, and i enjoy learning python\n",
      "number of times  a repeated 7\n",
      "number of times  e repeated 6\n",
      "number of times  i repeated 4\n",
      "number of times  o repeated 4\n",
      "number of times  u repeated 0\n"
     ]
    }
   ],
   "source": [
    "def check1(a):\n",
    "    vowels= 'aeiou'\n",
    "    \n",
    "    for i in vowels:\n",
    "        count =0\n",
    "        for j in a:\n",
    "            if j==i:\n",
    "                count+=1\n",
    "        print('number of times ',i, 'repeated',count)\n",
    "\n",
    "stg = 'Great Learning!!! is a great place to work, and i enjoy learning python'\n",
    "stg = stg.lower()\n",
    "print(stg)\n",
    "check1(stg)"
   ]
  },
  {
   "cell_type": "code",
   "execution_count": 77,
   "metadata": {},
   "outputs": [
    {
     "name": "stdout",
     "output_type": "stream",
     "text": [
      "great learning!!! is a great place to work, and i enjoy learning python\n",
      "{'a': 0, 'e': 0, 'i': 0, 'o': 0, 'u': 0}\n",
      "{'a': 7, 'e': 6, 'i': 4, 'o': 4, 'u': 0}\n"
     ]
    }
   ],
   "source": [
    "strg = 'Great Learning!!! is a great place to work, and i enjoy learning python'\n",
    "vowels= 'aeiou'\n",
    "\n",
    "strg = strg.casefold()#Docstring: Return a version of the string suitable for caseless comparisons.\n",
    "\n",
    "print(strg)\n",
    "\n",
    "count ={}.fromkeys(vowels,0)\n",
    "print(count)\n",
    "\n",
    "for i in strg:\n",
    "    if i in count:\n",
    "        count[i]+=1\n",
    "print(count)"
   ]
  },
  {
   "cell_type": "code",
   "execution_count": 78,
   "metadata": {},
   "outputs": [],
   "source": [
    "def f1():\n",
    "    a =1\n",
    "    print(a,'within f1()')\n",
    "def f2():\n",
    "    b=10\n",
    "    print(b,'within f2()')\n",
    "    "
   ]
  },
  {
   "cell_type": "code",
   "execution_count": 79,
   "metadata": {},
   "outputs": [
    {
     "name": "stdout",
     "output_type": "stream",
     "text": [
      "1 within f1()\n",
      "10 within f2()\n"
     ]
    }
   ],
   "source": [
    "f1()\n",
    "f2()"
   ]
  },
  {
   "cell_type": "code",
   "execution_count": 80,
   "metadata": {},
   "outputs": [],
   "source": [
    "\n",
    "def f1():\n",
    "    print(a)"
   ]
  },
  {
   "cell_type": "code",
   "execution_count": 81,
   "metadata": {},
   "outputs": [
    {
     "name": "stdout",
     "output_type": "stream",
     "text": [
      "100\n"
     ]
    }
   ],
   "source": [
    "a =100# global variable\n",
    "f1()"
   ]
  },
  {
   "cell_type": "code",
   "execution_count": 83,
   "metadata": {},
   "outputs": [
    {
     "name": "stdout",
     "output_type": "stream",
     "text": [
      "100 within f1\n",
      "100 within f2\n",
      "100 outside of function call\n"
     ]
    }
   ],
   "source": [
    "def f1():\n",
    "    print(a,'within f1')\n",
    "def f2():\n",
    "    print(a,'within f2')\n",
    "a =100\n",
    "f1()\n",
    "f2()\n",
    "print(a, 'outside of function call')"
   ]
  },
  {
   "cell_type": "code",
   "execution_count": 84,
   "metadata": {},
   "outputs": [
    {
     "name": "stdout",
     "output_type": "stream",
     "text": [
      "500 within f1\n",
      "100 within f2\n",
      "100 outside of function call\n"
     ]
    }
   ],
   "source": [
    "def f1():\n",
    "    a =500\n",
    "    print(a,'within f1')\n",
    "def f2():\n",
    "    print(a,'within f2')\n",
    "a =100\n",
    "f1()\n",
    "f2()\n",
    "print(a, 'outside of function call')"
   ]
  },
  {
   "cell_type": "code",
   "execution_count": 86,
   "metadata": {},
   "outputs": [
    {
     "name": "stdout",
     "output_type": "stream",
     "text": [
      "100 within f2\n",
      "500 within f1\n",
      "500 outside of function call\n"
     ]
    }
   ],
   "source": [
    "def f1():\n",
    "    global a\n",
    "    a =500\n",
    "    print(a,'within f1')\n",
    "def f2():\n",
    "    print(a,'within f2')\n",
    "a =100\n",
    "f2()\n",
    "f1()\n",
    "\n",
    "print(a, 'outside of function call')"
   ]
  },
  {
   "cell_type": "code",
   "execution_count": 87,
   "metadata": {},
   "outputs": [
    {
     "data": {
      "text/plain": [
       "12"
      ]
     },
     "execution_count": 87,
     "metadata": {},
     "output_type": "execute_result"
    }
   ],
   "source": [
    "x = lambda a : a+10\n",
    "x(2)"
   ]
  },
  {
   "cell_type": "code",
   "execution_count": 90,
   "metadata": {},
   "outputs": [
    {
     "name": "stdout",
     "output_type": "stream",
     "text": [
      "4\n"
     ]
    }
   ],
   "source": [
    "funn = lambda x,y:x if x>y else y\n",
    "\n",
    "print(funn(3,4))"
   ]
  },
  {
   "cell_type": "code",
   "execution_count": 93,
   "metadata": {},
   "outputs": [
    {
     "data": {
      "text/plain": [
       "7"
      ]
     },
     "execution_count": 93,
     "metadata": {},
     "output_type": "execute_result"
    }
   ],
   "source": [
    "fun1 = lambda a,b:a+b\n",
    "fun1(3,4)"
   ]
  },
  {
   "cell_type": "code",
   "execution_count": 94,
   "metadata": {},
   "outputs": [
    {
     "name": "stdout",
     "output_type": "stream",
     "text": [
      "enter the number6\n"
     ]
    },
    {
     "data": {
      "text/plain": [
       "216"
      ]
     },
     "execution_count": 94,
     "metadata": {},
     "output_type": "execute_result"
    }
   ],
   "source": [
    "n = int(input('enter the number'))\n",
    "\n",
    "fun2 = lambda n: n**3\n",
    "fun2(n)"
   ]
  },
  {
   "cell_type": "code",
   "execution_count": 97,
   "metadata": {},
   "outputs": [
    {
     "name": "stdout",
     "output_type": "stream",
     "text": [
      "enter the number5\n"
     ]
    },
    {
     "data": {
      "text/plain": [
       "'odd'"
      ]
     },
     "execution_count": 97,
     "metadata": {},
     "output_type": "execute_result"
    }
   ],
   "source": [
    "n = int(input('enter the number'))\n",
    "fun3 = lambda x: 'even' if x%2==0 else 'odd'\n",
    "fun3(n)"
   ]
  },
  {
   "cell_type": "code",
   "execution_count": 98,
   "metadata": {},
   "outputs": [
    {
     "name": "stdout",
     "output_type": "stream",
     "text": [
      "enter the number35\n"
     ]
    },
    {
     "data": {
      "text/plain": [
       "35"
      ]
     },
     "execution_count": 98,
     "metadata": {},
     "output_type": "execute_result"
    }
   ],
   "source": [
    "n = int(input('enter the number'))\n",
    "fun3 = lambda x: x if (x%5==0 and x%7==0) else 'not divisible'\n",
    "fun3(n)\n"
   ]
  },
  {
   "cell_type": "code",
   "execution_count": 104,
   "metadata": {},
   "outputs": [
    {
     "name": "stdout",
     "output_type": "stream",
     "text": [
      "[11, 12, 13, 14, 15]\n"
     ]
    }
   ],
   "source": [
    "n =[1,2,3,4,5]\n",
    "print(list(map(lambda x:x+10,n)))"
   ]
  },
  {
   "cell_type": "code",
   "execution_count": 105,
   "metadata": {},
   "outputs": [
    {
     "name": "stdout",
     "output_type": "stream",
     "text": [
      "(1, 4, 9, 16, 25, 36)\n"
     ]
    }
   ],
   "source": [
    "l =[1,2,3,4,5,6]\n",
    "print(tuple(map(lambda x : x**2,l )))"
   ]
  },
  {
   "cell_type": "code",
   "execution_count": 106,
   "metadata": {},
   "outputs": [
    {
     "name": "stdout",
     "output_type": "stream",
     "text": [
      "(11, 70)\n"
     ]
    }
   ],
   "source": [
    "n =[2,3,4,5,7,11,70]\n",
    "print(tuple(filter(lambda x : x>10,n)))"
   ]
  },
  {
   "cell_type": "code",
   "execution_count": 107,
   "metadata": {},
   "outputs": [
    {
     "name": "stdout",
     "output_type": "stream",
     "text": [
      "(False, False, True, True, True, True)\n"
     ]
    }
   ],
   "source": [
    "l =[1,2,3,4,5,6]\n",
    "print(tuple(map(lambda x : x>2,l ))) # it check the condition and apply  it for the iterable data \n",
    "3## same no. of data avialble after  map"
   ]
  },
  {
   "cell_type": "code",
   "execution_count": 109,
   "metadata": {},
   "outputs": [
    {
     "data": {
      "text/plain": [
       "(2, 70)"
      ]
     },
     "execution_count": 109,
     "metadata": {},
     "output_type": "execute_result"
    }
   ],
   "source": [
    "n =[2,5,11,70]\n",
    "tuple(filter(lambda x:x%2==0,n))  # it will filter the data # condition is mandatory"
   ]
  },
  {
   "cell_type": "code",
   "execution_count": 112,
   "metadata": {},
   "outputs": [
    {
     "name": "stdout",
     "output_type": "stream",
     "text": [
      "['python', 'java']\n"
     ]
    }
   ],
   "source": [
    "dict_a =[ {'name':'python','points':10},{'name':'java','points':8}]\n",
    "print(list(map(lambda x:x['name'],dict_a)))"
   ]
  },
  {
   "cell_type": "code",
   "execution_count": 113,
   "metadata": {},
   "outputs": [
    {
     "name": "stdout",
     "output_type": "stream",
     "text": [
      "[10, 8]\n"
     ]
    }
   ],
   "source": [
    "print(list(map(lambda x:x['points'],dict_a)))"
   ]
  },
  {
   "cell_type": "code",
   "execution_count": 114,
   "metadata": {},
   "outputs": [
    {
     "name": "stdout",
     "output_type": "stream",
     "text": [
      "[100, 64]\n"
     ]
    }
   ],
   "source": [
    "print(list(map(lambda x:x['points']**2,dict_a)))"
   ]
  },
  {
   "cell_type": "code",
   "execution_count": 115,
   "metadata": {},
   "outputs": [
    {
     "name": "stdout",
     "output_type": "stream",
     "text": [
      "[{'name': 'python', 'points': 10}]\n"
     ]
    }
   ],
   "source": [
    "print(list(filter(lambda x:x['points']*2>19,dict_a)))"
   ]
  },
  {
   "cell_type": "code",
   "execution_count": 117,
   "metadata": {},
   "outputs": [
    {
     "data": {
      "text/plain": [
       "15"
      ]
     },
     "execution_count": 117,
     "metadata": {},
     "output_type": "execute_result"
    }
   ],
   "source": [
    "from functools import reduce\n",
    "\n",
    "n =[1,2,3,4,5]\n",
    "reduce((lambda x,y : x+y),n)"
   ]
  },
  {
   "cell_type": "code",
   "execution_count": 118,
   "metadata": {},
   "outputs": [
    {
     "name": "stdout",
     "output_type": "stream",
     "text": [
      "[1, 4, 9, 16, 24, 33]\n"
     ]
    }
   ],
   "source": [
    "from itertools import accumulate\n",
    "lis = [1,3,5,7,8,9]\n",
    "print(list(accumulate(lis,lambda x,y:x+y)))"
   ]
  },
  {
   "cell_type": "code",
   "execution_count": null,
   "metadata": {},
   "outputs": [],
   "source": []
  }
 ],
 "metadata": {
  "kernelspec": {
   "display_name": "Python 3",
   "language": "python",
   "name": "python3"
  },
  "language_info": {
   "codemirror_mode": {
    "name": "ipython",
    "version": 3
   },
   "file_extension": ".py",
   "mimetype": "text/x-python",
   "name": "python",
   "nbconvert_exporter": "python",
   "pygments_lexer": "ipython3",
   "version": "3.7.6"
  }
 },
 "nbformat": 4,
 "nbformat_minor": 2
}
