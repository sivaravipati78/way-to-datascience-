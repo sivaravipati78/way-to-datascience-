{
 "cells": [
  {
   "cell_type": "markdown",
   "metadata": {},
   "source": [
    "# Question - 01\n",
    "\n",
    "Write a Python defined function to multiply all the numbers for the given list below and print it.\n",
    "\n",
    "\n",
    "INPUT:\n",
    "\n",
    "[1,3,2,4,6,3,68,45,575,8, 2, 3, -1, 7]\n",
    "\n",
    "\n",
    "OUTPUT:\n",
    "\n",
    "-255394944000"
   ]
  },
  {
   "cell_type": "code",
   "execution_count": 6,
   "metadata": {},
   "outputs": [
    {
     "data": {
      "text/plain": [
       "-255394944000"
      ]
     },
     "execution_count": 6,
     "metadata": {},
     "output_type": "execute_result"
    }
   ],
   "source": [
    "def fun(*a):\n",
    "    mul =1\n",
    "    \n",
    "    for i in a:\n",
    "        \n",
    "        mul=mul*i\n",
    "    \n",
    "    return mul\n",
    "fun(1,3,2,4,6,3,68,45,575,8, 2, 3, -1, 7)"
   ]
  },
  {
   "cell_type": "markdown",
   "metadata": {},
   "source": [
    "# Question - 02\n",
    "Write a Python defined function to reverse a string given below which include a while loop also and print it.\n",
    "\n",
    "\n",
    "INPUT:\n",
    "\n",
    "'ASDFGHJKUYTREWQ654321123456'\n",
    "\n",
    "\n",
    "\n",
    "OUTPUT:\n",
    "\n",
    "654321123456QWERTYUKJHGFDSA"
   ]
  },
  {
   "cell_type": "code",
   "execution_count": 46,
   "metadata": {},
   "outputs": [
    {
     "name": "stdout",
     "output_type": "stream",
     "text": [
      "enter the stringASDFGHJKUYTREWQ654321123456\n"
     ]
    },
    {
     "data": {
      "text/plain": [
       "'654321123456QWERTYUKJHGFDSA'"
      ]
     },
     "execution_count": 46,
     "metadata": {},
     "output_type": "execute_result"
    }
   ],
   "source": [
    "def rev(a):\n",
    "    str2 =''\n",
    "    b = len(a)-1\n",
    "    c = len(a)\n",
    "    i=0\n",
    "    while (i<c):\n",
    "        \n",
    "        str2 = str2+ a[b]\n",
    "        b-=1\n",
    "        i+=1\n",
    "    return str2\n",
    "a = input('enter the string')\n",
    "rev(a)"
   ]
  },
  {
   "cell_type": "markdown",
   "metadata": {},
   "source": [
    "# Question - 03\n",
    "\n",
    "Write a defined function to add and subtract two variables and print it\n",
    "\n",
    "\n",
    "INPUT:\n",
    "\n",
    "9,12\n",
    "\n",
    "\n",
    "\n",
    "OUTPUT:\n",
    "\n",
    "21, -3"
   ]
  },
  {
   "cell_type": "code",
   "execution_count": 8,
   "metadata": {},
   "outputs": [
    {
     "name": "stdout",
     "output_type": "stream",
     "text": [
      "enter add or sub\t:add\n",
      "enter the x value10\n",
      "enter the y value20\n"
     ]
    },
    {
     "data": {
      "text/plain": [
       "30"
      ]
     },
     "execution_count": 8,
     "metadata": {},
     "output_type": "execute_result"
    }
   ],
   "source": [
    "def fun(a,x,y):\n",
    "    if a =='add':\n",
    "        z = x+y\n",
    "    elif a =='sub':\n",
    "        z =x-y\n",
    "    return z\n",
    "n =input('enter add or sub\\t:')\n",
    "x = int(input('enter the x value'))\n",
    "y = int(input('enter the y value'))\n",
    "\n",
    "fun(n,x,y)\n",
    "        "
   ]
  },
  {
   "cell_type": "markdown",
   "metadata": {},
   "source": [
    "# Question - 04\n",
    "\n",
    "Write a defined function that returns the lesser of two given numbers if both numbers are even, but returns the greater if one or both numbers are odd .\n",
    "\n",
    "For Example:-\n",
    "\n",
    "lesser_of_two_evens(4,6) --> 4\n",
    "\n",
    "lesser_of_two_evens(4,11) --> 11\n",
    "\n",
    "\n",
    "INPUT:\n",
    "\n",
    "2,4\n",
    "\n",
    "2,5\n",
    "\n",
    "\n",
    "OUTPUT:\n",
    "\n",
    "2\n",
    "\n",
    "5"
   ]
  },
  {
   "cell_type": "code",
   "execution_count": 10,
   "metadata": {},
   "outputs": [
    {
     "name": "stdout",
     "output_type": "stream",
     "text": [
      "2 is lesser than two given even numbers \n",
      "5 is greater than two given even numbers \n"
     ]
    }
   ],
   "source": [
    "def fun1(x,y):\n",
    "    if x%2==0 and y%2==0:\n",
    "        if x<y:\n",
    "            print('{} is lesser than two given even numbers '.format(x))\n",
    "        else:\n",
    "            print('{} is lesser than two given even numbers '.format(y))\n",
    "    else:\n",
    "        if x>y:\n",
    "            print('{} is greater than two given numbers '.format(x))\n",
    "        else:\n",
    "            print('{} is greater than two given numbers '.format(y))\n",
    "fun1(2,4)\n",
    "fun1(2,5)"
   ]
  },
  {
   "cell_type": "markdown",
   "metadata": {},
   "source": [
    "# Question - 05\n",
    "\n",
    "Write a defined function takes a two-word string and returns True if both words begin with same letter.\n",
    " \n",
    "For Example :-\n",
    "\n",
    "animal('Levelheaded Llama') --> True\n",
    "animal('Crazy Kangaroo') --> False\n",
    "\n",
    "INPUT:\n",
    "\n",
    "'great learning'\n",
    "\n",
    "'great greater\n",
    "\n",
    "OUTPUT:\n",
    "\n",
    "false\n",
    "\n",
    "true\n"
   ]
  },
  {
   "cell_type": "code",
   "execution_count": 28,
   "metadata": {},
   "outputs": [
    {
     "name": "stdout",
     "output_type": "stream",
     "text": [
      "enter string\tget mad\n",
      "['get', 'mad']\n",
      "mad\n",
      "g\n",
      "m\n"
     ]
    },
    {
     "data": {
      "text/plain": [
       "False"
      ]
     },
     "execution_count": 28,
     "metadata": {},
     "output_type": "execute_result"
    }
   ],
   "source": [
    "def comp(s):\n",
    "    s.casefold()\n",
    "    s = s.split(' ')\n",
    "    a =s[0]\n",
    "    b =s[1]\n",
    "    print(s)\n",
    "    print(b)\n",
    "    for i in a:\n",
    "        print(i)\n",
    "        for j in b:\n",
    "            print(j)\n",
    "            if i==j:\n",
    "                k =True        \n",
    "            else:\n",
    "                k=False\n",
    "            break\n",
    "        break\n",
    "    return k\n",
    "s= input('enter string\\t')\n",
    "comp(s)\n",
    "            \n",
    "    "
   ]
  },
  {
   "cell_type": "markdown",
   "metadata": {},
   "source": [
    "# Question - 06\n",
    "\n",
    "Given two integers, return True if the sum of the integers is 20 or if one of the integers is 20. If not, return False.\n",
    "\n",
    " For Example :-\n",
    "\n",
    "check_num(20,10) --> True\n",
    "\n",
    "check_num(12,8) --> True\n",
    "\n",
    "check_num(2,3) --> False\n",
    "\n",
    "\n",
    "INPUT:\n",
    "\n",
    "20,20\n",
    "\n",
    "16,4\n",
    "\n",
    "18,1\n",
    "\n",
    "\n",
    "OUTPUT:\n",
    "\n",
    "true\n",
    "\n",
    "true\n",
    "\n",
    "false"
   ]
  },
  {
   "cell_type": "code",
   "execution_count": 30,
   "metadata": {},
   "outputs": [
    {
     "name": "stdout",
     "output_type": "stream",
     "text": [
      "enter num a \t16\n",
      "enter num b \t4\n",
      "True\n"
     ]
    }
   ],
   "source": [
    "def check(x,y):\n",
    "    if x==20 or y==20 or x+y ==20:\n",
    "        print('True')\n",
    "    else:\n",
    "        print('false')\n",
    "a= int(input('enter num a \\t'))\n",
    "b= int(input('enter num b \\t'))\n",
    "check(a,b)"
   ]
  },
  {
   "cell_type": "markdown",
   "metadata": {},
   "source": [
    "# Question - 07\n",
    "Write a python code to map the given below list using lambda function the output to be square of the given list .\n",
    "\n",
    "INPUT:\n",
    "\n",
    "[1,2,3,4,5]\n",
    "\n",
    "OUTPUT:\n",
    "\n",
    "[1,4,9,16,25]"
   ]
  },
  {
   "cell_type": "code",
   "execution_count": 32,
   "metadata": {},
   "outputs": [
    {
     "data": {
      "text/plain": [
       "[1, 4, 9, 16, 25]"
      ]
     },
     "execution_count": 32,
     "metadata": {},
     "output_type": "execute_result"
    }
   ],
   "source": [
    "lst = [1,2,3,4,5]\n",
    "list(map(lambda x:x**2 ,lst))"
   ]
  },
  {
   "cell_type": "markdown",
   "metadata": {},
   "source": [
    "# Question - 08\n",
    "\n",
    "Write a python code to filter the given below list using lambda function the output to be even numbers from given list .\n",
    "\n",
    "INPUT:\n",
    "\n",
    "[1,2,3,4,5,6,7,8,9,10]\n",
    "\n",
    "\n",
    "OUTPUT:\n",
    "\n",
    "[2,4,6,8,10]"
   ]
  },
  {
   "cell_type": "code",
   "execution_count": 33,
   "metadata": {},
   "outputs": [
    {
     "data": {
      "text/plain": [
       "[2, 4, 6, 8, 10]"
      ]
     },
     "execution_count": 33,
     "metadata": {},
     "output_type": "execute_result"
    }
   ],
   "source": [
    "lst = [1,2,3,4,5,6,7,8,9,10]\n",
    "list(filter(lambda x:x%2==0, lst))"
   ]
  },
  {
   "cell_type": "markdown",
   "metadata": {},
   "source": [
    "# Question - 09\n",
    "\n",
    "\n",
    "Write a Python defined function that checks whether a passed string is palindrome or not if it is an palindrome then output is to be true else it to be false and print it.\n",
    "\n",
    "Note: A palindrome is word, phrase, or sequence that reads the same backward as forward, e.g., madam or nurses run.\n",
    "\n",
    "\n",
    "\n",
    "\n",
    "INPUT:\n",
    "\n",
    "nurses run\n",
    "\n",
    "abcba\n",
    "\n",
    "\n",
    "\n",
    "OUTPUT:\n",
    "\n",
    "true\n",
    "\n",
    "true"
   ]
  },
  {
   "cell_type": "code",
   "execution_count": 35,
   "metadata": {},
   "outputs": [
    {
     "name": "stdout",
     "output_type": "stream",
     "text": [
      "enter the string\tmadam\n"
     ]
    },
    {
     "data": {
      "text/plain": [
       "'True'"
      ]
     },
     "execution_count": 35,
     "metadata": {},
     "output_type": "execute_result"
    }
   ],
   "source": [
    "def pal(a):\n",
    "    #ls =list(a)\n",
    "    if a ==a[::-1]:\n",
    "        k = 'True'\n",
    "    else:\n",
    "        k ='false'\n",
    "\n",
    "    return k\n",
    "        \n",
    "s = input('enter the string\\t')\n",
    "pal(s)"
   ]
  },
  {
   "cell_type": "markdown",
   "metadata": {},
   "source": [
    "# Question - 10\n",
    "\n",
    "\n",
    "Write a Python defined function to check whether a string is pangram or not if the sentence is pangram output to be true if not it is to be false.\n",
    " \n",
    "Note : Pangrams are words or sentences containing every letter of the alphabet at least once.\n",
    "\n",
    "For example : \"The quick brown fox jumps over the lazy dog\"\n",
    "\n",
    "Hint: Look at the string module\n",
    "    \n",
    "\n",
    "INPUT:\n",
    "\n",
    "The quick brown fox jumps over the lazy dog\n",
    "\n",
    "\n",
    "\n",
    "abcdefghijklmnopqrstuvwxyz\n",
    "\n",
    "\n",
    "\n",
    "hjdbjdjdnwdjksndklsdnkwdkdnkdm\n",
    "\n",
    "\n",
    "\n",
    "OUTPUT:\n",
    "\n",
    "true\n",
    "\n",
    "true\n",
    "\n",
    "false"
   ]
  },
  {
   "cell_type": "code",
   "execution_count": 39,
   "metadata": {},
   "outputs": [
    {
     "name": "stdout",
     "output_type": "stream",
     "text": [
      "enter the string\n",
      "The quick brown fox jumps over the lazy dog\n"
     ]
    },
    {
     "data": {
      "text/plain": [
       "'True'"
      ]
     },
     "execution_count": 39,
     "metadata": {},
     "output_type": "execute_result"
    }
   ],
   "source": [
    "def pan(s):\n",
    "    b ='abcdefghijklmnopqrstuvwxyz'\n",
    "    s = s.lower()\n",
    "    s = s.replace(' ','')\n",
    "    for i in b:\n",
    "        for j in s:\n",
    "            \n",
    "            if i not in j:\n",
    "                k = 'false'\n",
    "        else:\n",
    "            k ='True'\n",
    "    return k\n",
    "\n",
    "s = input('enter the string\\n')            \n",
    "pan(s)\n"
   ]
  },
  {
   "cell_type": "code",
   "execution_count": null,
   "metadata": {},
   "outputs": [],
   "source": []
  }
 ],
 "metadata": {
  "hide_input": false,
  "kernelspec": {
   "display_name": "Python 3",
   "language": "python",
   "name": "python3"
  },
  "language_info": {
   "codemirror_mode": {
    "name": "ipython",
    "version": 3
   },
   "file_extension": ".py",
   "mimetype": "text/x-python",
   "name": "python",
   "nbconvert_exporter": "python",
   "pygments_lexer": "ipython3",
   "version": "3.7.1"
  },
  "toc": {
   "base_numbering": 1,
   "nav_menu": {},
   "number_sections": true,
   "sideBar": true,
   "skip_h1_title": false,
   "title_cell": "Table of Contents",
   "title_sidebar": "Contents",
   "toc_cell": false,
   "toc_position": {},
   "toc_section_display": true,
   "toc_window_display": false
  },
  "varInspector": {
   "cols": {
    "lenName": 16,
    "lenType": 16,
    "lenVar": 40
   },
   "kernels_config": {
    "python": {
     "delete_cmd_postfix": "",
     "delete_cmd_prefix": "del ",
     "library": "var_list.py",
     "varRefreshCmd": "print(var_dic_list())"
    },
    "r": {
     "delete_cmd_postfix": ") ",
     "delete_cmd_prefix": "rm(",
     "library": "var_list.r",
     "varRefreshCmd": "cat(var_dic_list()) "
    }
   },
   "types_to_exclude": [
    "module",
    "function",
    "builtin_function_or_method",
    "instance",
    "_Feature"
   ],
   "window_display": false
  }
 },
 "nbformat": 4,
 "nbformat_minor": 2
}
