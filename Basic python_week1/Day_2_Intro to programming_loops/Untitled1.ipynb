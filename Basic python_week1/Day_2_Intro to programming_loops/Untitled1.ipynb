{
 "cells": [
  {
   "cell_type": "code",
   "execution_count": 1,
   "metadata": {},
   "outputs": [
    {
     "data": {
      "text/plain": [
       "['a', 'g', 'o']"
      ]
     },
     "execution_count": 1,
     "metadata": {},
     "output_type": "execute_result"
    }
   ],
   "source": [
    "Dictionary = {'a': 'alpha', 'o': 'omega', 'g': 'gamma'}\n",
    "p = sorted(Dictionary.keys())\n",
    "p"
   ]
  },
  {
   "cell_type": "code",
   "execution_count": 3,
   "metadata": {},
   "outputs": [
    {
     "name": "stdout",
     "output_type": "stream",
     "text": [
      "Dictionary: {'A': 'Geeks', 'B': 'For', 'C': None}\n",
      "Third_value: None\n",
      "Dictionary: {'A': 'Geeks', 'B': 'For', 'C': None, 'D': 'Geeks'}\n",
      "Fourth_value: Geeks\n",
      "Dictionary: {'A': 'Geeks', 'B': 'For', 'C': None, 'D': 'Geeks'}\n",
      "Fourth_value: For\n"
     ]
    }
   ],
   "source": [
    "# Dictionary with single item  \n",
    "Dictionary1 = { 'A': 'Geeks', 'B': 'For'} \n",
    "  \n",
    "# using setdefault() method \n",
    "# when key is not in the Dictionary \n",
    "Third_value = Dictionary1.setdefault('C') \n",
    "print(\"Dictionary:\", Dictionary1) \n",
    "print(\"Third_value:\", Third_value) \n",
    "  \n",
    "# using setdefault() method \n",
    "# when key is not in the Dictionary \n",
    "# but default value is provided \n",
    "Fourth_value = Dictionary1.setdefault('D', 'Geeks') \n",
    "print(\"Dictionary:\", Dictionary1) \n",
    "print(\"Fourth_value:\", Fourth_value)\n",
    "Furth_value = Dictionary1.setdefault('B', 'bath') \n",
    "print(\"Dictionary:\", Dictionary1) \n",
    "print(\"Fourth_value:\", Furth_value)"
   ]
  },
  {
   "cell_type": "code",
   "execution_count": 7,
   "metadata": {},
   "outputs": [
    {
     "data": {
      "text/plain": [
       "[[1, 2, 3, 4], 'srk', 2, 3, 4, [1, 2, 3, 4]]"
      ]
     },
     "execution_count": 7,
     "metadata": {},
     "output_type": "execute_result"
    }
   ],
   "source": [
    "l1 =[1,2,3,4]\n",
    "l2 = ['srk',2,3,4]\n",
    "l2.append(l1)\n",
    "l2.insert(0,l1)\n",
    "l2"
   ]
  },
  {
   "cell_type": "code",
   "execution_count": null,
   "metadata": {},
   "outputs": [],
   "source": []
  }
 ],
 "metadata": {
  "kernelspec": {
   "display_name": "Python 3",
   "language": "python",
   "name": "python3"
  },
  "language_info": {
   "codemirror_mode": {
    "name": "ipython",
    "version": 3
   },
   "file_extension": ".py",
   "mimetype": "text/x-python",
   "name": "python",
   "nbconvert_exporter": "python",
   "pygments_lexer": "ipython3",
   "version": "3.7.1"
  }
 },
 "nbformat": 4,
 "nbformat_minor": 2
}
