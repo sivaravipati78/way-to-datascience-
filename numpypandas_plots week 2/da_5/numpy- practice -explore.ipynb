{
 "cells": [
  {
   "cell_type": "code",
   "execution_count": 3,
   "metadata": {},
   "outputs": [],
   "source": [
    "import numpy as np "
   ]
  },
  {
   "cell_type": "code",
   "execution_count": 4,
   "metadata": {},
   "outputs": [
    {
     "name": "stdout",
     "output_type": "stream",
     "text": [
      "<class 'tuple'>\n",
      "<class 'numpy.ndarray'>\n",
      "<class 'numpy.ndarray'>\n",
      "<class 'numpy.ndarray'>\n",
      "['srl' 'ram' '1']\n",
      "[1 2 3 4 5]\n",
      "[1 2]\n"
     ]
    }
   ],
   "source": [
    "list1 =(1,2,3,4,5)  # tuple\n",
    "str1 = ['srl','ram',1]\n",
    "print(type(list1))\n",
    "\n",
    "Ar =np.array(list1)  # object can be any single variable,If it is 2 values we need to pass as seq.\n",
    "ar2 = np.array((1,2))\n",
    "Ar1 =np.array(str1)# it takes string ad converts as nd aray\n",
    "\n",
    "print(type(Ar))\n",
    "print(type(Ar1))\n",
    "print(type(ar2))\n",
    "\n",
    "print(Ar1)\n",
    "print(Ar)\n",
    "print(ar2)\n",
    "\n",
    "#array(object, dtype=None, copy=True, order='K', subok=False, ndmin=0)\n",
    "\n",
    "#Create an array."
   ]
  },
  {
   "cell_type": "code",
   "execution_count": 5,
   "metadata": {},
   "outputs": [],
   "source": [
    "Ar =np.array(list1,dtype=float,copy =False) # we can change he data type by dtype"
   ]
  },
  {
   "cell_type": "code",
   "execution_count": 6,
   "metadata": {},
   "outputs": [
    {
     "data": {
      "text/plain": [
       "array([1., 2., 3., 4., 5.])"
      ]
     },
     "execution_count": 6,
     "metadata": {},
     "output_type": "execute_result"
    }
   ],
   "source": [
    "Ar"
   ]
  },
  {
   "cell_type": "code",
   "execution_count": 9,
   "metadata": {},
   "outputs": [
    {
     "ename": "AttributeError",
     "evalue": "'numpy.ndarray' object has no attribute 'values'",
     "output_type": "error",
     "traceback": [
      "\u001b[1;31m---------------------------------------------------------------------------\u001b[0m",
      "\u001b[1;31mAttributeError\u001b[0m                            Traceback (most recent call last)",
      "\u001b[1;32m<ipython-input-9-f5640b32a099>\u001b[0m in \u001b[0;36m<module>\u001b[1;34m\u001b[0m\n\u001b[1;32m----> 1\u001b[1;33m \u001b[0mAr\u001b[0m\u001b[1;33m.\u001b[0m\u001b[0mvalues\u001b[0m\u001b[1;33m\u001b[0m\u001b[1;33m\u001b[0m\u001b[0m\n\u001b[0m",
      "\u001b[1;31mAttributeError\u001b[0m: 'numpy.ndarray' object has no attribute 'values'"
     ]
    }
   ],
   "source": [
    "#Ar.values"
   ]
  },
  {
   "cell_type": "code",
   "execution_count": 11,
   "metadata": {},
   "outputs": [
    {
     "ename": "TypeError",
     "evalue": "'numpy.float64' object cannot be interpreted as an integer",
     "output_type": "error",
     "traceback": [
      "\u001b[1;31m---------------------------------------------------------------------------\u001b[0m",
      "\u001b[1;31mTypeError\u001b[0m                                 Traceback (most recent call last)",
      "\u001b[1;32m<ipython-input-11-4b1d10f2f9c5>\u001b[0m in \u001b[0;36m<module>\u001b[1;34m\u001b[0m\n\u001b[1;32m----> 1\u001b[1;33m \u001b[0mnp\u001b[0m\u001b[1;33m.\u001b[0m\u001b[0mindices\u001b[0m\u001b[1;33m(\u001b[0m\u001b[0mAr\u001b[0m\u001b[1;33m)\u001b[0m\u001b[1;33m\u001b[0m\u001b[1;33m\u001b[0m\u001b[0m\n\u001b[0m",
      "\u001b[1;32m~\\Anaconda3\\lib\\site-packages\\numpy\\core\\numeric.py\u001b[0m in \u001b[0;36mindices\u001b[1;34m(dimensions, dtype)\u001b[0m\n\u001b[0;32m   1861\u001b[0m     \u001b[0mN\u001b[0m \u001b[1;33m=\u001b[0m \u001b[0mlen\u001b[0m\u001b[1;33m(\u001b[0m\u001b[0mdimensions\u001b[0m\u001b[1;33m)\u001b[0m\u001b[1;33m\u001b[0m\u001b[1;33m\u001b[0m\u001b[0m\n\u001b[0;32m   1862\u001b[0m     \u001b[0mshape\u001b[0m \u001b[1;33m=\u001b[0m \u001b[1;33m(\u001b[0m\u001b[1;36m1\u001b[0m\u001b[1;33m,\u001b[0m\u001b[1;33m)\u001b[0m\u001b[1;33m*\u001b[0m\u001b[0mN\u001b[0m\u001b[1;33m\u001b[0m\u001b[1;33m\u001b[0m\u001b[0m\n\u001b[1;32m-> 1863\u001b[1;33m     \u001b[0mres\u001b[0m \u001b[1;33m=\u001b[0m \u001b[0mempty\u001b[0m\u001b[1;33m(\u001b[0m\u001b[1;33m(\u001b[0m\u001b[0mN\u001b[0m\u001b[1;33m,\u001b[0m\u001b[1;33m)\u001b[0m\u001b[1;33m+\u001b[0m\u001b[0mdimensions\u001b[0m\u001b[1;33m,\u001b[0m \u001b[0mdtype\u001b[0m\u001b[1;33m=\u001b[0m\u001b[0mdtype\u001b[0m\u001b[1;33m)\u001b[0m\u001b[1;33m\u001b[0m\u001b[1;33m\u001b[0m\u001b[0m\n\u001b[0m\u001b[0;32m   1864\u001b[0m     \u001b[1;32mfor\u001b[0m \u001b[0mi\u001b[0m\u001b[1;33m,\u001b[0m \u001b[0mdim\u001b[0m \u001b[1;32min\u001b[0m \u001b[0menumerate\u001b[0m\u001b[1;33m(\u001b[0m\u001b[0mdimensions\u001b[0m\u001b[1;33m)\u001b[0m\u001b[1;33m:\u001b[0m\u001b[1;33m\u001b[0m\u001b[1;33m\u001b[0m\u001b[0m\n\u001b[0;32m   1865\u001b[0m         res[i] = arange(dim, dtype=dtype).reshape(\n",
      "\u001b[1;31mTypeError\u001b[0m: 'numpy.float64' object cannot be interpreted as an integer"
     ]
    }
   ],
   "source": [
    "np.indices(Ar)"
   ]
  },
  {
   "cell_type": "code",
   "execution_count": 15,
   "metadata": {
    "scrolled": true
   },
   "outputs": [
    {
     "name": "stdout",
     "output_type": "stream",
     "text": [
      "[[ 0  1  2  3]\n",
      " [ 4  5  6  7]\n",
      " [ 8  9 10 11]\n",
      " [12 13 14 15]\n",
      " [16 17 18 19]]\n",
      "[[0 0 0]\n",
      " [1 1 1]]\n",
      "[[0 1 2]\n",
      " [0 1 2]]\n"
     ]
    },
    {
     "data": {
      "text/plain": [
       "array([[0, 1, 2],\n",
       "       [4, 5, 6]])"
      ]
     },
     "execution_count": 15,
     "metadata": {},
     "output_type": "execute_result"
    }
   ],
   "source": [
    "x = np.arange(20).reshape(5, 4)\n",
    "print(x)\n",
    "row, col = np.indices((2, 3))\n",
    "print(row)\n",
    "print(col)\n",
    "\n",
    "x[row, col]\n",
    "#array([[0, 1, 2],\n",
    "   #    [4, 5, 6]])"
   ]
  },
  {
   "cell_type": "code",
   "execution_count": 5,
   "metadata": {},
   "outputs": [
    {
     "name": "stdout",
     "output_type": "stream",
     "text": [
      "[1. 2. 3.]\n",
      "[[1 2 3]\n",
      " [1 2 4]]\n",
      "[[[[1 2 3]]]]\n",
      "[1.+0.j 2.+0.j 3.+0.j]\n"
     ]
    }
   ],
   "source": [
    "lst2 = [1,2,3.0]\n",
    "\n",
    "upcast = np.array(lst2)#upcasting\n",
    "multi  = np.array([[1,2,3],[1,2,4]])#multi array\n",
    "ndim  = np.array([1,2,3],ndmin=4)#ndimensions\n",
    "complex1 = np.array([1, 2, 3], dtype=complex) #\n",
    "\n",
    "print(upcast)\n",
    "print(multi)\n",
    "print(ndim)\n",
    "print(complex1)\n",
    "\n",
    "#upcasting "
   ]
  },
  {
   "cell_type": "code",
   "execution_count": 6,
   "metadata": {},
   "outputs": [
    {
     "data": {
      "text/plain": [
       "numpy.ndarray"
      ]
     },
     "execution_count": 6,
     "metadata": {},
     "output_type": "execute_result"
    }
   ],
   "source": [
    "type(np.array(np.mat('1 2; 3 4')))"
   ]
  },
  {
   "cell_type": "code",
   "execution_count": 7,
   "metadata": {},
   "outputs": [
    {
     "data": {
      "text/plain": [
       "numpy.matrixlib.defmatrix.matrix"
      ]
     },
     "execution_count": 7,
     "metadata": {},
     "output_type": "execute_result"
    }
   ],
   "source": [
    "type(np.mat('1 2; 3 4'))"
   ]
  },
  {
   "cell_type": "code",
   "execution_count": 8,
   "metadata": {},
   "outputs": [
    {
     "data": {
      "text/plain": [
       "(2, 3)"
      ]
     },
     "execution_count": 8,
     "metadata": {},
     "output_type": "execute_result"
    }
   ],
   "source": [
    "multi.shape # rows,col"
   ]
  },
  {
   "cell_type": "code",
   "execution_count": 9,
   "metadata": {},
   "outputs": [
    {
     "data": {
      "text/plain": [
       "6"
      ]
     },
     "execution_count": 9,
     "metadata": {},
     "output_type": "execute_result"
    }
   ],
   "source": [
    "multi.size # no of elements"
   ]
  },
  {
   "cell_type": "code",
   "execution_count": 10,
   "metadata": {},
   "outputs": [
    {
     "data": {
      "text/plain": [
       "2"
      ]
     },
     "execution_count": 10,
     "metadata": {},
     "output_type": "execute_result"
    }
   ],
   "source": [
    "len(multi)"
   ]
  },
  {
   "cell_type": "code",
   "execution_count": 11,
   "metadata": {},
   "outputs": [
    {
     "name": "stdout",
     "output_type": "stream",
     "text": [
      "[[1], [2], [3], [4], [5]]\n"
     ]
    }
   ],
   "source": [
    "row = [[1],[2],[3],[4],[5]]\n",
    "print(row)"
   ]
  },
  {
   "cell_type": "code",
   "execution_count": 12,
   "metadata": {},
   "outputs": [
    {
     "data": {
      "text/plain": [
       "5"
      ]
     },
     "execution_count": 12,
     "metadata": {},
     "output_type": "execute_result"
    }
   ],
   "source": [
    "len(row)"
   ]
  },
  {
   "cell_type": "code",
   "execution_count": 13,
   "metadata": {},
   "outputs": [
    {
     "data": {
      "text/plain": [
       "4"
      ]
     },
     "execution_count": 13,
     "metadata": {},
     "output_type": "execute_result"
    }
   ],
   "source": [
    "multi.itemsize #size of each byte in my windows machine"
   ]
  },
  {
   "cell_type": "code",
   "execution_count": 14,
   "metadata": {},
   "outputs": [
    {
     "data": {
      "text/plain": [
       "24"
      ]
     },
     "execution_count": 14,
     "metadata": {},
     "output_type": "execute_result"
    }
   ],
   "source": [
    "total_memory_occupied = multi.size * multi.itemsize\n",
    "total_memory_occupied"
   ]
  },
  {
   "cell_type": "markdown",
   "metadata": {},
   "source": [
    "# arange"
   ]
  },
  {
   "cell_type": "code",
   "execution_count": 15,
   "metadata": {},
   "outputs": [],
   "source": [
    "#arange(...)\n",
    "#    arange([start,] stop[, step,], dtype=None)"
   ]
  },
  {
   "cell_type": "code",
   "execution_count": 16,
   "metadata": {},
   "outputs": [
    {
     "name": "stdout",
     "output_type": "stream",
     "text": [
      "[ 0  1  2  3  4  5  6  7  8  9 10 11 12 13 14 15 16 17 18 19 20 21 22 23\n",
      " 24 25 26 27 28 29 30 31 32 33 34 35 36 37 38 39 40 41 42 43 44 45 46 47\n",
      " 48 49]\n"
     ]
    }
   ],
   "source": [
    "print(np.arange(50))\n"
   ]
  },
  {
   "cell_type": "code",
   "execution_count": 17,
   "metadata": {
    "scrolled": true
   },
   "outputs": [
    {
     "name": "stdout",
     "output_type": "stream",
     "text": [
      "(50,)\n"
     ]
    }
   ],
   "source": [
    "res =np.arange(1,100,2)\n",
    "print(np.arange(1,100,2).shape)"
   ]
  },
  {
   "cell_type": "code",
   "execution_count": 18,
   "metadata": {},
   "outputs": [
    {
     "name": "stdout",
     "output_type": "stream",
     "text": [
      "[ 1.+0.j  3.+0.j  5.+0.j  7.+0.j  9.+0.j 11.+0.j 13.+0.j 15.+0.j 17.+0.j\n",
      " 19.+0.j 21.+0.j 23.+0.j 25.+0.j 27.+0.j 29.+0.j 31.+0.j 33.+0.j 35.+0.j\n",
      " 37.+0.j 39.+0.j 41.+0.j 43.+0.j 45.+0.j 47.+0.j 49.+0.j 51.+0.j 53.+0.j\n",
      " 55.+0.j 57.+0.j 59.+0.j 61.+0.j 63.+0.j 65.+0.j 67.+0.j 69.+0.j 71.+0.j\n",
      " 73.+0.j 75.+0.j 77.+0.j 79.+0.j 81.+0.j 83.+0.j 85.+0.j 87.+0.j 89.+0.j\n",
      " 91.+0.j 93.+0.j 95.+0.j 97.+0.j 99.+0.j]\n"
     ]
    }
   ],
   "source": [
    "print(np.arange(1,100,2,dtype = complex)) # we can specify dtatype in arange"
   ]
  },
  {
   "cell_type": "code",
   "execution_count": 19,
   "metadata": {},
   "outputs": [
    {
     "data": {
      "text/plain": [
       "(50,)"
      ]
     },
     "execution_count": 19,
     "metadata": {},
     "output_type": "execute_result"
    }
   ],
   "source": [
    "np.arange(1,100,2,dtype = complex).shape"
   ]
  },
  {
   "cell_type": "markdown",
   "metadata": {},
   "source": [
    "## Reshape"
   ]
  },
  {
   "cell_type": "code",
   "execution_count": 20,
   "metadata": {},
   "outputs": [
    {
     "name": "stdout",
     "output_type": "stream",
     "text": [
      "[[ 1  3]\n",
      " [ 5  7]\n",
      " [ 9 11]\n",
      " [13 15]\n",
      " [17 19]\n",
      " [21 23]\n",
      " [25 27]\n",
      " [29 31]\n",
      " [33 35]\n",
      " [37 39]\n",
      " [41 43]\n",
      " [45 47]\n",
      " [49 51]\n",
      " [53 55]\n",
      " [57 59]\n",
      " [61 63]\n",
      " [65 67]\n",
      " [69 71]\n",
      " [73 75]\n",
      " [77 79]\n",
      " [81 83]\n",
      " [85 87]\n",
      " [89 91]\n",
      " [93 95]\n",
      " [97 99]]\n"
     ]
    }
   ],
   "source": [
    "print(np.arange(1,100,2).reshape(25,2))"
   ]
  },
  {
   "cell_type": "code",
   "execution_count": 21,
   "metadata": {},
   "outputs": [
    {
     "data": {
      "text/plain": [
       "array([[ 1,  3],\n",
       "       [ 5,  7],\n",
       "       [ 9, 11],\n",
       "       [13, 15],\n",
       "       [17, 19],\n",
       "       [21, 23],\n",
       "       [25, 27],\n",
       "       [29, 31],\n",
       "       [33, 35],\n",
       "       [37, 39],\n",
       "       [41, 43],\n",
       "       [45, 47],\n",
       "       [49, 51],\n",
       "       [53, 55],\n",
       "       [57, 59],\n",
       "       [61, 63],\n",
       "       [65, 67],\n",
       "       [69, 71],\n",
       "       [73, 75],\n",
       "       [77, 79],\n",
       "       [81, 83],\n",
       "       [85, 87],\n",
       "       [89, 91],\n",
       "       [93, 95],\n",
       "       [97, 99]])"
      ]
     },
     "execution_count": 21,
     "metadata": {},
     "output_type": "execute_result"
    }
   ],
   "source": [
    "res\n",
    "np.reshape(res,(25,2)) # ndarray.reshape : Equivalent method.\n",
    "\n"
   ]
  },
  {
   "cell_type": "markdown",
   "metadata": {},
   "source": [
    "# broad casting"
   ]
  },
  {
   "cell_type": "code",
   "execution_count": 22,
   "metadata": {},
   "outputs": [
    {
     "data": {
      "text/plain": [
       "array([[ 51,  53,  55,  57,  59,  61,  63,  65],\n",
       "       [ 59,  61,  63,  65,  67,  69,  71,  73],\n",
       "       [ 67,  69,  71,  73,  75,  77,  79,  81],\n",
       "       [ 75,  77,  79,  81,  83,  85,  87,  89],\n",
       "       [ 83,  85,  87,  89,  91,  93,  95,  97],\n",
       "       [ 91,  93,  95,  97,  99, 101, 103, 105]])"
      ]
     },
     "execution_count": 22,
     "metadata": {},
     "output_type": "execute_result"
    }
   ],
   "source": [
    "n68 =np.arange(1,49).reshape(6,8)\n",
    "n18 =  np.arange(50, 50+8).reshape(1,8)# need to have same shape or one with 1 row/col and other with same as row/col of first one.\n",
    "n18 +n68"
   ]
  },
  {
   "cell_type": "code",
   "execution_count": 23,
   "metadata": {},
   "outputs": [
    {
     "data": {
      "text/plain": [
       "'\\nn68 =np.arange(1,49).reshape(6,8)\\nn48 =  np.arange(50, 50+(6*16)).reshape(6,16)\\nn48 +n68'"
      ]
     },
     "execution_count": 23,
     "metadata": {},
     "output_type": "execute_result"
    }
   ],
   "source": [
    "'''\n",
    "n68 =np.arange(1,49).reshape(6,8)\n",
    "n48 =  np.arange(50, 50+(6*16)).reshape(6,16)\n",
    "n48 +n68'''\n"
   ]
  },
  {
   "cell_type": "code",
   "execution_count": 24,
   "metadata": {},
   "outputs": [
    {
     "data": {
      "text/plain": [
       "array([[49, 49, 49, 49, 49, 49, 49, 49],\n",
       "       [41, 41, 41, 41, 41, 41, 41, 41],\n",
       "       [33, 33, 33, 33, 33, 33, 33, 33],\n",
       "       [25, 25, 25, 25, 25, 25, 25, 25],\n",
       "       [17, 17, 17, 17, 17, 17, 17, 17],\n",
       "       [ 9,  9,  9,  9,  9,  9,  9,  9]])"
      ]
     },
     "execution_count": 24,
     "metadata": {},
     "output_type": "execute_result"
    }
   ],
   "source": [
    "n18 - n68"
   ]
  },
  {
   "cell_type": "code",
   "execution_count": 25,
   "metadata": {},
   "outputs": [
    {
     "data": {
      "text/plain": [
       "array([[ 0,  1,  1,  1,  4,  1,  0,  1],\n",
       "       [ 5,  1,  8,  5,  2, 13, 11,  9],\n",
       "       [16, 15, 14, 13, 12, 11, 10,  9],\n",
       "       [ 0, 25, 25, 25, 25, 25, 25, 25],\n",
       "       [17, 17, 17, 17, 17, 17, 17, 17],\n",
       "       [ 9,  9,  9,  9,  9,  9,  9,  9]], dtype=int32)"
      ]
     },
     "execution_count": 25,
     "metadata": {},
     "output_type": "execute_result"
    }
   ],
   "source": [
    "n18 %n68"
   ]
  },
  {
   "cell_type": "code",
   "execution_count": 26,
   "metadata": {},
   "outputs": [
    {
     "data": {
      "text/plain": [
       "(6, 8)"
      ]
     },
     "execution_count": 26,
     "metadata": {},
     "output_type": "execute_result"
    }
   ],
   "source": [
    "n68 =n18 *n68\n",
    "n68.shape"
   ]
  },
  {
   "cell_type": "markdown",
   "metadata": {},
   "source": [
    "# Transpose"
   ]
  },
  {
   "cell_type": "code",
   "execution_count": 27,
   "metadata": {},
   "outputs": [
    {
     "data": {
      "text/plain": [
       "(8, 6)"
      ]
     },
     "execution_count": 27,
     "metadata": {},
     "output_type": "execute_result"
    }
   ],
   "source": [
    "n68.T.shape"
   ]
  },
  {
   "cell_type": "code",
   "execution_count": 28,
   "metadata": {},
   "outputs": [],
   "source": [
    "n23 = np.arange(2*3).reshape(2,3)"
   ]
  },
  {
   "cell_type": "code",
   "execution_count": 29,
   "metadata": {},
   "outputs": [],
   "source": [
    "n34 = np.arange(10 ,10+3*4).reshape(3,4)"
   ]
  },
  {
   "cell_type": "markdown",
   "metadata": {},
   "source": [
    "## Dot product"
   ]
  },
  {
   "cell_type": "code",
   "execution_count": 30,
   "metadata": {},
   "outputs": [
    {
     "data": {
      "text/plain": [
       "array([[ 80,  83,  86,  89],\n",
       "       [296, 308, 320, 332]])"
      ]
     },
     "execution_count": 30,
     "metadata": {},
     "output_type": "execute_result"
    }
   ],
   "source": [
    "n24 = n23.dot(n34+10)   # n23 34  ## first arr col == second arr row\n",
    "n24"
   ]
  },
  {
   "cell_type": "markdown",
   "metadata": {},
   "source": [
    "# element selection using indexing & slicing"
   ]
  },
  {
   "cell_type": "code",
   "execution_count": 31,
   "metadata": {},
   "outputs": [
    {
     "data": {
      "text/plain": [
       "332"
      ]
     },
     "execution_count": 31,
     "metadata": {},
     "output_type": "execute_result"
    }
   ],
   "source": [
    "n24[1,3] # slicing[row,col] "
   ]
  },
  {
   "cell_type": "code",
   "execution_count": 32,
   "metadata": {},
   "outputs": [
    {
     "data": {
      "text/plain": [
       "array([ 86, 320])"
      ]
     },
     "execution_count": 32,
     "metadata": {},
     "output_type": "execute_result"
    }
   ],
   "source": [
    "n24[[0,1],2] #if we want 2 rows or 2 cols then we need to give as seq"
   ]
  },
  {
   "cell_type": "code",
   "execution_count": 33,
   "metadata": {},
   "outputs": [
    {
     "data": {
      "text/plain": [
       "array([ 86, 320])"
      ]
     },
     "execution_count": 33,
     "metadata": {},
     "output_type": "execute_result"
    }
   ],
   "source": [
    "n24[(0,1),2] # we can also use tuple as seq"
   ]
  },
  {
   "cell_type": "code",
   "execution_count": 34,
   "metadata": {},
   "outputs": [
    {
     "data": {
      "text/plain": [
       "array([[550, 551, 552, 553, 554, 555, 556, 557],\n",
       "       [558, 559, 560, 561, 562, 563, 564, 565],\n",
       "       [566, 567, 568, 569, 570, 571, 572, 573],\n",
       "       [574, 575, 576, 577, 578, 579, 580, 581],\n",
       "       [582, 583, 584, 585, 586, 587, 588, 589],\n",
       "       [590, 591, 592, 593, 594, 595, 596, 597]])"
      ]
     },
     "execution_count": 34,
     "metadata": {},
     "output_type": "execute_result"
    }
   ],
   "source": [
    "n681 = np.arange(550,550+6*8).reshape(6,8)\n",
    "n681"
   ]
  },
  {
   "cell_type": "code",
   "execution_count": 35,
   "metadata": {},
   "outputs": [
    {
     "data": {
      "text/plain": [
       "560"
      ]
     },
     "execution_count": 35,
     "metadata": {},
     "output_type": "execute_result"
    }
   ],
   "source": [
    "n681[1][2]"
   ]
  },
  {
   "cell_type": "code",
   "execution_count": 36,
   "metadata": {},
   "outputs": [
    {
     "data": {
      "text/plain": [
       "array([560])"
      ]
     },
     "execution_count": 36,
     "metadata": {},
     "output_type": "execute_result"
    }
   ],
   "source": [
    "n681[[1],[2]] #with comma  and seq as zpping"
   ]
  },
  {
   "cell_type": "code",
   "execution_count": 37,
   "metadata": {},
   "outputs": [
    {
     "data": {
      "text/plain": [
       "array([551, 560])"
      ]
     },
     "execution_count": 37,
     "metadata": {},
     "output_type": "execute_result"
    }
   ],
   "source": [
    "n681[[0,1],(1,2)] #slicing using  vectors as list & tuple"
   ]
  },
  {
   "cell_type": "markdown",
   "metadata": {},
   "source": [
    "## Zipping"
   ]
  },
  {
   "cell_type": "code",
   "execution_count": 38,
   "metadata": {},
   "outputs": [
    {
     "data": {
      "text/plain": [
       "[(1, 4), (2, 5), (3, 6), (4, 7), (5, 8)]"
      ]
     },
     "execution_count": 38,
     "metadata": {},
     "output_type": "execute_result"
    }
   ],
   "source": [
    "mylist1 = [1,2,3,4,5]\n",
    "mylist2 = [4,5,6,7,8,9]\n",
    "zipp =list(zip(mylist1,mylist2))  # zipping elment wise combining as a tuple.\n",
    "zipp"
   ]
  },
  {
   "cell_type": "code",
   "execution_count": 39,
   "metadata": {},
   "outputs": [
    {
     "data": {
      "text/plain": [
       "array([551, 560, 578])"
      ]
     },
     "execution_count": 39,
     "metadata": {},
     "output_type": "execute_result"
    }
   ],
   "source": [
    "n681[[0,1,3],(1,2,4)] # zipping will happen when we do vector slicing"
   ]
  },
  {
   "cell_type": "code",
   "execution_count": 40,
   "metadata": {},
   "outputs": [
    {
     "data": {
      "text/plain": [
       "array([[550, 551, 552, 553, 554, 555, 556, 557],\n",
       "       [558, 559, 560, 561, 562, 563, 564, 565],\n",
       "       [566, 567, 568, 569, 570, 571, 572, 573],\n",
       "       [574, 575, 576, 577, 578, 579, 580, 581],\n",
       "       [582, 583, 584, 585, 586, 587, 588, 589],\n",
       "       [590, 591, 592, 593, 594, 595, 596, 597]])"
      ]
     },
     "execution_count": 40,
     "metadata": {},
     "output_type": "execute_result"
    }
   ],
   "source": [
    "n681[:,:]"
   ]
  },
  {
   "cell_type": "code",
   "execution_count": 41,
   "metadata": {},
   "outputs": [
    {
     "data": {
      "text/plain": [
       "array([[552, 553, 554],\n",
       "       [560, 561, 562],\n",
       "       [568, 569, 570],\n",
       "       [576, 577, 578],\n",
       "       [584, 585, 586],\n",
       "       [592, 593, 594]])"
      ]
     },
     "execution_count": 41,
     "metadata": {},
     "output_type": "execute_result"
    }
   ],
   "source": [
    "n681[:,[2,3,4]]"
   ]
  },
  {
   "cell_type": "code",
   "execution_count": 42,
   "metadata": {},
   "outputs": [
    {
     "data": {
      "text/plain": [
       "array([[552],\n",
       "       [560],\n",
       "       [568],\n",
       "       [576],\n",
       "       [584],\n",
       "       [592]])"
      ]
     },
     "execution_count": 42,
     "metadata": {},
     "output_type": "execute_result"
    }
   ],
   "source": [
    "n681[:,2:3]"
   ]
  },
  {
   "cell_type": "markdown",
   "metadata": {},
   "source": [
    "# Broad casting again"
   ]
  },
  {
   "cell_type": "code",
   "execution_count": 43,
   "metadata": {},
   "outputs": [
    {
     "data": {
      "text/plain": [
       "array([[ 0,  1,  2,  3],\n",
       "       [ 4,  5,  6,  7],\n",
       "       [ 8,  9, 10, 11],\n",
       "       [12, 13, 14, 15],\n",
       "       [16, 17, 18, 19],\n",
       "       [20, 21, 22, 23]])"
      ]
     },
     "execution_count": 43,
     "metadata": {},
     "output_type": "execute_result"
    }
   ],
   "source": [
    "n64 = np.arange(24).reshape(6,4)\n",
    "n64"
   ]
  },
  {
   "cell_type": "code",
   "execution_count": 44,
   "metadata": {},
   "outputs": [
    {
     "data": {
      "text/plain": [
       "array([[10, 11, 12, 13],\n",
       "       [14, 15, 16, 17],\n",
       "       [18, 19, 20, 21],\n",
       "       [22, 23, 24, 25],\n",
       "       [26, 27, 28, 29],\n",
       "       [30, 31, 32, 33]])"
      ]
     },
     "execution_count": 44,
     "metadata": {},
     "output_type": "execute_result"
    }
   ],
   "source": [
    "n64 +10"
   ]
  },
  {
   "cell_type": "code",
   "execution_count": 45,
   "metadata": {},
   "outputs": [
    {
     "data": {
      "text/plain": [
       "array([[0],\n",
       "       [1],\n",
       "       [2],\n",
       "       [3],\n",
       "       [4],\n",
       "       [5]])"
      ]
     },
     "execution_count": 45,
     "metadata": {},
     "output_type": "execute_result"
    }
   ],
   "source": [
    "n61 = np.arange(6).reshape(6,1)\n",
    "n61"
   ]
  },
  {
   "cell_type": "code",
   "execution_count": 46,
   "metadata": {},
   "outputs": [
    {
     "data": {
      "text/plain": [
       "array([[ 0,  1,  2,  3],\n",
       "       [ 5,  6,  7,  8],\n",
       "       [10, 11, 12, 13],\n",
       "       [15, 16, 17, 18],\n",
       "       [20, 21, 22, 23],\n",
       "       [25, 26, 27, 28]])"
      ]
     },
     "execution_count": 46,
     "metadata": {},
     "output_type": "execute_result"
    }
   ],
   "source": [
    "nbrod = n61 + n64  # n61 is getting added to all of the col\n",
    "\n",
    "nbrod"
   ]
  },
  {
   "cell_type": "markdown",
   "metadata": {},
   "source": [
    "# 3D"
   ]
  },
  {
   "cell_type": "code",
   "execution_count": 47,
   "metadata": {},
   "outputs": [
    {
     "name": "stdout",
     "output_type": "stream",
     "text": [
      "[[[ 0  1  2  3]\n",
      "  [ 4  5  6  7]\n",
      "  [ 8  9 10 11]]\n",
      "\n",
      " [[12 13 14 15]\n",
      "  [16 17 18 19]\n",
      "  [20 21 22 23]]]\n"
     ]
    }
   ],
   "source": [
    "n234 = np.arange(24).reshape(2,3,4)\n",
    "n234.shape\n",
    "print(n234)"
   ]
  },
  {
   "cell_type": "code",
   "execution_count": 48,
   "metadata": {},
   "outputs": [
    {
     "name": "stdout",
     "output_type": "stream",
     "text": [
      "[[[0]\n",
      "  [1]\n",
      "  [2]]\n",
      "\n",
      " [[3]\n",
      "  [4]\n",
      "  [5]]]\n"
     ]
    }
   ],
   "source": [
    "n231 = np.arange(6).reshape(2,3,1)\n",
    "n231.shape\n",
    "print(n231)"
   ]
  },
  {
   "cell_type": "code",
   "execution_count": 49,
   "metadata": {},
   "outputs": [
    {
     "data": {
      "text/plain": [
       "array([[[ 0,  1,  2,  3],\n",
       "        [ 5,  6,  7,  8],\n",
       "        [10, 11, 12, 13]],\n",
       "\n",
       "       [[15, 16, 17, 18],\n",
       "        [20, 21, 22, 23],\n",
       "        [25, 26, 27, 28]]])"
      ]
     },
     "execution_count": 49,
     "metadata": {},
     "output_type": "execute_result"
    }
   ],
   "source": [
    "n234a = n234 + n231  # 23 4 ,23 1   # two dimen needs to be same an other needs to be 1 in atleast one array\n",
    "n234a"
   ]
  },
  {
   "cell_type": "markdown",
   "metadata": {},
   "source": [
    "# slicing in 3D"
   ]
  },
  {
   "cell_type": "code",
   "execution_count": 50,
   "metadata": {},
   "outputs": [
    {
     "data": {
      "text/plain": [
       "array([[ 0,  1,  2,  3],\n",
       "       [ 5,  6,  7,  8],\n",
       "       [10, 11, 12, 13]])"
      ]
     },
     "execution_count": 50,
     "metadata": {},
     "output_type": "execute_result"
    }
   ],
   "source": [
    "n234a[0] # first row"
   ]
  },
  {
   "cell_type": "code",
   "execution_count": 51,
   "metadata": {},
   "outputs": [
    {
     "data": {
      "text/plain": [
       "array([0, 1, 2, 3])"
      ]
     },
     "execution_count": 51,
     "metadata": {},
     "output_type": "execute_result"
    }
   ],
   "source": [
    "n234a[0,0] # 1st row,1col"
   ]
  },
  {
   "cell_type": "code",
   "execution_count": 52,
   "metadata": {},
   "outputs": [
    {
     "data": {
      "text/plain": [
       "0"
      ]
     },
     "execution_count": 52,
     "metadata": {},
     "output_type": "execute_result"
    }
   ],
   "source": [
    "n234a[0,0,0] # 1st row,1col,1 depth"
   ]
  },
  {
   "cell_type": "code",
   "execution_count": 53,
   "metadata": {},
   "outputs": [
    {
     "data": {
      "text/plain": [
       "array([[[21, 22, 23],\n",
       "        [26, 27, 28]]])"
      ]
     },
     "execution_count": 53,
     "metadata": {},
     "output_type": "execute_result"
    }
   ],
   "source": [
    "n234a[1:3,1:3,1:5]"
   ]
  },
  {
   "cell_type": "code",
   "execution_count": 54,
   "metadata": {},
   "outputs": [
    {
     "data": {
      "text/plain": [
       "array([[[ 0,  1,  2,  3],\n",
       "        [ 5,  6,  7,  8],\n",
       "        [10, 11, 12, 13]],\n",
       "\n",
       "       [[15, 16, 17, 18],\n",
       "        [20, 21, 22, 23],\n",
       "        [25, 26, 27, 28]]])"
      ]
     },
     "execution_count": 54,
     "metadata": {},
     "output_type": "execute_result"
    }
   ],
   "source": [
    "n234a"
   ]
  },
  {
   "cell_type": "code",
   "execution_count": 55,
   "metadata": {},
   "outputs": [
    {
     "data": {
      "text/plain": [
       "array([ 0, 21])"
      ]
     },
     "execution_count": 55,
     "metadata": {},
     "output_type": "execute_result"
    }
   ],
   "source": [
    "n234a[[0,1],[0,1],[0,1]]"
   ]
  },
  {
   "cell_type": "code",
   "execution_count": 56,
   "metadata": {},
   "outputs": [
    {
     "data": {
      "text/plain": [
       "array([[ 6, 12],\n",
       "       [21, 27]])"
      ]
     },
     "execution_count": 56,
     "metadata": {},
     "output_type": "execute_result"
    }
   ],
   "source": [
    "n234a[:,[1,2],[1,2]]"
   ]
  },
  {
   "cell_type": "code",
   "execution_count": 57,
   "metadata": {},
   "outputs": [
    {
     "data": {
      "text/plain": [
       "array([[ 1,  6, 11],\n",
       "       [17, 22, 27]])"
      ]
     },
     "execution_count": 57,
     "metadata": {},
     "output_type": "execute_result"
    }
   ],
   "source": [
    "n234a[[0,1],:,[1,2]]  # zipping works when we have vectors and other will keep o adding to that zipped vallues \n",
    "\n"
   ]
  },
  {
   "cell_type": "markdown",
   "metadata": {},
   "source": [
    "# Randomisation"
   ]
  },
  {
   "cell_type": "markdown",
   "metadata": {},
   "source": [
    "### randint"
   ]
  },
  {
   "cell_type": "code",
   "execution_count": 58,
   "metadata": {},
   "outputs": [
    {
     "data": {
      "text/plain": [
       "array([64, 93, 58, 80, 70, 78, 13, 87, 87, 22])"
      ]
     },
     "execution_count": 58,
     "metadata": {},
     "output_type": "execute_result"
    }
   ],
   "source": [
    "np.random.randint(1,100,size =10)\n",
    "#randint(low, high=None, size=None, dtype='l') low : int,high : int, optional,size : int or tuple of ints, optional\n"
   ]
  },
  {
   "cell_type": "code",
   "execution_count": 59,
   "metadata": {},
   "outputs": [
    {
     "data": {
      "text/plain": [
       "array([[32, 45],\n",
       "       [42, 40],\n",
       "       [77, 61],\n",
       "       [87, 41]])"
      ]
     },
     "execution_count": 59,
     "metadata": {},
     "output_type": "execute_result"
    }
   ],
   "source": [
    "np.random.randint(1,100,size =[4,2])\n"
   ]
  },
  {
   "cell_type": "code",
   "execution_count": 60,
   "metadata": {},
   "outputs": [
    {
     "data": {
      "text/plain": [
       "array([[ 4,  1],\n",
       "       [16,  9],\n",
       "       [18,  5],\n",
       "       [ 5, 12]])"
      ]
     },
     "execution_count": 60,
     "metadata": {},
     "output_type": "execute_result"
    }
   ],
   "source": [
    "np.random.randint(20,size =[4,2])\n"
   ]
  },
  {
   "cell_type": "code",
   "execution_count": 69,
   "metadata": {},
   "outputs": [
    {
     "data": {
      "text/plain": [
       "array([[0.83273105, 0.94695467],\n",
       "       [0.67918819, 0.26926732],\n",
       "       [0.71943893, 0.70789761],\n",
       "       [0.75663761, 0.22227509]])"
      ]
     },
     "execution_count": 69,
     "metadata": {},
     "output_type": "execute_result"
    }
   ],
   "source": [
    "np.random.rand(4,2)\n",
    "# rand(d0, d1, ..., dn)\n",
    "#'''\n",
    "#Random values in a given shape.\n",
    "\n",
    "#Create an array of the given shape and populate it with\n",
    "#random samples from a uniform distribution\n",
    "#over ``[0, 1)``.\n",
    "#'''"
   ]
  },
  {
   "cell_type": "code",
   "execution_count": 70,
   "metadata": {},
   "outputs": [
    {
     "data": {
      "text/plain": [
       "array([[ 0.78653957,  0.43351899, -0.69877809, -0.27201042],\n",
       "       [ 0.60158622,  0.12063849,  0.62782737, -0.67025996]])"
      ]
     },
     "execution_count": 70,
     "metadata": {},
     "output_type": "execute_result"
    }
   ],
   "source": [
    "np.random.randn(2,4)"
   ]
  },
  {
   "cell_type": "markdown",
   "metadata": {},
   "source": [
    "## zeros"
   ]
  },
  {
   "cell_type": "code",
   "execution_count": 71,
   "metadata": {},
   "outputs": [
    {
     "data": {
      "text/plain": [
       "array([0., 0., 0.])"
      ]
     },
     "execution_count": 71,
     "metadata": {},
     "output_type": "execute_result"
    }
   ],
   "source": [
    "n =np.zeros(3)\n",
    "n\n"
   ]
  },
  {
   "cell_type": "code",
   "execution_count": 72,
   "metadata": {},
   "outputs": [
    {
     "data": {
      "text/plain": [
       "\"\\nzeros(shape, dtype=float, order='C')\\n\\nReturn a new array of given shape and type, filled with zeros.\\n\\nParameters\\n----------\\nshape : int or tuple of ints\\n    Shape of the new array, e.g., ``(2, 3)`` or ``2``.\\ndtype : data-type, optional\\n    The desired data-type for the array, e.g., `numpy.int8`.  Default is\\n    `numpy.float64`.\\n    \""
      ]
     },
     "execution_count": 72,
     "metadata": {},
     "output_type": "execute_result"
    }
   ],
   "source": [
    "'''\n",
    "zeros(shape, dtype=float, order='C')\n",
    "\n",
    "Return a new array of given shape and type, filled with zeros.\n",
    "\n",
    "Parameters\n",
    "----------\n",
    "shape : int or tuple of ints\n",
    "    Shape of the new array, e.g., ``(2, 3)`` or ``2``.\n",
    "dtype : data-type, optional\n",
    "    The desired data-type for the array, e.g., `numpy.int8`.  Default is\n",
    "    `numpy.float64`.\n",
    "    '''"
   ]
  },
  {
   "cell_type": "code",
   "execution_count": 73,
   "metadata": {},
   "outputs": [
    {
     "data": {
      "text/plain": [
       "array([[0., 0., 0., 0.],\n",
       "       [0., 0., 0., 0.],\n",
       "       [0., 0., 0., 0.]])"
      ]
     },
     "execution_count": 73,
     "metadata": {},
     "output_type": "execute_result"
    }
   ],
   "source": [
    "np.zeros([3,4])"
   ]
  },
  {
   "cell_type": "code",
   "execution_count": 74,
   "metadata": {},
   "outputs": [
    {
     "data": {
      "text/plain": [
       "array([[0, 0, 0, 0],\n",
       "       [0, 0, 0, 0],\n",
       "       [0, 0, 0, 0]], dtype=int16)"
      ]
     },
     "execution_count": 74,
     "metadata": {},
     "output_type": "execute_result"
    }
   ],
   "source": [
    "np.zeros([3,4],dtype = np.int16)"
   ]
  },
  {
   "cell_type": "code",
   "execution_count": 75,
   "metadata": {},
   "outputs": [
    {
     "data": {
      "text/plain": [
       "array([1., 1., 1.])"
      ]
     },
     "execution_count": 75,
     "metadata": {},
     "output_type": "execute_result"
    }
   ],
   "source": [
    "np.ones(3)"
   ]
  },
  {
   "cell_type": "code",
   "execution_count": 76,
   "metadata": {},
   "outputs": [
    {
     "data": {
      "text/plain": [
       "array([[1., 1., 1., 1.],\n",
       "       [1., 1., 1., 1.],\n",
       "       [1., 1., 1., 1.]])"
      ]
     },
     "execution_count": 76,
     "metadata": {},
     "output_type": "execute_result"
    }
   ],
   "source": [
    "np.ones((3,4))"
   ]
  },
  {
   "cell_type": "code",
   "execution_count": 77,
   "metadata": {},
   "outputs": [
    {
     "data": {
      "text/plain": [
       "array([[1, 1, 1, 1],\n",
       "       [1, 1, 1, 1],\n",
       "       [1, 1, 1, 1]])"
      ]
     },
     "execution_count": 77,
     "metadata": {},
     "output_type": "execute_result"
    }
   ],
   "source": [
    "x =np.ones((3,4),dtype =int)\n",
    "x"
   ]
  },
  {
   "cell_type": "code",
   "execution_count": 78,
   "metadata": {},
   "outputs": [
    {
     "data": {
      "text/plain": [
       "array([[0, 0, 0, 0],\n",
       "       [0, 0, 0, 0],\n",
       "       [0, 0, 0, 0]])"
      ]
     },
     "execution_count": 78,
     "metadata": {},
     "output_type": "execute_result"
    }
   ],
   "source": [
    "np.zeros_like(x)#Array of zeros with the same shape and type as `a`."
   ]
  },
  {
   "cell_type": "code",
   "execution_count": 79,
   "metadata": {},
   "outputs": [
    {
     "data": {
      "text/plain": [
       "array([[10, 10, 10, 10],\n",
       "       [10, 10, 10, 10],\n",
       "       [10, 10, 10, 10]])"
      ]
     },
     "execution_count": 79,
     "metadata": {},
     "output_type": "execute_result"
    }
   ],
   "source": [
    "np.full((3,4),fill_value = 10)"
   ]
  },
  {
   "cell_type": "code",
   "execution_count": 80,
   "metadata": {},
   "outputs": [
    {
     "data": {
      "text/plain": [
       "array([[1., 0., 0., 0., 0.],\n",
       "       [0., 1., 0., 0., 0.],\n",
       "       [0., 0., 1., 0., 0.],\n",
       "       [0., 0., 0., 1., 0.],\n",
       "       [0., 0., 0., 0., 1.]])"
      ]
     },
     "execution_count": 80,
     "metadata": {},
     "output_type": "execute_result"
    }
   ],
   "source": [
    "np.identity(5)"
   ]
  },
  {
   "cell_type": "code",
   "execution_count": 81,
   "metadata": {},
   "outputs": [
    {
     "data": {
      "text/plain": [
       "array([[1, 0, 0, 0, 0],\n",
       "       [0, 1, 0, 0, 0],\n",
       "       [0, 0, 1, 0, 0],\n",
       "       [0, 0, 0, 1, 0],\n",
       "       [0, 0, 0, 0, 1]])"
      ]
     },
     "execution_count": 81,
     "metadata": {},
     "output_type": "execute_result"
    }
   ],
   "source": [
    "np.identity(5,dtype = int)"
   ]
  },
  {
   "cell_type": "code",
   "execution_count": 82,
   "metadata": {},
   "outputs": [
    {
     "data": {
      "text/plain": [
       "array([[0, 0, 0, 0],\n",
       "       [0, 0, 0, 0],\n",
       "       [0, 0, 0, 0]])"
      ]
     },
     "execution_count": 82,
     "metadata": {},
     "output_type": "execute_result"
    }
   ],
   "source": [
    "np.empty_like(x)"
   ]
  },
  {
   "cell_type": "code",
   "execution_count": 83,
   "metadata": {},
   "outputs": [
    {
     "data": {
      "text/plain": [
       "array([[0., 1., 0., 0., 0.],\n",
       "       [0., 0., 1., 0., 0.],\n",
       "       [0., 0., 0., 1., 0.],\n",
       "       [0., 0., 0., 0., 1.],\n",
       "       [0., 0., 0., 0., 0.]])"
      ]
     },
     "execution_count": 83,
     "metadata": {},
     "output_type": "execute_result"
    }
   ],
   "source": [
    "np.eye(5,k =1) # whenk =0 eye = identity"
   ]
  },
  {
   "cell_type": "code",
   "execution_count": 84,
   "metadata": {},
   "outputs": [
    {
     "name": "stdout",
     "output_type": "stream",
     "text": [
      "[[19 51 22 40 20  3 18 41]\n",
      " [15 42 45 10 46 40 47 16]\n",
      " [22 14  2 25  8 53  2 31]\n",
      " [ 3 42 18 53 52 45  7 20]\n",
      " [45 47  4  2 37 50 22 32]\n",
      " [51  4 23 59 58  2 20 41]]\n"
     ]
    }
   ],
   "source": [
    "n68 = np.random.randint(2,60,size =(6,8)); print(n68)"
   ]
  },
  {
   "cell_type": "code",
   "execution_count": 85,
   "metadata": {},
   "outputs": [
    {
     "data": {
      "text/plain": [
       "array([ 2,  3,  4,  7,  8, 10, 14, 15, 16, 18, 19, 20, 22, 23, 25, 31, 32,\n",
       "       37, 40, 41, 42, 45, 46, 47, 50, 51, 52, 53, 58, 59])"
      ]
     },
     "execution_count": 85,
     "metadata": {},
     "output_type": "execute_result"
    }
   ],
   "source": [
    "np.unique(n68)"
   ]
  },
  {
   "cell_type": "code",
   "execution_count": 86,
   "metadata": {},
   "outputs": [
    {
     "data": {
      "text/plain": [
       "(array([ 2,  3,  4,  7,  8, 10, 14, 15, 16, 18, 19, 20, 22, 23, 25, 31, 32,\n",
       "        37, 40, 41, 42, 45, 46, 47, 50, 51, 52, 53, 58, 59]),\n",
       " array([18,  5, 34, 30, 20, 11, 17,  8, 15,  6,  0,  4,  2, 42, 19, 23, 39,\n",
       "        36,  3,  7,  9, 10, 12, 14, 37,  1, 28, 21, 44, 43], dtype=int64),\n",
       " array([10, 25, 12, 18, 11,  1,  9, 19,  7, 20, 21,  5, 22, 18, 23,  8, 12,\n",
       "         6,  0, 14,  4, 27,  0, 15,  1, 20,  9, 27, 26, 21,  3, 11, 21, 23,\n",
       "         2,  0, 17, 24, 12, 16, 25,  2, 13, 29, 28,  0, 11, 19],\n",
       "       dtype=int64))"
      ]
     },
     "execution_count": 86,
     "metadata": {},
     "output_type": "execute_result"
    }
   ],
   "source": [
    "np.unique(n68,return_index=True,return_inverse=True)"
   ]
  },
  {
   "cell_type": "code",
   "execution_count": 87,
   "metadata": {},
   "outputs": [],
   "source": [
    "#np.unique(['ar', 'return_index=False', 'return_inverse=False', 'return_counts=False', 'axis=None'],)"
   ]
  },
  {
   "cell_type": "code",
   "execution_count": 88,
   "metadata": {},
   "outputs": [
    {
     "data": {
      "text/plain": [
       "array([4, 2, 2, 1, 1, 1, 1, 1, 1, 2, 1, 3, 3, 1, 1, 1, 1, 1, 2, 2, 2, 3,\n",
       "       1, 2, 1, 2, 1, 2, 1, 1], dtype=int64)"
      ]
     },
     "execution_count": 88,
     "metadata": {},
     "output_type": "execute_result"
    }
   ],
   "source": [
    "i,unique_counts = np.unique(n68,return_counts=True)\n",
    "unique_counts"
   ]
  },
  {
   "cell_type": "code",
   "execution_count": 89,
   "metadata": {},
   "outputs": [
    {
     "data": {
      "text/plain": [
       "\"\\nSignature: np.ravel(a, order='C')\\nDocstring:\\nReturn a contiguous flattened array.\\n\""
      ]
     },
     "execution_count": 89,
     "metadata": {},
     "output_type": "execute_result"
    }
   ],
   "source": [
    "'''\n",
    "Signature: np.ravel(a, order='C')\n",
    "Docstring:\n",
    "Return a contiguous flattened array.\n",
    "'''"
   ]
  },
  {
   "cell_type": "code",
   "execution_count": 90,
   "metadata": {},
   "outputs": [
    {
     "data": {
      "text/plain": [
       "48"
      ]
     },
     "execution_count": 90,
     "metadata": {},
     "output_type": "execute_result"
    }
   ],
   "source": [
    "n68.size"
   ]
  },
  {
   "cell_type": "code",
   "execution_count": 91,
   "metadata": {},
   "outputs": [
    {
     "data": {
      "text/plain": [
       "array([19, 51, 22, 40, 20,  3, 18, 41, 15, 42, 45, 10, 46, 40, 47, 16, 22,\n",
       "       14,  2, 25,  8, 53,  2, 31,  3, 42, 18, 53, 52, 45,  7, 20, 45, 47,\n",
       "        4,  2, 37, 50, 22, 32, 51,  4, 23, 59, 58,  2, 20, 41])"
      ]
     },
     "execution_count": 91,
     "metadata": {},
     "output_type": "execute_result"
    }
   ],
   "source": [
    "np.ravel(n68)"
   ]
  },
  {
   "cell_type": "code",
   "execution_count": 92,
   "metadata": {},
   "outputs": [
    {
     "data": {
      "text/plain": [
       "48"
      ]
     },
     "execution_count": 92,
     "metadata": {},
     "output_type": "execute_result"
    }
   ],
   "source": [
    "n68.size"
   ]
  },
  {
   "cell_type": "code",
   "execution_count": 93,
   "metadata": {},
   "outputs": [
    {
     "data": {
      "text/plain": [
       "array([[19, 51, 22, 40, 20,  3, 18, 41],\n",
       "       [15, 42, 45, 10, 46, 40, 47, 16],\n",
       "       [22, 14,  2, 25,  8, 53,  2, 31],\n",
       "       [ 3, 42, 18, 53, 52, 45,  7, 20],\n",
       "       [45, 47,  4,  2, 37, 50, 22, 32],\n",
       "       [51,  4, 23, 59, 58,  2, 20, 41]])"
      ]
     },
     "execution_count": 93,
     "metadata": {},
     "output_type": "execute_result"
    }
   ],
   "source": [
    "n68"
   ]
  },
  {
   "cell_type": "markdown",
   "metadata": {},
   "source": [
    "# intersectId, setdiff Id"
   ]
  },
  {
   "cell_type": "code",
   "execution_count": 94,
   "metadata": {},
   "outputs": [
    {
     "name": "stdout",
     "output_type": "stream",
     "text": [
      "[[11 18 10  9]\n",
      " [ 5 12  3  6]\n",
      " [19  7  9  5]]\n",
      "[[17 14 24 17]\n",
      " [19 16 13 22]\n",
      " [22 17 14 18]]\n"
     ]
    }
   ],
   "source": [
    "n34a = np.random.randint(2,20,size =(3,4));print(n34a)\n",
    "n34b = np.random.randint(10,25,size =(3,4));print(n34b)"
   ]
  },
  {
   "cell_type": "code",
   "execution_count": 95,
   "metadata": {},
   "outputs": [
    {
     "data": {
      "text/plain": [
       "array([18, 19])"
      ]
     },
     "execution_count": 95,
     "metadata": {},
     "output_type": "execute_result"
    }
   ],
   "source": [
    "#np.intersect1d(ar1, ar2, assume_unique=False, return_indices=False)\n",
    "np.intersect1d(n34a,n34b) # it takes only common values of both"
   ]
  },
  {
   "cell_type": "code",
   "execution_count": 96,
   "metadata": {},
   "outputs": [
    {
     "data": {
      "text/plain": [
       "array([ 5,  9, 14, 17, 17, 18, 19, 22])"
      ]
     },
     "execution_count": 96,
     "metadata": {},
     "output_type": "execute_result"
    }
   ],
   "source": [
    "np.intersect1d(n34a,n34b,assume_unique=True)#assume_unique : bool\n",
    "#    If True, the input arrays are both assumed to be unique, which\n",
    "#    can speed up the calculation.  Default is False."
   ]
  },
  {
   "cell_type": "code",
   "execution_count": 97,
   "metadata": {},
   "outputs": [
    {
     "data": {
      "text/plain": [
       "array([3])"
      ]
     },
     "execution_count": 97,
     "metadata": {},
     "output_type": "execute_result"
    }
   ],
   "source": [
    "from functools import reduce\n",
    "reduce(np.intersect1d, ([1, 3, 4, 3], [3, 1, 2, 1], [6, 3, 4, 2]))\n",
    "# to do intersect for more than 2 need to use reduce"
   ]
  },
  {
   "cell_type": "markdown",
   "metadata": {},
   "source": [
    "## Setdiff1D"
   ]
  },
  {
   "cell_type": "code",
   "execution_count": 98,
   "metadata": {},
   "outputs": [
    {
     "data": {
      "text/plain": [
       "array([ 3,  5,  6,  7,  9, 10, 11, 12])"
      ]
     },
     "execution_count": 98,
     "metadata": {},
     "output_type": "execute_result"
    }
   ],
   "source": [
    "nsd = np.setdiff1d(n34a,n34b) # A-B in venn diagram\n",
    "nsd\n",
    "#>>> a = np.array([1, 2, 3, 2, 4, 1])\n",
    "#>>> b = np.array([3, 4, 5, 6])\n",
    "#>>> np.setdiff1d(a, b)\n",
    "#array([1, 2])"
   ]
  },
  {
   "cell_type": "code",
   "execution_count": 99,
   "metadata": {},
   "outputs": [
    {
     "data": {
      "text/plain": [
       "array([ 3,  5,  6,  7,  9, 10, 11, 12, 13, 14, 16, 17, 18, 19, 22, 24])"
      ]
     },
     "execution_count": 99,
     "metadata": {},
     "output_type": "execute_result"
    }
   ],
   "source": [
    "np.union1d(n34a,n34b)"
   ]
  },
  {
   "cell_type": "code",
   "execution_count": 100,
   "metadata": {},
   "outputs": [
    {
     "data": {
      "text/plain": [
       "array([[19, 51, 22, 40, 20,  3, 18, 41],\n",
       "       [15, 42, 45, 10, 46, 40, 47, 16],\n",
       "       [22, 14,  2, 25,  8, 53,  2, 31],\n",
       "       [ 3, 42, 18, 53, 52, 45,  7, 20],\n",
       "       [45, 47,  4,  2, 37, 50, 22, 32],\n",
       "       [51,  4, 23, 59, 58,  2, 20, 41]])"
      ]
     },
     "execution_count": 100,
     "metadata": {},
     "output_type": "execute_result"
    }
   ],
   "source": [
    "n68"
   ]
  },
  {
   "cell_type": "code",
   "execution_count": 101,
   "metadata": {},
   "outputs": [
    {
     "data": {
      "text/plain": [
       "59"
      ]
     },
     "execution_count": 101,
     "metadata": {},
     "output_type": "execute_result"
    }
   ],
   "source": [
    "n68.max()"
   ]
  },
  {
   "cell_type": "code",
   "execution_count": 102,
   "metadata": {},
   "outputs": [
    {
     "data": {
      "text/plain": [
       "59"
      ]
     },
     "execution_count": 102,
     "metadata": {},
     "output_type": "execute_result"
    }
   ],
   "source": [
    "np.amax(n68)"
   ]
  },
  {
   "cell_type": "code",
   "execution_count": 103,
   "metadata": {},
   "outputs": [
    {
     "name": "stdout",
     "output_type": "stream",
     "text": [
      "[51 51 45 59 58 53 47 41]\n",
      "[51 47 53 53 50 59]\n"
     ]
    }
   ],
   "source": [
    "print(np.amax(n68,axis = 0))# horizontal\n",
    "print(np.amax(n68,axis = 1))# horizontal"
   ]
  },
  {
   "cell_type": "code",
   "execution_count": 104,
   "metadata": {},
   "outputs": [
    {
     "data": {
      "text/plain": [
       "2"
      ]
     },
     "execution_count": 104,
     "metadata": {},
     "output_type": "execute_result"
    }
   ],
   "source": [
    "n68.min()"
   ]
  },
  {
   "cell_type": "code",
   "execution_count": 105,
   "metadata": {},
   "outputs": [
    {
     "data": {
      "text/plain": [
       "18"
      ]
     },
     "execution_count": 105,
     "metadata": {},
     "output_type": "execute_result"
    }
   ],
   "source": [
    "n68.argmin()# returns the index of the minimum value"
   ]
  },
  {
   "cell_type": "code",
   "execution_count": 106,
   "metadata": {},
   "outputs": [
    {
     "name": "stdout",
     "output_type": "stream",
     "text": [
      "2\n",
      "[ 3  4  2  2  8  2  2 16]\n",
      "[ 3 10  2  3  2  2]\n"
     ]
    }
   ],
   "source": [
    "print(np.amin(n68))\n",
    "print(np.amin(n68,axis =0))#taking min of each col\n",
    "print(np.amin(n68,axis =1))# taking min of each row\n"
   ]
  },
  {
   "cell_type": "code",
   "execution_count": 107,
   "metadata": {},
   "outputs": [
    {
     "data": {
      "text/plain": [
       "1369"
      ]
     },
     "execution_count": 107,
     "metadata": {},
     "output_type": "execute_result"
    }
   ],
   "source": [
    "np.sum(n68) # np.sum( ['a', 'axis=None', 'dtype=None', 'out=None', 'keepdims=<no value>', 'initial=<no value>'],)"
   ]
  },
  {
   "cell_type": "code",
   "execution_count": 108,
   "metadata": {},
   "outputs": [
    {
     "data": {
      "text/plain": [
       "array([155, 200, 114, 189, 221, 193, 116, 181])"
      ]
     },
     "execution_count": 108,
     "metadata": {},
     "output_type": "execute_result"
    }
   ],
   "source": [
    "np.sum(n68,axis=0)"
   ]
  },
  {
   "cell_type": "code",
   "execution_count": 109,
   "metadata": {},
   "outputs": [
    {
     "data": {
      "text/plain": [
       "1369"
      ]
     },
     "execution_count": 109,
     "metadata": {},
     "output_type": "execute_result"
    }
   ],
   "source": [
    "n68.sum()"
   ]
  },
  {
   "cell_type": "code",
   "execution_count": 110,
   "metadata": {},
   "outputs": [
    {
     "data": {
      "text/plain": [
       "28.520833333333332"
      ]
     },
     "execution_count": 110,
     "metadata": {},
     "output_type": "execute_result"
    }
   ],
   "source": [
    "np.mean(n68)#n68.mean()"
   ]
  },
  {
   "cell_type": "code",
   "execution_count": 111,
   "metadata": {},
   "outputs": [
    {
     "data": {
      "text/plain": [
       "24.0"
      ]
     },
     "execution_count": 111,
     "metadata": {},
     "output_type": "execute_result"
    }
   ],
   "source": [
    "np.median(n68)#n68.median()"
   ]
  },
  {
   "cell_type": "code",
   "execution_count": 112,
   "metadata": {},
   "outputs": [
    {
     "data": {
      "text/plain": [
       "18.055458065976122"
      ]
     },
     "execution_count": 112,
     "metadata": {},
     "output_type": "execute_result"
    }
   ],
   "source": [
    "np.std(n68)#n68.std()"
   ]
  },
  {
   "cell_type": "code",
   "execution_count": 113,
   "metadata": {},
   "outputs": [
    {
     "data": {
      "text/plain": [
       "325.99956597222223"
      ]
     },
     "execution_count": 113,
     "metadata": {},
     "output_type": "execute_result"
    }
   ],
   "source": [
    "np.var(n68)"
   ]
  },
  {
   "cell_type": "code",
   "execution_count": 114,
   "metadata": {},
   "outputs": [
    {
     "data": {
      "text/plain": [
       "array([ 2,  2,  2,  2,  3,  3,  4,  4,  7,  8, 10, 14, 15, 16, 18, 18, 19,\n",
       "       20, 20, 20, 22, 22, 22, 23, 25, 31, 32, 37, 40, 40, 41, 41, 42, 42,\n",
       "       45, 45, 45, 46, 47, 47, 50, 51, 51, 52, 53, 53, 58, 59])"
      ]
     },
     "execution_count": 114,
     "metadata": {},
     "output_type": "execute_result"
    }
   ],
   "source": [
    "np.sort(n68.ravel())"
   ]
  },
  {
   "cell_type": "code",
   "execution_count": 115,
   "metadata": {},
   "outputs": [
    {
     "data": {
      "text/plain": [
       "array([[19, 51, 22, 40, 20,  3, 18, 41],\n",
       "       [15, 42, 45, 10, 46, 40, 47, 16],\n",
       "       [22, 14,  2, 25,  8, 53,  2, 31],\n",
       "       [ 3, 42, 18, 53, 52, 45,  7, 20],\n",
       "       [45, 47,  4,  2, 37, 50, 22, 32],\n",
       "       [51,  4, 23, 59, 58,  2, 20, 41]])"
      ]
     },
     "execution_count": 115,
     "metadata": {},
     "output_type": "execute_result"
    }
   ],
   "source": [
    "n68"
   ]
  },
  {
   "cell_type": "code",
   "execution_count": 116,
   "metadata": {},
   "outputs": [
    {
     "data": {
      "text/plain": [
       "array([[ 3, 18, 19, 20, 22, 40, 41, 51],\n",
       "       [10, 15, 16, 40, 42, 45, 46, 47],\n",
       "       [ 2,  2,  8, 14, 22, 25, 31, 53],\n",
       "       [ 3,  7, 18, 20, 42, 45, 52, 53],\n",
       "       [ 2,  4, 22, 32, 37, 45, 47, 50],\n",
       "       [ 2,  4, 20, 23, 41, 51, 58, 59]])"
      ]
     },
     "execution_count": 116,
     "metadata": {},
     "output_type": "execute_result"
    }
   ],
   "source": [
    "np.sort(n68)"
   ]
  },
  {
   "cell_type": "markdown",
   "metadata": {},
   "source": [
    "## condition access"
   ]
  },
  {
   "cell_type": "code",
   "execution_count": 117,
   "metadata": {},
   "outputs": [
    {
     "data": {
      "text/plain": [
       "array([19, 51, 22, 40, 20,  3, 18, 41, 15, 42, 45, 10, 46, 40, 47, 16, 22,\n",
       "       14,  2, 25,  8, 53,  2, 31,  3, 42, 18, 53, 52, 45,  7, 20, 45, 47,\n",
       "        4,  2, 37, 50, 22, 32, 51,  4, 23, 59, 58,  2, 20, 41])"
      ]
     },
     "execution_count": 117,
     "metadata": {},
     "output_type": "execute_result"
    }
   ],
   "source": [
    "n68.flatten()#  numpy.ravel : equivalent function"
   ]
  },
  {
   "cell_type": "code",
   "execution_count": 118,
   "metadata": {},
   "outputs": [
    {
     "data": {
      "text/plain": [
       "array([19, 51, 22, 40, 20,  3, 18, 41, 15, 42, 45, 10, 46, 40, 47, 16, 22,\n",
       "       14,  2, 25,  8, 53,  2, 31,  3, 42, 18, 53, 52, 45,  7, 20, 45, 47,\n",
       "        4,  2, 37, 50, 22, 32, 51,  4, 23, 59, 58,  2, 20, 41])"
      ]
     },
     "execution_count": 118,
     "metadata": {},
     "output_type": "execute_result"
    }
   ],
   "source": [
    "n68.ravel()"
   ]
  },
  {
   "cell_type": "code",
   "execution_count": 119,
   "metadata": {},
   "outputs": [
    {
     "data": {
      "text/plain": [
       "array([[ True,  True,  True,  True,  True, False,  True,  True],\n",
       "       [ True,  True,  True, False,  True,  True,  True,  True],\n",
       "       [ True,  True, False,  True, False,  True, False,  True],\n",
       "       [False,  True,  True,  True,  True,  True, False,  True],\n",
       "       [ True,  True, False, False,  True,  True,  True,  True],\n",
       "       [ True, False,  True,  True,  True, False,  True,  True]])"
      ]
     },
     "execution_count": 119,
     "metadata": {},
     "output_type": "execute_result"
    }
   ],
   "source": [
    "mask = n68>10\n",
    "mask"
   ]
  },
  {
   "cell_type": "code",
   "execution_count": 120,
   "metadata": {},
   "outputs": [
    {
     "data": {
      "text/plain": [
       "array([19, 51, 22, 40, 20, 18, 41, 15, 42, 45, 46, 40, 47, 16, 22, 14, 25,\n",
       "       53, 31, 42, 18, 53, 52, 45, 20, 45, 47, 37, 50, 22, 32, 51, 23, 59,\n",
       "       58, 20, 41])"
      ]
     },
     "execution_count": 120,
     "metadata": {},
     "output_type": "execute_result"
    }
   ],
   "source": [
    "n68[mask]#we get only values that are true after flattening"
   ]
  },
  {
   "cell_type": "code",
   "execution_count": 121,
   "metadata": {},
   "outputs": [
    {
     "data": {
      "text/plain": [
       "11"
      ]
     },
     "execution_count": 121,
     "metadata": {},
     "output_type": "execute_result"
    }
   ],
   "source": [
    "np.sum(n68>45)# it takes sum of all numbers whos alues are true"
   ]
  },
  {
   "cell_type": "code",
   "execution_count": 122,
   "metadata": {},
   "outputs": [
    {
     "data": {
      "text/plain": [
       "True"
      ]
     },
     "execution_count": 122,
     "metadata": {},
     "output_type": "execute_result"
    }
   ],
   "source": [
    "np.any(n68>10)"
   ]
  },
  {
   "cell_type": "code",
   "execution_count": 123,
   "metadata": {},
   "outputs": [
    {
     "data": {
      "text/plain": [
       "False"
      ]
     },
     "execution_count": 123,
     "metadata": {},
     "output_type": "execute_result"
    }
   ],
   "source": [
    "np.all(n68>10)"
   ]
  },
  {
   "cell_type": "markdown",
   "metadata": {},
   "source": [
    "## hstack"
   ]
  },
  {
   "cell_type": "code",
   "execution_count": 124,
   "metadata": {},
   "outputs": [
    {
     "name": "stdout",
     "output_type": "stream",
     "text": [
      "[[ 6 14  2 16]\n",
      " [ 0 17  1 19]\n",
      " [11  0  5  3]]\n",
      "[[ 4  3 13  0]\n",
      " [14 12  6 18]\n",
      " [10  9 13  5]]\n",
      "[[14  0  9  5  2 10]\n",
      " [ 9  5 11  1 17  8]\n",
      " [ 1 15  1 13 17  4]]\n"
     ]
    },
    {
     "data": {
      "text/plain": [
       "array([[ 6, 14,  2, 16,  4,  3, 13,  0, 14,  0,  9,  5,  2, 10],\n",
       "       [ 0, 17,  1, 19, 14, 12,  6, 18,  9,  5, 11,  1, 17,  8],\n",
       "       [11,  0,  5,  3, 10,  9, 13,  5,  1, 15,  1, 13, 17,  4]])"
      ]
     },
     "execution_count": 124,
     "metadata": {},
     "output_type": "execute_result"
    }
   ],
   "source": [
    "n34a = np.random.randint(20,size =(3,4));print(n34a)\n",
    "n34b = np.random.randint(20,size =(3,4));print(n34b)\n",
    "n34c = np.random.randint(20,size =(3,6));print(n34c)\n",
    "np.hstack((n34a,n34b,n34c))\n",
    "# we can have any no of cols but rows need to be same** horizontal stacking"
   ]
  },
  {
   "cell_type": "code",
   "execution_count": 19,
   "metadata": {},
   "outputs": [
    {
     "name": "stdout",
     "output_type": "stream",
     "text": [
      "[[15 12  2  2 17]\n",
      " [18  0 19 11  7]\n",
      " [11 19  2 10  8]\n",
      " [12  5 14  3  5]]\n",
      "[[15 12  2  2 17]\n",
      " [18  0 19 11  7]\n",
      " [11 19  2 10  8]\n",
      " [12  5 14  3  5]]\n",
      "[[15 12  2  2 17]\n",
      " [18  0 19 11  7]\n",
      " [11 19  2 10  8]\n",
      " [12  5 14  3  5]]\n",
      "(4, 5)\n",
      "(6, 5)\n",
      "(8, 5)\n",
      "(18, 5)\n"
     ]
    },
    {
     "data": {
      "text/plain": [
       "array([[15, 12,  2,  2, 17],\n",
       "       [18,  0, 19, 11,  7],\n",
       "       [11, 19,  2, 10,  8],\n",
       "       [12,  5, 14,  3,  5],\n",
       "       [ 2, 11,  1, 16, 17],\n",
       "       [ 8, 10, 18,  0,  9],\n",
       "       [ 4,  9, 14, 16, 13],\n",
       "       [ 8,  8,  2, 14,  7],\n",
       "       [ 9,  6,  6, 14,  4],\n",
       "       [18,  0,  0, 10, 15],\n",
       "       [12,  6,  4, 15, 12],\n",
       "       [14, 12,  2, 19, 16],\n",
       "       [17,  1,  8, 17, 11],\n",
       "       [ 5,  9,  5,  3,  0],\n",
       "       [15, 10,  3,  4, 11],\n",
       "       [ 9, 13,  4, 11,  3],\n",
       "       [ 4, 19, 19,  7, 18],\n",
       "       [ 3, 18,  5,  7,  5]])"
      ]
     },
     "execution_count": 19,
     "metadata": {},
     "output_type": "execute_result"
    }
   ],
   "source": [
    "n35a = np.random.randint(20,size =(4,5));print(n35a)\n",
    "n35b = np.random.randint(20,size =(6,5));print(n35a)\n",
    "n35c = np.random.randint(20,size =(8,5));print(n35a)\n",
    "print(n35a.shape)\n",
    "print(n35b.shape)\n",
    "print(n35c.shape)\n",
    "# # we can have any no of rows but rows need to be same** vertical stacking\n",
    "\n",
    "n35v = np.vstack((n35a,n35b,n35c))\n",
    "print(n35v.shape)\n",
    "\n",
    "n35v"
   ]
  },
  {
   "cell_type": "code",
   "execution_count": 127,
   "metadata": {},
   "outputs": [
    {
     "ename": "ValueError",
     "evalue": "all input arrays must have the same shape",
     "output_type": "error",
     "traceback": [
      "\u001b[1;31m---------------------------------------------------------------------------\u001b[0m",
      "\u001b[1;31mValueError\u001b[0m                                Traceback (most recent call last)",
      "\u001b[1;32m<ipython-input-127-cf898328c0e8>\u001b[0m in \u001b[0;36m<module>\u001b[1;34m\u001b[0m\n\u001b[1;32m----> 1\u001b[1;33m \u001b[0mnp\u001b[0m\u001b[1;33m.\u001b[0m\u001b[0mstack\u001b[0m\u001b[1;33m(\u001b[0m\u001b[1;33m(\u001b[0m\u001b[0mn34a\u001b[0m\u001b[1;33m,\u001b[0m\u001b[0mn34b\u001b[0m\u001b[1;33m,\u001b[0m\u001b[0mn34c\u001b[0m\u001b[1;33m)\u001b[0m\u001b[1;33m)\u001b[0m\u001b[1;33m\u001b[0m\u001b[1;33m\u001b[0m\u001b[0m\n\u001b[0m",
      "\u001b[1;32m~\\Anaconda3\\lib\\site-packages\\numpy\\core\\shape_base.py\u001b[0m in \u001b[0;36mstack\u001b[1;34m(arrays, axis, out)\u001b[0m\n\u001b[0;32m    351\u001b[0m     \u001b[0mshapes\u001b[0m \u001b[1;33m=\u001b[0m \u001b[0mset\u001b[0m\u001b[1;33m(\u001b[0m\u001b[0marr\u001b[0m\u001b[1;33m.\u001b[0m\u001b[0mshape\u001b[0m \u001b[1;32mfor\u001b[0m \u001b[0marr\u001b[0m \u001b[1;32min\u001b[0m \u001b[0marrays\u001b[0m\u001b[1;33m)\u001b[0m\u001b[1;33m\u001b[0m\u001b[1;33m\u001b[0m\u001b[0m\n\u001b[0;32m    352\u001b[0m     \u001b[1;32mif\u001b[0m \u001b[0mlen\u001b[0m\u001b[1;33m(\u001b[0m\u001b[0mshapes\u001b[0m\u001b[1;33m)\u001b[0m \u001b[1;33m!=\u001b[0m \u001b[1;36m1\u001b[0m\u001b[1;33m:\u001b[0m\u001b[1;33m\u001b[0m\u001b[1;33m\u001b[0m\u001b[0m\n\u001b[1;32m--> 353\u001b[1;33m         \u001b[1;32mraise\u001b[0m \u001b[0mValueError\u001b[0m\u001b[1;33m(\u001b[0m\u001b[1;34m'all input arrays must have the same shape'\u001b[0m\u001b[1;33m)\u001b[0m\u001b[1;33m\u001b[0m\u001b[1;33m\u001b[0m\u001b[0m\n\u001b[0m\u001b[0;32m    354\u001b[0m \u001b[1;33m\u001b[0m\u001b[0m\n\u001b[0;32m    355\u001b[0m     \u001b[0mresult_ndim\u001b[0m \u001b[1;33m=\u001b[0m \u001b[0marrays\u001b[0m\u001b[1;33m[\u001b[0m\u001b[1;36m0\u001b[0m\u001b[1;33m]\u001b[0m\u001b[1;33m.\u001b[0m\u001b[0mndim\u001b[0m \u001b[1;33m+\u001b[0m \u001b[1;36m1\u001b[0m\u001b[1;33m\u001b[0m\u001b[1;33m\u001b[0m\u001b[0m\n",
      "\u001b[1;31mValueError\u001b[0m: all input arrays must have the same shape"
     ]
    }
   ],
   "source": [
    "np.stack((n34a,n34b,n34c))"
   ]
  },
  {
   "cell_type": "code",
   "execution_count": null,
   "metadata": {},
   "outputs": [],
   "source": [
    "arrays = [np.random.randn(3, 4) for _ in range(10)]\n",
    "#print(arrays.shape)\n",
    "np.stack(arrays, axis=0).shape"
   ]
  },
  {
   "cell_type": "code",
   "execution_count": null,
   "metadata": {},
   "outputs": [],
   "source": [
    "n36a = np.random.randint(20,size =(4,5,2));print(n36a)\n",
    "n36b = np.random.randint(20,size =(4,5,5));print(n36b)\n",
    "n36c = np.random.randint(20,size =(4,5,10));print(n36c)\n",
    "print(n36a.shape)\n",
    "print(n36b.shape)\n",
    "print(n36c.shape)\n",
    "\n",
    "n35d = np.dstack((n36a,n36b,n36c))\n",
    "print(n35d.shape)\n",
    "\n",
    "n35d"
   ]
  },
  {
   "cell_type": "code",
   "execution_count": null,
   "metadata": {},
   "outputs": [],
   "source": [
    "print(n34a)\n",
    "print(n34b)\n",
    "np.column_stack((n34a,n34b))"
   ]
  },
  {
   "cell_type": "code",
   "execution_count": 128,
   "metadata": {},
   "outputs": [
    {
     "name": "stdout",
     "output_type": "stream",
     "text": [
      "[[19 51 22 40 20  3 18 41]\n",
      " [15 42 45 10 46 40 47 16]\n",
      " [22 14  2 25  8 53  2 31]\n",
      " [ 3 42 18 53 52 45  7 20]\n",
      " [45 47  4  2 37 50 22 32]\n",
      " [51  4 23 59 58  2 20 41]]\n",
      "[array([[19, 51],\n",
      "       [15, 42],\n",
      "       [22, 14],\n",
      "       [ 3, 42],\n",
      "       [45, 47],\n",
      "       [51,  4]]), array([[22, 40],\n",
      "       [45, 10],\n",
      "       [ 2, 25],\n",
      "       [18, 53],\n",
      "       [ 4,  2],\n",
      "       [23, 59]]), array([[20,  3],\n",
      "       [46, 40],\n",
      "       [ 8, 53],\n",
      "       [52, 45],\n",
      "       [37, 50],\n",
      "       [58,  2]]), array([[18, 41],\n",
      "       [47, 16],\n",
      "       [ 2, 31],\n",
      "       [ 7, 20],\n",
      "       [22, 32],\n",
      "       [20, 41]])]\n"
     ]
    }
   ],
   "source": [
    "print(n68)\n",
    "k = np.hsplit(n68,4)\n",
    "print(k)"
   ]
  },
  {
   "cell_type": "code",
   "execution_count": 129,
   "metadata": {},
   "outputs": [
    {
     "name": "stdout",
     "output_type": "stream",
     "text": [
      "[array([[19],\n",
      "       [15],\n",
      "       [22],\n",
      "       [ 3],\n",
      "       [45],\n",
      "       [51]]), array([[51, 22, 40],\n",
      "       [42, 45, 10],\n",
      "       [14,  2, 25],\n",
      "       [42, 18, 53],\n",
      "       [47,  4,  2],\n",
      "       [ 4, 23, 59]]), array([[20,  3],\n",
      "       [46, 40],\n",
      "       [ 8, 53],\n",
      "       [52, 45],\n",
      "       [37, 50],\n",
      "       [58,  2]]), array([[18, 41],\n",
      "       [47, 16],\n",
      "       [ 2, 31],\n",
      "       [ 7, 20],\n",
      "       [22, 32],\n",
      "       [20, 41]])]\n"
     ]
    }
   ],
   "source": [
    "x = np.hsplit(n68,[1,4,6])\n",
    "print(x)"
   ]
  },
  {
   "cell_type": "code",
   "execution_count": 130,
   "metadata": {},
   "outputs": [
    {
     "name": "stdout",
     "output_type": "stream",
     "text": [
      "[[19 51 22 40 20  3 18 41]\n",
      " [15 42 45 10 46 40 47 16]\n",
      " [22 14  2 25  8 53  2 31]\n",
      " [ 3 42 18 53 52 45  7 20]\n",
      " [45 47  4  2 37 50 22 32]\n",
      " [51  4 23 59 58  2 20 41]]\n",
      "[array([[19, 51, 22, 40, 20,  3, 18, 41]]), array([[15, 42, 45, 10, 46, 40, 47, 16],\n",
      "       [22, 14,  2, 25,  8, 53,  2, 31],\n",
      "       [ 3, 42, 18, 53, 52, 45,  7, 20]]), array([[45, 47,  4,  2, 37, 50, 22, 32],\n",
      "       [51,  4, 23, 59, 58,  2, 20, 41]]), array([], shape=(0, 8), dtype=int32)]\n"
     ]
    }
   ],
   "source": [
    "print(n68)\n",
    "x = np.vsplit(n68,[1,4,6]);print(x)"
   ]
  },
  {
   "cell_type": "code",
   "execution_count": 131,
   "metadata": {},
   "outputs": [
    {
     "name": "stdout",
     "output_type": "stream",
     "text": [
      "[[[ 0  1  2  3  4  5  6  7]\n",
      "  [ 8  9 10 11 12 13 14 15]\n",
      "  [16 17 18 19 20 21 22 23]\n",
      "  [24 25 26 27 28 29 30 31]\n",
      "  [32 33 34 35 36 37 38 39]]\n",
      "\n",
      " [[40 41 42 43 44 45 46 47]\n",
      "  [48 49 50 51 52 53 54 55]\n",
      "  [56 57 58 59 60 61 62 63]\n",
      "  [64 65 66 67 68 69 70 71]\n",
      "  [72 73 74 75 76 77 78 79]]]\n"
     ]
    }
   ],
   "source": [
    "n26  = np.arange(2*5*8).reshape(2,5,8);print(n26)\n"
   ]
  },
  {
   "cell_type": "code",
   "execution_count": 132,
   "metadata": {},
   "outputs": [
    {
     "name": "stdout",
     "output_type": "stream",
     "text": [
      "[array([[[ 0],\n",
      "        [ 8],\n",
      "        [16],\n",
      "        [24],\n",
      "        [32]],\n",
      "\n",
      "       [[40],\n",
      "        [48],\n",
      "        [56],\n",
      "        [64],\n",
      "        [72]]]), array([[[ 1,  2,  3],\n",
      "        [ 9, 10, 11],\n",
      "        [17, 18, 19],\n",
      "        [25, 26, 27],\n",
      "        [33, 34, 35]],\n",
      "\n",
      "       [[41, 42, 43],\n",
      "        [49, 50, 51],\n",
      "        [57, 58, 59],\n",
      "        [65, 66, 67],\n",
      "        [73, 74, 75]]]), array([[[ 4,  5],\n",
      "        [12, 13],\n",
      "        [20, 21],\n",
      "        [28, 29],\n",
      "        [36, 37]],\n",
      "\n",
      "       [[44, 45],\n",
      "        [52, 53],\n",
      "        [60, 61],\n",
      "        [68, 69],\n",
      "        [76, 77]]]), array([[[ 6,  7],\n",
      "        [14, 15],\n",
      "        [22, 23],\n",
      "        [30, 31],\n",
      "        [38, 39]],\n",
      "\n",
      "       [[46, 47],\n",
      "        [54, 55],\n",
      "        [62, 63],\n",
      "        [70, 71],\n",
      "        [78, 79]]])]\n"
     ]
    }
   ],
   "source": [
    "x = np.dsplit(n26,[1,4,6]);print(x)"
   ]
  },
  {
   "cell_type": "code",
   "execution_count": 133,
   "metadata": {},
   "outputs": [
    {
     "data": {
      "text/plain": [
       "array([ 1. ,  3.5,  6. ,  8.5, 11. ])"
      ]
     },
     "execution_count": 133,
     "metadata": {},
     "output_type": "execute_result"
    }
   ],
   "source": [
    "np.linspace(1,11,5)"
   ]
  },
  {
   "cell_type": "code",
   "execution_count": 134,
   "metadata": {},
   "outputs": [
    {
     "data": {
      "text/plain": [
       "array([ 1.  ,  5.75, 10.5 , 15.25, 20.  ])"
      ]
     },
     "execution_count": 134,
     "metadata": {},
     "output_type": "execute_result"
    }
   ],
   "source": [
    "np.linspace(1,20,5)#np.linspace(start, stop, num=50, endpoint=True, retstep=False, dtype=None)"
   ]
  },
  {
   "cell_type": "markdown",
   "metadata": {},
   "source": [
    "## Rank in numpy()"
   ]
  },
  {
   "cell_type": "code",
   "execution_count": 135,
   "metadata": {},
   "outputs": [
    {
     "name": "stdout",
     "output_type": "stream",
     "text": [
      "[ 9  4 15  0 17 16 17  8  9  0]\n",
      "[3 9 1 7 0 8 2 5 4 6]\n",
      "[4 2 6 0 8 7 9 3 5 1]\n"
     ]
    }
   ],
   "source": [
    "np.random.seed(10)\n",
    "x = np.random.randint(20, size=10)\n",
    "print(x)\n",
    "#lst =[]\n",
    "y = x.argsort()   \n",
    "print(y)\n",
    "z = y.argsort()\n",
    "print(z)"
   ]
  },
  {
   "cell_type": "code",
   "execution_count": 1,
   "metadata": {},
   "outputs": [
    {
     "name": "stdout",
     "output_type": "stream",
     "text": [
      "['1' '2' '3' 'srk']\n"
     ]
    },
    {
     "ename": "TypeError",
     "evalue": "ufunc 'add' did not contain a loop with signature matching types dtype('<U11') dtype('<U11') dtype('<U11')",
     "output_type": "error",
     "traceback": [
      "\u001b[1;31m---------------------------------------------------------------------------\u001b[0m",
      "\u001b[1;31mTypeError\u001b[0m                                 Traceback (most recent call last)",
      "\u001b[1;32m<ipython-input-1-60a00d7d7818>\u001b[0m in \u001b[0;36m<module>\u001b[1;34m\u001b[0m\n\u001b[0;32m      4\u001b[0m \u001b[0mtype\u001b[0m\u001b[1;33m(\u001b[0m\u001b[0ma\u001b[0m\u001b[1;33m)\u001b[0m\u001b[1;33m\u001b[0m\u001b[1;33m\u001b[0m\u001b[0m\n\u001b[0;32m      5\u001b[0m \u001b[0mprint\u001b[0m\u001b[1;33m(\u001b[0m\u001b[0ma\u001b[0m\u001b[1;33m)\u001b[0m\u001b[1;31m# it converts all to strings# homogenous 'numpy is homogenous'\u001b[0m\u001b[1;33m\u001b[0m\u001b[1;33m\u001b[0m\u001b[0m\n\u001b[1;32m----> 6\u001b[1;33m \u001b[0ma\u001b[0m\u001b[1;33m+\u001b[0m\u001b[1;36m1\u001b[0m \u001b[1;31m#we get error as it cant handle addition with strings\u001b[0m\u001b[1;33m\u001b[0m\u001b[1;33m\u001b[0m\u001b[0m\n\u001b[0m",
      "\u001b[1;31mTypeError\u001b[0m: ufunc 'add' did not contain a loop with signature matching types dtype('<U11') dtype('<U11') dtype('<U11')"
     ]
    }
   ],
   "source": [
    "import numpy as np\n",
    "lst =[1,2,3,'srk']\n",
    "a = np.array(lst)\n",
    "type(a)\n",
    "print(a)# it converts all to strings# homogenous 'numpy is homogenous'\n",
    "a+1 #we get error as it cant handle addition with strings"
   ]
  },
  {
   "cell_type": "code",
   "execution_count": 2,
   "metadata": {},
   "outputs": [
    {
     "name": "stdout",
     "output_type": "stream",
     "text": [
      "[1 2 3]\n"
     ]
    },
    {
     "data": {
      "text/plain": [
       "array([2, 3, 4])"
      ]
     },
     "execution_count": 2,
     "metadata": {},
     "output_type": "execute_result"
    }
   ],
   "source": [
    "import numpy as np\n",
    "lst =[1,2,3]\n",
    "a = np.array(lst)\n",
    "type(a)\n",
    "print(a)\n",
    "a+1 "
   ]
  },
  {
   "cell_type": "code",
   "execution_count": 17,
   "metadata": {},
   "outputs": [
    {
     "ename": "NameError",
     "evalue": "name 'n234a' is not defined",
     "output_type": "error",
     "traceback": [
      "\u001b[1;31m---------------------------------------------------------------------------\u001b[0m",
      "\u001b[1;31mNameError\u001b[0m                                 Traceback (most recent call last)",
      "\u001b[1;32m<ipython-input-17-b3d4c690f817>\u001b[0m in \u001b[0;36m<module>\u001b[1;34m\u001b[0m\n\u001b[1;32m----> 1\u001b[1;33m \u001b[0mn234a\u001b[0m\u001b[1;33m.\u001b[0m\u001b[0mcount\u001b[0m\u001b[1;33m\u001b[0m\u001b[1;33m\u001b[0m\u001b[0m\n\u001b[0m",
      "\u001b[1;31mNameError\u001b[0m: name 'n234a' is not defined"
     ]
    }
   ],
   "source": [
    "n35a."
   ]
  },
  {
   "cell_type": "code",
   "execution_count": null,
   "metadata": {},
   "outputs": [],
   "source": []
  }
 ],
 "metadata": {
  "kernelspec": {
   "display_name": "Python 3",
   "language": "python",
   "name": "python3"
  },
  "language_info": {
   "codemirror_mode": {
    "name": "ipython",
    "version": 3
   },
   "file_extension": ".py",
   "mimetype": "text/x-python",
   "name": "python",
   "nbconvert_exporter": "python",
   "pygments_lexer": "ipython3",
   "version": "3.7.1"
  }
 },
 "nbformat": 4,
 "nbformat_minor": 2
}
