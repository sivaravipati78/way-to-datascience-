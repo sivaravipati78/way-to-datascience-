{
 "cells": [
  {
   "cell_type": "code",
   "execution_count": 1,
   "metadata": {},
   "outputs": [],
   "source": [
    "#1"
   ]
  },
  {
   "cell_type": "code",
   "execution_count": 2,
   "metadata": {},
   "outputs": [],
   "source": [
    "import pandas as pd\n",
    "import numpy as np\n",
    "import matplotlib.pyplot as plt\n",
    "import seaborn as sns"
   ]
  },
  {
   "cell_type": "code",
   "execution_count": 3,
   "metadata": {},
   "outputs": [],
   "source": [
    "df =pd.read_csv(r'C:\\Users\\SRK\\Desktop\\siva_python\\w2\\Dataset.csv')"
   ]
  },
  {
   "cell_type": "code",
   "execution_count": 4,
   "metadata": {},
   "outputs": [
    {
     "data": {
      "text/html": [
       "<div>\n",
       "<style scoped>\n",
       "    .dataframe tbody tr th:only-of-type {\n",
       "        vertical-align: middle;\n",
       "    }\n",
       "\n",
       "    .dataframe tbody tr th {\n",
       "        vertical-align: top;\n",
       "    }\n",
       "\n",
       "    .dataframe thead th {\n",
       "        text-align: right;\n",
       "    }\n",
       "</style>\n",
       "<table border=\"1\" class=\"dataframe\">\n",
       "  <thead>\n",
       "    <tr style=\"text-align: right;\">\n",
       "      <th></th>\n",
       "      <th>Scorecard</th>\n",
       "      <th>Team 1</th>\n",
       "      <th>Team 2</th>\n",
       "      <th>Winner</th>\n",
       "      <th>Margin</th>\n",
       "      <th>Ground</th>\n",
       "      <th>Match Date</th>\n",
       "    </tr>\n",
       "  </thead>\n",
       "  <tbody>\n",
       "    <tr>\n",
       "      <th>0</th>\n",
       "      <td>ODI # 1</td>\n",
       "      <td>Australia</td>\n",
       "      <td>England</td>\n",
       "      <td>Australia</td>\n",
       "      <td>5 wickets</td>\n",
       "      <td>Melbourne</td>\n",
       "      <td>Jan 5, 1971</td>\n",
       "    </tr>\n",
       "    <tr>\n",
       "      <th>1</th>\n",
       "      <td>ODI # 2</td>\n",
       "      <td>England</td>\n",
       "      <td>Australia</td>\n",
       "      <td>England</td>\n",
       "      <td>6 wickets</td>\n",
       "      <td>Manchester</td>\n",
       "      <td>Aug 24, 1972</td>\n",
       "    </tr>\n",
       "    <tr>\n",
       "      <th>2</th>\n",
       "      <td>ODI # 3</td>\n",
       "      <td>England</td>\n",
       "      <td>Australia</td>\n",
       "      <td>Australia</td>\n",
       "      <td>5 wickets</td>\n",
       "      <td>Lord's</td>\n",
       "      <td>Aug 26, 1972</td>\n",
       "    </tr>\n",
       "    <tr>\n",
       "      <th>3</th>\n",
       "      <td>ODI # 4</td>\n",
       "      <td>England</td>\n",
       "      <td>Australia</td>\n",
       "      <td>England</td>\n",
       "      <td>2 wickets</td>\n",
       "      <td>Birmingham</td>\n",
       "      <td>Aug 28, 1972</td>\n",
       "    </tr>\n",
       "    <tr>\n",
       "      <th>4</th>\n",
       "      <td>ODI # 5</td>\n",
       "      <td>New Zealand</td>\n",
       "      <td>Pakistan</td>\n",
       "      <td>New Zealand</td>\n",
       "      <td>22 runs</td>\n",
       "      <td>Christchurch</td>\n",
       "      <td>Feb 11, 1973</td>\n",
       "    </tr>\n",
       "  </tbody>\n",
       "</table>\n",
       "</div>"
      ],
      "text/plain": [
       "  Scorecard       Team 1     Team 2       Winner     Margin        Ground  \\\n",
       "0   ODI # 1    Australia    England    Australia  5 wickets     Melbourne   \n",
       "1   ODI # 2      England  Australia      England  6 wickets    Manchester   \n",
       "2   ODI # 3      England  Australia    Australia  5 wickets        Lord's   \n",
       "3   ODI # 4      England  Australia      England  2 wickets    Birmingham   \n",
       "4   ODI # 5  New Zealand   Pakistan  New Zealand    22 runs  Christchurch   \n",
       "\n",
       "     Match Date  \n",
       "0   Jan 5, 1971  \n",
       "1  Aug 24, 1972  \n",
       "2  Aug 26, 1972  \n",
       "3  Aug 28, 1972  \n",
       "4  Feb 11, 1973  "
      ]
     },
     "execution_count": 4,
     "metadata": {},
     "output_type": "execute_result"
    }
   ],
   "source": [
    "df.head()"
   ]
  },
  {
   "cell_type": "markdown",
   "metadata": {},
   "source": [
    "<H1 align ='center'>Section1</H1>"
   ]
  },
  {
   "cell_type": "raw",
   "metadata": {},
   "source": [
    "1. A. How many teams are unique and not repeating in the \"Team 1\" column. Make a list to display the same (1 mark) "
   ]
  },
  {
   "cell_type": "code",
   "execution_count": 5,
   "metadata": {},
   "outputs": [
    {
     "name": "stdout",
     "output_type": "stream",
     "text": [
      "['Australia' 'England' 'New Zealand' 'East Africa' 'Sri Lanka' 'Pakistan'\n",
      " 'India' 'West Indies' 'Canada' 'Bangladesh' 'South Africa' 'Zimbabwe'\n",
      " 'U.A.E.' 'Netherlands' 'Kenya' 'Scotland' 'Namibia' 'Hong Kong' 'Asia XI'\n",
      " 'Africa XI' 'Bermuda' 'Ireland' 'Afghanistan' 'P.N.G.']\n"
     ]
    }
   ],
   "source": [
    "Team1_unique_teams =df['Team 1'].unique()\n",
    "print(Team1_unique_teams)"
   ]
  },
  {
   "cell_type": "markdown",
   "metadata": {},
   "source": [
    "1.B. How many teams are unique and not repeating in the \"Team 2\" column. Make a list to display the same (1 mark) "
   ]
  },
  {
   "cell_type": "code",
   "execution_count": 6,
   "metadata": {},
   "outputs": [
    {
     "name": "stdout",
     "output_type": "stream",
     "text": [
      "['England' 'Australia' 'Pakistan' 'New Zealand' 'West Indies' 'India'\n",
      " 'Sri Lanka' 'East Africa' 'Canada' 'Zimbabwe' 'Bangladesh' 'South Africa'\n",
      " 'U.A.E.' 'Kenya' 'Netherlands' 'Scotland' 'Namibia' 'Hong Kong' 'U.S.A.'\n",
      " 'ICC World XI' 'Asia XI' 'Ireland' 'Bermuda' 'Afghanistan' 'P.N.G.']\n"
     ]
    }
   ],
   "source": [
    "Team2_unique_teams =df['Team 2'].unique()\n",
    "print(Team2_unique_teams)"
   ]
  },
  {
   "cell_type": "markdown",
   "metadata": {},
   "source": [
    "1.C. Find the Total Number of Unique Teams (from both Team 1 and Team 2 combined) using Set Operations and display the same in a list (1 mark) "
   ]
  },
  {
   "cell_type": "code",
   "execution_count": 7,
   "metadata": {},
   "outputs": [
    {
     "data": {
      "text/plain": [
       "{'Afghanistan',\n",
       " 'Africa XI',\n",
       " 'Asia XI',\n",
       " 'Australia',\n",
       " 'Bangladesh',\n",
       " 'Bermuda',\n",
       " 'Canada',\n",
       " 'East Africa',\n",
       " 'England',\n",
       " 'Hong Kong',\n",
       " 'ICC World XI',\n",
       " 'India',\n",
       " 'Ireland',\n",
       " 'Kenya',\n",
       " 'Namibia',\n",
       " 'Netherlands',\n",
       " 'New Zealand',\n",
       " 'P.N.G.',\n",
       " 'Pakistan',\n",
       " 'Scotland',\n",
       " 'South Africa',\n",
       " 'Sri Lanka',\n",
       " 'U.A.E.',\n",
       " 'U.S.A.',\n",
       " 'West Indies',\n",
       " 'Zimbabwe'}"
      ]
     },
     "execution_count": 7,
     "metadata": {},
     "output_type": "execute_result"
    }
   ],
   "source": [
    "set_combine = np.hstack([Team1_unique_teams,Team2_unique_teams])\n",
    "unique_set =set(set_combine)\n",
    "unique_set"
   ]
  },
  {
   "cell_type": "markdown",
   "metadata": {},
   "source": [
    "1.D. Remove all the team names ending with 'XI' and display the filtered output to get the final list of Teams (1 mark)"
   ]
  },
  {
   "cell_type": "code",
   "execution_count": 8,
   "metadata": {},
   "outputs": [
    {
     "data": {
      "text/plain": [
       "['India',\n",
       " 'Zimbabwe',\n",
       " 'East Africa',\n",
       " 'Ireland',\n",
       " 'Bangladesh',\n",
       " 'Sri Lanka',\n",
       " 'Pakistan',\n",
       " 'Australia',\n",
       " 'U.A.E.',\n",
       " 'Hong Kong',\n",
       " 'South Africa',\n",
       " 'England',\n",
       " 'Scotland',\n",
       " 'U.S.A.',\n",
       " 'P.N.G.',\n",
       " 'Netherlands',\n",
       " 'New Zealand',\n",
       " 'Canada',\n",
       " 'Afghanistan',\n",
       " 'West Indies',\n",
       " 'Bermuda',\n",
       " 'Kenya',\n",
       " 'Namibia']"
      ]
     },
     "execution_count": 8,
     "metadata": {},
     "output_type": "execute_result"
    }
   ],
   "source": [
    "filtered = [i for i in unique_set if not i.endswith(('XI'))]\n",
    "filtered"
   ]
  },
  {
   "cell_type": "markdown",
   "metadata": {},
   "source": [
    "<H1 align ='center'>Section B</H1>"
   ]
  },
  {
   "cell_type": "markdown",
   "metadata": {},
   "source": [
    "2.1 A) Display the Records of every ODI_Matches played after removing those team names ending with \"XI\" which was done in the previous question"
   ]
  },
  {
   "cell_type": "code",
   "execution_count": 9,
   "metadata": {},
   "outputs": [
    {
     "data": {
      "text/html": [
       "<div>\n",
       "<style scoped>\n",
       "    .dataframe tbody tr th:only-of-type {\n",
       "        vertical-align: middle;\n",
       "    }\n",
       "\n",
       "    .dataframe tbody tr th {\n",
       "        vertical-align: top;\n",
       "    }\n",
       "\n",
       "    .dataframe thead th {\n",
       "        text-align: right;\n",
       "    }\n",
       "</style>\n",
       "<table border=\"1\" class=\"dataframe\">\n",
       "  <thead>\n",
       "    <tr style=\"text-align: right;\">\n",
       "      <th></th>\n",
       "      <th>Scorecard</th>\n",
       "      <th>Team 1</th>\n",
       "      <th>Team 2</th>\n",
       "      <th>Winner</th>\n",
       "      <th>Margin</th>\n",
       "      <th>Ground</th>\n",
       "      <th>Match Date</th>\n",
       "    </tr>\n",
       "  </thead>\n",
       "  <tbody>\n",
       "  </tbody>\n",
       "</table>\n",
       "</div>"
      ],
      "text/plain": [
       "Empty DataFrame\n",
       "Columns: [Scorecard, Team 1, Team 2, Winner, Margin, Ground, Match Date]\n",
       "Index: []"
      ]
     },
     "execution_count": 9,
     "metadata": {},
     "output_type": "execute_result"
    }
   ],
   "source": [
    "df.drop(df[df['Team 1'].str.endswith('XI')].index,inplace =True)\n",
    "df[df['Team 1'].str.endswith('XI')]# no elements with XI as ending"
   ]
  },
  {
   "cell_type": "code",
   "execution_count": 10,
   "metadata": {},
   "outputs": [
    {
     "data": {
      "text/html": [
       "<div>\n",
       "<style scoped>\n",
       "    .dataframe tbody tr th:only-of-type {\n",
       "        vertical-align: middle;\n",
       "    }\n",
       "\n",
       "    .dataframe tbody tr th {\n",
       "        vertical-align: top;\n",
       "    }\n",
       "\n",
       "    .dataframe thead th {\n",
       "        text-align: right;\n",
       "    }\n",
       "</style>\n",
       "<table border=\"1\" class=\"dataframe\">\n",
       "  <thead>\n",
       "    <tr style=\"text-align: right;\">\n",
       "      <th></th>\n",
       "      <th>Scorecard</th>\n",
       "      <th>Team 1</th>\n",
       "      <th>Team 2</th>\n",
       "      <th>Winner</th>\n",
       "      <th>Margin</th>\n",
       "      <th>Ground</th>\n",
       "      <th>Match Date</th>\n",
       "    </tr>\n",
       "  </thead>\n",
       "  <tbody>\n",
       "  </tbody>\n",
       "</table>\n",
       "</div>"
      ],
      "text/plain": [
       "Empty DataFrame\n",
       "Columns: [Scorecard, Team 1, Team 2, Winner, Margin, Ground, Match Date]\n",
       "Index: []"
      ]
     },
     "execution_count": 10,
     "metadata": {},
     "output_type": "execute_result"
    }
   ],
   "source": [
    "df.drop(df[df['Team 2'].str.endswith('XI')].index,inplace =True)\n",
    "df[df['Team 2'].str.endswith('XI')]# no elements with XI as ending"
   ]
  },
  {
   "cell_type": "raw",
   "metadata": {},
   "source": [
    "2.1 B) Rename \"Scorecard\" to \"Odi_No\" – (1 mark) "
   ]
  },
  {
   "cell_type": "code",
   "execution_count": 11,
   "metadata": {},
   "outputs": [],
   "source": [
    "df.rename(columns ={'Scorecard':'Odi_No'},inplace =True)"
   ]
  },
  {
   "cell_type": "code",
   "execution_count": 12,
   "metadata": {},
   "outputs": [
    {
     "data": {
      "text/html": [
       "<div>\n",
       "<style scoped>\n",
       "    .dataframe tbody tr th:only-of-type {\n",
       "        vertical-align: middle;\n",
       "    }\n",
       "\n",
       "    .dataframe tbody tr th {\n",
       "        vertical-align: top;\n",
       "    }\n",
       "\n",
       "    .dataframe thead th {\n",
       "        text-align: right;\n",
       "    }\n",
       "</style>\n",
       "<table border=\"1\" class=\"dataframe\">\n",
       "  <thead>\n",
       "    <tr style=\"text-align: right;\">\n",
       "      <th></th>\n",
       "      <th>Odi_No</th>\n",
       "      <th>Team 1</th>\n",
       "      <th>Team 2</th>\n",
       "      <th>Winner</th>\n",
       "      <th>Margin</th>\n",
       "      <th>Ground</th>\n",
       "      <th>Match Date</th>\n",
       "    </tr>\n",
       "  </thead>\n",
       "  <tbody>\n",
       "    <tr>\n",
       "      <th>0</th>\n",
       "      <td>ODI # 1</td>\n",
       "      <td>Australia</td>\n",
       "      <td>England</td>\n",
       "      <td>Australia</td>\n",
       "      <td>5 wickets</td>\n",
       "      <td>Melbourne</td>\n",
       "      <td>Jan 5, 1971</td>\n",
       "    </tr>\n",
       "    <tr>\n",
       "      <th>1</th>\n",
       "      <td>ODI # 2</td>\n",
       "      <td>England</td>\n",
       "      <td>Australia</td>\n",
       "      <td>England</td>\n",
       "      <td>6 wickets</td>\n",
       "      <td>Manchester</td>\n",
       "      <td>Aug 24, 1972</td>\n",
       "    </tr>\n",
       "    <tr>\n",
       "      <th>2</th>\n",
       "      <td>ODI # 3</td>\n",
       "      <td>England</td>\n",
       "      <td>Australia</td>\n",
       "      <td>Australia</td>\n",
       "      <td>5 wickets</td>\n",
       "      <td>Lord's</td>\n",
       "      <td>Aug 26, 1972</td>\n",
       "    </tr>\n",
       "    <tr>\n",
       "      <th>3</th>\n",
       "      <td>ODI # 4</td>\n",
       "      <td>England</td>\n",
       "      <td>Australia</td>\n",
       "      <td>England</td>\n",
       "      <td>2 wickets</td>\n",
       "      <td>Birmingham</td>\n",
       "      <td>Aug 28, 1972</td>\n",
       "    </tr>\n",
       "    <tr>\n",
       "      <th>4</th>\n",
       "      <td>ODI # 5</td>\n",
       "      <td>New Zealand</td>\n",
       "      <td>Pakistan</td>\n",
       "      <td>New Zealand</td>\n",
       "      <td>22 runs</td>\n",
       "      <td>Christchurch</td>\n",
       "      <td>Feb 11, 1973</td>\n",
       "    </tr>\n",
       "  </tbody>\n",
       "</table>\n",
       "</div>"
      ],
      "text/plain": [
       "    Odi_No       Team 1     Team 2       Winner     Margin        Ground  \\\n",
       "0  ODI # 1    Australia    England    Australia  5 wickets     Melbourne   \n",
       "1  ODI # 2      England  Australia      England  6 wickets    Manchester   \n",
       "2  ODI # 3      England  Australia    Australia  5 wickets        Lord's   \n",
       "3  ODI # 4      England  Australia      England  2 wickets    Birmingham   \n",
       "4  ODI # 5  New Zealand   Pakistan  New Zealand    22 runs  Christchurch   \n",
       "\n",
       "     Match Date  \n",
       "0   Jan 5, 1971  \n",
       "1  Aug 24, 1972  \n",
       "2  Aug 26, 1972  \n",
       "3  Aug 28, 1972  \n",
       "4  Feb 11, 1973  "
      ]
     },
     "execution_count": 12,
     "metadata": {},
     "output_type": "execute_result"
    }
   ],
   "source": [
    "df.head()"
   ]
  },
  {
   "cell_type": "markdown",
   "metadata": {},
   "source": [
    "2.1 C) Set \"Scorecard\" as index for these records "
   ]
  },
  {
   "cell_type": "code",
   "execution_count": 14,
   "metadata": {},
   "outputs": [],
   "source": [
    "df.index = df['Odi_No']"
   ]
  },
  {
   "cell_type": "code",
   "execution_count": 15,
   "metadata": {},
   "outputs": [
    {
     "data": {
      "text/html": [
       "<div>\n",
       "<style scoped>\n",
       "    .dataframe tbody tr th:only-of-type {\n",
       "        vertical-align: middle;\n",
       "    }\n",
       "\n",
       "    .dataframe tbody tr th {\n",
       "        vertical-align: top;\n",
       "    }\n",
       "\n",
       "    .dataframe thead th {\n",
       "        text-align: right;\n",
       "    }\n",
       "</style>\n",
       "<table border=\"1\" class=\"dataframe\">\n",
       "  <thead>\n",
       "    <tr style=\"text-align: right;\">\n",
       "      <th></th>\n",
       "      <th>Odi_No</th>\n",
       "      <th>Team 1</th>\n",
       "      <th>Team 2</th>\n",
       "      <th>Winner</th>\n",
       "      <th>Margin</th>\n",
       "      <th>Ground</th>\n",
       "      <th>Match Date</th>\n",
       "    </tr>\n",
       "    <tr>\n",
       "      <th>Odi_No</th>\n",
       "      <th></th>\n",
       "      <th></th>\n",
       "      <th></th>\n",
       "      <th></th>\n",
       "      <th></th>\n",
       "      <th></th>\n",
       "      <th></th>\n",
       "    </tr>\n",
       "  </thead>\n",
       "  <tbody>\n",
       "    <tr>\n",
       "      <th>ODI # 1</th>\n",
       "      <td>ODI # 1</td>\n",
       "      <td>Australia</td>\n",
       "      <td>England</td>\n",
       "      <td>Australia</td>\n",
       "      <td>5 wickets</td>\n",
       "      <td>Melbourne</td>\n",
       "      <td>Jan 5, 1971</td>\n",
       "    </tr>\n",
       "    <tr>\n",
       "      <th>ODI # 2</th>\n",
       "      <td>ODI # 2</td>\n",
       "      <td>England</td>\n",
       "      <td>Australia</td>\n",
       "      <td>England</td>\n",
       "      <td>6 wickets</td>\n",
       "      <td>Manchester</td>\n",
       "      <td>Aug 24, 1972</td>\n",
       "    </tr>\n",
       "    <tr>\n",
       "      <th>ODI # 3</th>\n",
       "      <td>ODI # 3</td>\n",
       "      <td>England</td>\n",
       "      <td>Australia</td>\n",
       "      <td>Australia</td>\n",
       "      <td>5 wickets</td>\n",
       "      <td>Lord's</td>\n",
       "      <td>Aug 26, 1972</td>\n",
       "    </tr>\n",
       "    <tr>\n",
       "      <th>ODI # 4</th>\n",
       "      <td>ODI # 4</td>\n",
       "      <td>England</td>\n",
       "      <td>Australia</td>\n",
       "      <td>England</td>\n",
       "      <td>2 wickets</td>\n",
       "      <td>Birmingham</td>\n",
       "      <td>Aug 28, 1972</td>\n",
       "    </tr>\n",
       "    <tr>\n",
       "      <th>ODI # 5</th>\n",
       "      <td>ODI # 5</td>\n",
       "      <td>New Zealand</td>\n",
       "      <td>Pakistan</td>\n",
       "      <td>New Zealand</td>\n",
       "      <td>22 runs</td>\n",
       "      <td>Christchurch</td>\n",
       "      <td>Feb 11, 1973</td>\n",
       "    </tr>\n",
       "  </tbody>\n",
       "</table>\n",
       "</div>"
      ],
      "text/plain": [
       "          Odi_No       Team 1     Team 2       Winner     Margin  \\\n",
       "Odi_No                                                             \n",
       "ODI # 1  ODI # 1    Australia    England    Australia  5 wickets   \n",
       "ODI # 2  ODI # 2      England  Australia      England  6 wickets   \n",
       "ODI # 3  ODI # 3      England  Australia    Australia  5 wickets   \n",
       "ODI # 4  ODI # 4      England  Australia      England  2 wickets   \n",
       "ODI # 5  ODI # 5  New Zealand   Pakistan  New Zealand    22 runs   \n",
       "\n",
       "               Ground    Match Date  \n",
       "Odi_No                               \n",
       "ODI # 1     Melbourne   Jan 5, 1971  \n",
       "ODI # 2    Manchester  Aug 24, 1972  \n",
       "ODI # 3        Lord's  Aug 26, 1972  \n",
       "ODI # 4    Birmingham  Aug 28, 1972  \n",
       "ODI # 5  Christchurch  Feb 11, 1973  "
      ]
     },
     "execution_count": 15,
     "metadata": {},
     "output_type": "execute_result"
    }
   ],
   "source": [
    "df.head()"
   ]
  },
  {
   "cell_type": "raw",
   "metadata": {},
   "source": [
    "2.2 A) Find the total number of matches won by each team in ascending order and make it in a data frame "
   ]
  },
  {
   "cell_type": "code",
   "execution_count": 17,
   "metadata": {},
   "outputs": [
    {
     "data": {
      "text/plain": [
       "Australia       552\n",
       "India           476\n",
       "Pakistan        469\n",
       "West Indies     380\n",
       "Sri Lanka       372\n",
       "South Africa    361\n",
       "England         343\n",
       "New Zealand     324\n",
       "no result       139\n",
       "Zimbabwe        129\n",
       "Bangladesh      105\n",
       "Ireland          51\n",
       "Kenya            42\n",
       "Afghanistan      42\n",
       "tied             34\n",
       "Scotland         31\n",
       "Netherlands      28\n",
       "Canada           17\n",
       "U.A.E.            9\n",
       "Bermuda           7\n",
       "Hong Kong         6\n",
       "P.N.G.            5\n",
       "Name: Winner, dtype: int64"
      ]
     },
     "execution_count": 17,
     "metadata": {},
     "output_type": "execute_result"
    }
   ],
   "source": [
    "#df['Total_no_of wins']=\n",
    "lis =df['Winner'].value_counts()\n",
    "#df['Total_no_of wins']\n",
    "lis"
   ]
  },
  {
   "cell_type": "code",
   "execution_count": null,
   "metadata": {},
   "outputs": [],
   "source": [
    "df.head()"
   ]
  },
  {
   "cell_type": "code",
   "execution_count": 20,
   "metadata": {},
   "outputs": [],
   "source": [
    "df['Total wins'] = df['Winner'].map(lis)"
   ]
  },
  {
   "cell_type": "code",
   "execution_count": 21,
   "metadata": {},
   "outputs": [
    {
     "data": {
      "text/html": [
       "<div>\n",
       "<style scoped>\n",
       "    .dataframe tbody tr th:only-of-type {\n",
       "        vertical-align: middle;\n",
       "    }\n",
       "\n",
       "    .dataframe tbody tr th {\n",
       "        vertical-align: top;\n",
       "    }\n",
       "\n",
       "    .dataframe thead th {\n",
       "        text-align: right;\n",
       "    }\n",
       "</style>\n",
       "<table border=\"1\" class=\"dataframe\">\n",
       "  <thead>\n",
       "    <tr style=\"text-align: right;\">\n",
       "      <th></th>\n",
       "      <th>Odi_No</th>\n",
       "      <th>Team 1</th>\n",
       "      <th>Team 2</th>\n",
       "      <th>Winner</th>\n",
       "      <th>Margin</th>\n",
       "      <th>Ground</th>\n",
       "      <th>Match Date</th>\n",
       "      <th>Total wins</th>\n",
       "    </tr>\n",
       "    <tr>\n",
       "      <th>Odi_No</th>\n",
       "      <th></th>\n",
       "      <th></th>\n",
       "      <th></th>\n",
       "      <th></th>\n",
       "      <th></th>\n",
       "      <th></th>\n",
       "      <th></th>\n",
       "      <th></th>\n",
       "    </tr>\n",
       "  </thead>\n",
       "  <tbody>\n",
       "    <tr>\n",
       "      <th>ODI # 1</th>\n",
       "      <td>ODI # 1</td>\n",
       "      <td>Australia</td>\n",
       "      <td>England</td>\n",
       "      <td>Australia</td>\n",
       "      <td>5 wickets</td>\n",
       "      <td>Melbourne</td>\n",
       "      <td>Jan 5, 1971</td>\n",
       "      <td>552</td>\n",
       "    </tr>\n",
       "    <tr>\n",
       "      <th>ODI # 2</th>\n",
       "      <td>ODI # 2</td>\n",
       "      <td>England</td>\n",
       "      <td>Australia</td>\n",
       "      <td>England</td>\n",
       "      <td>6 wickets</td>\n",
       "      <td>Manchester</td>\n",
       "      <td>Aug 24, 1972</td>\n",
       "      <td>343</td>\n",
       "    </tr>\n",
       "    <tr>\n",
       "      <th>ODI # 3</th>\n",
       "      <td>ODI # 3</td>\n",
       "      <td>England</td>\n",
       "      <td>Australia</td>\n",
       "      <td>Australia</td>\n",
       "      <td>5 wickets</td>\n",
       "      <td>Lord's</td>\n",
       "      <td>Aug 26, 1972</td>\n",
       "      <td>552</td>\n",
       "    </tr>\n",
       "    <tr>\n",
       "      <th>ODI # 4</th>\n",
       "      <td>ODI # 4</td>\n",
       "      <td>England</td>\n",
       "      <td>Australia</td>\n",
       "      <td>England</td>\n",
       "      <td>2 wickets</td>\n",
       "      <td>Birmingham</td>\n",
       "      <td>Aug 28, 1972</td>\n",
       "      <td>343</td>\n",
       "    </tr>\n",
       "    <tr>\n",
       "      <th>ODI # 5</th>\n",
       "      <td>ODI # 5</td>\n",
       "      <td>New Zealand</td>\n",
       "      <td>Pakistan</td>\n",
       "      <td>New Zealand</td>\n",
       "      <td>22 runs</td>\n",
       "      <td>Christchurch</td>\n",
       "      <td>Feb 11, 1973</td>\n",
       "      <td>324</td>\n",
       "    </tr>\n",
       "  </tbody>\n",
       "</table>\n",
       "</div>"
      ],
      "text/plain": [
       "          Odi_No       Team 1     Team 2       Winner     Margin  \\\n",
       "Odi_No                                                             \n",
       "ODI # 1  ODI # 1    Australia    England    Australia  5 wickets   \n",
       "ODI # 2  ODI # 2      England  Australia      England  6 wickets   \n",
       "ODI # 3  ODI # 3      England  Australia    Australia  5 wickets   \n",
       "ODI # 4  ODI # 4      England  Australia      England  2 wickets   \n",
       "ODI # 5  ODI # 5  New Zealand   Pakistan  New Zealand    22 runs   \n",
       "\n",
       "               Ground    Match Date  Total wins  \n",
       "Odi_No                                           \n",
       "ODI # 1     Melbourne   Jan 5, 1971         552  \n",
       "ODI # 2    Manchester  Aug 24, 1972         343  \n",
       "ODI # 3        Lord's  Aug 26, 1972         552  \n",
       "ODI # 4    Birmingham  Aug 28, 1972         343  \n",
       "ODI # 5  Christchurch  Feb 11, 1973         324  "
      ]
     },
     "execution_count": 21,
     "metadata": {},
     "output_type": "execute_result"
    }
   ],
   "source": [
    "df.head()"
   ]
  },
  {
   "cell_type": "markdown",
   "metadata": {},
   "source": [
    "2.2 B) Make a new column \"Team\" to capture the different teams in the dataset"
   ]
  },
  {
   "cell_type": "code",
   "execution_count": null,
   "metadata": {},
   "outputs": [],
   "source": [
    "df['Team'] = df[df['Team 1'].unique()]"
   ]
  },
  {
   "cell_type": "code",
   "execution_count": null,
   "metadata": {},
   "outputs": [],
   "source": [
    "lstTeam = df['Team 1'].unique()"
   ]
  },
  {
   "cell_type": "code",
   "execution_count": null,
   "metadata": {},
   "outputs": [],
   "source": [
    "df[]"
   ]
  },
  {
   "cell_type": "code",
   "execution_count": null,
   "metadata": {},
   "outputs": [],
   "source": [
    "2.2 C) Rename the \"Odi_No\" column \"Number of Wins\" – (1 mark) "
   ]
  },
  {
   "cell_type": "code",
   "execution_count": 26,
   "metadata": {},
   "outputs": [],
   "source": [
    "df.rename(columns ={'Odi_No':'Number of Wins'},inplace =True)"
   ]
  },
  {
   "cell_type": "code",
   "execution_count": 27,
   "metadata": {},
   "outputs": [
    {
     "data": {
      "text/html": [
       "<div>\n",
       "<style scoped>\n",
       "    .dataframe tbody tr th:only-of-type {\n",
       "        vertical-align: middle;\n",
       "    }\n",
       "\n",
       "    .dataframe tbody tr th {\n",
       "        vertical-align: top;\n",
       "    }\n",
       "\n",
       "    .dataframe thead th {\n",
       "        text-align: right;\n",
       "    }\n",
       "</style>\n",
       "<table border=\"1\" class=\"dataframe\">\n",
       "  <thead>\n",
       "    <tr style=\"text-align: right;\">\n",
       "      <th></th>\n",
       "      <th>Number of Wins</th>\n",
       "      <th>Team 1</th>\n",
       "      <th>Team 2</th>\n",
       "      <th>Winner</th>\n",
       "      <th>Margin</th>\n",
       "      <th>Ground</th>\n",
       "      <th>Match Date</th>\n",
       "      <th>Total wins</th>\n",
       "    </tr>\n",
       "    <tr>\n",
       "      <th>Odi_No</th>\n",
       "      <th></th>\n",
       "      <th></th>\n",
       "      <th></th>\n",
       "      <th></th>\n",
       "      <th></th>\n",
       "      <th></th>\n",
       "      <th></th>\n",
       "      <th></th>\n",
       "    </tr>\n",
       "  </thead>\n",
       "  <tbody>\n",
       "    <tr>\n",
       "      <th>ODI # 1</th>\n",
       "      <td>ODI # 1</td>\n",
       "      <td>Australia</td>\n",
       "      <td>England</td>\n",
       "      <td>Australia</td>\n",
       "      <td>5 wickets</td>\n",
       "      <td>Melbourne</td>\n",
       "      <td>Jan 5, 1971</td>\n",
       "      <td>552</td>\n",
       "    </tr>\n",
       "    <tr>\n",
       "      <th>ODI # 2</th>\n",
       "      <td>ODI # 2</td>\n",
       "      <td>England</td>\n",
       "      <td>Australia</td>\n",
       "      <td>England</td>\n",
       "      <td>6 wickets</td>\n",
       "      <td>Manchester</td>\n",
       "      <td>Aug 24, 1972</td>\n",
       "      <td>343</td>\n",
       "    </tr>\n",
       "    <tr>\n",
       "      <th>ODI # 3</th>\n",
       "      <td>ODI # 3</td>\n",
       "      <td>England</td>\n",
       "      <td>Australia</td>\n",
       "      <td>Australia</td>\n",
       "      <td>5 wickets</td>\n",
       "      <td>Lord's</td>\n",
       "      <td>Aug 26, 1972</td>\n",
       "      <td>552</td>\n",
       "    </tr>\n",
       "    <tr>\n",
       "      <th>ODI # 4</th>\n",
       "      <td>ODI # 4</td>\n",
       "      <td>England</td>\n",
       "      <td>Australia</td>\n",
       "      <td>England</td>\n",
       "      <td>2 wickets</td>\n",
       "      <td>Birmingham</td>\n",
       "      <td>Aug 28, 1972</td>\n",
       "      <td>343</td>\n",
       "    </tr>\n",
       "    <tr>\n",
       "      <th>ODI # 5</th>\n",
       "      <td>ODI # 5</td>\n",
       "      <td>New Zealand</td>\n",
       "      <td>Pakistan</td>\n",
       "      <td>New Zealand</td>\n",
       "      <td>22 runs</td>\n",
       "      <td>Christchurch</td>\n",
       "      <td>Feb 11, 1973</td>\n",
       "      <td>324</td>\n",
       "    </tr>\n",
       "  </tbody>\n",
       "</table>\n",
       "</div>"
      ],
      "text/plain": [
       "        Number of Wins       Team 1     Team 2       Winner     Margin  \\\n",
       "Odi_No                                                                   \n",
       "ODI # 1        ODI # 1    Australia    England    Australia  5 wickets   \n",
       "ODI # 2        ODI # 2      England  Australia      England  6 wickets   \n",
       "ODI # 3        ODI # 3      England  Australia    Australia  5 wickets   \n",
       "ODI # 4        ODI # 4      England  Australia      England  2 wickets   \n",
       "ODI # 5        ODI # 5  New Zealand   Pakistan  New Zealand    22 runs   \n",
       "\n",
       "               Ground    Match Date  Total wins  \n",
       "Odi_No                                           \n",
       "ODI # 1     Melbourne   Jan 5, 1971         552  \n",
       "ODI # 2    Manchester  Aug 24, 1972         343  \n",
       "ODI # 3        Lord's  Aug 26, 1972         552  \n",
       "ODI # 4    Birmingham  Aug 28, 1972         343  \n",
       "ODI # 5  Christchurch  Feb 11, 1973         324  "
      ]
     },
     "execution_count": 27,
     "metadata": {},
     "output_type": "execute_result"
    }
   ],
   "source": [
    "df.head()"
   ]
  },
  {
   "cell_type": "code",
   "execution_count": null,
   "metadata": {},
   "outputs": [],
   "source": [
    "2.2 D) Drop the rows - \"Result\" and \"Not Tied\" – (1 mark) "
   ]
  },
  {
   "cell_type": "code",
   "execution_count": 29,
   "metadata": {},
   "outputs": [
    {
     "data": {
      "text/plain": [
       "Index([], dtype='object', name='Odi_No')"
      ]
     },
     "execution_count": 29,
     "metadata": {},
     "output_type": "execute_result"
    }
   ],
   "source": [
    "df[(df['Margin']=='Result') & (df['Margin']== 'Not Tied')].index"
   ]
  },
  {
   "cell_type": "code",
   "execution_count": null,
   "metadata": {},
   "outputs": [],
   "source": [
    "df[df['Margin']=='Result']"
   ]
  },
  {
   "cell_type": "code",
   "execution_count": 30,
   "metadata": {},
   "outputs": [],
   "source": [
    "df.drop(df[(df['Margin']=='Result') & (df['Margin']== 'Not Tied')].index,inplace =True)"
   ]
  },
  {
   "cell_type": "code",
   "execution_count": 32,
   "metadata": {},
   "outputs": [
    {
     "data": {
      "text/html": [
       "<div>\n",
       "<style scoped>\n",
       "    .dataframe tbody tr th:only-of-type {\n",
       "        vertical-align: middle;\n",
       "    }\n",
       "\n",
       "    .dataframe tbody tr th {\n",
       "        vertical-align: top;\n",
       "    }\n",
       "\n",
       "    .dataframe thead th {\n",
       "        text-align: right;\n",
       "    }\n",
       "</style>\n",
       "<table border=\"1\" class=\"dataframe\">\n",
       "  <thead>\n",
       "    <tr style=\"text-align: right;\">\n",
       "      <th></th>\n",
       "      <th>Number of Wins</th>\n",
       "      <th>Team 1</th>\n",
       "      <th>Team 2</th>\n",
       "      <th>Winner</th>\n",
       "      <th>Margin</th>\n",
       "      <th>Ground</th>\n",
       "      <th>Match Date</th>\n",
       "      <th>Total wins</th>\n",
       "    </tr>\n",
       "    <tr>\n",
       "      <th>Odi_No</th>\n",
       "      <th></th>\n",
       "      <th></th>\n",
       "      <th></th>\n",
       "      <th></th>\n",
       "      <th></th>\n",
       "      <th></th>\n",
       "      <th></th>\n",
       "      <th></th>\n",
       "    </tr>\n",
       "  </thead>\n",
       "  <tbody>\n",
       "  </tbody>\n",
       "</table>\n",
       "</div>"
      ],
      "text/plain": [
       "Empty DataFrame\n",
       "Columns: [Number of Wins, Team 1, Team 2, Winner, Margin, Ground, Match Date, Total wins]\n",
       "Index: []"
      ]
     },
     "execution_count": 32,
     "metadata": {},
     "output_type": "execute_result"
    }
   ],
   "source": [
    "df[df['Margin']=='Result']"
   ]
  },
  {
   "cell_type": "markdown",
   "metadata": {},
   "source": [
    "<H1 align ='center'>Section C</H1>"
   ]
  },
  {
   "cell_type": "raw",
   "metadata": {},
   "source": [
    "3.1 Find the total number of matches played by each Country as both Team 1 and Team 2. After that find the total number of matches played by each country as a whole "
   ]
  },
  {
   "cell_type": "code",
   "execution_count": 40,
   "metadata": {},
   "outputs": [
    {
     "data": {
      "text/plain": [
       "Australia       580\n",
       "India           562\n",
       "England         393\n",
       "New Zealand     392\n",
       "Pakistan        382\n",
       "Sri Lanka       300\n",
       "South Africa    279\n",
       "West Indies     260\n",
       "Bangladesh      213\n",
       "Zimbabwe        196\n",
       "Kenya            81\n",
       "Ireland          72\n",
       "Canada           50\n",
       "Scotland         40\n",
       "Afghanistan      38\n",
       "Netherlands      34\n",
       "Bermuda          17\n",
       "U.A.E.           17\n",
       "Hong Kong        10\n",
       "East Africa       2\n",
       "P.N.G.            2\n",
       "Namibia           2\n",
       "Name: Team 1, dtype: int64"
      ]
     },
     "execution_count": 40,
     "metadata": {},
     "output_type": "execute_result"
    }
   ],
   "source": [
    "l =df['Team 1'].value_counts()\n",
    "l"
   ]
  },
  {
   "cell_type": "code",
   "execution_count": 45,
   "metadata": {},
   "outputs": [
    {
     "data": {
      "text/plain": [
       "pandas.core.series.Series"
      ]
     },
     "execution_count": 45,
     "metadata": {},
     "output_type": "execute_result"
    }
   ],
   "source": [
    "l1 = df['Team 2'].value_counts()\n",
    "type(l1)"
   ]
  },
  {
   "cell_type": "code",
   "execution_count": 47,
   "metadata": {},
   "outputs": [
    {
     "data": {
      "text/plain": [
       "Afghanistan      83.0\n",
       "Australia       903.0\n",
       "Bangladesh      335.0\n",
       "Bermuda          35.0\n",
       "Canada           77.0\n",
       "East Africa       3.0\n",
       "England         697.0\n",
       "Hong Kong        18.0\n",
       "India           930.0\n",
       "Ireland         123.0\n",
       "Kenya           154.0\n",
       "Namibia           6.0\n",
       "Netherlands      76.0\n",
       "New Zealand     731.0\n",
       "P.N.G.           10.0\n",
       "Pakistan        884.0\n",
       "Scotland         93.0\n",
       "South Africa    583.0\n",
       "Sri Lanka       808.0\n",
       "U.A.E.           35.0\n",
       "U.S.A.            2.0\n",
       "West Indies     767.0\n",
       "Zimbabwe        491.0\n",
       "dtype: float64"
      ]
     },
     "execution_count": 47,
     "metadata": {},
     "output_type": "execute_result"
    }
   ],
   "source": [
    "T = l.add(l1,fill_value=0)# we can use add to sum the two series\n",
    "T"
   ]
  },
  {
   "cell_type": "raw",
   "metadata": {},
   "source": [
    "3.2 :- A) With the given hint, first replace all the NAN values with 0 using the below code. --your merged dataset here--.fillna(0,inplace=True"
   ]
  },
  {
   "cell_type": "code",
   "execution_count": 48,
   "metadata": {},
   "outputs": [],
   "source": [
    "df.fillna(value =0,inplace = True)"
   ]
  },
  {
   "cell_type": "code",
   "execution_count": 53,
   "metadata": {},
   "outputs": [],
   "source": [
    "#df.isnull()"
   ]
  },
  {
   "cell_type": "markdown",
   "metadata": {},
   "source": [
    "3.2 : - B) Convert the data type of the Team 2 column from float64 to int64 – (1 mark) "
   ]
  },
  {
   "cell_type": "code",
   "execution_count": 58,
   "metadata": {},
   "outputs": [
    {
     "data": {
      "text/html": [
       "<div>\n",
       "<style scoped>\n",
       "    .dataframe tbody tr th:only-of-type {\n",
       "        vertical-align: middle;\n",
       "    }\n",
       "\n",
       "    .dataframe tbody tr th {\n",
       "        vertical-align: top;\n",
       "    }\n",
       "\n",
       "    .dataframe thead th {\n",
       "        text-align: right;\n",
       "    }\n",
       "</style>\n",
       "<table border=\"1\" class=\"dataframe\">\n",
       "  <thead>\n",
       "    <tr style=\"text-align: right;\">\n",
       "      <th></th>\n",
       "      <th>Number of Wins</th>\n",
       "      <th>Team 1</th>\n",
       "      <th>Team 2</th>\n",
       "      <th>Winner</th>\n",
       "      <th>Margin</th>\n",
       "      <th>Ground</th>\n",
       "      <th>Match Date</th>\n",
       "      <th>Total wins</th>\n",
       "    </tr>\n",
       "    <tr>\n",
       "      <th>Odi_No</th>\n",
       "      <th></th>\n",
       "      <th></th>\n",
       "      <th></th>\n",
       "      <th></th>\n",
       "      <th></th>\n",
       "      <th></th>\n",
       "      <th></th>\n",
       "      <th></th>\n",
       "    </tr>\n",
       "  </thead>\n",
       "  <tbody>\n",
       "    <tr>\n",
       "      <th>ODI # 1</th>\n",
       "      <td>ODI # 1</td>\n",
       "      <td>Australia</td>\n",
       "      <td>England</td>\n",
       "      <td>Australia</td>\n",
       "      <td>5 wickets</td>\n",
       "      <td>Melbourne</td>\n",
       "      <td>Jan 5, 1971</td>\n",
       "      <td>552</td>\n",
       "    </tr>\n",
       "    <tr>\n",
       "      <th>ODI # 2</th>\n",
       "      <td>ODI # 2</td>\n",
       "      <td>England</td>\n",
       "      <td>Australia</td>\n",
       "      <td>England</td>\n",
       "      <td>6 wickets</td>\n",
       "      <td>Manchester</td>\n",
       "      <td>Aug 24, 1972</td>\n",
       "      <td>343</td>\n",
       "    </tr>\n",
       "  </tbody>\n",
       "</table>\n",
       "</div>"
      ],
      "text/plain": [
       "        Number of Wins     Team 1     Team 2     Winner     Margin  \\\n",
       "Odi_No                                                               \n",
       "ODI # 1        ODI # 1  Australia    England  Australia  5 wickets   \n",
       "ODI # 2        ODI # 2    England  Australia    England  6 wickets   \n",
       "\n",
       "             Ground    Match Date  Total wins  \n",
       "Odi_No                                         \n",
       "ODI # 1   Melbourne   Jan 5, 1971         552  \n",
       "ODI # 2  Manchester  Aug 24, 1972         343  "
      ]
     },
     "execution_count": 58,
     "metadata": {},
     "output_type": "execute_result"
    }
   ],
   "source": [
    "df.head(2)"
   ]
  },
  {
   "cell_type": "code",
   "execution_count": 56,
   "metadata": {},
   "outputs": [
    {
     "name": "stdout",
     "output_type": "stream",
     "text": [
      "<class 'pandas.core.frame.DataFrame'>\n",
      "Index: 3922 entries, ODI # 1 to ODI # 3932\n",
      "Data columns (total 8 columns):\n",
      "Number of Wins    3922 non-null object\n",
      "Team 1            3922 non-null object\n",
      "Team 2            3922 non-null object\n",
      "Winner            3922 non-null object\n",
      "Margin            3922 non-null object\n",
      "Ground            3922 non-null object\n",
      "Match Date        3922 non-null object\n",
      "Total wins        3922 non-null int64\n",
      "dtypes: int64(1), object(7)\n",
      "memory usage: 435.8+ KB\n"
     ]
    }
   ],
   "source": [
    "df.info()"
   ]
  },
  {
   "cell_type": "code",
   "execution_count": 65,
   "metadata": {},
   "outputs": [],
   "source": [
    "#df['Team 2'].astype(str).astype(int)"
   ]
  },
  {
   "cell_type": "markdown",
   "metadata": {},
   "source": [
    "C) Add the values of Columns \"Team 2\" and \"Team 1\" – (1 mark) "
   ]
  },
  {
   "cell_type": "raw",
   "metadata": {},
   "source": [
    "D) Make a new column \"Country\""
   ]
  },
  {
   "cell_type": "markdown",
   "metadata": {},
   "source": [
    "E) Sort and display the total number of matches played by each country in descending order and state your insights – (2 marks) "
   ]
  },
  {
   "cell_type": "code",
   "execution_count": 63,
   "metadata": {},
   "outputs": [
    {
     "data": {
      "text/plain": [
       "India           930.0\n",
       "Australia       903.0\n",
       "Pakistan        884.0\n",
       "Sri Lanka       808.0\n",
       "West Indies     767.0\n",
       "New Zealand     731.0\n",
       "England         697.0\n",
       "South Africa    583.0\n",
       "Zimbabwe        491.0\n",
       "Bangladesh      335.0\n",
       "Kenya           154.0\n",
       "Ireland         123.0\n",
       "Scotland         93.0\n",
       "Afghanistan      83.0\n",
       "Canada           77.0\n",
       "Netherlands      76.0\n",
       "Bermuda          35.0\n",
       "U.A.E.           35.0\n",
       "Hong Kong        18.0\n",
       "P.N.G.           10.0\n",
       "Namibia           6.0\n",
       "East Africa       3.0\n",
       "U.S.A.            2.0\n",
       "dtype: float64"
      ]
     },
     "execution_count": 63,
     "metadata": {},
     "output_type": "execute_result"
    }
   ],
   "source": [
    "T.sort_values(ascending=False)"
   ]
  },
  {
   "cell_type": "raw",
   "metadata": {},
   "source": [
    "3.3 Find out the win percentage of each country and also make a bar plot on the same. Provide your insights on the same "
   ]
  },
  {
   "cell_type": "code",
   "execution_count": 79,
   "metadata": {},
   "outputs": [
    {
     "data": {
      "text/plain": [
       "Australia       552\n",
       "India           476\n",
       "Pakistan        469\n",
       "West Indies     380\n",
       "Sri Lanka       372\n",
       "South Africa    361\n",
       "England         343\n",
       "New Zealand     324\n",
       "no result       139\n",
       "Zimbabwe        129\n",
       "Bangladesh      105\n",
       "Ireland          51\n",
       "Kenya            42\n",
       "Afghanistan      42\n",
       "tied             34\n",
       "Scotland         31\n",
       "Netherlands      28\n",
       "Canada           17\n",
       "U.A.E.            9\n",
       "Bermuda           7\n",
       "Hong Kong         6\n",
       "P.N.G.            5\n",
       "Name: Winner, dtype: int64"
      ]
     },
     "execution_count": 79,
     "metadata": {},
     "output_type": "execute_result"
    }
   ],
   "source": [
    "W1 =df['Winner'].value_counts()\n",
    "W1"
   ]
  },
  {
   "cell_type": "code",
   "execution_count": 78,
   "metadata": {},
   "outputs": [
    {
     "data": {
      "text/plain": [
       "Afghanistan      83.0\n",
       "Australia       903.0\n",
       "Bangladesh      335.0\n",
       "Bermuda          35.0\n",
       "Canada           77.0\n",
       "East Africa       3.0\n",
       "England         697.0\n",
       "Hong Kong        18.0\n",
       "India           930.0\n",
       "Ireland         123.0\n",
       "Kenya           154.0\n",
       "Namibia           6.0\n",
       "Netherlands      76.0\n",
       "New Zealand     731.0\n",
       "P.N.G.           10.0\n",
       "Pakistan        884.0\n",
       "Scotland         93.0\n",
       "South Africa    583.0\n",
       "Sri Lanka       808.0\n",
       "U.A.E.           35.0\n",
       "U.S.A.            2.0\n",
       "West Indies     767.0\n",
       "Zimbabwe        491.0\n",
       "dtype: float64"
      ]
     },
     "execution_count": 78,
     "metadata": {},
     "output_type": "execute_result"
    }
   ],
   "source": [
    "Total = T\n",
    "T"
   ]
  },
  {
   "cell_type": "code",
   "execution_count": 108,
   "metadata": {},
   "outputs": [
    {
     "data": {
      "text/plain": [
       "Afghanistan     50.602410\n",
       "Australia       61.129568\n",
       "Bangladesh      31.343284\n",
       "Bermuda         20.000000\n",
       "Canada          22.077922\n",
       "East Africa      0.000000\n",
       "England         49.210904\n",
       "Hong Kong       33.333333\n",
       "India           51.182796\n",
       "Ireland         41.463415\n",
       "Kenya           27.272727\n",
       "Namibia          0.000000\n",
       "Netherlands     36.842105\n",
       "New Zealand     44.322845\n",
       "P.N.G.          50.000000\n",
       "Pakistan        53.054299\n",
       "Scotland        33.333333\n",
       "South Africa    61.921098\n",
       "Sri Lanka       46.039604\n",
       "U.A.E.          25.714286\n",
       "U.S.A.           0.000000\n",
       "West Indies     49.543677\n",
       "Zimbabwe        26.272912\n",
       "dtype: float64"
      ]
     },
     "execution_count": 108,
     "metadata": {},
     "output_type": "execute_result"
    }
   ],
   "source": [
    "ll =W1.divide(T,fill_value=0)\n",
    "\n",
    "ll.drop(index=['no result','tied'],axis =1,inplace=True)\n",
    "percent =ll*100\n",
    "percent"
   ]
  },
  {
   "cell_type": "code",
   "execution_count": 116,
   "metadata": {},
   "outputs": [
    {
     "name": "stdout",
     "output_type": "stream",
     "text": [
      "Afghanistan     50.602410\n",
      "Australia       61.129568\n",
      "Bangladesh      31.343284\n",
      "Bermuda         20.000000\n",
      "Canada          22.077922\n",
      "East Africa      0.000000\n",
      "England         49.210904\n",
      "Hong Kong       33.333333\n",
      "India           51.182796\n",
      "Ireland         41.463415\n",
      "Kenya           27.272727\n",
      "Namibia          0.000000\n",
      "Netherlands     36.842105\n",
      "New Zealand     44.322845\n",
      "P.N.G.          50.000000\n",
      "Pakistan        53.054299\n",
      "Scotland        33.333333\n",
      "South Africa    61.921098\n",
      "Sri Lanka       46.039604\n",
      "U.A.E.          25.714286\n",
      "U.S.A.           0.000000\n",
      "West Indies     49.543677\n",
      "Zimbabwe        26.272912\n",
      "dtype: float64\n",
      "Afghanistan      83.0\n",
      "Australia       903.0\n",
      "Bangladesh      335.0\n",
      "Bermuda          35.0\n",
      "Canada           77.0\n",
      "East Africa       3.0\n",
      "England         697.0\n",
      "Hong Kong        18.0\n",
      "India           930.0\n",
      "Ireland         123.0\n",
      "Kenya           154.0\n",
      "Namibia           6.0\n",
      "Netherlands      76.0\n",
      "New Zealand     731.0\n",
      "P.N.G.           10.0\n",
      "Pakistan        884.0\n",
      "Scotland         93.0\n",
      "South Africa    583.0\n",
      "Sri Lanka       808.0\n",
      "U.A.E.           35.0\n",
      "U.S.A.            2.0\n",
      "West Indies     767.0\n",
      "Zimbabwe        491.0\n",
      "dtype: float64\n"
     ]
    }
   ],
   "source": [
    "sp =pd.Series(percent)\n",
    "print(sp)\n",
    "st = pd.Series(T)\n",
    "print(st)\n"
   ]
  },
  {
   "cell_type": "code",
   "execution_count": 119,
   "metadata": {},
   "outputs": [],
   "source": [
    "Final =pd.concat([sp,st],axis=1)"
   ]
  },
  {
   "cell_type": "code",
   "execution_count": 120,
   "metadata": {},
   "outputs": [
    {
     "data": {
      "text/html": [
       "<div>\n",
       "<style scoped>\n",
       "    .dataframe tbody tr th:only-of-type {\n",
       "        vertical-align: middle;\n",
       "    }\n",
       "\n",
       "    .dataframe tbody tr th {\n",
       "        vertical-align: top;\n",
       "    }\n",
       "\n",
       "    .dataframe thead th {\n",
       "        text-align: right;\n",
       "    }\n",
       "</style>\n",
       "<table border=\"1\" class=\"dataframe\">\n",
       "  <thead>\n",
       "    <tr style=\"text-align: right;\">\n",
       "      <th></th>\n",
       "      <th>0</th>\n",
       "      <th>1</th>\n",
       "    </tr>\n",
       "  </thead>\n",
       "  <tbody>\n",
       "    <tr>\n",
       "      <th>Afghanistan</th>\n",
       "      <td>50.602410</td>\n",
       "      <td>83.0</td>\n",
       "    </tr>\n",
       "    <tr>\n",
       "      <th>Australia</th>\n",
       "      <td>61.129568</td>\n",
       "      <td>903.0</td>\n",
       "    </tr>\n",
       "    <tr>\n",
       "      <th>Bangladesh</th>\n",
       "      <td>31.343284</td>\n",
       "      <td>335.0</td>\n",
       "    </tr>\n",
       "    <tr>\n",
       "      <th>Bermuda</th>\n",
       "      <td>20.000000</td>\n",
       "      <td>35.0</td>\n",
       "    </tr>\n",
       "    <tr>\n",
       "      <th>Canada</th>\n",
       "      <td>22.077922</td>\n",
       "      <td>77.0</td>\n",
       "    </tr>\n",
       "    <tr>\n",
       "      <th>East Africa</th>\n",
       "      <td>0.000000</td>\n",
       "      <td>3.0</td>\n",
       "    </tr>\n",
       "    <tr>\n",
       "      <th>England</th>\n",
       "      <td>49.210904</td>\n",
       "      <td>697.0</td>\n",
       "    </tr>\n",
       "    <tr>\n",
       "      <th>Hong Kong</th>\n",
       "      <td>33.333333</td>\n",
       "      <td>18.0</td>\n",
       "    </tr>\n",
       "    <tr>\n",
       "      <th>India</th>\n",
       "      <td>51.182796</td>\n",
       "      <td>930.0</td>\n",
       "    </tr>\n",
       "    <tr>\n",
       "      <th>Ireland</th>\n",
       "      <td>41.463415</td>\n",
       "      <td>123.0</td>\n",
       "    </tr>\n",
       "    <tr>\n",
       "      <th>Kenya</th>\n",
       "      <td>27.272727</td>\n",
       "      <td>154.0</td>\n",
       "    </tr>\n",
       "    <tr>\n",
       "      <th>Namibia</th>\n",
       "      <td>0.000000</td>\n",
       "      <td>6.0</td>\n",
       "    </tr>\n",
       "    <tr>\n",
       "      <th>Netherlands</th>\n",
       "      <td>36.842105</td>\n",
       "      <td>76.0</td>\n",
       "    </tr>\n",
       "    <tr>\n",
       "      <th>New Zealand</th>\n",
       "      <td>44.322845</td>\n",
       "      <td>731.0</td>\n",
       "    </tr>\n",
       "    <tr>\n",
       "      <th>P.N.G.</th>\n",
       "      <td>50.000000</td>\n",
       "      <td>10.0</td>\n",
       "    </tr>\n",
       "    <tr>\n",
       "      <th>Pakistan</th>\n",
       "      <td>53.054299</td>\n",
       "      <td>884.0</td>\n",
       "    </tr>\n",
       "    <tr>\n",
       "      <th>Scotland</th>\n",
       "      <td>33.333333</td>\n",
       "      <td>93.0</td>\n",
       "    </tr>\n",
       "    <tr>\n",
       "      <th>South Africa</th>\n",
       "      <td>61.921098</td>\n",
       "      <td>583.0</td>\n",
       "    </tr>\n",
       "    <tr>\n",
       "      <th>Sri Lanka</th>\n",
       "      <td>46.039604</td>\n",
       "      <td>808.0</td>\n",
       "    </tr>\n",
       "    <tr>\n",
       "      <th>U.A.E.</th>\n",
       "      <td>25.714286</td>\n",
       "      <td>35.0</td>\n",
       "    </tr>\n",
       "    <tr>\n",
       "      <th>U.S.A.</th>\n",
       "      <td>0.000000</td>\n",
       "      <td>2.0</td>\n",
       "    </tr>\n",
       "    <tr>\n",
       "      <th>West Indies</th>\n",
       "      <td>49.543677</td>\n",
       "      <td>767.0</td>\n",
       "    </tr>\n",
       "    <tr>\n",
       "      <th>Zimbabwe</th>\n",
       "      <td>26.272912</td>\n",
       "      <td>491.0</td>\n",
       "    </tr>\n",
       "  </tbody>\n",
       "</table>\n",
       "</div>"
      ],
      "text/plain": [
       "                      0      1\n",
       "Afghanistan   50.602410   83.0\n",
       "Australia     61.129568  903.0\n",
       "Bangladesh    31.343284  335.0\n",
       "Bermuda       20.000000   35.0\n",
       "Canada        22.077922   77.0\n",
       "East Africa    0.000000    3.0\n",
       "England       49.210904  697.0\n",
       "Hong Kong     33.333333   18.0\n",
       "India         51.182796  930.0\n",
       "Ireland       41.463415  123.0\n",
       "Kenya         27.272727  154.0\n",
       "Namibia        0.000000    6.0\n",
       "Netherlands   36.842105   76.0\n",
       "New Zealand   44.322845  731.0\n",
       "P.N.G.        50.000000   10.0\n",
       "Pakistan      53.054299  884.0\n",
       "Scotland      33.333333   93.0\n",
       "South Africa  61.921098  583.0\n",
       "Sri Lanka     46.039604  808.0\n",
       "U.A.E.        25.714286   35.0\n",
       "U.S.A.         0.000000    2.0\n",
       "West Indies   49.543677  767.0\n",
       "Zimbabwe      26.272912  491.0"
      ]
     },
     "execution_count": 120,
     "metadata": {},
     "output_type": "execute_result"
    }
   ],
   "source": [
    "Final"
   ]
  },
  {
   "cell_type": "code",
   "execution_count": 121,
   "metadata": {},
   "outputs": [],
   "source": [
    "import plotly.offline as plo\n",
    "import plotly.graph_objs as go"
   ]
  },
  {
   "cell_type": "code",
   "execution_count": 125,
   "metadata": {},
   "outputs": [
    {
     "data": {
      "application/vnd.plotly.v1+json": {
       "config": {
        "linkText": "Export to plot.ly",
        "plotlyServerURL": "https://plot.ly",
        "showLink": false
       },
       "data": [
        {
         "type": "bar",
         "x": [
          "Afghanistan",
          "Australia",
          "Bangladesh",
          "Bermuda",
          "Canada",
          "East Africa",
          "England",
          "Hong Kong",
          "India",
          "Ireland",
          "Kenya",
          "Namibia",
          "Netherlands",
          "New Zealand",
          "P.N.G.",
          "Pakistan",
          "Scotland",
          "South Africa",
          "Sri Lanka",
          "U.A.E.",
          "U.S.A.",
          "West Indies",
          "Zimbabwe"
         ],
         "y": [
          50.602409638554214,
          61.12956810631229,
          31.343283582089555,
          20,
          22.07792207792208,
          0,
          49.21090387374462,
          33.33333333333333,
          51.182795698924735,
          41.46341463414634,
          27.27272727272727,
          0,
          36.84210526315789,
          44.322845417236664,
          50,
          53.05429864253394,
          33.33333333333333,
          61.921097770154375,
          46.03960396039604,
          25.71428571428571,
          0,
          49.54367666232073,
          26.272912423625254
         ]
        }
       ],
       "layout": {
        "template": {
         "data": {
          "bar": [
           {
            "error_x": {
             "color": "#2a3f5f"
            },
            "error_y": {
             "color": "#2a3f5f"
            },
            "marker": {
             "line": {
              "color": "#E5ECF6",
              "width": 0.5
             }
            },
            "type": "bar"
           }
          ],
          "barpolar": [
           {
            "marker": {
             "line": {
              "color": "#E5ECF6",
              "width": 0.5
             }
            },
            "type": "barpolar"
           }
          ],
          "carpet": [
           {
            "aaxis": {
             "endlinecolor": "#2a3f5f",
             "gridcolor": "white",
             "linecolor": "white",
             "minorgridcolor": "white",
             "startlinecolor": "#2a3f5f"
            },
            "baxis": {
             "endlinecolor": "#2a3f5f",
             "gridcolor": "white",
             "linecolor": "white",
             "minorgridcolor": "white",
             "startlinecolor": "#2a3f5f"
            },
            "type": "carpet"
           }
          ],
          "choropleth": [
           {
            "colorbar": {
             "outlinewidth": 0,
             "ticks": ""
            },
            "type": "choropleth"
           }
          ],
          "contour": [
           {
            "colorbar": {
             "outlinewidth": 0,
             "ticks": ""
            },
            "colorscale": [
             [
              0,
              "#0d0887"
             ],
             [
              0.1111111111111111,
              "#46039f"
             ],
             [
              0.2222222222222222,
              "#7201a8"
             ],
             [
              0.3333333333333333,
              "#9c179e"
             ],
             [
              0.4444444444444444,
              "#bd3786"
             ],
             [
              0.5555555555555556,
              "#d8576b"
             ],
             [
              0.6666666666666666,
              "#ed7953"
             ],
             [
              0.7777777777777778,
              "#fb9f3a"
             ],
             [
              0.8888888888888888,
              "#fdca26"
             ],
             [
              1,
              "#f0f921"
             ]
            ],
            "type": "contour"
           }
          ],
          "contourcarpet": [
           {
            "colorbar": {
             "outlinewidth": 0,
             "ticks": ""
            },
            "type": "contourcarpet"
           }
          ],
          "heatmap": [
           {
            "colorbar": {
             "outlinewidth": 0,
             "ticks": ""
            },
            "colorscale": [
             [
              0,
              "#0d0887"
             ],
             [
              0.1111111111111111,
              "#46039f"
             ],
             [
              0.2222222222222222,
              "#7201a8"
             ],
             [
              0.3333333333333333,
              "#9c179e"
             ],
             [
              0.4444444444444444,
              "#bd3786"
             ],
             [
              0.5555555555555556,
              "#d8576b"
             ],
             [
              0.6666666666666666,
              "#ed7953"
             ],
             [
              0.7777777777777778,
              "#fb9f3a"
             ],
             [
              0.8888888888888888,
              "#fdca26"
             ],
             [
              1,
              "#f0f921"
             ]
            ],
            "type": "heatmap"
           }
          ],
          "heatmapgl": [
           {
            "colorbar": {
             "outlinewidth": 0,
             "ticks": ""
            },
            "colorscale": [
             [
              0,
              "#0d0887"
             ],
             [
              0.1111111111111111,
              "#46039f"
             ],
             [
              0.2222222222222222,
              "#7201a8"
             ],
             [
              0.3333333333333333,
              "#9c179e"
             ],
             [
              0.4444444444444444,
              "#bd3786"
             ],
             [
              0.5555555555555556,
              "#d8576b"
             ],
             [
              0.6666666666666666,
              "#ed7953"
             ],
             [
              0.7777777777777778,
              "#fb9f3a"
             ],
             [
              0.8888888888888888,
              "#fdca26"
             ],
             [
              1,
              "#f0f921"
             ]
            ],
            "type": "heatmapgl"
           }
          ],
          "histogram": [
           {
            "marker": {
             "colorbar": {
              "outlinewidth": 0,
              "ticks": ""
             }
            },
            "type": "histogram"
           }
          ],
          "histogram2d": [
           {
            "colorbar": {
             "outlinewidth": 0,
             "ticks": ""
            },
            "colorscale": [
             [
              0,
              "#0d0887"
             ],
             [
              0.1111111111111111,
              "#46039f"
             ],
             [
              0.2222222222222222,
              "#7201a8"
             ],
             [
              0.3333333333333333,
              "#9c179e"
             ],
             [
              0.4444444444444444,
              "#bd3786"
             ],
             [
              0.5555555555555556,
              "#d8576b"
             ],
             [
              0.6666666666666666,
              "#ed7953"
             ],
             [
              0.7777777777777778,
              "#fb9f3a"
             ],
             [
              0.8888888888888888,
              "#fdca26"
             ],
             [
              1,
              "#f0f921"
             ]
            ],
            "type": "histogram2d"
           }
          ],
          "histogram2dcontour": [
           {
            "colorbar": {
             "outlinewidth": 0,
             "ticks": ""
            },
            "colorscale": [
             [
              0,
              "#0d0887"
             ],
             [
              0.1111111111111111,
              "#46039f"
             ],
             [
              0.2222222222222222,
              "#7201a8"
             ],
             [
              0.3333333333333333,
              "#9c179e"
             ],
             [
              0.4444444444444444,
              "#bd3786"
             ],
             [
              0.5555555555555556,
              "#d8576b"
             ],
             [
              0.6666666666666666,
              "#ed7953"
             ],
             [
              0.7777777777777778,
              "#fb9f3a"
             ],
             [
              0.8888888888888888,
              "#fdca26"
             ],
             [
              1,
              "#f0f921"
             ]
            ],
            "type": "histogram2dcontour"
           }
          ],
          "mesh3d": [
           {
            "colorbar": {
             "outlinewidth": 0,
             "ticks": ""
            },
            "type": "mesh3d"
           }
          ],
          "parcoords": [
           {
            "line": {
             "colorbar": {
              "outlinewidth": 0,
              "ticks": ""
             }
            },
            "type": "parcoords"
           }
          ],
          "scatter": [
           {
            "marker": {
             "colorbar": {
              "outlinewidth": 0,
              "ticks": ""
             }
            },
            "type": "scatter"
           }
          ],
          "scatter3d": [
           {
            "line": {
             "colorbar": {
              "outlinewidth": 0,
              "ticks": ""
             }
            },
            "marker": {
             "colorbar": {
              "outlinewidth": 0,
              "ticks": ""
             }
            },
            "type": "scatter3d"
           }
          ],
          "scattercarpet": [
           {
            "marker": {
             "colorbar": {
              "outlinewidth": 0,
              "ticks": ""
             }
            },
            "type": "scattercarpet"
           }
          ],
          "scattergeo": [
           {
            "marker": {
             "colorbar": {
              "outlinewidth": 0,
              "ticks": ""
             }
            },
            "type": "scattergeo"
           }
          ],
          "scattergl": [
           {
            "marker": {
             "colorbar": {
              "outlinewidth": 0,
              "ticks": ""
             }
            },
            "type": "scattergl"
           }
          ],
          "scattermapbox": [
           {
            "marker": {
             "colorbar": {
              "outlinewidth": 0,
              "ticks": ""
             }
            },
            "type": "scattermapbox"
           }
          ],
          "scatterpolar": [
           {
            "marker": {
             "colorbar": {
              "outlinewidth": 0,
              "ticks": ""
             }
            },
            "type": "scatterpolar"
           }
          ],
          "scatterpolargl": [
           {
            "marker": {
             "colorbar": {
              "outlinewidth": 0,
              "ticks": ""
             }
            },
            "type": "scatterpolargl"
           }
          ],
          "scatterternary": [
           {
            "marker": {
             "colorbar": {
              "outlinewidth": 0,
              "ticks": ""
             }
            },
            "type": "scatterternary"
           }
          ],
          "surface": [
           {
            "colorbar": {
             "outlinewidth": 0,
             "ticks": ""
            },
            "colorscale": [
             [
              0,
              "#0d0887"
             ],
             [
              0.1111111111111111,
              "#46039f"
             ],
             [
              0.2222222222222222,
              "#7201a8"
             ],
             [
              0.3333333333333333,
              "#9c179e"
             ],
             [
              0.4444444444444444,
              "#bd3786"
             ],
             [
              0.5555555555555556,
              "#d8576b"
             ],
             [
              0.6666666666666666,
              "#ed7953"
             ],
             [
              0.7777777777777778,
              "#fb9f3a"
             ],
             [
              0.8888888888888888,
              "#fdca26"
             ],
             [
              1,
              "#f0f921"
             ]
            ],
            "type": "surface"
           }
          ],
          "table": [
           {
            "cells": {
             "fill": {
              "color": "#EBF0F8"
             },
             "line": {
              "color": "white"
             }
            },
            "header": {
             "fill": {
              "color": "#C8D4E3"
             },
             "line": {
              "color": "white"
             }
            },
            "type": "table"
           }
          ]
         },
         "layout": {
          "annotationdefaults": {
           "arrowcolor": "#2a3f5f",
           "arrowhead": 0,
           "arrowwidth": 1
          },
          "colorscale": {
           "diverging": [
            [
             0,
             "#8e0152"
            ],
            [
             0.1,
             "#c51b7d"
            ],
            [
             0.2,
             "#de77ae"
            ],
            [
             0.3,
             "#f1b6da"
            ],
            [
             0.4,
             "#fde0ef"
            ],
            [
             0.5,
             "#f7f7f7"
            ],
            [
             0.6,
             "#e6f5d0"
            ],
            [
             0.7,
             "#b8e186"
            ],
            [
             0.8,
             "#7fbc41"
            ],
            [
             0.9,
             "#4d9221"
            ],
            [
             1,
             "#276419"
            ]
           ],
           "sequential": [
            [
             0,
             "#0d0887"
            ],
            [
             0.1111111111111111,
             "#46039f"
            ],
            [
             0.2222222222222222,
             "#7201a8"
            ],
            [
             0.3333333333333333,
             "#9c179e"
            ],
            [
             0.4444444444444444,
             "#bd3786"
            ],
            [
             0.5555555555555556,
             "#d8576b"
            ],
            [
             0.6666666666666666,
             "#ed7953"
            ],
            [
             0.7777777777777778,
             "#fb9f3a"
            ],
            [
             0.8888888888888888,
             "#fdca26"
            ],
            [
             1,
             "#f0f921"
            ]
           ],
           "sequentialminus": [
            [
             0,
             "#0d0887"
            ],
            [
             0.1111111111111111,
             "#46039f"
            ],
            [
             0.2222222222222222,
             "#7201a8"
            ],
            [
             0.3333333333333333,
             "#9c179e"
            ],
            [
             0.4444444444444444,
             "#bd3786"
            ],
            [
             0.5555555555555556,
             "#d8576b"
            ],
            [
             0.6666666666666666,
             "#ed7953"
            ],
            [
             0.7777777777777778,
             "#fb9f3a"
            ],
            [
             0.8888888888888888,
             "#fdca26"
            ],
            [
             1,
             "#f0f921"
            ]
           ]
          },
          "colorway": [
           "#636efa",
           "#EF553B",
           "#00cc96",
           "#ab63fa",
           "#FFA15A",
           "#19d3f3",
           "#FF6692",
           "#B6E880",
           "#FF97FF",
           "#FECB52"
          ],
          "font": {
           "color": "#2a3f5f"
          },
          "geo": {
           "bgcolor": "white",
           "lakecolor": "white",
           "landcolor": "#E5ECF6",
           "showlakes": true,
           "showland": true,
           "subunitcolor": "white"
          },
          "hoverlabel": {
           "align": "left"
          },
          "hovermode": "closest",
          "mapbox": {
           "style": "light"
          },
          "paper_bgcolor": "white",
          "plot_bgcolor": "#E5ECF6",
          "polar": {
           "angularaxis": {
            "gridcolor": "white",
            "linecolor": "white",
            "ticks": ""
           },
           "bgcolor": "#E5ECF6",
           "radialaxis": {
            "gridcolor": "white",
            "linecolor": "white",
            "ticks": ""
           }
          },
          "scene": {
           "xaxis": {
            "backgroundcolor": "#E5ECF6",
            "gridcolor": "white",
            "gridwidth": 2,
            "linecolor": "white",
            "showbackground": true,
            "ticks": "",
            "zerolinecolor": "white"
           },
           "yaxis": {
            "backgroundcolor": "#E5ECF6",
            "gridcolor": "white",
            "gridwidth": 2,
            "linecolor": "white",
            "showbackground": true,
            "ticks": "",
            "zerolinecolor": "white"
           },
           "zaxis": {
            "backgroundcolor": "#E5ECF6",
            "gridcolor": "white",
            "gridwidth": 2,
            "linecolor": "white",
            "showbackground": true,
            "ticks": "",
            "zerolinecolor": "white"
           }
          },
          "shapedefaults": {
           "line": {
            "color": "#2a3f5f"
           }
          },
          "ternary": {
           "aaxis": {
            "gridcolor": "white",
            "linecolor": "white",
            "ticks": ""
           },
           "baxis": {
            "gridcolor": "white",
            "linecolor": "white",
            "ticks": ""
           },
           "bgcolor": "#E5ECF6",
           "caxis": {
            "gridcolor": "white",
            "linecolor": "white",
            "ticks": ""
           }
          },
          "title": {
           "x": 0.05
          },
          "xaxis": {
           "automargin": true,
           "gridcolor": "white",
           "linecolor": "white",
           "ticks": "",
           "zerolinecolor": "white",
           "zerolinewidth": 2
          },
          "yaxis": {
           "automargin": true,
           "gridcolor": "white",
           "linecolor": "white",
           "ticks": "",
           "zerolinecolor": "white",
           "zerolinewidth": 2
          }
         }
        },
        "title": {
         "text": "bargraph for percentage of winning of contries"
        }
       }
      },
      "text/html": [
       "<div>\n",
       "        \n",
       "        \n",
       "            <div id=\"2882a11c-7f74-4823-a7ee-93a155da1405\" class=\"plotly-graph-div\" style=\"height:525px; width:100%;\"></div>\n",
       "            <script type=\"text/javascript\">\n",
       "                require([\"plotly\"], function(Plotly) {\n",
       "                    window.PLOTLYENV=window.PLOTLYENV || {};\n",
       "                    \n",
       "                if (document.getElementById(\"2882a11c-7f74-4823-a7ee-93a155da1405\")) {\n",
       "                    Plotly.newPlot(\n",
       "                        '2882a11c-7f74-4823-a7ee-93a155da1405',\n",
       "                        [{\"type\": \"bar\", \"x\": [\"Afghanistan\", \"Australia\", \"Bangladesh\", \"Bermuda\", \"Canada\", \"East Africa\", \"England\", \"Hong Kong\", \"India\", \"Ireland\", \"Kenya\", \"Namibia\", \"Netherlands\", \"New Zealand\", \"P.N.G.\", \"Pakistan\", \"Scotland\", \"South Africa\", \"Sri Lanka\", \"U.A.E.\", \"U.S.A.\", \"West Indies\", \"Zimbabwe\"], \"y\": [50.602409638554214, 61.12956810631229, 31.343283582089555, 20.0, 22.07792207792208, 0.0, 49.21090387374462, 33.33333333333333, 51.182795698924735, 41.46341463414634, 27.27272727272727, 0.0, 36.84210526315789, 44.322845417236664, 50.0, 53.05429864253394, 33.33333333333333, 61.921097770154375, 46.03960396039604, 25.71428571428571, 0.0, 49.54367666232073, 26.272912423625254]}],\n",
       "                        {\"template\": {\"data\": {\"bar\": [{\"error_x\": {\"color\": \"#2a3f5f\"}, \"error_y\": {\"color\": \"#2a3f5f\"}, \"marker\": {\"line\": {\"color\": \"#E5ECF6\", \"width\": 0.5}}, \"type\": \"bar\"}], \"barpolar\": [{\"marker\": {\"line\": {\"color\": \"#E5ECF6\", \"width\": 0.5}}, \"type\": \"barpolar\"}], \"carpet\": [{\"aaxis\": {\"endlinecolor\": \"#2a3f5f\", \"gridcolor\": \"white\", \"linecolor\": \"white\", \"minorgridcolor\": \"white\", \"startlinecolor\": \"#2a3f5f\"}, \"baxis\": {\"endlinecolor\": \"#2a3f5f\", \"gridcolor\": \"white\", \"linecolor\": \"white\", \"minorgridcolor\": \"white\", \"startlinecolor\": \"#2a3f5f\"}, \"type\": \"carpet\"}], \"choropleth\": [{\"colorbar\": {\"outlinewidth\": 0, \"ticks\": \"\"}, \"type\": \"choropleth\"}], \"contour\": [{\"colorbar\": {\"outlinewidth\": 0, \"ticks\": \"\"}, \"colorscale\": [[0.0, \"#0d0887\"], [0.1111111111111111, \"#46039f\"], [0.2222222222222222, \"#7201a8\"], [0.3333333333333333, \"#9c179e\"], [0.4444444444444444, \"#bd3786\"], [0.5555555555555556, \"#d8576b\"], [0.6666666666666666, \"#ed7953\"], [0.7777777777777778, \"#fb9f3a\"], [0.8888888888888888, \"#fdca26\"], [1.0, \"#f0f921\"]], \"type\": \"contour\"}], \"contourcarpet\": [{\"colorbar\": {\"outlinewidth\": 0, \"ticks\": \"\"}, \"type\": \"contourcarpet\"}], \"heatmap\": [{\"colorbar\": {\"outlinewidth\": 0, \"ticks\": \"\"}, \"colorscale\": [[0.0, \"#0d0887\"], [0.1111111111111111, \"#46039f\"], [0.2222222222222222, \"#7201a8\"], [0.3333333333333333, \"#9c179e\"], [0.4444444444444444, \"#bd3786\"], [0.5555555555555556, \"#d8576b\"], [0.6666666666666666, \"#ed7953\"], [0.7777777777777778, \"#fb9f3a\"], [0.8888888888888888, \"#fdca26\"], [1.0, \"#f0f921\"]], \"type\": \"heatmap\"}], \"heatmapgl\": [{\"colorbar\": {\"outlinewidth\": 0, \"ticks\": \"\"}, \"colorscale\": [[0.0, \"#0d0887\"], [0.1111111111111111, \"#46039f\"], [0.2222222222222222, \"#7201a8\"], [0.3333333333333333, \"#9c179e\"], [0.4444444444444444, \"#bd3786\"], [0.5555555555555556, \"#d8576b\"], [0.6666666666666666, \"#ed7953\"], [0.7777777777777778, \"#fb9f3a\"], [0.8888888888888888, \"#fdca26\"], [1.0, \"#f0f921\"]], \"type\": \"heatmapgl\"}], \"histogram\": [{\"marker\": {\"colorbar\": {\"outlinewidth\": 0, \"ticks\": \"\"}}, \"type\": \"histogram\"}], \"histogram2d\": [{\"colorbar\": {\"outlinewidth\": 0, \"ticks\": \"\"}, \"colorscale\": [[0.0, \"#0d0887\"], [0.1111111111111111, \"#46039f\"], [0.2222222222222222, \"#7201a8\"], [0.3333333333333333, \"#9c179e\"], [0.4444444444444444, \"#bd3786\"], [0.5555555555555556, \"#d8576b\"], [0.6666666666666666, \"#ed7953\"], [0.7777777777777778, \"#fb9f3a\"], [0.8888888888888888, \"#fdca26\"], [1.0, \"#f0f921\"]], \"type\": \"histogram2d\"}], \"histogram2dcontour\": [{\"colorbar\": {\"outlinewidth\": 0, \"ticks\": \"\"}, \"colorscale\": [[0.0, \"#0d0887\"], [0.1111111111111111, \"#46039f\"], [0.2222222222222222, \"#7201a8\"], [0.3333333333333333, \"#9c179e\"], [0.4444444444444444, \"#bd3786\"], [0.5555555555555556, \"#d8576b\"], [0.6666666666666666, \"#ed7953\"], [0.7777777777777778, \"#fb9f3a\"], [0.8888888888888888, \"#fdca26\"], [1.0, \"#f0f921\"]], \"type\": \"histogram2dcontour\"}], \"mesh3d\": [{\"colorbar\": {\"outlinewidth\": 0, \"ticks\": \"\"}, \"type\": \"mesh3d\"}], \"parcoords\": [{\"line\": {\"colorbar\": {\"outlinewidth\": 0, \"ticks\": \"\"}}, \"type\": \"parcoords\"}], \"scatter\": [{\"marker\": {\"colorbar\": {\"outlinewidth\": 0, \"ticks\": \"\"}}, \"type\": \"scatter\"}], \"scatter3d\": [{\"line\": {\"colorbar\": {\"outlinewidth\": 0, \"ticks\": \"\"}}, \"marker\": {\"colorbar\": {\"outlinewidth\": 0, \"ticks\": \"\"}}, \"type\": \"scatter3d\"}], \"scattercarpet\": [{\"marker\": {\"colorbar\": {\"outlinewidth\": 0, \"ticks\": \"\"}}, \"type\": \"scattercarpet\"}], \"scattergeo\": [{\"marker\": {\"colorbar\": {\"outlinewidth\": 0, \"ticks\": \"\"}}, \"type\": \"scattergeo\"}], \"scattergl\": [{\"marker\": {\"colorbar\": {\"outlinewidth\": 0, \"ticks\": \"\"}}, \"type\": \"scattergl\"}], \"scattermapbox\": [{\"marker\": {\"colorbar\": {\"outlinewidth\": 0, \"ticks\": \"\"}}, \"type\": \"scattermapbox\"}], \"scatterpolar\": [{\"marker\": {\"colorbar\": {\"outlinewidth\": 0, \"ticks\": \"\"}}, \"type\": \"scatterpolar\"}], \"scatterpolargl\": [{\"marker\": {\"colorbar\": {\"outlinewidth\": 0, \"ticks\": \"\"}}, \"type\": \"scatterpolargl\"}], \"scatterternary\": [{\"marker\": {\"colorbar\": {\"outlinewidth\": 0, \"ticks\": \"\"}}, \"type\": \"scatterternary\"}], \"surface\": [{\"colorbar\": {\"outlinewidth\": 0, \"ticks\": \"\"}, \"colorscale\": [[0.0, \"#0d0887\"], [0.1111111111111111, \"#46039f\"], [0.2222222222222222, \"#7201a8\"], [0.3333333333333333, \"#9c179e\"], [0.4444444444444444, \"#bd3786\"], [0.5555555555555556, \"#d8576b\"], [0.6666666666666666, \"#ed7953\"], [0.7777777777777778, \"#fb9f3a\"], [0.8888888888888888, \"#fdca26\"], [1.0, \"#f0f921\"]], \"type\": \"surface\"}], \"table\": [{\"cells\": {\"fill\": {\"color\": \"#EBF0F8\"}, \"line\": {\"color\": \"white\"}}, \"header\": {\"fill\": {\"color\": \"#C8D4E3\"}, \"line\": {\"color\": \"white\"}}, \"type\": \"table\"}]}, \"layout\": {\"annotationdefaults\": {\"arrowcolor\": \"#2a3f5f\", \"arrowhead\": 0, \"arrowwidth\": 1}, \"colorscale\": {\"diverging\": [[0, \"#8e0152\"], [0.1, \"#c51b7d\"], [0.2, \"#de77ae\"], [0.3, \"#f1b6da\"], [0.4, \"#fde0ef\"], [0.5, \"#f7f7f7\"], [0.6, \"#e6f5d0\"], [0.7, \"#b8e186\"], [0.8, \"#7fbc41\"], [0.9, \"#4d9221\"], [1, \"#276419\"]], \"sequential\": [[0.0, \"#0d0887\"], [0.1111111111111111, \"#46039f\"], [0.2222222222222222, \"#7201a8\"], [0.3333333333333333, \"#9c179e\"], [0.4444444444444444, \"#bd3786\"], [0.5555555555555556, \"#d8576b\"], [0.6666666666666666, \"#ed7953\"], [0.7777777777777778, \"#fb9f3a\"], [0.8888888888888888, \"#fdca26\"], [1.0, \"#f0f921\"]], \"sequentialminus\": [[0.0, \"#0d0887\"], [0.1111111111111111, \"#46039f\"], [0.2222222222222222, \"#7201a8\"], [0.3333333333333333, \"#9c179e\"], [0.4444444444444444, \"#bd3786\"], [0.5555555555555556, \"#d8576b\"], [0.6666666666666666, \"#ed7953\"], [0.7777777777777778, \"#fb9f3a\"], [0.8888888888888888, \"#fdca26\"], [1.0, \"#f0f921\"]]}, \"colorway\": [\"#636efa\", \"#EF553B\", \"#00cc96\", \"#ab63fa\", \"#FFA15A\", \"#19d3f3\", \"#FF6692\", \"#B6E880\", \"#FF97FF\", \"#FECB52\"], \"font\": {\"color\": \"#2a3f5f\"}, \"geo\": {\"bgcolor\": \"white\", \"lakecolor\": \"white\", \"landcolor\": \"#E5ECF6\", \"showlakes\": true, \"showland\": true, \"subunitcolor\": \"white\"}, \"hoverlabel\": {\"align\": \"left\"}, \"hovermode\": \"closest\", \"mapbox\": {\"style\": \"light\"}, \"paper_bgcolor\": \"white\", \"plot_bgcolor\": \"#E5ECF6\", \"polar\": {\"angularaxis\": {\"gridcolor\": \"white\", \"linecolor\": \"white\", \"ticks\": \"\"}, \"bgcolor\": \"#E5ECF6\", \"radialaxis\": {\"gridcolor\": \"white\", \"linecolor\": \"white\", \"ticks\": \"\"}}, \"scene\": {\"xaxis\": {\"backgroundcolor\": \"#E5ECF6\", \"gridcolor\": \"white\", \"gridwidth\": 2, \"linecolor\": \"white\", \"showbackground\": true, \"ticks\": \"\", \"zerolinecolor\": \"white\"}, \"yaxis\": {\"backgroundcolor\": \"#E5ECF6\", \"gridcolor\": \"white\", \"gridwidth\": 2, \"linecolor\": \"white\", \"showbackground\": true, \"ticks\": \"\", \"zerolinecolor\": \"white\"}, \"zaxis\": {\"backgroundcolor\": \"#E5ECF6\", \"gridcolor\": \"white\", \"gridwidth\": 2, \"linecolor\": \"white\", \"showbackground\": true, \"ticks\": \"\", \"zerolinecolor\": \"white\"}}, \"shapedefaults\": {\"line\": {\"color\": \"#2a3f5f\"}}, \"ternary\": {\"aaxis\": {\"gridcolor\": \"white\", \"linecolor\": \"white\", \"ticks\": \"\"}, \"baxis\": {\"gridcolor\": \"white\", \"linecolor\": \"white\", \"ticks\": \"\"}, \"bgcolor\": \"#E5ECF6\", \"caxis\": {\"gridcolor\": \"white\", \"linecolor\": \"white\", \"ticks\": \"\"}}, \"title\": {\"x\": 0.05}, \"xaxis\": {\"automargin\": true, \"gridcolor\": \"white\", \"linecolor\": \"white\", \"ticks\": \"\", \"zerolinecolor\": \"white\", \"zerolinewidth\": 2}, \"yaxis\": {\"automargin\": true, \"gridcolor\": \"white\", \"linecolor\": \"white\", \"ticks\": \"\", \"zerolinecolor\": \"white\", \"zerolinewidth\": 2}}}, \"title\": {\"text\": \"bargraph for percentage of winning of contries\"}},\n",
       "                        {\"responsive\": true}\n",
       "                    ).then(function(){\n",
       "                            \n",
       "var gd = document.getElementById('2882a11c-7f74-4823-a7ee-93a155da1405');\n",
       "var x = new MutationObserver(function (mutations, observer) {{\n",
       "        var display = window.getComputedStyle(gd).display;\n",
       "        if (!display || display === 'none') {{\n",
       "            console.log([gd, 'removed!']);\n",
       "            Plotly.purge(gd);\n",
       "            observer.disconnect();\n",
       "        }}\n",
       "}});\n",
       "\n",
       "// Listen for the removal of the full notebook cells\n",
       "var notebookContainer = gd.closest('#notebook-container');\n",
       "if (notebookContainer) {{\n",
       "    x.observe(notebookContainer, {childList: true});\n",
       "}}\n",
       "\n",
       "// Listen for the clearing of the current output cell\n",
       "var outputEl = gd.closest('.output');\n",
       "if (outputEl) {{\n",
       "    x.observe(outputEl, {childList: true});\n",
       "}}\n",
       "\n",
       "                        })\n",
       "                };\n",
       "                });\n",
       "            </script>\n",
       "        </div>"
      ]
     },
     "metadata": {},
     "output_type": "display_data"
    }
   ],
   "source": [
    "data  = [go.Bar(x =Final.index,y =Final[0])]\n",
    "layout = go.Layout(title ='bargraph for percentage of winning of contries')\n",
    "fig =go.Figure(data,layout)\n",
    "plo.iplot(fig)"
   ]
  },
  {
   "cell_type": "code",
   "execution_count": null,
   "metadata": {},
   "outputs": [],
   "source": []
  }
 ],
 "metadata": {
  "kernelspec": {
   "display_name": "Python 3",
   "language": "python",
   "name": "python3"
  },
  "language_info": {
   "codemirror_mode": {
    "name": "ipython",
    "version": 3
   },
   "file_extension": ".py",
   "mimetype": "text/x-python",
   "name": "python",
   "nbconvert_exporter": "python",
   "pygments_lexer": "ipython3",
   "version": "3.7.1"
  }
 },
 "nbformat": 4,
 "nbformat_minor": 2
}
