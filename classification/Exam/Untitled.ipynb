{
 "cells": [
  {
   "cell_type": "code",
   "execution_count": 1,
   "metadata": {},
   "outputs": [],
   "source": [
    "import pandas as pd\n",
    "import numpy as np\n",
    "import matplotlib.pyplot as plt\n",
    "import seaborn as sns"
   ]
  },
  {
   "cell_type": "raw",
   "metadata": {},
   "source": [
    "a. Read the dataset (tab, csv, xls, txt, inbuilt dataset). What are the number of rows and no. of cols & types of variables (continuous, categorical etc.)? (1 MARK) "
   ]
  },
  {
   "cell_type": "code",
   "execution_count": 2,
   "metadata": {},
   "outputs": [],
   "source": [
    "df =pd.read_csv('diabetes.csv')"
   ]
  },
  {
   "cell_type": "code",
   "execution_count": 3,
   "metadata": {},
   "outputs": [
    {
     "data": {
      "text/plain": [
       "(768, 9)"
      ]
     },
     "execution_count": 3,
     "metadata": {},
     "output_type": "execute_result"
    }
   ],
   "source": [
    "df.shape"
   ]
  },
  {
   "cell_type": "markdown",
   "metadata": {},
   "source": [
    "there are 768 rows and 9 columns"
   ]
  },
  {
   "cell_type": "code",
   "execution_count": 4,
   "metadata": {},
   "outputs": [
    {
     "name": "stdout",
     "output_type": "stream",
     "text": [
      "<class 'pandas.core.frame.DataFrame'>\n",
      "RangeIndex: 768 entries, 0 to 767\n",
      "Data columns (total 9 columns):\n",
      " #   Column                    Non-Null Count  Dtype  \n",
      "---  ------                    --------------  -----  \n",
      " 0   Pregnancies               768 non-null    int64  \n",
      " 1   Glucose                   768 non-null    int64  \n",
      " 2   BloodPressure             768 non-null    int64  \n",
      " 3   SkinThickness             768 non-null    int64  \n",
      " 4   Insulin                   768 non-null    int64  \n",
      " 5   BMI                       768 non-null    float64\n",
      " 6   DiabetesPedigreeFunction  768 non-null    float64\n",
      " 7   Age                       768 non-null    int64  \n",
      " 8   Outcome                   768 non-null    int64  \n",
      "dtypes: float64(2), int64(7)\n",
      "memory usage: 54.1 KB\n"
     ]
    }
   ],
   "source": [
    "df.info()"
   ]
  },
  {
   "cell_type": "markdown",
   "metadata": {},
   "source": [
    "BMI & DiabetesPedigreeFunction are continous variables remaining  all are discrete variables."
   ]
  },
  {
   "cell_type": "raw",
   "metadata": {},
   "source": [
    "b. Calculate five-point summary for numerical variables (1 MARK) "
   ]
  },
  {
   "cell_type": "code",
   "execution_count": 5,
   "metadata": {},
   "outputs": [
    {
     "data": {
      "text/html": [
       "<div>\n",
       "<style scoped>\n",
       "    .dataframe tbody tr th:only-of-type {\n",
       "        vertical-align: middle;\n",
       "    }\n",
       "\n",
       "    .dataframe tbody tr th {\n",
       "        vertical-align: top;\n",
       "    }\n",
       "\n",
       "    .dataframe thead th {\n",
       "        text-align: right;\n",
       "    }\n",
       "</style>\n",
       "<table border=\"1\" class=\"dataframe\">\n",
       "  <thead>\n",
       "    <tr style=\"text-align: right;\">\n",
       "      <th></th>\n",
       "      <th>Pregnancies</th>\n",
       "      <th>Glucose</th>\n",
       "      <th>BloodPressure</th>\n",
       "      <th>SkinThickness</th>\n",
       "      <th>Insulin</th>\n",
       "      <th>BMI</th>\n",
       "      <th>DiabetesPedigreeFunction</th>\n",
       "      <th>Age</th>\n",
       "      <th>Outcome</th>\n",
       "    </tr>\n",
       "  </thead>\n",
       "  <tbody>\n",
       "    <tr>\n",
       "      <th>count</th>\n",
       "      <td>768.000000</td>\n",
       "      <td>768.000000</td>\n",
       "      <td>768.000000</td>\n",
       "      <td>768.000000</td>\n",
       "      <td>768.000000</td>\n",
       "      <td>768.000000</td>\n",
       "      <td>768.000000</td>\n",
       "      <td>768.000000</td>\n",
       "      <td>768.000000</td>\n",
       "    </tr>\n",
       "    <tr>\n",
       "      <th>mean</th>\n",
       "      <td>3.845052</td>\n",
       "      <td>120.894531</td>\n",
       "      <td>69.105469</td>\n",
       "      <td>20.536458</td>\n",
       "      <td>79.799479</td>\n",
       "      <td>31.992578</td>\n",
       "      <td>0.471876</td>\n",
       "      <td>33.240885</td>\n",
       "      <td>0.348958</td>\n",
       "    </tr>\n",
       "    <tr>\n",
       "      <th>std</th>\n",
       "      <td>3.369578</td>\n",
       "      <td>31.972618</td>\n",
       "      <td>19.355807</td>\n",
       "      <td>15.952218</td>\n",
       "      <td>115.244002</td>\n",
       "      <td>7.884160</td>\n",
       "      <td>0.331329</td>\n",
       "      <td>11.760232</td>\n",
       "      <td>0.476951</td>\n",
       "    </tr>\n",
       "    <tr>\n",
       "      <th>min</th>\n",
       "      <td>0.000000</td>\n",
       "      <td>0.000000</td>\n",
       "      <td>0.000000</td>\n",
       "      <td>0.000000</td>\n",
       "      <td>0.000000</td>\n",
       "      <td>0.000000</td>\n",
       "      <td>0.078000</td>\n",
       "      <td>21.000000</td>\n",
       "      <td>0.000000</td>\n",
       "    </tr>\n",
       "    <tr>\n",
       "      <th>25%</th>\n",
       "      <td>1.000000</td>\n",
       "      <td>99.000000</td>\n",
       "      <td>62.000000</td>\n",
       "      <td>0.000000</td>\n",
       "      <td>0.000000</td>\n",
       "      <td>27.300000</td>\n",
       "      <td>0.243750</td>\n",
       "      <td>24.000000</td>\n",
       "      <td>0.000000</td>\n",
       "    </tr>\n",
       "    <tr>\n",
       "      <th>50%</th>\n",
       "      <td>3.000000</td>\n",
       "      <td>117.000000</td>\n",
       "      <td>72.000000</td>\n",
       "      <td>23.000000</td>\n",
       "      <td>30.500000</td>\n",
       "      <td>32.000000</td>\n",
       "      <td>0.372500</td>\n",
       "      <td>29.000000</td>\n",
       "      <td>0.000000</td>\n",
       "    </tr>\n",
       "    <tr>\n",
       "      <th>75%</th>\n",
       "      <td>6.000000</td>\n",
       "      <td>140.250000</td>\n",
       "      <td>80.000000</td>\n",
       "      <td>32.000000</td>\n",
       "      <td>127.250000</td>\n",
       "      <td>36.600000</td>\n",
       "      <td>0.626250</td>\n",
       "      <td>41.000000</td>\n",
       "      <td>1.000000</td>\n",
       "    </tr>\n",
       "    <tr>\n",
       "      <th>max</th>\n",
       "      <td>17.000000</td>\n",
       "      <td>199.000000</td>\n",
       "      <td>122.000000</td>\n",
       "      <td>99.000000</td>\n",
       "      <td>846.000000</td>\n",
       "      <td>67.100000</td>\n",
       "      <td>2.420000</td>\n",
       "      <td>81.000000</td>\n",
       "      <td>1.000000</td>\n",
       "    </tr>\n",
       "  </tbody>\n",
       "</table>\n",
       "</div>"
      ],
      "text/plain": [
       "       Pregnancies     Glucose  BloodPressure  SkinThickness     Insulin  \\\n",
       "count   768.000000  768.000000     768.000000     768.000000  768.000000   \n",
       "mean      3.845052  120.894531      69.105469      20.536458   79.799479   \n",
       "std       3.369578   31.972618      19.355807      15.952218  115.244002   \n",
       "min       0.000000    0.000000       0.000000       0.000000    0.000000   \n",
       "25%       1.000000   99.000000      62.000000       0.000000    0.000000   \n",
       "50%       3.000000  117.000000      72.000000      23.000000   30.500000   \n",
       "75%       6.000000  140.250000      80.000000      32.000000  127.250000   \n",
       "max      17.000000  199.000000     122.000000      99.000000  846.000000   \n",
       "\n",
       "              BMI  DiabetesPedigreeFunction         Age     Outcome  \n",
       "count  768.000000                768.000000  768.000000  768.000000  \n",
       "mean    31.992578                  0.471876   33.240885    0.348958  \n",
       "std      7.884160                  0.331329   11.760232    0.476951  \n",
       "min      0.000000                  0.078000   21.000000    0.000000  \n",
       "25%     27.300000                  0.243750   24.000000    0.000000  \n",
       "50%     32.000000                  0.372500   29.000000    0.000000  \n",
       "75%     36.600000                  0.626250   41.000000    1.000000  \n",
       "max     67.100000                  2.420000   81.000000    1.000000  "
      ]
     },
     "execution_count": 5,
     "metadata": {},
     "output_type": "execute_result"
    }
   ],
   "source": [
    "df.describe()"
   ]
  },
  {
   "cell_type": "raw",
   "metadata": {},
   "source": [
    "Summarize observations for categorical variables – no. of categories, % observations in each category. (1 mark) "
   ]
  },
  {
   "cell_type": "code",
   "execution_count": 6,
   "metadata": {},
   "outputs": [
    {
     "data": {
      "text/html": [
       "<div>\n",
       "<style scoped>\n",
       "    .dataframe tbody tr th:only-of-type {\n",
       "        vertical-align: middle;\n",
       "    }\n",
       "\n",
       "    .dataframe tbody tr th {\n",
       "        vertical-align: top;\n",
       "    }\n",
       "\n",
       "    .dataframe thead th {\n",
       "        text-align: right;\n",
       "    }\n",
       "</style>\n",
       "<table border=\"1\" class=\"dataframe\">\n",
       "  <thead>\n",
       "    <tr style=\"text-align: right;\">\n",
       "      <th></th>\n",
       "      <th>Pregnancies</th>\n",
       "      <th>Glucose</th>\n",
       "      <th>BloodPressure</th>\n",
       "      <th>SkinThickness</th>\n",
       "      <th>Insulin</th>\n",
       "      <th>BMI</th>\n",
       "      <th>DiabetesPedigreeFunction</th>\n",
       "      <th>Age</th>\n",
       "      <th>Outcome</th>\n",
       "    </tr>\n",
       "  </thead>\n",
       "  <tbody>\n",
       "    <tr>\n",
       "      <th>0</th>\n",
       "      <td>6</td>\n",
       "      <td>148</td>\n",
       "      <td>72</td>\n",
       "      <td>35</td>\n",
       "      <td>0</td>\n",
       "      <td>33.6</td>\n",
       "      <td>0.627</td>\n",
       "      <td>50</td>\n",
       "      <td>1</td>\n",
       "    </tr>\n",
       "    <tr>\n",
       "      <th>1</th>\n",
       "      <td>1</td>\n",
       "      <td>85</td>\n",
       "      <td>66</td>\n",
       "      <td>29</td>\n",
       "      <td>0</td>\n",
       "      <td>26.6</td>\n",
       "      <td>0.351</td>\n",
       "      <td>31</td>\n",
       "      <td>0</td>\n",
       "    </tr>\n",
       "    <tr>\n",
       "      <th>2</th>\n",
       "      <td>8</td>\n",
       "      <td>183</td>\n",
       "      <td>64</td>\n",
       "      <td>0</td>\n",
       "      <td>0</td>\n",
       "      <td>23.3</td>\n",
       "      <td>0.672</td>\n",
       "      <td>32</td>\n",
       "      <td>1</td>\n",
       "    </tr>\n",
       "    <tr>\n",
       "      <th>3</th>\n",
       "      <td>1</td>\n",
       "      <td>89</td>\n",
       "      <td>66</td>\n",
       "      <td>23</td>\n",
       "      <td>94</td>\n",
       "      <td>28.1</td>\n",
       "      <td>0.167</td>\n",
       "      <td>21</td>\n",
       "      <td>0</td>\n",
       "    </tr>\n",
       "    <tr>\n",
       "      <th>4</th>\n",
       "      <td>0</td>\n",
       "      <td>137</td>\n",
       "      <td>40</td>\n",
       "      <td>35</td>\n",
       "      <td>168</td>\n",
       "      <td>43.1</td>\n",
       "      <td>2.288</td>\n",
       "      <td>33</td>\n",
       "      <td>1</td>\n",
       "    </tr>\n",
       "  </tbody>\n",
       "</table>\n",
       "</div>"
      ],
      "text/plain": [
       "   Pregnancies  Glucose  BloodPressure  SkinThickness  Insulin   BMI  \\\n",
       "0            6      148             72             35        0  33.6   \n",
       "1            1       85             66             29        0  26.6   \n",
       "2            8      183             64              0        0  23.3   \n",
       "3            1       89             66             23       94  28.1   \n",
       "4            0      137             40             35      168  43.1   \n",
       "\n",
       "   DiabetesPedigreeFunction  Age  Outcome  \n",
       "0                     0.627   50        1  \n",
       "1                     0.351   31        0  \n",
       "2                     0.672   32        1  \n",
       "3                     0.167   21        0  \n",
       "4                     2.288   33        1  "
      ]
     },
     "execution_count": 6,
     "metadata": {},
     "output_type": "execute_result"
    }
   ],
   "source": [
    "df.head()"
   ]
  },
  {
   "cell_type": "code",
   "execution_count": 7,
   "metadata": {
    "scrolled": false
   },
   "outputs": [
    {
     "name": "stdout",
     "output_type": "stream",
     "text": [
      "no of observations in each catagory of Pregnancies  \n",
      " 1     135\n",
      "0     111\n",
      "2     103\n",
      "3      75\n",
      "4      68\n",
      "5      57\n",
      "6      50\n",
      "7      45\n",
      "8      38\n",
      "9      28\n",
      "10     24\n",
      "11     11\n",
      "13     10\n",
      "12      9\n",
      "14      2\n",
      "15      1\n",
      "17      1\n",
      "Name: Pregnancies, dtype: int64\n",
      "percentage of  observations in each catagory of Pregnancies  \n",
      " 1      3.142352e-76\n",
      "0      9.912333e-85\n",
      "2      5.592429e-88\n",
      "3     9.332636e-102\n",
      "4     5.185245e-106\n",
      "5     1.125547e-113\n",
      "6     2.295506e-119\n",
      "7     6.097185e-124\n",
      "8     2.768456e-131\n",
      "9     1.512450e-144\n",
      "10    3.054936e-151\n",
      "11    4.010020e-185\n",
      "13    2.909900e-189\n",
      "12    7.729100e-194\n",
      "14    3.688736e-259\n",
      "15    2.909900e-289\n",
      "17    2.909900e-289\n",
      "Name: Pregnancies, dtype: float64\n",
      "no of observations in each catagory of Glucose  \n",
      " 100    17\n",
      "99     17\n",
      "129    14\n",
      "125    14\n",
      "111    14\n",
      "       ..\n",
      "177     1\n",
      "172     1\n",
      "169     1\n",
      "160     1\n",
      "199     1\n",
      "Name: Glucose, Length: 136, dtype: int64\n",
      "percentage of  observations in each catagory of Glucose  \n",
      " 100    3.226786e-166\n",
      "99     3.226786e-166\n",
      "129    1.193113e-174\n",
      "125    1.193113e-174\n",
      "111    1.193113e-174\n",
      "           ...      \n",
      "177    2.909900e-289\n",
      "172    2.909900e-289\n",
      "169    2.909900e-289\n",
      "160    2.909900e-289\n",
      "199    2.909900e-289\n",
      "Name: Glucose, Length: 136, dtype: float64\n",
      "no of observations in each catagory of BloodPressure  \n",
      " 70     57\n",
      "74     52\n",
      "68     45\n",
      "78     45\n",
      "72     44\n",
      "64     43\n",
      "80     40\n",
      "76     39\n",
      "60     37\n",
      "0      35\n",
      "62     34\n",
      "66     30\n",
      "82     30\n",
      "88     25\n",
      "84     23\n",
      "90     22\n",
      "86     21\n",
      "58     21\n",
      "50     13\n",
      "56     12\n",
      "52     11\n",
      "54     11\n",
      "92      8\n",
      "75      8\n",
      "65      7\n",
      "94      6\n",
      "85      6\n",
      "48      5\n",
      "44      4\n",
      "96      4\n",
      "110     3\n",
      "100     3\n",
      "98      3\n",
      "106     3\n",
      "108     2\n",
      "104     2\n",
      "30      2\n",
      "55      2\n",
      "46      2\n",
      "40      1\n",
      "38      1\n",
      "24      1\n",
      "95      1\n",
      "61      1\n",
      "102     1\n",
      "114     1\n",
      "122     1\n",
      "Name: BloodPressure, dtype: int64\n",
      "percentage of  observations in each catagory of BloodPressure  \n",
      " 70     1.125547e-113\n",
      "74     1.159344e-117\n",
      "68     6.097185e-124\n",
      "78     6.097185e-124\n",
      "72     6.443853e-125\n",
      "64     6.467308e-126\n",
      "80     4.676028e-129\n",
      "76     3.718251e-130\n",
      "60     1.923315e-132\n",
      "0      7.424760e-135\n",
      "62     4.090437e-136\n",
      "66     1.499697e-141\n",
      "82     1.499697e-141\n",
      "88     1.810835e-149\n",
      "84     4.331732e-153\n",
      "90     5.083304e-155\n",
      "86     4.850734e-157\n",
      "58     4.850734e-157\n",
      "50     7.214616e-178\n",
      "56     2.409920e-181\n",
      "52     4.010020e-185\n",
      "54     4.010020e-185\n",
      "92     5.927570e-199\n",
      "75     5.927570e-199\n",
      "65     9.412002e-205\n",
      "94     1.901092e-211\n",
      "85     1.901092e-211\n",
      "48     2.295506e-219\n",
      "44     4.676028e-229\n",
      "96     4.676028e-229\n",
      "110    1.499697e-241\n",
      "100    1.499697e-241\n",
      "98     1.499697e-241\n",
      "106    1.499697e-241\n",
      "108    3.688736e-259\n",
      "104    3.688736e-259\n",
      "30     3.688736e-259\n",
      "55     3.688736e-259\n",
      "46     3.688736e-259\n",
      "40     2.909900e-289\n",
      "38     2.909900e-289\n",
      "24     2.909900e-289\n",
      "95     2.909900e-289\n",
      "61     2.909900e-289\n",
      "102    2.909900e-289\n",
      "114    2.909900e-289\n",
      "122    2.909900e-289\n",
      "Name: BloodPressure, dtype: float64\n",
      "no of observations in each catagory of SkinThickness  \n",
      " 0     227\n",
      "32     31\n",
      "30     27\n",
      "27     23\n",
      "23     22\n",
      "33     20\n",
      "18     20\n",
      "28     20\n",
      "31     19\n",
      "39     18\n",
      "19     18\n",
      "29     17\n",
      "37     16\n",
      "26     16\n",
      "22     16\n",
      "40     16\n",
      "25     16\n",
      "35     15\n",
      "41     15\n",
      "36     14\n",
      "15     14\n",
      "17     14\n",
      "20     13\n",
      "24     12\n",
      "42     11\n",
      "13     11\n",
      "21     10\n",
      "34      8\n",
      "46      8\n",
      "38      7\n",
      "12      7\n",
      "14      6\n",
      "16      6\n",
      "11      6\n",
      "43      6\n",
      "45      6\n",
      "10      5\n",
      "44      5\n",
      "48      4\n",
      "47      4\n",
      "50      3\n",
      "49      3\n",
      "54      2\n",
      "52      2\n",
      "7       2\n",
      "8       2\n",
      "60      1\n",
      "56      1\n",
      "63      1\n",
      "51      1\n",
      "99      1\n",
      "Name: SkinThickness, dtype: int64\n",
      "percentage of  observations in each catagory of SkinThickness  \n",
      " 0      1.165370e-53\n",
      "32    3.981506e-140\n",
      "30    3.983405e-146\n",
      "27    4.331732e-153\n",
      "23    5.083304e-155\n",
      "33    3.688736e-159\n",
      "18    3.688736e-159\n",
      "28    3.688736e-159\n",
      "31    2.183927e-161\n",
      "39    9.797799e-164\n",
      "19    9.797799e-164\n",
      "29    3.226786e-166\n",
      "37    7.514088e-169\n",
      "26    7.514088e-169\n",
      "22    7.514088e-169\n",
      "40    7.514088e-169\n",
      "25    7.514088e-169\n",
      "35    1.183052e-171\n",
      "41    1.183052e-171\n",
      "36    1.193113e-174\n",
      "15    1.193113e-174\n",
      "17    1.193113e-174\n",
      "20    7.214616e-178\n",
      "24    2.409920e-181\n",
      "42    4.010020e-185\n",
      "13    4.010020e-185\n",
      "21    2.909900e-189\n",
      "34    5.927570e-199\n",
      "46    5.927570e-199\n",
      "38    9.412002e-205\n",
      "12    9.412002e-205\n",
      "14    1.901092e-211\n",
      "16    1.901092e-211\n",
      "11    1.901092e-211\n",
      "43    1.901092e-211\n",
      "45    1.901092e-211\n",
      "10    2.295506e-219\n",
      "44    2.295506e-219\n",
      "48    4.676028e-229\n",
      "47    4.676028e-229\n",
      "50    1.499697e-241\n",
      "49    1.499697e-241\n",
      "54    3.688736e-259\n",
      "52    3.688736e-259\n",
      "7     3.688736e-259\n",
      "8     3.688736e-259\n",
      "60    2.909900e-289\n",
      "56    2.909900e-289\n",
      "63    2.909900e-289\n",
      "51    2.909900e-289\n",
      "99    2.909900e-289\n",
      "Name: SkinThickness, dtype: float64\n",
      "no of observations in each catagory of Insulin  \n",
      " 0      374\n",
      "105     11\n",
      "140      9\n",
      "130      9\n",
      "120      8\n",
      "      ... \n",
      "271      1\n",
      "270      1\n",
      "108      1\n",
      "112      1\n",
      "846      1\n",
      "Name: Insulin, Length: 186, dtype: int64\n",
      "percentage of  observations in each catagory of Insulin  \n",
      " 0       5.636873e-32\n",
      "105    4.010020e-185\n",
      "140    7.729100e-194\n",
      "130    7.729100e-194\n",
      "120    5.927570e-199\n",
      "           ...      \n",
      "271    2.909900e-289\n",
      "270    2.909900e-289\n",
      "108    2.909900e-289\n",
      "112    2.909900e-289\n",
      "846    2.909900e-289\n",
      "Name: Insulin, Length: 186, dtype: float64\n",
      "no of observations in each catagory of Age  \n",
      " 22    72\n",
      "21    63\n",
      "25    48\n",
      "24    46\n",
      "23    38\n",
      "28    35\n",
      "26    33\n",
      "27    32\n",
      "29    29\n",
      "31    24\n",
      "41    22\n",
      "30    21\n",
      "37    19\n",
      "42    18\n",
      "33    17\n",
      "32    16\n",
      "36    16\n",
      "38    16\n",
      "45    15\n",
      "34    14\n",
      "40    13\n",
      "43    13\n",
      "46    13\n",
      "39    12\n",
      "35    10\n",
      "50     8\n",
      "44     8\n",
      "51     8\n",
      "52     8\n",
      "58     7\n",
      "47     6\n",
      "54     6\n",
      "57     5\n",
      "60     5\n",
      "48     5\n",
      "49     5\n",
      "53     5\n",
      "55     4\n",
      "62     4\n",
      "63     4\n",
      "66     4\n",
      "56     3\n",
      "59     3\n",
      "65     3\n",
      "67     3\n",
      "61     2\n",
      "69     2\n",
      "72     1\n",
      "64     1\n",
      "68     1\n",
      "70     1\n",
      "81     1\n",
      "Name: Age, dtype: int64\n",
      "percentage of  observations in each catagory of Age  \n",
      " 22    1.574446e-103\n",
      "21    2.499959e-109\n",
      "25    3.872592e-121\n",
      "24    5.491123e-123\n",
      "23    2.768456e-131\n",
      "28    7.424760e-135\n",
      "26    2.066674e-137\n",
      "27    9.525238e-139\n",
      "29    5.054495e-143\n",
      "31    3.054936e-151\n",
      "41    5.083304e-155\n",
      "30    4.850734e-157\n",
      "37    2.183927e-161\n",
      "42    9.797799e-164\n",
      "33    3.226786e-166\n",
      "32    7.514088e-169\n",
      "36    7.514088e-169\n",
      "38    7.514088e-169\n",
      "45    1.183052e-171\n",
      "34    1.193113e-174\n",
      "40    7.214616e-178\n",
      "43    7.214616e-178\n",
      "46    7.214616e-178\n",
      "39    2.409920e-181\n",
      "35    2.909900e-189\n",
      "50    5.927570e-199\n",
      "44    5.927570e-199\n",
      "51    5.927570e-199\n",
      "52    5.927570e-199\n",
      "58    9.412002e-205\n",
      "47    1.901092e-211\n",
      "54    1.901092e-211\n",
      "57    2.295506e-219\n",
      "60    2.295506e-219\n",
      "48    2.295506e-219\n",
      "49    2.295506e-219\n",
      "53    2.295506e-219\n",
      "55    4.676028e-229\n",
      "62    4.676028e-229\n",
      "63    4.676028e-229\n",
      "66    4.676028e-229\n",
      "56    1.499697e-241\n",
      "59    1.499697e-241\n",
      "65    1.499697e-241\n",
      "67    1.499697e-241\n",
      "61    3.688736e-259\n",
      "69    3.688736e-259\n",
      "72    2.909900e-289\n",
      "64    2.909900e-289\n",
      "68    2.909900e-289\n",
      "70    2.909900e-289\n",
      "81    2.909900e-289\n",
      "Name: Age, dtype: float64\n",
      "no of observations in each catagory of Outcome  \n",
      " 0    500\n",
      "1    268\n",
      "Name: Outcome, dtype: int64\n",
      "percentage of  observations in each catagory of Outcome  \n",
      " 0    2.295506e-19\n",
      "1    1.893902e-46\n",
      "Name: Outcome, dtype: float64\n"
     ]
    }
   ],
   "source": [
    "for i in df.select_dtypes(include='int64'):\n",
    "    print('no of observations in each catagory of',i,' \\n',df[i].value_counts())\n",
    "    print('percentage of  observations in each catagory of',i,' \\n',df[i].value_counts(normalize=True)**100)\n",
    "    "
   ]
  },
  {
   "cell_type": "raw",
   "metadata": {},
   "source": [
    "d. Check for defects in the data such as missing values, null, outliers, etc and also check for class imbalance. (2 marks) "
   ]
  },
  {
   "cell_type": "markdown",
   "metadata": {},
   "source": [
    "## checking null values"
   ]
  },
  {
   "cell_type": "code",
   "execution_count": 8,
   "metadata": {},
   "outputs": [
    {
     "data": {
      "text/plain": [
       "Pregnancies                 0\n",
       "Glucose                     0\n",
       "BloodPressure               0\n",
       "SkinThickness               0\n",
       "Insulin                     0\n",
       "BMI                         0\n",
       "DiabetesPedigreeFunction    0\n",
       "Age                         0\n",
       "Outcome                     0\n",
       "dtype: int64"
      ]
     },
     "execution_count": 8,
     "metadata": {},
     "output_type": "execute_result"
    }
   ],
   "source": [
    "df.isna().sum()"
   ]
  },
  {
   "cell_type": "markdown",
   "metadata": {},
   "source": [
    "There are no null values"
   ]
  },
  {
   "cell_type": "markdown",
   "metadata": {},
   "source": [
    "# checking duplicate values"
   ]
  },
  {
   "cell_type": "code",
   "execution_count": 9,
   "metadata": {},
   "outputs": [
    {
     "data": {
      "text/html": [
       "<div>\n",
       "<style scoped>\n",
       "    .dataframe tbody tr th:only-of-type {\n",
       "        vertical-align: middle;\n",
       "    }\n",
       "\n",
       "    .dataframe tbody tr th {\n",
       "        vertical-align: top;\n",
       "    }\n",
       "\n",
       "    .dataframe thead th {\n",
       "        text-align: right;\n",
       "    }\n",
       "</style>\n",
       "<table border=\"1\" class=\"dataframe\">\n",
       "  <thead>\n",
       "    <tr style=\"text-align: right;\">\n",
       "      <th></th>\n",
       "      <th>Pregnancies</th>\n",
       "      <th>Glucose</th>\n",
       "      <th>BloodPressure</th>\n",
       "      <th>SkinThickness</th>\n",
       "      <th>Insulin</th>\n",
       "      <th>BMI</th>\n",
       "      <th>DiabetesPedigreeFunction</th>\n",
       "      <th>Age</th>\n",
       "      <th>Outcome</th>\n",
       "    </tr>\n",
       "  </thead>\n",
       "  <tbody>\n",
       "  </tbody>\n",
       "</table>\n",
       "</div>"
      ],
      "text/plain": [
       "Empty DataFrame\n",
       "Columns: [Pregnancies, Glucose, BloodPressure, SkinThickness, Insulin, BMI, DiabetesPedigreeFunction, Age, Outcome]\n",
       "Index: []"
      ]
     },
     "execution_count": 9,
     "metadata": {},
     "output_type": "execute_result"
    }
   ],
   "source": [
    "df[df.duplicated()]"
   ]
  },
  {
   "cell_type": "code",
   "execution_count": 10,
   "metadata": {},
   "outputs": [
    {
     "ename": "SyntaxError",
     "evalue": "invalid syntax (<ipython-input-10-9f9bab7dd56b>, line 1)",
     "output_type": "error",
     "traceback": [
      "\u001b[1;36m  File \u001b[1;32m\"<ipython-input-10-9f9bab7dd56b>\"\u001b[1;36m, line \u001b[1;32m1\u001b[0m\n\u001b[1;33m    there are no duplicate values too.\u001b[0m\n\u001b[1;37m            ^\u001b[0m\n\u001b[1;31mSyntaxError\u001b[0m\u001b[1;31m:\u001b[0m invalid syntax\n"
     ]
    }
   ],
   "source": [
    "there are no duplicate values too."
   ]
  },
  {
   "cell_type": "markdown",
   "metadata": {},
   "source": [
    "## check for outliers"
   ]
  },
  {
   "cell_type": "code",
   "execution_count": 11,
   "metadata": {},
   "outputs": [
    {
     "data": {
      "image/png": "[encoded data removed]",
      "text/plain": [
       "<Figure size 432x288 with 1 Axes>"
      ]
     },
     "metadata": {
      "needs_background": "light"
     },
     "output_type": "display_data"
    },
    {
     "data": {
      "image/png": "[encoded data removed]",
      "text/plain": [
       "<Figure size 432x288 with 1 Axes>"
      ]
     },
     "metadata": {
      "needs_background": "light"
     },
     "output_type": "display_data"
    },
    {
     "data": {
      "image/png": "[encoded data removed]",
      "text/plain": [
       "<Figure size 432x288 with 1 Axes>"
      ]
     },
     "metadata": {
      "needs_background": "light"
     },
     "output_type": "display_data"
    },
    {
     "data": {
      "image/png": "[encoded data removed]",
      "text/plain": [
       "<Figure size 432x288 with 1 Axes>"
      ]
     },
     "metadata": {
      "needs_background": "light"
     },
     "output_type": "display_data"
    },
    {
     "data": {
      "image/png": "[encoded data removed]",
      "text/plain": [
       "<Figure size 432x288 with 1 Axes>"
      ]
     },
     "metadata": {
      "needs_background": "light"
     },
     "output_type": "display_data"
    },
    {
     "data": {
      "image/png": "[encoded data removed]",
      "text/plain": [
       "<Figure size 432x288 with 1 Axes>"
      ]
     },
     "metadata": {
      "needs_background": "light"
     },
     "output_type": "display_data"
    },
    {
     "data": {
      "image/png": "[encoded data removed]",
      "text/plain": [
       "<Figure size 432x288 with 1 Axes>"
      ]
     },
     "metadata": {
      "needs_background": "light"
     },
     "output_type": "display_data"
    },
    {
     "data": {
      "image/png": "[encoded data removed]",
      "text/plain": [
       "<Figure size 432x288 with 1 Axes>"
      ]
     },
     "metadata": {
      "needs_background": "light"
     },
     "output_type": "display_data"
    },
    {
     "data": {
      "image/png": "[encoded data removed]",
      "text/plain": [
       "<Figure size 432x288 with 1 Axes>"
      ]
     },
     "metadata": {
      "needs_background": "light"
     },
     "output_type": "display_data"
    }
   ],
   "source": [
    "for i in df.select_dtypes(include=['int64','float64']):\n",
    "    sns.boxplot(df[i])\n",
    "    plt.show()\n"
   ]
  },
  {
   "cell_type": "markdown",
   "metadata": {},
   "source": [
    "There are more outliers in Insulin and Diabetic boold pressure and a very few outliers in all others."
   ]
  },
  {
   "cell_type": "code",
   "execution_count": 12,
   "metadata": {},
   "outputs": [
    {
     "data": {
      "text/plain": [
       "0    65.104167\n",
       "1    34.895833\n",
       "Name: Outcome, dtype: float64"
      ]
     },
     "execution_count": 12,
     "metadata": {},
     "output_type": "execute_result"
    }
   ],
   "source": [
    "df.Outcome.value_counts(normalize= True)*100"
   ]
  },
  {
   "cell_type": "markdown",
   "metadata": {},
   "source": [
    "we have 65:34 ratio which is way imbalanced but not a severe imbalanced dataset."
   ]
  },
  {
   "cell_type": "markdown",
   "metadata": {},
   "source": [
    "## 2. Data Preparation (10 marks) "
   ]
  },
  {
   "cell_type": "markdown",
   "metadata": {},
   "source": [
    "a.Fix the defects found above and do appropriate treatment if any. (3 marks) "
   ]
  },
  {
   "cell_type": "markdown",
   "metadata": {},
   "source": [
    " The defect that found areoutliers, which can be treated pending on the bussiness domain knowledge, so we need to confirm with domain expert before treating outliers , to know whether the outlier we feel is reall anoutlier or not."
   ]
  },
  {
   "cell_type": "code",
   "execution_count": 20,
   "metadata": {},
   "outputs": [
    {
     "name": "stdout",
     "output_type": "stream",
     "text": [
      "(636, 9)\n",
      "(636, 9)\n",
      "(636, 9)\n",
      "(636, 9)\n",
      "(636, 9)\n",
      "(636, 9)\n",
      "(636, 9)\n",
      "(636, 9)\n",
      "(636, 9)\n"
     ]
    }
   ],
   "source": [
    "for i in df.select_dtypes(include=['int64','float64']):\n",
    "    q1 =df[i].quantile(0.25)\n",
    "    q3 =df[i].quantile(0.75)\n",
    "    iqr = q3-q1\n",
    "    ul = q3 + 1.5*iqr\n",
    "    ll = q1 -1.5*iqr\n",
    "    df1[i] =df[(df[i]<=ul) & (df[i]>=ll)][i]\n",
    "    print(df1.shape)"
   ]
  },
  {
   "cell_type": "code",
   "execution_count": 21,
   "metadata": {},
   "outputs": [
    {
     "data": {
      "text/plain": [
       "Pregnancies                 0\n",
       "Glucose                     9\n",
       "BloodPressure               4\n",
       "SkinThickness               0\n",
       "Insulin                     9\n",
       "BMI                         2\n",
       "DiabetesPedigreeFunction    9\n",
       "Age                         2\n",
       "Outcome                     0\n",
       "dtype: int64"
      ]
     },
     "execution_count": 21,
     "metadata": {},
     "output_type": "execute_result"
    }
   ],
   "source": [
    "df1.isna().sum()"
   ]
  },
  {
   "cell_type": "code",
   "execution_count": 29,
   "metadata": {},
   "outputs": [],
   "source": [
    "from sklearn.impute import KNNImputer\n",
    "knimpute =KNNImputer()\n",
    "knafterimpute =knimpute.fit_transform(df)"
   ]
  },
  {
   "cell_type": "code",
   "execution_count": 33,
   "metadata": {},
   "outputs": [
    {
     "data": {
      "text/html": [
       "<div>\n",
       "<style scoped>\n",
       "    .dataframe tbody tr th:only-of-type {\n",
       "        vertical-align: middle;\n",
       "    }\n",
       "\n",
       "    .dataframe tbody tr th {\n",
       "        vertical-align: top;\n",
       "    }\n",
       "\n",
       "    .dataframe thead th {\n",
       "        text-align: right;\n",
       "    }\n",
       "</style>\n",
       "<table border=\"1\" class=\"dataframe\">\n",
       "  <thead>\n",
       "    <tr style=\"text-align: right;\">\n",
       "      <th></th>\n",
       "      <th>Pregnancies</th>\n",
       "      <th>Glucose</th>\n",
       "      <th>BloodPressure</th>\n",
       "      <th>SkinThickness</th>\n",
       "      <th>Insulin</th>\n",
       "      <th>BMI</th>\n",
       "      <th>DiabetesPedigreeFunction</th>\n",
       "      <th>Age</th>\n",
       "      <th>Outcome</th>\n",
       "    </tr>\n",
       "  </thead>\n",
       "  <tbody>\n",
       "    <tr>\n",
       "      <th>0</th>\n",
       "      <td>6.0</td>\n",
       "      <td>148.0</td>\n",
       "      <td>72.0</td>\n",
       "      <td>35.0</td>\n",
       "      <td>0.0</td>\n",
       "      <td>33.6</td>\n",
       "      <td>0.627</td>\n",
       "      <td>50.0</td>\n",
       "      <td>1.0</td>\n",
       "    </tr>\n",
       "    <tr>\n",
       "      <th>1</th>\n",
       "      <td>1.0</td>\n",
       "      <td>85.0</td>\n",
       "      <td>66.0</td>\n",
       "      <td>29.0</td>\n",
       "      <td>0.0</td>\n",
       "      <td>26.6</td>\n",
       "      <td>0.351</td>\n",
       "      <td>31.0</td>\n",
       "      <td>0.0</td>\n",
       "    </tr>\n",
       "    <tr>\n",
       "      <th>2</th>\n",
       "      <td>8.0</td>\n",
       "      <td>183.0</td>\n",
       "      <td>64.0</td>\n",
       "      <td>0.0</td>\n",
       "      <td>0.0</td>\n",
       "      <td>23.3</td>\n",
       "      <td>0.672</td>\n",
       "      <td>32.0</td>\n",
       "      <td>1.0</td>\n",
       "    </tr>\n",
       "    <tr>\n",
       "      <th>3</th>\n",
       "      <td>1.0</td>\n",
       "      <td>89.0</td>\n",
       "      <td>66.0</td>\n",
       "      <td>23.0</td>\n",
       "      <td>94.0</td>\n",
       "      <td>28.1</td>\n",
       "      <td>0.167</td>\n",
       "      <td>21.0</td>\n",
       "      <td>0.0</td>\n",
       "    </tr>\n",
       "    <tr>\n",
       "      <th>4</th>\n",
       "      <td>5.0</td>\n",
       "      <td>116.0</td>\n",
       "      <td>74.0</td>\n",
       "      <td>0.0</td>\n",
       "      <td>0.0</td>\n",
       "      <td>25.6</td>\n",
       "      <td>0.201</td>\n",
       "      <td>30.0</td>\n",
       "      <td>0.0</td>\n",
       "    </tr>\n",
       "  </tbody>\n",
       "</table>\n",
       "</div>"
      ],
      "text/plain": [
       "   Pregnancies  Glucose  BloodPressure  SkinThickness  Insulin   BMI  \\\n",
       "0          6.0    148.0           72.0           35.0      0.0  33.6   \n",
       "1          1.0     85.0           66.0           29.0      0.0  26.6   \n",
       "2          8.0    183.0           64.0            0.0      0.0  23.3   \n",
       "3          1.0     89.0           66.0           23.0     94.0  28.1   \n",
       "4          5.0    116.0           74.0            0.0      0.0  25.6   \n",
       "\n",
       "   DiabetesPedigreeFunction   Age  Outcome  \n",
       "0                     0.627  50.0      1.0  \n",
       "1                     0.351  31.0      0.0  \n",
       "2                     0.672  32.0      1.0  \n",
       "3                     0.167  21.0      0.0  \n",
       "4                     0.201  30.0      0.0  "
      ]
     },
     "execution_count": 33,
     "metadata": {},
     "output_type": "execute_result"
    }
   ],
   "source": [
    "df1 =pd.DataFrame(knafterimpute,columns= df.columns)\n",
    "df1.head()"
   ]
  },
  {
   "cell_type": "markdown",
   "metadata": {},
   "source": [
    "we used knn imputer to treat the outliers."
   ]
  },
  {
   "cell_type": "code",
   "execution_count": null,
   "metadata": {},
   "outputs": [],
   "source": [
    "b. Visualize the data using relevant plots. Find out the variables which are highly correlated with Target? (3 marks) "
   ]
  },
  {
   "cell_type": "code",
   "execution_count": 34,
   "metadata": {},
   "outputs": [
    {
     "data": {
      "text/plain": [
       "<matplotlib.axes._subplots.AxesSubplot at 0x1ca82143a08>"
      ]
     },
     "execution_count": 34,
     "metadata": {},
     "output_type": "execute_result"
    },
    {
     "data": {
      "image/png": "[encoded data removed]",
      "text/plain": [
       "<Figure size 432x288 with 1 Axes>"
      ]
     },
     "metadata": {
      "needs_background": "light"
     },
     "output_type": "display_data"
    }
   ],
   "source": [
    "sns.countplot(df1.Outcome)"
   ]
  },
  {
   "cell_type": "code",
   "execution_count": null,
   "metadata": {},
   "outputs": [],
   "source": [
    "we can see the count of target variable."
   ]
  },
  {
   "cell_type": "code",
   "execution_count": 35,
   "metadata": {},
   "outputs": [
    {
     "name": "stdout",
     "output_type": "stream",
     "text": [
      "<class 'pandas.core.frame.DataFrame'>\n",
      "RangeIndex: 592 entries, 0 to 591\n",
      "Data columns (total 9 columns):\n",
      " #   Column                    Non-Null Count  Dtype  \n",
      "---  ------                    --------------  -----  \n",
      " 0   Pregnancies               592 non-null    float64\n",
      " 1   Glucose                   592 non-null    float64\n",
      " 2   BloodPressure             592 non-null    float64\n",
      " 3   SkinThickness             592 non-null    float64\n",
      " 4   Insulin                   592 non-null    float64\n",
      " 5   BMI                       592 non-null    float64\n",
      " 6   DiabetesPedigreeFunction  592 non-null    float64\n",
      " 7   Age                       592 non-null    float64\n",
      " 8   Outcome                   592 non-null    float64\n",
      "dtypes: float64(9)\n",
      "memory usage: 41.8 KB\n"
     ]
    }
   ],
   "source": [
    "df1.info()"
   ]
  },
  {
   "cell_type": "code",
   "execution_count": null,
   "metadata": {},
   "outputs": [],
   "source": []
  }
 ],
 "metadata": {
  "kernelspec": {
   "display_name": "Python 3",
   "language": "python",
   "name": "python3"
  },
  "language_info": {
   "codemirror_mode": {
    "name": "ipython",
    "version": 3
   },
   "file_extension": ".py",
   "mimetype": "text/x-python",
   "name": "python",
   "nbconvert_exporter": "python",
   "pygments_lexer": "ipython3",
   "version": "3.7.6"
  }
 },
 "nbformat": 4,
 "nbformat_minor": 4
}
