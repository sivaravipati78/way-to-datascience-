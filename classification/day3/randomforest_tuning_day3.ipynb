{
 "cells": [
  {
   "cell_type": "code",
   "execution_count": 1,
   "metadata": {},
   "outputs": [],
   "source": [
    "import matplotlib.pyplot as plt\n",
    "import numpy as np\n",
    "import pandas as pd\n",
    "import seaborn as sns"
   ]
  },
  {
   "cell_type": "code",
   "execution_count": 2,
   "metadata": {},
   "outputs": [],
   "source": [
    "df =pd.read_csv(r'C:\\Users\\SRK\\Desktop\\siva_python\\classification\\day1\\US_Heart_Patients.csv')"
   ]
  },
  {
   "cell_type": "code",
   "execution_count": 3,
   "metadata": {
    "scrolled": true
   },
   "outputs": [
    {
     "data": {
      "text/html": [
       "<div>\n",
       "<style scoped>\n",
       "    .dataframe tbody tr th:only-of-type {\n",
       "        vertical-align: middle;\n",
       "    }\n",
       "\n",
       "    .dataframe tbody tr th {\n",
       "        vertical-align: top;\n",
       "    }\n",
       "\n",
       "    .dataframe thead th {\n",
       "        text-align: right;\n",
       "    }\n",
       "</style>\n",
       "<table border=\"1\" class=\"dataframe\">\n",
       "  <thead>\n",
       "    <tr style=\"text-align: right;\">\n",
       "      <th></th>\n",
       "      <th>male</th>\n",
       "      <th>age</th>\n",
       "      <th>education</th>\n",
       "      <th>currentSmoker</th>\n",
       "      <th>cigsPerDay</th>\n",
       "      <th>BPMeds</th>\n",
       "      <th>prevalentStroke</th>\n",
       "      <th>prevalentHyp</th>\n",
       "      <th>diabetes</th>\n",
       "      <th>totChol</th>\n",
       "      <th>sysBP</th>\n",
       "      <th>diaBP</th>\n",
       "      <th>BMI</th>\n",
       "      <th>heartRate</th>\n",
       "      <th>glucose</th>\n",
       "      <th>TenYearCHD</th>\n",
       "    </tr>\n",
       "  </thead>\n",
       "  <tbody>\n",
       "    <tr>\n",
       "      <th>0</th>\n",
       "      <td>1</td>\n",
       "      <td>39</td>\n",
       "      <td>4.0</td>\n",
       "      <td>0</td>\n",
       "      <td>0.0</td>\n",
       "      <td>0.0</td>\n",
       "      <td>0</td>\n",
       "      <td>0</td>\n",
       "      <td>0</td>\n",
       "      <td>195.0</td>\n",
       "      <td>106.0</td>\n",
       "      <td>70.0</td>\n",
       "      <td>26.97</td>\n",
       "      <td>80.0</td>\n",
       "      <td>77.0</td>\n",
       "      <td>0</td>\n",
       "    </tr>\n",
       "    <tr>\n",
       "      <th>1</th>\n",
       "      <td>0</td>\n",
       "      <td>46</td>\n",
       "      <td>2.0</td>\n",
       "      <td>0</td>\n",
       "      <td>0.0</td>\n",
       "      <td>0.0</td>\n",
       "      <td>0</td>\n",
       "      <td>0</td>\n",
       "      <td>0</td>\n",
       "      <td>250.0</td>\n",
       "      <td>121.0</td>\n",
       "      <td>81.0</td>\n",
       "      <td>28.73</td>\n",
       "      <td>95.0</td>\n",
       "      <td>76.0</td>\n",
       "      <td>0</td>\n",
       "    </tr>\n",
       "    <tr>\n",
       "      <th>2</th>\n",
       "      <td>1</td>\n",
       "      <td>48</td>\n",
       "      <td>1.0</td>\n",
       "      <td>1</td>\n",
       "      <td>20.0</td>\n",
       "      <td>0.0</td>\n",
       "      <td>0</td>\n",
       "      <td>0</td>\n",
       "      <td>0</td>\n",
       "      <td>245.0</td>\n",
       "      <td>127.5</td>\n",
       "      <td>80.0</td>\n",
       "      <td>25.34</td>\n",
       "      <td>75.0</td>\n",
       "      <td>70.0</td>\n",
       "      <td>0</td>\n",
       "    </tr>\n",
       "    <tr>\n",
       "      <th>3</th>\n",
       "      <td>0</td>\n",
       "      <td>61</td>\n",
       "      <td>3.0</td>\n",
       "      <td>1</td>\n",
       "      <td>30.0</td>\n",
       "      <td>0.0</td>\n",
       "      <td>0</td>\n",
       "      <td>1</td>\n",
       "      <td>0</td>\n",
       "      <td>225.0</td>\n",
       "      <td>150.0</td>\n",
       "      <td>95.0</td>\n",
       "      <td>28.58</td>\n",
       "      <td>65.0</td>\n",
       "      <td>103.0</td>\n",
       "      <td>1</td>\n",
       "    </tr>\n",
       "    <tr>\n",
       "      <th>4</th>\n",
       "      <td>0</td>\n",
       "      <td>46</td>\n",
       "      <td>3.0</td>\n",
       "      <td>1</td>\n",
       "      <td>23.0</td>\n",
       "      <td>0.0</td>\n",
       "      <td>0</td>\n",
       "      <td>0</td>\n",
       "      <td>0</td>\n",
       "      <td>285.0</td>\n",
       "      <td>130.0</td>\n",
       "      <td>84.0</td>\n",
       "      <td>23.10</td>\n",
       "      <td>85.0</td>\n",
       "      <td>85.0</td>\n",
       "      <td>0</td>\n",
       "    </tr>\n",
       "  </tbody>\n",
       "</table>\n",
       "</div>"
      ],
      "text/plain": [
       "   male  age  education  currentSmoker  cigsPerDay  BPMeds  prevalentStroke  \\\n",
       "0     1   39        4.0              0         0.0     0.0                0   \n",
       "1     0   46        2.0              0         0.0     0.0                0   \n",
       "2     1   48        1.0              1        20.0     0.0                0   \n",
       "3     0   61        3.0              1        30.0     0.0                0   \n",
       "4     0   46        3.0              1        23.0     0.0                0   \n",
       "\n",
       "   prevalentHyp  diabetes  totChol  sysBP  diaBP    BMI  heartRate  glucose  \\\n",
       "0             0         0    195.0  106.0   70.0  26.97       80.0     77.0   \n",
       "1             0         0    250.0  121.0   81.0  28.73       95.0     76.0   \n",
       "2             0         0    245.0  127.5   80.0  25.34       75.0     70.0   \n",
       "3             1         0    225.0  150.0   95.0  28.58       65.0    103.0   \n",
       "4             0         0    285.0  130.0   84.0  23.10       85.0     85.0   \n",
       "\n",
       "   TenYearCHD  \n",
       "0           0  \n",
       "1           0  \n",
       "2           0  \n",
       "3           1  \n",
       "4           0  "
      ]
     },
     "execution_count": 3,
     "metadata": {},
     "output_type": "execute_result"
    }
   ],
   "source": [
    "df.head()\n"
   ]
  },
  {
   "cell_type": "code",
   "execution_count": 4,
   "metadata": {},
   "outputs": [
    {
     "name": "stdout",
     "output_type": "stream",
     "text": [
      "<class 'pandas.core.frame.DataFrame'>\n",
      "RangeIndex: 4240 entries, 0 to 4239\n",
      "Data columns (total 16 columns):\n",
      " #   Column           Non-Null Count  Dtype  \n",
      "---  ------           --------------  -----  \n",
      " 0   male             4240 non-null   int64  \n",
      " 1   age              4240 non-null   int64  \n",
      " 2   education        4135 non-null   float64\n",
      " 3   currentSmoker    4240 non-null   int64  \n",
      " 4   cigsPerDay       4211 non-null   float64\n",
      " 5   BPMeds           4187 non-null   float64\n",
      " 6   prevalentStroke  4240 non-null   int64  \n",
      " 7   prevalentHyp     4240 non-null   int64  \n",
      " 8   diabetes         4240 non-null   int64  \n",
      " 9   totChol          4190 non-null   float64\n",
      " 10  sysBP            4240 non-null   float64\n",
      " 11  diaBP            4240 non-null   float64\n",
      " 12  BMI              4221 non-null   float64\n",
      " 13  heartRate        4239 non-null   float64\n",
      " 14  glucose          3852 non-null   float64\n",
      " 15  TenYearCHD       4240 non-null   int64  \n",
      "dtypes: float64(9), int64(7)\n",
      "memory usage: 530.1 KB\n"
     ]
    }
   ],
   "source": [
    "df.info()\n"
   ]
  },
  {
   "cell_type": "code",
   "execution_count": 5,
   "metadata": {},
   "outputs": [
    {
     "data": {
      "text/plain": [
       "male                 0\n",
       "age                  0\n",
       "education          105\n",
       "currentSmoker        0\n",
       "cigsPerDay          29\n",
       "BPMeds              53\n",
       "prevalentStroke      0\n",
       "prevalentHyp         0\n",
       "diabetes             0\n",
       "totChol             50\n",
       "sysBP                0\n",
       "diaBP                0\n",
       "BMI                 19\n",
       "heartRate            1\n",
       "glucose            388\n",
       "TenYearCHD           0\n",
       "dtype: int64"
      ]
     },
     "execution_count": 5,
     "metadata": {},
     "output_type": "execute_result"
    }
   ],
   "source": [
    "df.isna().sum()\n"
   ]
  },
  {
   "cell_type": "code",
   "execution_count": 6,
   "metadata": {},
   "outputs": [],
   "source": [
    "df.fillna(method ='ffill',inplace =True)\n"
   ]
  },
  {
   "cell_type": "code",
   "execution_count": 7,
   "metadata": {},
   "outputs": [],
   "source": [
    "y = df.TenYearCHD\n",
    "x = df.drop(columns ='TenYearCHD')"
   ]
  },
  {
   "cell_type": "code",
   "execution_count": 8,
   "metadata": {},
   "outputs": [],
   "source": [
    "from sklearn.model_selection import train_test_split\n",
    "X_train, X_test, y_train, y_test = train_test_split( x, y, test_size=0.30, random_state=0)"
   ]
  },
  {
   "cell_type": "code",
   "execution_count": 9,
   "metadata": {},
   "outputs": [],
   "source": [
    "from sklearn.ensemble import RandomForestClassifier\n",
    "from sklearn.model_selection import RandomizedSearchCV,GridSearchCV"
   ]
  },
  {
   "cell_type": "code",
   "execution_count": 10,
   "metadata": {},
   "outputs": [],
   "source": [
    "from sklearn.metrics import confusion_matrix,accuracy_score,roc_auc_score,roc_curve,classification_report"
   ]
  },
  {
   "cell_type": "code",
   "execution_count": 11,
   "metadata": {},
   "outputs": [
    {
     "name": "stdout",
     "output_type": "stream",
     "text": [
      "accuracy score on train 1.0\n",
      "AxesSubplot(0.125,0.125;0.62x0.755)\n"
     ]
    },
    {
     "data": {
      "image/png": "[encoded data removed]",
      "text/plain": [
       "<Figure size 432x288 with 2 Axes>"
      ]
     },
     "metadata": {
      "needs_background": "light"
     },
     "output_type": "display_data"
    },
    {
     "name": "stdout",
     "output_type": "stream",
     "text": [
      "auc_roc_score train is  1.0\n",
      "accuracy score on test 0.8490566037735849\n",
      "AxesSubplot(0.125,0.125;0.62x0.755)\n",
      "auc_roc_score_test is  0.680937523708368\n"
     ]
    },
    {
     "data": {
      "image/png": "[encoded data removed]",
      "text/plain": [
       "<Figure size 432x288 with 2 Axes>"
      ]
     },
     "metadata": {
      "needs_background": "light"
     },
     "output_type": "display_data"
    }
   ],
   "source": [
    "rfc = RandomForestClassifier()\n",
    "model =rfc.fit(X_train,y_train)\n",
    "ytrain_prob = model.predict_proba(X_train)[:,1]\n",
    "ytrainpred = model.predict(X_train)\n",
    "print('accuracy score on train',accuracy_score(y_train,ytrainpred))\n",
    "print(sns.heatmap(confusion_matrix(y_train,ytrainpred),annot =True,fmt ='g'))\n",
    "plt.show()\n",
    "print('auc_roc_score train is ',roc_auc_score(y_train,ytrain_prob))\n",
    "ytest_prob = model.predict_proba(X_test)[:,1]\n",
    "ytestpred = model.predict(X_test)\n",
    "print('accuracy score on test',accuracy_score(y_test,ytestpred))\n",
    "print(sns.heatmap(confusion_matrix(y_test,ytestpred),annot =True,fmt ='g'))\n",
    "print('auc_roc_score_test is ',roc_auc_score(y_test,ytest_prob))"
   ]
  },
  {
   "cell_type": "code",
   "execution_count": null,
   "metadata": {},
   "outputs": [],
   "source": []
  },
  {
   "cell_type": "code",
   "execution_count": null,
   "metadata": {},
   "outputs": [],
   "source": []
  },
  {
   "cell_type": "markdown",
   "metadata": {},
   "source": [
    "n_estimators=100,\n",
    "    criterion='gini',\n",
    "    max_depth=None,\n",
    "    min_samples_split=2,\n",
    "    min_samples_leaf=1,\n",
    "    min_weight_fraction_leaf=0.0,\n",
    "    max_features='auto',\n",
    "    max_leaf_nodes=None,\n",
    "    min_impurity_decrease=0.0,\n",
    "    min_impurity_split=None,\n",
    "    bootstrap=True,\n",
    "    oob_score=False,\n",
    "    n_jobs=None,\n",
    "    random_state=None,\n",
    "    verbose=0,\n",
    "    warm_start=False,\n",
    "    class_weight=None,\n",
    "    ccp_alpha=0.0,\n",
    "    max_samples=None,\n",
    ")"
   ]
  },
  {
   "cell_type": "markdown",
   "metadata": {},
   "source": [
    "param_dist = { 'n_estimators': randint(5,1000),\n",
    "              \"criterion\": [\"gini\", \"entropy\"],\n",
    "              \"max_depth\": randint(2,10),\n",
    "              \"min_samples_split\" :randint(2, 100),\n",
    "              \"min_samples_leaf\": randint(1, 100),\n",
    "              'max_features' : randint(1,15),\n",
    "              }"
   ]
  },
  {
   "cell_type": "markdown",
   "metadata": {},
   "source": [
    "# Hyper parameter tuning of Randomsearch tuning"
   ]
  },
  {
   "cell_type": "code",
   "execution_count": 14,
   "metadata": {},
   "outputs": [
    {
     "name": "stdout",
     "output_type": "stream",
     "text": [
      "Wall time: 3min 18s\n"
     ]
    },
    {
     "data": {
      "text/plain": [
       "{'criterion': 'gini',\n",
       " 'max_depth': 6,\n",
       " 'max_features': 6,\n",
       " 'min_samples_leaf': 30,\n",
       " 'min_samples_split': 69,\n",
       " 'n_estimators': 40}"
      ]
     },
     "execution_count": 14,
     "metadata": {},
     "output_type": "execute_result"
    }
   ],
   "source": [
    "%%time\n",
    "\n",
    "rfctun = RandomForestClassifier(n_jobs =-1)\n",
    "#modelt =rfctun.fit(X_train,y_train)\n",
    "\n",
    "from scipy.stats import randint\n",
    "param_dist = { 'n_estimators': randint(5,100),\n",
    "              \"criterion\": [\"gini\", \"entropy\"],\n",
    "              \"max_depth\": randint(2,10),\n",
    "              \"min_samples_split\" :randint(2, 100),\n",
    "              \"min_samples_leaf\": randint(1, 100),\n",
    "              'max_features' : randint(1,15),\n",
    "              }\n",
    "rsearch = RandomizedSearchCV(rfctun, param_dist, random_state=0,cv =10,n_iter=100,scoring ='roc_auc',n_jobs =-1)\n",
    "rsearch.fit(x, y)\n",
    "rsearch.best_params_"
   ]
  },
  {
   "cell_type": "code",
   "execution_count": 15,
   "metadata": {},
   "outputs": [
    {
     "data": {
      "text/plain": [
       "0.7862873795351475"
      ]
     },
     "execution_count": 15,
     "metadata": {},
     "output_type": "execute_result"
    }
   ],
   "source": [
    "rsearch.score(X_train,y_train)##X_train, X_test, y_train, y_test\n"
   ]
  },
  {
   "cell_type": "code",
   "execution_count": 16,
   "metadata": {},
   "outputs": [
    {
     "data": {
      "text/plain": [
       "0.7876583718989455"
      ]
     },
     "execution_count": 16,
     "metadata": {},
     "output_type": "execute_result"
    }
   ],
   "source": [
    "rsearch.score(X_test,y_test)"
   ]
  },
  {
   "cell_type": "code",
   "execution_count": 17,
   "metadata": {},
   "outputs": [
    {
     "data": {
      "text/html": [
       "<div>\n",
       "<style scoped>\n",
       "    .dataframe tbody tr th:only-of-type {\n",
       "        vertical-align: middle;\n",
       "    }\n",
       "\n",
       "    .dataframe tbody tr th {\n",
       "        vertical-align: top;\n",
       "    }\n",
       "\n",
       "    .dataframe thead th {\n",
       "        text-align: right;\n",
       "    }\n",
       "</style>\n",
       "<table border=\"1\" class=\"dataframe\">\n",
       "  <thead>\n",
       "    <tr style=\"text-align: right;\">\n",
       "      <th></th>\n",
       "      <th>mean_fit_time</th>\n",
       "      <th>std_fit_time</th>\n",
       "      <th>mean_score_time</th>\n",
       "      <th>std_score_time</th>\n",
       "      <th>param_criterion</th>\n",
       "      <th>param_max_depth</th>\n",
       "      <th>param_max_features</th>\n",
       "      <th>param_min_samples_leaf</th>\n",
       "      <th>param_min_samples_split</th>\n",
       "      <th>param_n_estimators</th>\n",
       "      <th>...</th>\n",
       "      <th>split3_test_score</th>\n",
       "      <th>split4_test_score</th>\n",
       "      <th>split5_test_score</th>\n",
       "      <th>split6_test_score</th>\n",
       "      <th>split7_test_score</th>\n",
       "      <th>split8_test_score</th>\n",
       "      <th>split9_test_score</th>\n",
       "      <th>mean_test_score</th>\n",
       "      <th>std_test_score</th>\n",
       "      <th>rank_test_score</th>\n",
       "    </tr>\n",
       "  </thead>\n",
       "  <tbody>\n",
       "    <tr>\n",
       "      <th>0</th>\n",
       "      <td>0.900185</td>\n",
       "      <td>0.137419</td>\n",
       "      <td>0.149415</td>\n",
       "      <td>0.028623</td>\n",
       "      <td>gini</td>\n",
       "      <td>9</td>\n",
       "      <td>6</td>\n",
       "      <td>65</td>\n",
       "      <td>69</td>\n",
       "      <td>72</td>\n",
       "      <td>...</td>\n",
       "      <td>0.708073</td>\n",
       "      <td>0.666710</td>\n",
       "      <td>0.724349</td>\n",
       "      <td>0.736576</td>\n",
       "      <td>0.739490</td>\n",
       "      <td>0.734648</td>\n",
       "      <td>0.694236</td>\n",
       "      <td>0.711133</td>\n",
       "      <td>0.022868</td>\n",
       "      <td>35</td>\n",
       "    </tr>\n",
       "    <tr>\n",
       "      <th>1</th>\n",
       "      <td>0.850611</td>\n",
       "      <td>0.057199</td>\n",
       "      <td>0.131426</td>\n",
       "      <td>0.019896</td>\n",
       "      <td>entropy</td>\n",
       "      <td>3</td>\n",
       "      <td>4</td>\n",
       "      <td>22</td>\n",
       "      <td>38</td>\n",
       "      <td>92</td>\n",
       "      <td>...</td>\n",
       "      <td>0.724696</td>\n",
       "      <td>0.668012</td>\n",
       "      <td>0.733333</td>\n",
       "      <td>0.730576</td>\n",
       "      <td>0.741761</td>\n",
       "      <td>0.735976</td>\n",
       "      <td>0.689565</td>\n",
       "      <td>0.709015</td>\n",
       "      <td>0.027153</td>\n",
       "      <td>50</td>\n",
       "    </tr>\n",
       "    <tr>\n",
       "      <th>2</th>\n",
       "      <td>0.644530</td>\n",
       "      <td>0.064320</td>\n",
       "      <td>0.137722</td>\n",
       "      <td>0.023051</td>\n",
       "      <td>gini</td>\n",
       "      <td>2</td>\n",
       "      <td>9</td>\n",
       "      <td>13</td>\n",
       "      <td>60</td>\n",
       "      <td>70</td>\n",
       "      <td>...</td>\n",
       "      <td>0.711393</td>\n",
       "      <td>0.665994</td>\n",
       "      <td>0.714236</td>\n",
       "      <td>0.712663</td>\n",
       "      <td>0.710714</td>\n",
       "      <td>0.739533</td>\n",
       "      <td>0.690079</td>\n",
       "      <td>0.701249</td>\n",
       "      <td>0.020235</td>\n",
       "      <td>86</td>\n",
       "    </tr>\n",
       "    <tr>\n",
       "      <th>3</th>\n",
       "      <td>1.185520</td>\n",
       "      <td>0.162851</td>\n",
       "      <td>0.275043</td>\n",
       "      <td>0.157386</td>\n",
       "      <td>gini</td>\n",
       "      <td>9</td>\n",
       "      <td>8</td>\n",
       "      <td>47</td>\n",
       "      <td>90</td>\n",
       "      <td>86</td>\n",
       "      <td>...</td>\n",
       "      <td>0.713064</td>\n",
       "      <td>0.668056</td>\n",
       "      <td>0.728168</td>\n",
       "      <td>0.747847</td>\n",
       "      <td>0.727834</td>\n",
       "      <td>0.736362</td>\n",
       "      <td>0.704693</td>\n",
       "      <td>0.713262</td>\n",
       "      <td>0.023708</td>\n",
       "      <td>13</td>\n",
       "    </tr>\n",
       "    <tr>\n",
       "      <th>4</th>\n",
       "      <td>0.411464</td>\n",
       "      <td>0.162723</td>\n",
       "      <td>0.143618</td>\n",
       "      <td>0.048770</td>\n",
       "      <td>entropy</td>\n",
       "      <td>3</td>\n",
       "      <td>14</td>\n",
       "      <td>73</td>\n",
       "      <td>11</td>\n",
       "      <td>25</td>\n",
       "      <td>...</td>\n",
       "      <td>0.693533</td>\n",
       "      <td>0.662044</td>\n",
       "      <td>0.727083</td>\n",
       "      <td>0.731798</td>\n",
       "      <td>0.735933</td>\n",
       "      <td>0.730855</td>\n",
       "      <td>0.694879</td>\n",
       "      <td>0.707020</td>\n",
       "      <td>0.023676</td>\n",
       "      <td>70</td>\n",
       "    </tr>\n",
       "    <tr>\n",
       "      <th>...</th>\n",
       "      <td>...</td>\n",
       "      <td>...</td>\n",
       "      <td>...</td>\n",
       "      <td>...</td>\n",
       "      <td>...</td>\n",
       "      <td>...</td>\n",
       "      <td>...</td>\n",
       "      <td>...</td>\n",
       "      <td>...</td>\n",
       "      <td>...</td>\n",
       "      <td>...</td>\n",
       "      <td>...</td>\n",
       "      <td>...</td>\n",
       "      <td>...</td>\n",
       "      <td>...</td>\n",
       "      <td>...</td>\n",
       "      <td>...</td>\n",
       "      <td>...</td>\n",
       "      <td>...</td>\n",
       "      <td>...</td>\n",
       "      <td>...</td>\n",
       "    </tr>\n",
       "    <tr>\n",
       "      <th>95</th>\n",
       "      <td>0.898085</td>\n",
       "      <td>0.114484</td>\n",
       "      <td>0.151114</td>\n",
       "      <td>0.021648</td>\n",
       "      <td>entropy</td>\n",
       "      <td>3</td>\n",
       "      <td>8</td>\n",
       "      <td>95</td>\n",
       "      <td>74</td>\n",
       "      <td>89</td>\n",
       "      <td>...</td>\n",
       "      <td>0.710851</td>\n",
       "      <td>0.663802</td>\n",
       "      <td>0.730686</td>\n",
       "      <td>0.730962</td>\n",
       "      <td>0.728562</td>\n",
       "      <td>0.743604</td>\n",
       "      <td>0.699764</td>\n",
       "      <td>0.709209</td>\n",
       "      <td>0.024485</td>\n",
       "      <td>46</td>\n",
       "    </tr>\n",
       "    <tr>\n",
       "      <th>96</th>\n",
       "      <td>0.997128</td>\n",
       "      <td>0.080247</td>\n",
       "      <td>0.135420</td>\n",
       "      <td>0.022917</td>\n",
       "      <td>entropy</td>\n",
       "      <td>5</td>\n",
       "      <td>6</td>\n",
       "      <td>92</td>\n",
       "      <td>69</td>\n",
       "      <td>89</td>\n",
       "      <td>...</td>\n",
       "      <td>0.702170</td>\n",
       "      <td>0.668490</td>\n",
       "      <td>0.733941</td>\n",
       "      <td>0.735333</td>\n",
       "      <td>0.734390</td>\n",
       "      <td>0.745747</td>\n",
       "      <td>0.701436</td>\n",
       "      <td>0.711843</td>\n",
       "      <td>0.025240</td>\n",
       "      <td>31</td>\n",
       "    </tr>\n",
       "    <tr>\n",
       "      <th>97</th>\n",
       "      <td>0.313221</td>\n",
       "      <td>0.096719</td>\n",
       "      <td>0.124636</td>\n",
       "      <td>0.027219</td>\n",
       "      <td>entropy</td>\n",
       "      <td>5</td>\n",
       "      <td>1</td>\n",
       "      <td>6</td>\n",
       "      <td>93</td>\n",
       "      <td>35</td>\n",
       "      <td>...</td>\n",
       "      <td>0.717687</td>\n",
       "      <td>0.648351</td>\n",
       "      <td>0.718707</td>\n",
       "      <td>0.739533</td>\n",
       "      <td>0.759931</td>\n",
       "      <td>0.721320</td>\n",
       "      <td>0.693122</td>\n",
       "      <td>0.705616</td>\n",
       "      <td>0.031489</td>\n",
       "      <td>73</td>\n",
       "    </tr>\n",
       "    <tr>\n",
       "      <th>98</th>\n",
       "      <td>0.159674</td>\n",
       "      <td>0.048717</td>\n",
       "      <td>0.120321</td>\n",
       "      <td>0.015161</td>\n",
       "      <td>entropy</td>\n",
       "      <td>5</td>\n",
       "      <td>8</td>\n",
       "      <td>22</td>\n",
       "      <td>94</td>\n",
       "      <td>13</td>\n",
       "      <td>...</td>\n",
       "      <td>0.682726</td>\n",
       "      <td>0.678190</td>\n",
       "      <td>0.734766</td>\n",
       "      <td>0.744354</td>\n",
       "      <td>0.738440</td>\n",
       "      <td>0.729269</td>\n",
       "      <td>0.677887</td>\n",
       "      <td>0.709344</td>\n",
       "      <td>0.025040</td>\n",
       "      <td>44</td>\n",
       "    </tr>\n",
       "    <tr>\n",
       "      <th>99</th>\n",
       "      <td>0.660245</td>\n",
       "      <td>0.079439</td>\n",
       "      <td>0.114543</td>\n",
       "      <td>0.006378</td>\n",
       "      <td>entropy</td>\n",
       "      <td>8</td>\n",
       "      <td>1</td>\n",
       "      <td>52</td>\n",
       "      <td>40</td>\n",
       "      <td>94</td>\n",
       "      <td>...</td>\n",
       "      <td>0.721050</td>\n",
       "      <td>0.675477</td>\n",
       "      <td>0.732161</td>\n",
       "      <td>0.726677</td>\n",
       "      <td>0.747804</td>\n",
       "      <td>0.720934</td>\n",
       "      <td>0.687594</td>\n",
       "      <td>0.707363</td>\n",
       "      <td>0.026863</td>\n",
       "      <td>68</td>\n",
       "    </tr>\n",
       "  </tbody>\n",
       "</table>\n",
       "<p>100 rows × 24 columns</p>\n",
       "</div>"
      ],
      "text/plain": [
       "    mean_fit_time  std_fit_time  mean_score_time  std_score_time  \\\n",
       "0        0.900185      0.137419         0.149415        0.028623   \n",
       "1        0.850611      0.057199         0.131426        0.019896   \n",
       "2        0.644530      0.064320         0.137722        0.023051   \n",
       "3        1.185520      0.162851         0.275043        0.157386   \n",
       "4        0.411464      0.162723         0.143618        0.048770   \n",
       "..            ...           ...              ...             ...   \n",
       "95       0.898085      0.114484         0.151114        0.021648   \n",
       "96       0.997128      0.080247         0.135420        0.022917   \n",
       "97       0.313221      0.096719         0.124636        0.027219   \n",
       "98       0.159674      0.048717         0.120321        0.015161   \n",
       "99       0.660245      0.079439         0.114543        0.006378   \n",
       "\n",
       "   param_criterion param_max_depth param_max_features param_min_samples_leaf  \\\n",
       "0             gini               9                  6                     65   \n",
       "1          entropy               3                  4                     22   \n",
       "2             gini               2                  9                     13   \n",
       "3             gini               9                  8                     47   \n",
       "4          entropy               3                 14                     73   \n",
       "..             ...             ...                ...                    ...   \n",
       "95         entropy               3                  8                     95   \n",
       "96         entropy               5                  6                     92   \n",
       "97         entropy               5                  1                      6   \n",
       "98         entropy               5                  8                     22   \n",
       "99         entropy               8                  1                     52   \n",
       "\n",
       "   param_min_samples_split param_n_estimators  ... split3_test_score  \\\n",
       "0                       69                 72  ...          0.708073   \n",
       "1                       38                 92  ...          0.724696   \n",
       "2                       60                 70  ...          0.711393   \n",
       "3                       90                 86  ...          0.713064   \n",
       "4                       11                 25  ...          0.693533   \n",
       "..                     ...                ...  ...               ...   \n",
       "95                      74                 89  ...          0.710851   \n",
       "96                      69                 89  ...          0.702170   \n",
       "97                      93                 35  ...          0.717687   \n",
       "98                      94                 13  ...          0.682726   \n",
       "99                      40                 94  ...          0.721050   \n",
       "\n",
       "    split4_test_score  split5_test_score  split6_test_score  \\\n",
       "0            0.666710           0.724349           0.736576   \n",
       "1            0.668012           0.733333           0.730576   \n",
       "2            0.665994           0.714236           0.712663   \n",
       "3            0.668056           0.728168           0.747847   \n",
       "4            0.662044           0.727083           0.731798   \n",
       "..                ...                ...                ...   \n",
       "95           0.663802           0.730686           0.730962   \n",
       "96           0.668490           0.733941           0.735333   \n",
       "97           0.648351           0.718707           0.739533   \n",
       "98           0.678190           0.734766           0.744354   \n",
       "99           0.675477           0.732161           0.726677   \n",
       "\n",
       "    split7_test_score  split8_test_score  split9_test_score  mean_test_score  \\\n",
       "0            0.739490           0.734648           0.694236         0.711133   \n",
       "1            0.741761           0.735976           0.689565         0.709015   \n",
       "2            0.710714           0.739533           0.690079         0.701249   \n",
       "3            0.727834           0.736362           0.704693         0.713262   \n",
       "4            0.735933           0.730855           0.694879         0.707020   \n",
       "..                ...                ...                ...              ...   \n",
       "95           0.728562           0.743604           0.699764         0.709209   \n",
       "96           0.734390           0.745747           0.701436         0.711843   \n",
       "97           0.759931           0.721320           0.693122         0.705616   \n",
       "98           0.738440           0.729269           0.677887         0.709344   \n",
       "99           0.747804           0.720934           0.687594         0.707363   \n",
       "\n",
       "    std_test_score  rank_test_score  \n",
       "0         0.022868               35  \n",
       "1         0.027153               50  \n",
       "2         0.020235               86  \n",
       "3         0.023708               13  \n",
       "4         0.023676               70  \n",
       "..             ...              ...  \n",
       "95        0.024485               46  \n",
       "96        0.025240               31  \n",
       "97        0.031489               73  \n",
       "98        0.025040               44  \n",
       "99        0.026863               68  \n",
       "\n",
       "[100 rows x 24 columns]"
      ]
     },
     "execution_count": 17,
     "metadata": {},
     "output_type": "execute_result"
    }
   ],
   "source": [
    "pd.DataFrame(rsearch.cv_results_)"
   ]
  },
  {
   "cell_type": "code",
   "execution_count": 18,
   "metadata": {},
   "outputs": [
    {
     "name": "stdout",
     "output_type": "stream",
     "text": [
      "accuracy score on train 0.8493935309973046\n",
      "AxesSubplot(0.125,0.125;0.62x0.755)\n",
      "auc_roc_score is  0.7962062429138321\n"
     ]
    },
    {
     "data": {
      "image/png": "[encoded data removed]",
      "text/plain": [
       "<Figure size 432x288 with 2 Axes>"
      ]
     },
     "metadata": {
      "needs_background": "light"
     },
     "output_type": "display_data"
    }
   ],
   "source": [
    "\n",
    "dtr = RandomForestClassifier(**rsearch.best_params_)\n",
    "dtr.fit(X_train,y_train)\n",
    "ytrain_prob = dtr.predict_proba(X_train)[:,1]\n",
    "ytrainpred = dtr.predict(X_train)\n",
    "print('accuracy score on train',accuracy_score(y_train,ytrainpred))\n",
    "print(sns.heatmap(confusion_matrix(y_train,ytrainpred),annot =True,fmt ='g'))\n",
    "print('auc_roc_score is ',roc_auc_score(y_train,ytrain_prob))\n",
    "\n",
    "\n"
   ]
  },
  {
   "cell_type": "code",
   "execution_count": 19,
   "metadata": {},
   "outputs": [
    {
     "name": "stdout",
     "output_type": "stream",
     "text": [
      "accuracy score on train 0.8459119496855346\n",
      "AxesSubplot(0.125,0.125;0.62x0.755)\n",
      "auc_roc_score is  0.704887717168652\n"
     ]
    },
    {
     "data": {
      "image/png": "[encoded data removed]",
      "text/plain": [
       "<Figure size 432x288 with 2 Axes>"
      ]
     },
     "metadata": {
      "needs_background": "light"
     },
     "output_type": "display_data"
    }
   ],
   "source": [
    "ytest_prob = dtr.predict_proba(X_test)[:,1]\n",
    "ytestpred = dtr.predict(X_test)\n",
    "print('accuracy score on train',accuracy_score(y_test,ytestpred))\n",
    "print(sns.heatmap(confusion_matrix(y_test,ytestpred),annot =True,fmt ='g'))\n",
    "print('auc_roc_score is ',roc_auc_score(y_test,ytest_prob))"
   ]
  },
  {
   "cell_type": "code",
   "execution_count": 20,
   "metadata": {},
   "outputs": [
    {
     "data": {
      "text/plain": [
       "array([0.04283781, 0.26149558, 0.01036182, 0.00869946, 0.0652976 ,\n",
       "       0.        , 0.        , 0.05290453, 0.00583473, 0.0576094 ,\n",
       "       0.208943  , 0.10383557, 0.07465227, 0.03253708, 0.07499114])"
      ]
     },
     "execution_count": 20,
     "metadata": {},
     "output_type": "execute_result"
    }
   ],
   "source": [
    "dtr.feature_importances_"
   ]
  },
  {
   "cell_type": "code",
   "execution_count": 21,
   "metadata": {},
   "outputs": [],
   "source": [
    "imp =pd.DataFrame(dtr.feature_importances_,index = x.columns,columns = ['importance'])"
   ]
  },
  {
   "cell_type": "code",
   "execution_count": 22,
   "metadata": {},
   "outputs": [
    {
     "data": {
      "text/plain": [
       "<matplotlib.axes._subplots.AxesSubplot at 0x21d66f54d88>"
      ]
     },
     "execution_count": 22,
     "metadata": {},
     "output_type": "execute_result"
    },
    {
     "data": {
      "image/png": "[encoded data removed]",
      "text/plain": [
       "<Figure size 432x288 with 1 Axes>"
      ]
     },
     "metadata": {
      "needs_background": "light"
     },
     "output_type": "display_data"
    }
   ],
   "source": [
    "imp.sort_values(by = 'importance',ascending=False).plot(kind ='bar')"
   ]
  },
  {
   "cell_type": "code",
   "execution_count": null,
   "metadata": {},
   "outputs": [],
   "source": []
  },
  {
   "cell_type": "markdown",
   "metadata": {},
   "source": [
    "## KNN--K nearest neighbor"
   ]
  },
  {
   "cell_type": "code",
   "execution_count": 23,
   "metadata": {},
   "outputs": [],
   "source": [
    "from sklearn.neighbors import KNeighborsClassifier\n",
    "knc = KNeighborsClassifier()"
   ]
  },
  {
   "cell_type": "code",
   "execution_count": 24,
   "metadata": {},
   "outputs": [],
   "source": [
    "from sklearn.preprocessing import StandardScaler\n",
    "ss = StandardScaler()"
   ]
  },
  {
   "cell_type": "code",
   "execution_count": 25,
   "metadata": {},
   "outputs": [],
   "source": [
    "xs = ss.fit_transform(x)"
   ]
  },
  {
   "cell_type": "code",
   "execution_count": 26,
   "metadata": {},
   "outputs": [
    {
     "data": {
      "text/plain": [
       "{'n_neighbors': 49, 'p': 1}"
      ]
     },
     "execution_count": 26,
     "metadata": {},
     "output_type": "execute_result"
    }
   ],
   "source": [
    "from sklearn.model_selection import RandomizedSearchCV\n",
    "from scipy.stats import randint\n",
    "params = {\n",
    "    'n_neighbors': randint(2,50),\n",
    "    'p': randint(1,5),\n",
    "}\n",
    "\n",
    "knnsearch   = RandomizedSearchCV(knc,params,cv =3,scoring = 'roc_auc',n_jobs =-1,n_iter =100)\n",
    "knnsearch.fit(xs,y)\n",
    "knnsearch.best_params_"
   ]
  },
  {
   "cell_type": "code",
   "execution_count": 27,
   "metadata": {},
   "outputs": [
    {
     "data": {
      "text/plain": [
       "0.590430573270975"
      ]
     },
     "execution_count": 27,
     "metadata": {},
     "output_type": "execute_result"
    }
   ],
   "source": [
    "knnsearch.score(X_train,y_train)##X_train, X_test, y_train, y_test\n"
   ]
  },
  {
   "cell_type": "code",
   "execution_count": 28,
   "metadata": {},
   "outputs": [
    {
     "data": {
      "text/plain": [
       "0.5668504855473787"
      ]
     },
     "execution_count": 28,
     "metadata": {},
     "output_type": "execute_result"
    }
   ],
   "source": [
    "knnsearch.score(X_test,y_test)"
   ]
  },
  {
   "cell_type": "code",
   "execution_count": 29,
   "metadata": {},
   "outputs": [
    {
     "data": {
      "text/html": [
       "<div>\n",
       "<style scoped>\n",
       "    .dataframe tbody tr th:only-of-type {\n",
       "        vertical-align: middle;\n",
       "    }\n",
       "\n",
       "    .dataframe tbody tr th {\n",
       "        vertical-align: top;\n",
       "    }\n",
       "\n",
       "    .dataframe thead th {\n",
       "        text-align: right;\n",
       "    }\n",
       "</style>\n",
       "<table border=\"1\" class=\"dataframe\">\n",
       "  <thead>\n",
       "    <tr style=\"text-align: right;\">\n",
       "      <th></th>\n",
       "      <th>mean_fit_time</th>\n",
       "      <th>std_fit_time</th>\n",
       "      <th>mean_score_time</th>\n",
       "      <th>std_score_time</th>\n",
       "      <th>param_n_neighbors</th>\n",
       "      <th>param_p</th>\n",
       "      <th>params</th>\n",
       "      <th>split0_test_score</th>\n",
       "      <th>split1_test_score</th>\n",
       "      <th>split2_test_score</th>\n",
       "      <th>mean_test_score</th>\n",
       "      <th>std_test_score</th>\n",
       "      <th>rank_test_score</th>\n",
       "    </tr>\n",
       "  </thead>\n",
       "  <tbody>\n",
       "    <tr>\n",
       "      <th>0</th>\n",
       "      <td>0.036975</td>\n",
       "      <td>0.001633</td>\n",
       "      <td>4.150293</td>\n",
       "      <td>0.018542</td>\n",
       "      <td>21</td>\n",
       "      <td>4</td>\n",
       "      <td>{'n_neighbors': 21, 'p': 4}</td>\n",
       "      <td>0.642613</td>\n",
       "      <td>0.652230</td>\n",
       "      <td>0.679875</td>\n",
       "      <td>0.658239</td>\n",
       "      <td>0.015795</td>\n",
       "      <td>71</td>\n",
       "    </tr>\n",
       "    <tr>\n",
       "      <th>1</th>\n",
       "      <td>0.038643</td>\n",
       "      <td>0.002867</td>\n",
       "      <td>0.394775</td>\n",
       "      <td>0.016382</td>\n",
       "      <td>41</td>\n",
       "      <td>1</td>\n",
       "      <td>{'n_neighbors': 41, 'p': 1}</td>\n",
       "      <td>0.650695</td>\n",
       "      <td>0.686429</td>\n",
       "      <td>0.696057</td>\n",
       "      <td>0.677727</td>\n",
       "      <td>0.019514</td>\n",
       "      <td>7</td>\n",
       "    </tr>\n",
       "    <tr>\n",
       "      <th>2</th>\n",
       "      <td>0.038643</td>\n",
       "      <td>0.002493</td>\n",
       "      <td>4.342849</td>\n",
       "      <td>0.367342</td>\n",
       "      <td>11</td>\n",
       "      <td>4</td>\n",
       "      <td>{'n_neighbors': 11, 'p': 4}</td>\n",
       "      <td>0.620895</td>\n",
       "      <td>0.653305</td>\n",
       "      <td>0.664126</td>\n",
       "      <td>0.646109</td>\n",
       "      <td>0.018368</td>\n",
       "      <td>83</td>\n",
       "    </tr>\n",
       "    <tr>\n",
       "      <th>3</th>\n",
       "      <td>0.040642</td>\n",
       "      <td>0.002866</td>\n",
       "      <td>4.323527</td>\n",
       "      <td>0.122917</td>\n",
       "      <td>4</td>\n",
       "      <td>3</td>\n",
       "      <td>{'n_neighbors': 4, 'p': 3}</td>\n",
       "      <td>0.580348</td>\n",
       "      <td>0.612898</td>\n",
       "      <td>0.622858</td>\n",
       "      <td>0.605368</td>\n",
       "      <td>0.018153</td>\n",
       "      <td>96</td>\n",
       "    </tr>\n",
       "    <tr>\n",
       "      <th>4</th>\n",
       "      <td>0.050637</td>\n",
       "      <td>0.002624</td>\n",
       "      <td>0.382781</td>\n",
       "      <td>0.022980</td>\n",
       "      <td>16</td>\n",
       "      <td>2</td>\n",
       "      <td>{'n_neighbors': 16, 'p': 2}</td>\n",
       "      <td>0.637396</td>\n",
       "      <td>0.664274</td>\n",
       "      <td>0.690040</td>\n",
       "      <td>0.663903</td>\n",
       "      <td>0.021493</td>\n",
       "      <td>61</td>\n",
       "    </tr>\n",
       "    <tr>\n",
       "      <th>...</th>\n",
       "      <td>...</td>\n",
       "      <td>...</td>\n",
       "      <td>...</td>\n",
       "      <td>...</td>\n",
       "      <td>...</td>\n",
       "      <td>...</td>\n",
       "      <td>...</td>\n",
       "      <td>...</td>\n",
       "      <td>...</td>\n",
       "      <td>...</td>\n",
       "      <td>...</td>\n",
       "      <td>...</td>\n",
       "      <td>...</td>\n",
       "    </tr>\n",
       "    <tr>\n",
       "      <th>95</th>\n",
       "      <td>0.034980</td>\n",
       "      <td>0.000816</td>\n",
       "      <td>4.123306</td>\n",
       "      <td>0.025890</td>\n",
       "      <td>24</td>\n",
       "      <td>4</td>\n",
       "      <td>{'n_neighbors': 24, 'p': 4}</td>\n",
       "      <td>0.643183</td>\n",
       "      <td>0.654412</td>\n",
       "      <td>0.683012</td>\n",
       "      <td>0.660203</td>\n",
       "      <td>0.016768</td>\n",
       "      <td>68</td>\n",
       "    </tr>\n",
       "    <tr>\n",
       "      <th>96</th>\n",
       "      <td>0.038642</td>\n",
       "      <td>0.004189</td>\n",
       "      <td>0.397440</td>\n",
       "      <td>0.003089</td>\n",
       "      <td>44</td>\n",
       "      <td>2</td>\n",
       "      <td>{'n_neighbors': 44, 'p': 2}</td>\n",
       "      <td>0.649561</td>\n",
       "      <td>0.677644</td>\n",
       "      <td>0.698488</td>\n",
       "      <td>0.675231</td>\n",
       "      <td>0.020047</td>\n",
       "      <td>16</td>\n",
       "    </tr>\n",
       "    <tr>\n",
       "      <th>97</th>\n",
       "      <td>0.041307</td>\n",
       "      <td>0.002356</td>\n",
       "      <td>4.412144</td>\n",
       "      <td>0.047135</td>\n",
       "      <td>35</td>\n",
       "      <td>3</td>\n",
       "      <td>{'n_neighbors': 35, 'p': 3}</td>\n",
       "      <td>0.640650</td>\n",
       "      <td>0.669717</td>\n",
       "      <td>0.692790</td>\n",
       "      <td>0.667719</td>\n",
       "      <td>0.021333</td>\n",
       "      <td>43</td>\n",
       "    </tr>\n",
       "    <tr>\n",
       "      <th>98</th>\n",
       "      <td>0.036976</td>\n",
       "      <td>0.000817</td>\n",
       "      <td>0.359128</td>\n",
       "      <td>0.015318</td>\n",
       "      <td>24</td>\n",
       "      <td>1</td>\n",
       "      <td>{'n_neighbors': 24, 'p': 1}</td>\n",
       "      <td>0.647668</td>\n",
       "      <td>0.685339</td>\n",
       "      <td>0.689409</td>\n",
       "      <td>0.674139</td>\n",
       "      <td>0.018791</td>\n",
       "      <td>20</td>\n",
       "    </tr>\n",
       "    <tr>\n",
       "      <th>99</th>\n",
       "      <td>0.035977</td>\n",
       "      <td>0.002943</td>\n",
       "      <td>0.361127</td>\n",
       "      <td>0.006646</td>\n",
       "      <td>45</td>\n",
       "      <td>1</td>\n",
       "      <td>{'n_neighbors': 45, 'p': 1}</td>\n",
       "      <td>0.649508</td>\n",
       "      <td>0.685410</td>\n",
       "      <td>0.703075</td>\n",
       "      <td>0.679331</td>\n",
       "      <td>0.022287</td>\n",
       "      <td>5</td>\n",
       "    </tr>\n",
       "  </tbody>\n",
       "</table>\n",
       "<p>100 rows × 13 columns</p>\n",
       "</div>"
      ],
      "text/plain": [
       "    mean_fit_time  std_fit_time  mean_score_time  std_score_time  \\\n",
       "0        0.036975      0.001633         4.150293        0.018542   \n",
       "1        0.038643      0.002867         0.394775        0.016382   \n",
       "2        0.038643      0.002493         4.342849        0.367342   \n",
       "3        0.040642      0.002866         4.323527        0.122917   \n",
       "4        0.050637      0.002624         0.382781        0.022980   \n",
       "..            ...           ...              ...             ...   \n",
       "95       0.034980      0.000816         4.123306        0.025890   \n",
       "96       0.038642      0.004189         0.397440        0.003089   \n",
       "97       0.041307      0.002356         4.412144        0.047135   \n",
       "98       0.036976      0.000817         0.359128        0.015318   \n",
       "99       0.035977      0.002943         0.361127        0.006646   \n",
       "\n",
       "   param_n_neighbors param_p                       params  split0_test_score  \\\n",
       "0                 21       4  {'n_neighbors': 21, 'p': 4}           0.642613   \n",
       "1                 41       1  {'n_neighbors': 41, 'p': 1}           0.650695   \n",
       "2                 11       4  {'n_neighbors': 11, 'p': 4}           0.620895   \n",
       "3                  4       3   {'n_neighbors': 4, 'p': 3}           0.580348   \n",
       "4                 16       2  {'n_neighbors': 16, 'p': 2}           0.637396   \n",
       "..               ...     ...                          ...                ...   \n",
       "95                24       4  {'n_neighbors': 24, 'p': 4}           0.643183   \n",
       "96                44       2  {'n_neighbors': 44, 'p': 2}           0.649561   \n",
       "97                35       3  {'n_neighbors': 35, 'p': 3}           0.640650   \n",
       "98                24       1  {'n_neighbors': 24, 'p': 1}           0.647668   \n",
       "99                45       1  {'n_neighbors': 45, 'p': 1}           0.649508   \n",
       "\n",
       "    split1_test_score  split2_test_score  mean_test_score  std_test_score  \\\n",
       "0            0.652230           0.679875         0.658239        0.015795   \n",
       "1            0.686429           0.696057         0.677727        0.019514   \n",
       "2            0.653305           0.664126         0.646109        0.018368   \n",
       "3            0.612898           0.622858         0.605368        0.018153   \n",
       "4            0.664274           0.690040         0.663903        0.021493   \n",
       "..                ...                ...              ...             ...   \n",
       "95           0.654412           0.683012         0.660203        0.016768   \n",
       "96           0.677644           0.698488         0.675231        0.020047   \n",
       "97           0.669717           0.692790         0.667719        0.021333   \n",
       "98           0.685339           0.689409         0.674139        0.018791   \n",
       "99           0.685410           0.703075         0.679331        0.022287   \n",
       "\n",
       "    rank_test_score  \n",
       "0                71  \n",
       "1                 7  \n",
       "2                83  \n",
       "3                96  \n",
       "4                61  \n",
       "..              ...  \n",
       "95               68  \n",
       "96               16  \n",
       "97               43  \n",
       "98               20  \n",
       "99                5  \n",
       "\n",
       "[100 rows x 13 columns]"
      ]
     },
     "execution_count": 29,
     "metadata": {},
     "output_type": "execute_result"
    }
   ],
   "source": [
    "pd.DataFrame(knnsearch.cv_results_)"
   ]
  },
  {
   "cell_type": "code",
   "execution_count": 30,
   "metadata": {},
   "outputs": [],
   "source": [
    "xsTrain = ss.fit_transform(X_train)\n",
    "xstest =ss.transform(X_test)"
   ]
  },
  {
   "cell_type": "code",
   "execution_count": 31,
   "metadata": {},
   "outputs": [
    {
     "name": "stdout",
     "output_type": "stream",
     "text": [
      "accuracy score on train 0.8490566037735849\n",
      "AxesSubplot(0.125,0.125;0.62x0.755)\n",
      "auc_roc_score is  0.7340370783730157\n"
     ]
    },
    {
     "data": {
      "image/png": "[encoded data removed]",
      "text/plain": [
       "<Figure size 432x288 with 2 Axes>"
      ]
     },
     "metadata": {
      "needs_background": "light"
     },
     "output_type": "display_data"
    }
   ],
   "source": [
    "\n",
    "dtr = KNeighborsClassifier(**knnsearch.best_params_)\n",
    "dtr.fit(xsTrain,y_train)\n",
    "ytrain_prob = dtr.predict_proba(xsTrain)[:,1]\n",
    "ytrainpred = dtr.predict(xsTrain)\n",
    "print('accuracy score on train',accuracy_score(y_train,ytrainpred))\n",
    "print(sns.heatmap(confusion_matrix(y_train,ytrainpred),annot =True,fmt ='g'))\n",
    "print('auc_roc_score is ',roc_auc_score(y_train,ytrain_prob))\n",
    "\n",
    "\n"
   ]
  },
  {
   "cell_type": "code",
   "execution_count": 32,
   "metadata": {},
   "outputs": [
    {
     "name": "stdout",
     "output_type": "stream",
     "text": [
      "accuracy score on train 0.8459119496855346\n",
      "AxesSubplot(0.125,0.125;0.62x0.755)\n",
      "auc_roc_score is  0.6855962180411198\n"
     ]
    },
    {
     "data": {
      "image/png": "[encoded data removed]",
      "text/plain": [
       "<Figure size 432x288 with 2 Axes>"
      ]
     },
     "metadata": {
      "needs_background": "light"
     },
     "output_type": "display_data"
    }
   ],
   "source": [
    "ytest_prob = dtr.predict_proba(xstest)[:,1]\n",
    "ytestpred = dtr.predict(xstest)\n",
    "print('accuracy score on train',accuracy_score(y_test,ytestpred))\n",
    "print(sns.heatmap(confusion_matrix(y_test,ytestpred),annot =True,fmt ='g'))\n",
    "print('auc_roc_score is ',roc_auc_score(y_test,ytest_prob))"
   ]
  },
  {
   "cell_type": "code",
   "execution_count": null,
   "metadata": {},
   "outputs": [],
   "source": []
  },
  {
   "cell_type": "markdown",
   "metadata": {},
   "source": [
    "# stacking  algorith to improve results."
   ]
  },
  {
   "cell_type": "code",
   "execution_count": 33,
   "metadata": {},
   "outputs": [],
   "source": [
    "from sklearn.ensemble import VotingClassifier\n",
    "from sklearn.linear_model import LogisticRegression"
   ]
  },
  {
   "cell_type": "code",
   "execution_count": 34,
   "metadata": {},
   "outputs": [],
   "source": [
    "lr = LogisticRegression(solver='liblinear')\n",
    "rfc = RandomForestClassifier(**rsearch.best_params_)\n",
    "knn = KNeighborsClassifier(**knnsearch.best_params_)"
   ]
  },
  {
   "cell_type": "code",
   "execution_count": 35,
   "metadata": {},
   "outputs": [
    {
     "data": {
      "text/plain": [
       "VotingClassifier(estimators=[('le',\n",
       "                              LogisticRegression(C=1.0, class_weight=None,\n",
       "                                                 dual=False, fit_intercept=True,\n",
       "                                                 intercept_scaling=1,\n",
       "                                                 l1_ratio=None, max_iter=100,\n",
       "                                                 multi_class='auto',\n",
       "                                                 n_jobs=None, penalty='l2',\n",
       "                                                 random_state=None,\n",
       "                                                 solver='liblinear', tol=0.0001,\n",
       "                                                 verbose=0, warm_start=False)),\n",
       "                             ('rfc',\n",
       "                              RandomForestClassifier(bootstrap=True,\n",
       "                                                     ccp_alpha=0.0,\n",
       "                                                     class_weight=No...\n",
       "                                                     min_samples_split=69,\n",
       "                                                     min_weight_fraction_leaf=0.0,\n",
       "                                                     n_estimators=40,\n",
       "                                                     n_jobs=None,\n",
       "                                                     oob_score=False,\n",
       "                                                     random_state=None,\n",
       "                                                     verbose=0,\n",
       "                                                     warm_start=False)),\n",
       "                             ('knn',\n",
       "                              KNeighborsClassifier(algorithm='auto',\n",
       "                                                   leaf_size=30,\n",
       "                                                   metric='minkowski',\n",
       "                                                   metric_params=None,\n",
       "                                                   n_jobs=None, n_neighbors=49,\n",
       "                                                   p=1, weights='uniform'))],\n",
       "                 flatten_transform=True, n_jobs=None, voting='soft',\n",
       "                 weights=None)"
      ]
     },
     "execution_count": 35,
     "metadata": {},
     "output_type": "execute_result"
    }
   ],
   "source": [
    "clf =VotingClassifier(estimators=[('le',lr),('rfc',rfc),('knn',knn)],voting='soft')\n",
    "clf.fit(X_train,y_train)"
   ]
  },
  {
   "cell_type": "code",
   "execution_count": null,
   "metadata": {},
   "outputs": [],
   "source": []
  },
  {
   "cell_type": "code",
   "execution_count": 36,
   "metadata": {},
   "outputs": [],
   "source": [
    "def evaluation_train_test(model,X_train,y_train,X_test,y_test):\n",
    "    y_train_prob = model.predict_proba(X_train)[:,1]\n",
    "    y_train_pred = model.predict(X_train)\n",
    "    y_test_prob = model.predict_proba(X_test)[:,1]\n",
    "    y_test_pred = model.predict(X_test)\n",
    "    from sklearn.metrics import confusion_matrix,accuracy_score,roc_auc_score,roc_curve,classification_report\n",
    "    print('Train accuracy score of',model,':',accuracy_score(y_train,y_train_pred))\n",
    "    print('Test accuracy score of ',model,':',accuracy_score(y_test,y_test_pred))\n",
    "    \n",
    "    print('rou_auc_score',roc_auc_score(y_train,y_train_prob))\n",
    "    print('rou_auc_score',roc_auc_score(y_test,y_test_prob))\n",
    "    print('Train classification report \\n',classification_report(y_train,y_train_pred))\n",
    "    print('Test classification report \\n',classification_report(y_test,y_test_pred))\n",
    "\n",
    "    \n",
    "    fig,axes =plt.subplots(1,2,figsize =(15,5))\n",
    "    sns.heatmap(confusion_matrix(y_train,y_train_pred),annot =True,fmt ='g',ax =axes[0])\n",
    "    #plt.show()\n",
    "    sns.heatmap(confusion_matrix(y_test,y_test_pred),annot =True,fmt ='g',ax =axes[1])\n",
    "    plt.show()\n",
    "    \n",
    "    def roc_curves(y_true,y_true_prob):\n",
    "          \n",
    "          fpr, tpr, thresholds  =roc_curve(y_true,y_true_prob)\n",
    "          thresholds[0] = thresholds[0]-1\n",
    "          plt.plot(fpr,tpr)\n",
    "          plt.plot(fpr,fpr)\n",
    "          plt.plot(fpr,thresholds)\n",
    "          plt.show();\n",
    "    print('roc curve for Train')\n",
    "    roc_curves(y_train,y_train_prob)\n",
    "    print('roc curve for Test')\n",
    "    roc_curves(y_test,y_test_prob)\n"
   ]
  },
  {
   "cell_type": "code",
   "execution_count": 37,
   "metadata": {},
   "outputs": [
    {
     "name": "stdout",
     "output_type": "stream",
     "text": [
      "Train accuracy score of VotingClassifier(estimators=[('le',\n",
      "                              LogisticRegression(C=1.0, class_weight=None,\n",
      "                                                 dual=False, fit_intercept=True,\n",
      "                                                 intercept_scaling=1,\n",
      "                                                 l1_ratio=None, max_iter=100,\n",
      "                                                 multi_class='auto',\n",
      "                                                 n_jobs=None, penalty='l2',\n",
      "                                                 random_state=None,\n",
      "                                                 solver='liblinear', tol=0.0001,\n",
      "                                                 verbose=0, warm_start=False)),\n",
      "                             ('rfc',\n",
      "                              RandomForestClassifier(bootstrap=True,\n",
      "                                                     ccp_alpha=0.0,\n",
      "                                                     class_weight=No...\n",
      "                                                     min_samples_split=69,\n",
      "                                                     min_weight_fraction_leaf=0.0,\n",
      "                                                     n_estimators=40,\n",
      "                                                     n_jobs=None,\n",
      "                                                     oob_score=False,\n",
      "                                                     random_state=None,\n",
      "                                                     verbose=0,\n",
      "                                                     warm_start=False)),\n",
      "                             ('knn',\n",
      "                              KNeighborsClassifier(algorithm='auto',\n",
      "                                                   leaf_size=30,\n",
      "                                                   metric='minkowski',\n",
      "                                                   metric_params=None,\n",
      "                                                   n_jobs=None, n_neighbors=49,\n",
      "                                                   p=1, weights='uniform'))],\n",
      "                 flatten_transform=True, n_jobs=None, voting='soft',\n",
      "                 weights=None) : 0.8497304582210242\n",
      "Test accuracy score of  VotingClassifier(estimators=[('le',\n",
      "                              LogisticRegression(C=1.0, class_weight=None,\n",
      "                                                 dual=False, fit_intercept=True,\n",
      "                                                 intercept_scaling=1,\n",
      "                                                 l1_ratio=None, max_iter=100,\n",
      "                                                 multi_class='auto',\n",
      "                                                 n_jobs=None, penalty='l2',\n",
      "                                                 random_state=None,\n",
      "                                                 solver='liblinear', tol=0.0001,\n",
      "                                                 verbose=0, warm_start=False)),\n",
      "                             ('rfc',\n",
      "                              RandomForestClassifier(bootstrap=True,\n",
      "                                                     ccp_alpha=0.0,\n",
      "                                                     class_weight=No...\n",
      "                                                     min_samples_split=69,\n",
      "                                                     min_weight_fraction_leaf=0.0,\n",
      "                                                     n_estimators=40,\n",
      "                                                     n_jobs=None,\n",
      "                                                     oob_score=False,\n",
      "                                                     random_state=None,\n",
      "                                                     verbose=0,\n",
      "                                                     warm_start=False)),\n",
      "                             ('knn',\n",
      "                              KNeighborsClassifier(algorithm='auto',\n",
      "                                                   leaf_size=30,\n",
      "                                                   metric='minkowski',\n",
      "                                                   metric_params=None,\n",
      "                                                   n_jobs=None, n_neighbors=49,\n",
      "                                                   p=1, weights='uniform'))],\n",
      "                 flatten_transform=True, n_jobs=None, voting='soft',\n",
      "                 weights=None) : 0.8474842767295597\n",
      "rou_auc_score 0.7738892431972788\n",
      "rou_auc_score 0.7118247856763523\n",
      "Train classification report \n",
      "               precision    recall  f1-score   support\n",
      "\n",
      "           0       0.85      1.00      0.92      2520\n",
      "           1       0.75      0.01      0.01       448\n",
      "\n",
      "    accuracy                           0.85      2968\n",
      "   macro avg       0.80      0.50      0.47      2968\n",
      "weighted avg       0.83      0.85      0.78      2968\n",
      "\n",
      "Test classification report \n",
      "               precision    recall  f1-score   support\n",
      "\n",
      "           0       0.85      1.00      0.92      1076\n",
      "           1       1.00      0.01      0.02       196\n",
      "\n",
      "    accuracy                           0.85      1272\n",
      "   macro avg       0.92      0.51      0.47      1272\n",
      "weighted avg       0.87      0.85      0.78      1272\n",
      "\n"
     ]
    },
    {
     "data": {
      "image/png": "[encoded data removed]",
      "text/plain": [
       "<Figure size 1080x360 with 4 Axes>"
      ]
     },
     "metadata": {
      "needs_background": "light"
     },
     "output_type": "display_data"
    },
    {
     "name": "stdout",
     "output_type": "stream",
     "text": [
      "roc curve for Train\n"
     ]
    },
    {
     "data": {
      "image/png": "[encoded data removed]",
      "text/plain": [
       "<Figure size 432x288 with 1 Axes>"
      ]
     },
     "metadata": {
      "needs_background": "light"
     },
     "output_type": "display_data"
    },
    {
     "name": "stdout",
     "output_type": "stream",
     "text": [
      "roc curve for Test\n"
     ]
    },
    {
     "data": {
      "image/png": "[encoded data removed]",
      "text/plain": [
       "<Figure size 432x288 with 1 Axes>"
      ]
     },
     "metadata": {
      "needs_background": "light"
     },
     "output_type": "display_data"
    }
   ],
   "source": [
    "evaluation_train_test(clf,X_train,y_train,X_test,y_test)"
   ]
  },
  {
   "cell_type": "code",
   "execution_count": null,
   "metadata": {},
   "outputs": [],
   "source": [
    "# weighted stacking model"
   ]
  },
  {
   "cell_type": "code",
   "execution_count": 38,
   "metadata": {},
   "outputs": [
    {
     "name": "stdout",
     "output_type": "stream",
     "text": [
      "Train accuracy score of VotingClassifier(estimators=[('le',\n",
      "                              LogisticRegression(C=1.0, class_weight=None,\n",
      "                                                 dual=False, fit_intercept=True,\n",
      "                                                 intercept_scaling=1,\n",
      "                                                 l1_ratio=None, max_iter=100,\n",
      "                                                 multi_class='auto',\n",
      "                                                 n_jobs=None, penalty='l2',\n",
      "                                                 random_state=None,\n",
      "                                                 solver='liblinear', tol=0.0001,\n",
      "                                                 verbose=0, warm_start=False)),\n",
      "                             ('rfc',\n",
      "                              RandomForestClassifier(bootstrap=True,\n",
      "                                                     ccp_alpha=0.0,\n",
      "                                                     class_weight=No...\n",
      "                                                     min_samples_split=69,\n",
      "                                                     min_weight_fraction_leaf=0.0,\n",
      "                                                     n_estimators=40,\n",
      "                                                     n_jobs=None,\n",
      "                                                     oob_score=False,\n",
      "                                                     random_state=None,\n",
      "                                                     verbose=0,\n",
      "                                                     warm_start=False)),\n",
      "                             ('knn',\n",
      "                              KNeighborsClassifier(algorithm='auto',\n",
      "                                                   leaf_size=30,\n",
      "                                                   metric='minkowski',\n",
      "                                                   metric_params=None,\n",
      "                                                   n_jobs=None, n_neighbors=49,\n",
      "                                                   p=1, weights='uniform'))],\n",
      "                 flatten_transform=True, n_jobs=None, voting='soft',\n",
      "                 weights=[1, 2, 3]) : 0.8497304582210242\n",
      "Test accuracy score of  VotingClassifier(estimators=[('le',\n",
      "                              LogisticRegression(C=1.0, class_weight=None,\n",
      "                                                 dual=False, fit_intercept=True,\n",
      "                                                 intercept_scaling=1,\n",
      "                                                 l1_ratio=None, max_iter=100,\n",
      "                                                 multi_class='auto',\n",
      "                                                 n_jobs=None, penalty='l2',\n",
      "                                                 random_state=None,\n",
      "                                                 solver='liblinear', tol=0.0001,\n",
      "                                                 verbose=0, warm_start=False)),\n",
      "                             ('rfc',\n",
      "                              RandomForestClassifier(bootstrap=True,\n",
      "                                                     ccp_alpha=0.0,\n",
      "                                                     class_weight=No...\n",
      "                                                     min_samples_split=69,\n",
      "                                                     min_weight_fraction_leaf=0.0,\n",
      "                                                     n_estimators=40,\n",
      "                                                     n_jobs=None,\n",
      "                                                     oob_score=False,\n",
      "                                                     random_state=None,\n",
      "                                                     verbose=0,\n",
      "                                                     warm_start=False)),\n",
      "                             ('knn',\n",
      "                              KNeighborsClassifier(algorithm='auto',\n",
      "                                                   leaf_size=30,\n",
      "                                                   metric='minkowski',\n",
      "                                                   metric_params=None,\n",
      "                                                   n_jobs=None, n_neighbors=49,\n",
      "                                                   p=1, weights='uniform'))],\n",
      "                 flatten_transform=True, n_jobs=None, voting='soft',\n",
      "                 weights=[1, 2, 3]) : 0.8459119496855346\n",
      "rou_auc_score 0.7733267786281179\n",
      "rou_auc_score 0.7021612548365072\n",
      "Train classification report \n",
      "               precision    recall  f1-score   support\n",
      "\n",
      "           0       0.85      1.00      0.92      2520\n",
      "           1       1.00      0.00      0.01       448\n",
      "\n",
      "    accuracy                           0.85      2968\n",
      "   macro avg       0.92      0.50      0.46      2968\n",
      "weighted avg       0.87      0.85      0.78      2968\n",
      "\n",
      "Test classification report \n",
      "               precision    recall  f1-score   support\n",
      "\n",
      "           0       0.85      1.00      0.92      1076\n",
      "           1       0.00      0.00      0.00       196\n",
      "\n",
      "    accuracy                           0.85      1272\n",
      "   macro avg       0.42      0.50      0.46      1272\n",
      "weighted avg       0.72      0.85      0.78      1272\n",
      "\n"
     ]
    },
    {
     "name": "stderr",
     "output_type": "stream",
     "text": [
      "C:\\Users\\SRK\\Anaconda3\\lib\\site-packages\\sklearn\\metrics\\_classification.py:1272: UndefinedMetricWarning: Precision and F-score are ill-defined and being set to 0.0 in labels with no predicted samples. Use `zero_division` parameter to control this behavior.\n",
      "  _warn_prf(average, modifier, msg_start, len(result))\n"
     ]
    },
    {
     "data": {
      "image/png": "[encoded data removed]",
      "text/plain": [
       "<Figure size 1080x360 with 4 Axes>"
      ]
     },
     "metadata": {
      "needs_background": "light"
     },
     "output_type": "display_data"
    },
    {
     "name": "stdout",
     "output_type": "stream",
     "text": [
      "roc curve for Train\n"
     ]
    },
    {
     "data": {
      "image/png": "[encoded data removed]",
      "text/plain": [
       "<Figure size 432x288 with 1 Axes>"
      ]
     },
     "metadata": {
      "needs_background": "light"
     },
     "output_type": "display_data"
    },
    {
     "name": "stdout",
     "output_type": "stream",
     "text": [
      "roc curve for Test\n"
     ]
    },
    {
     "data": {
      "image/png": "[encoded data removed]",
      "text/plain": [
       "<Figure size 432x288 with 1 Axes>"
      ]
     },
     "metadata": {
      "needs_background": "light"
     },
     "output_type": "display_data"
    }
   ],
   "source": [
    "clf =VotingClassifier(estimators=[('le',lr),('rfc',rfc),('knn',knn)],voting='soft',weights=[1,2,3])\n",
    "clf.fit(X_train,y_train)\n",
    "evaluation_train_test(clf,X_train,y_train,X_test,y_test)"
   ]
  },
  {
   "cell_type": "code",
   "execution_count": null,
   "metadata": {},
   "outputs": [],
   "source": []
  }
 ],
 "metadata": {
  "kernelspec": {
   "display_name": "Python 3",
   "language": "python",
   "name": "python3"
  },
  "language_info": {
   "codemirror_mode": {
    "name": "ipython",
    "version": 3
   },
   "file_extension": ".py",
   "mimetype": "text/x-python",
   "name": "python",
   "nbconvert_exporter": "python",
   "pygments_lexer": "ipython3",
   "version": "3.7.6"
  }
 },
 "nbformat": 4,
 "nbformat_minor": 4
}
