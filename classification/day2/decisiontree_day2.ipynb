{
 "cells": [
  {
   "cell_type": "code",
   "execution_count": 1,
   "metadata": {},
   "outputs": [],
   "source": [
    "import matplotlib.pyplot as plt\n",
    "import numpy as np\n",
    "import pandas as pd\n",
    "import seaborn as sns"
   ]
  },
  {
   "cell_type": "code",
   "execution_count": 2,
   "metadata": {},
   "outputs": [],
   "source": [
    "df =pd.read_csv(r'C:\\Users\\SRK\\Desktop\\siva_python\\classification\\day1\\US_Heart_Patients.csv')"
   ]
  },
  {
   "cell_type": "code",
   "execution_count": 3,
   "metadata": {},
   "outputs": [
    {
     "data": {
      "text/html": [
       "<div>\n",
       "<style scoped>\n",
       "    .dataframe tbody tr th:only-of-type {\n",
       "        vertical-align: middle;\n",
       "    }\n",
       "\n",
       "    .dataframe tbody tr th {\n",
       "        vertical-align: top;\n",
       "    }\n",
       "\n",
       "    .dataframe thead th {\n",
       "        text-align: right;\n",
       "    }\n",
       "</style>\n",
       "<table border=\"1\" class=\"dataframe\">\n",
       "  <thead>\n",
       "    <tr style=\"text-align: right;\">\n",
       "      <th></th>\n",
       "      <th>male</th>\n",
       "      <th>age</th>\n",
       "      <th>education</th>\n",
       "      <th>currentSmoker</th>\n",
       "      <th>cigsPerDay</th>\n",
       "      <th>BPMeds</th>\n",
       "      <th>prevalentStroke</th>\n",
       "      <th>prevalentHyp</th>\n",
       "      <th>diabetes</th>\n",
       "      <th>totChol</th>\n",
       "      <th>sysBP</th>\n",
       "      <th>diaBP</th>\n",
       "      <th>BMI</th>\n",
       "      <th>heartRate</th>\n",
       "      <th>glucose</th>\n",
       "      <th>TenYearCHD</th>\n",
       "    </tr>\n",
       "  </thead>\n",
       "  <tbody>\n",
       "    <tr>\n",
       "      <th>0</th>\n",
       "      <td>1</td>\n",
       "      <td>39</td>\n",
       "      <td>4.0</td>\n",
       "      <td>0</td>\n",
       "      <td>0.0</td>\n",
       "      <td>0.0</td>\n",
       "      <td>0</td>\n",
       "      <td>0</td>\n",
       "      <td>0</td>\n",
       "      <td>195.0</td>\n",
       "      <td>106.0</td>\n",
       "      <td>70.0</td>\n",
       "      <td>26.97</td>\n",
       "      <td>80.0</td>\n",
       "      <td>77.0</td>\n",
       "      <td>0</td>\n",
       "    </tr>\n",
       "    <tr>\n",
       "      <th>1</th>\n",
       "      <td>0</td>\n",
       "      <td>46</td>\n",
       "      <td>2.0</td>\n",
       "      <td>0</td>\n",
       "      <td>0.0</td>\n",
       "      <td>0.0</td>\n",
       "      <td>0</td>\n",
       "      <td>0</td>\n",
       "      <td>0</td>\n",
       "      <td>250.0</td>\n",
       "      <td>121.0</td>\n",
       "      <td>81.0</td>\n",
       "      <td>28.73</td>\n",
       "      <td>95.0</td>\n",
       "      <td>76.0</td>\n",
       "      <td>0</td>\n",
       "    </tr>\n",
       "    <tr>\n",
       "      <th>2</th>\n",
       "      <td>1</td>\n",
       "      <td>48</td>\n",
       "      <td>1.0</td>\n",
       "      <td>1</td>\n",
       "      <td>20.0</td>\n",
       "      <td>0.0</td>\n",
       "      <td>0</td>\n",
       "      <td>0</td>\n",
       "      <td>0</td>\n",
       "      <td>245.0</td>\n",
       "      <td>127.5</td>\n",
       "      <td>80.0</td>\n",
       "      <td>25.34</td>\n",
       "      <td>75.0</td>\n",
       "      <td>70.0</td>\n",
       "      <td>0</td>\n",
       "    </tr>\n",
       "    <tr>\n",
       "      <th>3</th>\n",
       "      <td>0</td>\n",
       "      <td>61</td>\n",
       "      <td>3.0</td>\n",
       "      <td>1</td>\n",
       "      <td>30.0</td>\n",
       "      <td>0.0</td>\n",
       "      <td>0</td>\n",
       "      <td>1</td>\n",
       "      <td>0</td>\n",
       "      <td>225.0</td>\n",
       "      <td>150.0</td>\n",
       "      <td>95.0</td>\n",
       "      <td>28.58</td>\n",
       "      <td>65.0</td>\n",
       "      <td>103.0</td>\n",
       "      <td>1</td>\n",
       "    </tr>\n",
       "    <tr>\n",
       "      <th>4</th>\n",
       "      <td>0</td>\n",
       "      <td>46</td>\n",
       "      <td>3.0</td>\n",
       "      <td>1</td>\n",
       "      <td>23.0</td>\n",
       "      <td>0.0</td>\n",
       "      <td>0</td>\n",
       "      <td>0</td>\n",
       "      <td>0</td>\n",
       "      <td>285.0</td>\n",
       "      <td>130.0</td>\n",
       "      <td>84.0</td>\n",
       "      <td>23.10</td>\n",
       "      <td>85.0</td>\n",
       "      <td>85.0</td>\n",
       "      <td>0</td>\n",
       "    </tr>\n",
       "  </tbody>\n",
       "</table>\n",
       "</div>"
      ],
      "text/plain": [
       "   male  age  education  currentSmoker  cigsPerDay  BPMeds  prevalentStroke  \\\n",
       "0     1   39        4.0              0         0.0     0.0                0   \n",
       "1     0   46        2.0              0         0.0     0.0                0   \n",
       "2     1   48        1.0              1        20.0     0.0                0   \n",
       "3     0   61        3.0              1        30.0     0.0                0   \n",
       "4     0   46        3.0              1        23.0     0.0                0   \n",
       "\n",
       "   prevalentHyp  diabetes  totChol  sysBP  diaBP    BMI  heartRate  glucose  \\\n",
       "0             0         0    195.0  106.0   70.0  26.97       80.0     77.0   \n",
       "1             0         0    250.0  121.0   81.0  28.73       95.0     76.0   \n",
       "2             0         0    245.0  127.5   80.0  25.34       75.0     70.0   \n",
       "3             1         0    225.0  150.0   95.0  28.58       65.0    103.0   \n",
       "4             0         0    285.0  130.0   84.0  23.10       85.0     85.0   \n",
       "\n",
       "   TenYearCHD  \n",
       "0           0  \n",
       "1           0  \n",
       "2           0  \n",
       "3           1  \n",
       "4           0  "
      ]
     },
     "execution_count": 3,
     "metadata": {},
     "output_type": "execute_result"
    }
   ],
   "source": [
    "df.head()\n"
   ]
  },
  {
   "cell_type": "code",
   "execution_count": 4,
   "metadata": {},
   "outputs": [
    {
     "name": "stdout",
     "output_type": "stream",
     "text": [
      "<class 'pandas.core.frame.DataFrame'>\n",
      "RangeIndex: 4240 entries, 0 to 4239\n",
      "Data columns (total 16 columns):\n",
      " #   Column           Non-Null Count  Dtype  \n",
      "---  ------           --------------  -----  \n",
      " 0   male             4240 non-null   int64  \n",
      " 1   age              4240 non-null   int64  \n",
      " 2   education        4135 non-null   float64\n",
      " 3   currentSmoker    4240 non-null   int64  \n",
      " 4   cigsPerDay       4211 non-null   float64\n",
      " 5   BPMeds           4187 non-null   float64\n",
      " 6   prevalentStroke  4240 non-null   int64  \n",
      " 7   prevalentHyp     4240 non-null   int64  \n",
      " 8   diabetes         4240 non-null   int64  \n",
      " 9   totChol          4190 non-null   float64\n",
      " 10  sysBP            4240 non-null   float64\n",
      " 11  diaBP            4240 non-null   float64\n",
      " 12  BMI              4221 non-null   float64\n",
      " 13  heartRate        4239 non-null   float64\n",
      " 14  glucose          3852 non-null   float64\n",
      " 15  TenYearCHD       4240 non-null   int64  \n",
      "dtypes: float64(9), int64(7)\n",
      "memory usage: 530.1 KB\n"
     ]
    }
   ],
   "source": [
    "df.info()\n"
   ]
  },
  {
   "cell_type": "code",
   "execution_count": 5,
   "metadata": {},
   "outputs": [
    {
     "data": {
      "text/plain": [
       "male                 0\n",
       "age                  0\n",
       "education          105\n",
       "currentSmoker        0\n",
       "cigsPerDay          29\n",
       "BPMeds              53\n",
       "prevalentStroke      0\n",
       "prevalentHyp         0\n",
       "diabetes             0\n",
       "totChol             50\n",
       "sysBP                0\n",
       "diaBP                0\n",
       "BMI                 19\n",
       "heartRate            1\n",
       "glucose            388\n",
       "TenYearCHD           0\n",
       "dtype: int64"
      ]
     },
     "execution_count": 5,
     "metadata": {},
     "output_type": "execute_result"
    }
   ],
   "source": [
    "df.isna().sum()\n"
   ]
  },
  {
   "cell_type": "code",
   "execution_count": 6,
   "metadata": {},
   "outputs": [],
   "source": [
    "df.fillna(method ='ffill',inplace =True)\n"
   ]
  },
  {
   "cell_type": "code",
   "execution_count": 7,
   "metadata": {},
   "outputs": [],
   "source": [
    "y = df.TenYearCHD\n",
    "x = df.drop(columns ='TenYearCHD')"
   ]
  },
  {
   "cell_type": "code",
   "execution_count": 8,
   "metadata": {},
   "outputs": [],
   "source": [
    "from sklearn.tree import DecisionTreeClassifier\n"
   ]
  },
  {
   "cell_type": "code",
   "execution_count": 9,
   "metadata": {},
   "outputs": [
    {
     "name": "stdout",
     "output_type": "stream",
     "text": [
      "Wall time: 13 ms\n"
     ]
    },
    {
     "data": {
      "text/plain": [
       "DecisionTreeClassifier(ccp_alpha=0.0, class_weight=None, criterion='gini',\n",
       "                       max_depth=3, max_features=None, max_leaf_nodes=None,\n",
       "                       min_impurity_decrease=0.0, min_impurity_split=None,\n",
       "                       min_samples_leaf=1, min_samples_split=10,\n",
       "                       min_weight_fraction_leaf=0.0, presort='deprecated',\n",
       "                       random_state=None, splitter='best')"
      ]
     },
     "execution_count": 9,
     "metadata": {},
     "output_type": "execute_result"
    }
   ],
   "source": [
    "%%time\n",
    "dtc = DecisionTreeClassifier(max_depth=3,min_samples_split =10)\n",
    "dtc.fit(x,y)"
   ]
  },
  {
   "cell_type": "code",
   "execution_count": 10,
   "metadata": {},
   "outputs": [
    {
     "name": "stderr",
     "output_type": "stream",
     "text": [
      "C:\\Users\\SRK\\Anaconda3\\lib\\site-packages\\sklearn\\externals\\six.py:31: FutureWarning: The module is deprecated in version 0.21 and will be removed in version 0.23 since we've dropped support for Python 2.7. Please rely on the official version of six (https://pypi.org/project/six/).\n",
      "  \"(https://pypi.org/project/six/).\", FutureWarning)\n"
     ]
    }
   ],
   "source": [
    "from IPython.display import Image\n",
    "from sklearn.externals.six import StringIO\n",
    "from sklearn.tree import export_graphviz\n",
    "import pydotplus\n",
    "import imblearn\n",
    "import lightgbm"
   ]
  },
  {
   "cell_type": "code",
   "execution_count": 11,
   "metadata": {},
   "outputs": [
    {
     "data": {
      "image/png": "[encoded data removed]",
      "text/plain": [
       "<IPython.core.display.Image object>"
      ]
     },
     "execution_count": 11,
     "metadata": {},
     "output_type": "execute_result"
    }
   ],
   "source": [
    "from IPython.display import Image  \n",
    "from sklearn.externals.six import StringIO  \n",
    "from sklearn.tree import export_graphviz\n",
    "import pydotplus\n",
    "\n",
    "features = x.columns\n",
    "# Create DOT data\n",
    "dot_data = export_graphviz(dtc, out_file=None, feature_names=features)\n",
    "\n",
    "# Draw graph\n",
    "graph = pydotplus.graph_from_dot_data(dot_data)  \n",
    "\n",
    "# Show graph\n",
    "Image(graph.create_png())"
   ]
  },
  {
   "cell_type": "markdown",
   "metadata": {},
   "source": [
    "# Decision tree classifier for prediction"
   ]
  },
  {
   "cell_type": "code",
   "execution_count": 12,
   "metadata": {},
   "outputs": [],
   "source": [
    "from sklearn.model_selection import train_test_split\n",
    "X_train, X_test, y_train, y_test = train_test_split(x,y,test_size =0.3,random_state =1)\n"
   ]
  },
  {
   "cell_type": "code",
   "execution_count": 13,
   "metadata": {},
   "outputs": [],
   "source": [
    "dtcc = DecisionTreeClassifier()\n",
    "dtcc.fit(X_train,y_train)\n",
    "ytrain_prob = dtcc.predict_proba(X_train)[:,1]\n",
    "ytrainpred = dtcc.predict(X_train)\n"
   ]
  },
  {
   "cell_type": "code",
   "execution_count": 14,
   "metadata": {},
   "outputs": [],
   "source": [
    "from sklearn.metrics import confusion_matrix,accuracy_score,roc_auc_score,roc_curve,classification_report"
   ]
  },
  {
   "cell_type": "code",
   "execution_count": 15,
   "metadata": {},
   "outputs": [
    {
     "name": "stdout",
     "output_type": "stream",
     "text": [
      "accuracy score on train 1.0\n",
      "AxesSubplot(0.125,0.125;0.62x0.755)\n",
      "auc_roc_score is  1.0\n"
     ]
    },
    {
     "data": {
      "image/png": "[encoded data removed]",
      "text/plain": [
       "<Figure size 432x288 with 2 Axes>"
      ]
     },
     "metadata": {
      "needs_background": "light"
     },
     "output_type": "display_data"
    }
   ],
   "source": [
    "print('accuracy score on train',accuracy_score(y_train,ytrainpred))\n",
    "print(sns.heatmap(confusion_matrix(y_train,ytrainpred),annot =True,fmt ='g'))\n",
    "print('auc_roc_score is ',roc_auc_score(y_train,ytrain_prob))\n"
   ]
  },
  {
   "cell_type": "code",
   "execution_count": 16,
   "metadata": {},
   "outputs": [
    {
     "name": "stdout",
     "output_type": "stream",
     "text": [
      "accuracy score on train 0.7665094339622641\n",
      "AxesSubplot(0.125,0.125;0.62x0.755)\n",
      "auc_roc_score is  0.5400404149929766\n"
     ]
    },
    {
     "data": {
      "image/png": "[encoded data removed]",
      "text/plain": [
       "<Figure size 432x288 with 2 Axes>"
      ]
     },
     "metadata": {
      "needs_background": "light"
     },
     "output_type": "display_data"
    }
   ],
   "source": [
    "#X_train, X_test, y_train, y_test\n",
    "ytest_prob = dtcc.predict_proba(X_test)[:,1]\n",
    "ytestpred = dtcc.predict(X_test)\n",
    "print('accuracy score on train',accuracy_score(y_test,ytestpred))\n",
    "print(sns.heatmap(confusion_matrix(y_test,ytestpred),annot =True,fmt ='g'))\n",
    "print('auc_roc_score is ',roc_auc_score(y_test,ytest_prob))"
   ]
  },
  {
   "cell_type": "markdown",
   "metadata": {},
   "source": [
    "## Randomised search"
   ]
  },
  {
   "cell_type": "code",
   "execution_count": 17,
   "metadata": {},
   "outputs": [],
   "source": [
    "from sklearn.model_selection import RandomizedSearchCV"
   ]
  },
  {
   "cell_type": "code",
   "execution_count": 86,
   "metadata": {},
   "outputs": [
    {
     "name": "stdout",
     "output_type": "stream",
     "text": [
      "Wall time: 22.2 s\n"
     ]
    },
    {
     "data": {
      "text/plain": [
       "{'criterion': 'gini',\n",
       " 'max_depth': 4,\n",
       " 'max_features': 8,\n",
       " 'min_samples_leaf': 19,\n",
       " 'min_samples_split': 47}"
      ]
     },
     "execution_count": 86,
     "metadata": {},
     "output_type": "execute_result"
    }
   ],
   "source": [
    "%%time\n",
    "from scipy.stats import randint\n",
    "param_dist = {\"max_depth\": [2,3, 4,5,6],\n",
    "              \"max_features\": randint(1, 10),\n",
    "              \"min_samples_split\" :randint(2, 100),\n",
    "              \"min_samples_leaf\": randint(1, 100),\n",
    "              \"criterion\": [\"gini\", \"entropy\"]}\n",
    "clf = RandomizedSearchCV(dtcc, param_dist, random_state=0,cv =5,n_iter=1000,scoring ='roc_auc',n_jobs =-1)\n",
    "search = clf.fit(X_train, y_train)\n",
    "search.best_params_"
   ]
  },
  {
   "cell_type": "code",
   "execution_count": 87,
   "metadata": {},
   "outputs": [
    {
     "data": {
      "text/plain": [
       "0.7307483832624417"
      ]
     },
     "execution_count": 87,
     "metadata": {},
     "output_type": "execute_result"
    }
   ],
   "source": [
    "search.score(X_train,y_train)##X_train, X_test, y_train, y_test\n"
   ]
  },
  {
   "cell_type": "code",
   "execution_count": 88,
   "metadata": {},
   "outputs": [
    {
     "data": {
      "text/plain": [
       "0.7089800142931071"
      ]
     },
     "execution_count": 88,
     "metadata": {},
     "output_type": "execute_result"
    }
   ],
   "source": [
    "search.score(X_test,y_test)"
   ]
  },
  {
   "cell_type": "code",
   "execution_count": 89,
   "metadata": {},
   "outputs": [
    {
     "data": {
      "text/html": [
       "<div>\n",
       "<style scoped>\n",
       "    .dataframe tbody tr th:only-of-type {\n",
       "        vertical-align: middle;\n",
       "    }\n",
       "\n",
       "    .dataframe tbody tr th {\n",
       "        vertical-align: top;\n",
       "    }\n",
       "\n",
       "    .dataframe thead th {\n",
       "        text-align: right;\n",
       "    }\n",
       "</style>\n",
       "<table border=\"1\" class=\"dataframe\">\n",
       "  <thead>\n",
       "    <tr style=\"text-align: right;\">\n",
       "      <th></th>\n",
       "      <th>mean_fit_time</th>\n",
       "      <th>std_fit_time</th>\n",
       "      <th>mean_score_time</th>\n",
       "      <th>std_score_time</th>\n",
       "      <th>param_criterion</th>\n",
       "      <th>param_max_depth</th>\n",
       "      <th>param_max_features</th>\n",
       "      <th>param_min_samples_leaf</th>\n",
       "      <th>param_min_samples_split</th>\n",
       "      <th>params</th>\n",
       "      <th>split0_test_score</th>\n",
       "      <th>split1_test_score</th>\n",
       "      <th>split2_test_score</th>\n",
       "      <th>split3_test_score</th>\n",
       "      <th>split4_test_score</th>\n",
       "      <th>mean_test_score</th>\n",
       "      <th>std_test_score</th>\n",
       "      <th>rank_test_score</th>\n",
       "    </tr>\n",
       "  </thead>\n",
       "  <tbody>\n",
       "    <tr>\n",
       "      <th>0</th>\n",
       "      <td>0.007394</td>\n",
       "      <td>0.000799</td>\n",
       "      <td>0.004999</td>\n",
       "      <td>6.641573e-07</td>\n",
       "      <td>gini</td>\n",
       "      <td>2</td>\n",
       "      <td>4</td>\n",
       "      <td>68</td>\n",
       "      <td>11</td>\n",
       "      <td>{'criterion': 'gini', 'max_depth': 2, 'max_fea...</td>\n",
       "      <td>0.620999</td>\n",
       "      <td>0.659341</td>\n",
       "      <td>0.628215</td>\n",
       "      <td>0.626067</td>\n",
       "      <td>0.685817</td>\n",
       "      <td>0.644088</td>\n",
       "      <td>0.024834</td>\n",
       "      <td>491</td>\n",
       "    </tr>\n",
       "    <tr>\n",
       "      <th>1</th>\n",
       "      <td>0.010193</td>\n",
       "      <td>0.000979</td>\n",
       "      <td>0.004998</td>\n",
       "      <td>6.320333e-04</td>\n",
       "      <td>entropy</td>\n",
       "      <td>4</td>\n",
       "      <td>5</td>\n",
       "      <td>88</td>\n",
       "      <td>72</td>\n",
       "      <td>{'criterion': 'entropy', 'max_depth': 4, 'max_...</td>\n",
       "      <td>0.667151</td>\n",
       "      <td>0.672711</td>\n",
       "      <td>0.630760</td>\n",
       "      <td>0.672836</td>\n",
       "      <td>0.616206</td>\n",
       "      <td>0.651933</td>\n",
       "      <td>0.023770</td>\n",
       "      <td>334</td>\n",
       "    </tr>\n",
       "    <tr>\n",
       "      <th>2</th>\n",
       "      <td>0.006995</td>\n",
       "      <td>0.000002</td>\n",
       "      <td>0.004998</td>\n",
       "      <td>1.311085e-06</td>\n",
       "      <td>gini</td>\n",
       "      <td>2</td>\n",
       "      <td>2</td>\n",
       "      <td>40</td>\n",
       "      <td>89</td>\n",
       "      <td>{'criterion': 'gini', 'max_depth': 2, 'max_fea...</td>\n",
       "      <td>0.625882</td>\n",
       "      <td>0.637515</td>\n",
       "      <td>0.533994</td>\n",
       "      <td>0.646436</td>\n",
       "      <td>0.565562</td>\n",
       "      <td>0.601878</td>\n",
       "      <td>0.044178</td>\n",
       "      <td>895</td>\n",
       "    </tr>\n",
       "    <tr>\n",
       "      <th>3</th>\n",
       "      <td>0.006797</td>\n",
       "      <td>0.000748</td>\n",
       "      <td>0.013193</td>\n",
       "      <td>1.062316e-02</td>\n",
       "      <td>gini</td>\n",
       "      <td>2</td>\n",
       "      <td>2</td>\n",
       "      <td>38</td>\n",
       "      <td>27</td>\n",
       "      <td>{'criterion': 'gini', 'max_depth': 2, 'max_fea...</td>\n",
       "      <td>0.639340</td>\n",
       "      <td>0.493959</td>\n",
       "      <td>0.603629</td>\n",
       "      <td>0.639256</td>\n",
       "      <td>0.568966</td>\n",
       "      <td>0.589030</td>\n",
       "      <td>0.054236</td>\n",
       "      <td>939</td>\n",
       "    </tr>\n",
       "    <tr>\n",
       "      <th>4</th>\n",
       "      <td>0.007795</td>\n",
       "      <td>0.000748</td>\n",
       "      <td>0.004997</td>\n",
       "      <td>6.324098e-04</td>\n",
       "      <td>entropy</td>\n",
       "      <td>2</td>\n",
       "      <td>5</td>\n",
       "      <td>81</td>\n",
       "      <td>71</td>\n",
       "      <td>{'criterion': 'entropy', 'max_depth': 2, 'max_...</td>\n",
       "      <td>0.651519</td>\n",
       "      <td>0.624621</td>\n",
       "      <td>0.669204</td>\n",
       "      <td>0.643470</td>\n",
       "      <td>0.599328</td>\n",
       "      <td>0.637628</td>\n",
       "      <td>0.023917</td>\n",
       "      <td>621</td>\n",
       "    </tr>\n",
       "    <tr>\n",
       "      <th>...</th>\n",
       "      <td>...</td>\n",
       "      <td>...</td>\n",
       "      <td>...</td>\n",
       "      <td>...</td>\n",
       "      <td>...</td>\n",
       "      <td>...</td>\n",
       "      <td>...</td>\n",
       "      <td>...</td>\n",
       "      <td>...</td>\n",
       "      <td>...</td>\n",
       "      <td>...</td>\n",
       "      <td>...</td>\n",
       "      <td>...</td>\n",
       "      <td>...</td>\n",
       "      <td>...</td>\n",
       "      <td>...</td>\n",
       "      <td>...</td>\n",
       "      <td>...</td>\n",
       "    </tr>\n",
       "    <tr>\n",
       "      <th>995</th>\n",
       "      <td>0.013392</td>\n",
       "      <td>0.004078</td>\n",
       "      <td>0.004597</td>\n",
       "      <td>4.892790e-04</td>\n",
       "      <td>gini</td>\n",
       "      <td>5</td>\n",
       "      <td>4</td>\n",
       "      <td>95</td>\n",
       "      <td>48</td>\n",
       "      <td>{'criterion': 'gini', 'max_depth': 5, 'max_fea...</td>\n",
       "      <td>0.656861</td>\n",
       "      <td>0.666172</td>\n",
       "      <td>0.672625</td>\n",
       "      <td>0.656364</td>\n",
       "      <td>0.653069</td>\n",
       "      <td>0.661018</td>\n",
       "      <td>0.007258</td>\n",
       "      <td>143</td>\n",
       "    </tr>\n",
       "    <tr>\n",
       "      <th>996</th>\n",
       "      <td>0.006396</td>\n",
       "      <td>0.000489</td>\n",
       "      <td>0.006397</td>\n",
       "      <td>3.319470e-03</td>\n",
       "      <td>entropy</td>\n",
       "      <td>2</td>\n",
       "      <td>1</td>\n",
       "      <td>33</td>\n",
       "      <td>27</td>\n",
       "      <td>{'criterion': 'entropy', 'max_depth': 2, 'max_...</td>\n",
       "      <td>0.526085</td>\n",
       "      <td>0.604647</td>\n",
       "      <td>0.495269</td>\n",
       "      <td>0.597413</td>\n",
       "      <td>0.500000</td>\n",
       "      <td>0.544683</td>\n",
       "      <td>0.047245</td>\n",
       "      <td>994</td>\n",
       "    </tr>\n",
       "    <tr>\n",
       "      <th>997</th>\n",
       "      <td>0.009794</td>\n",
       "      <td>0.001719</td>\n",
       "      <td>0.005197</td>\n",
       "      <td>3.995441e-04</td>\n",
       "      <td>entropy</td>\n",
       "      <td>6</td>\n",
       "      <td>2</td>\n",
       "      <td>24</td>\n",
       "      <td>37</td>\n",
       "      <td>{'criterion': 'entropy', 'max_depth': 6, 'max_...</td>\n",
       "      <td>0.593844</td>\n",
       "      <td>0.629958</td>\n",
       "      <td>0.630456</td>\n",
       "      <td>0.610810</td>\n",
       "      <td>0.667681</td>\n",
       "      <td>0.626550</td>\n",
       "      <td>0.024642</td>\n",
       "      <td>769</td>\n",
       "    </tr>\n",
       "    <tr>\n",
       "      <th>998</th>\n",
       "      <td>0.010993</td>\n",
       "      <td>0.003519</td>\n",
       "      <td>0.004799</td>\n",
       "      <td>3.996612e-04</td>\n",
       "      <td>entropy</td>\n",
       "      <td>3</td>\n",
       "      <td>4</td>\n",
       "      <td>35</td>\n",
       "      <td>86</td>\n",
       "      <td>{'criterion': 'entropy', 'max_depth': 3, 'max_...</td>\n",
       "      <td>0.658270</td>\n",
       "      <td>0.657988</td>\n",
       "      <td>0.665977</td>\n",
       "      <td>0.658016</td>\n",
       "      <td>0.603684</td>\n",
       "      <td>0.648787</td>\n",
       "      <td>0.022758</td>\n",
       "      <td>406</td>\n",
       "    </tr>\n",
       "    <tr>\n",
       "      <th>999</th>\n",
       "      <td>0.015189</td>\n",
       "      <td>0.000399</td>\n",
       "      <td>0.004798</td>\n",
       "      <td>7.480740e-04</td>\n",
       "      <td>entropy</td>\n",
       "      <td>6</td>\n",
       "      <td>7</td>\n",
       "      <td>9</td>\n",
       "      <td>2</td>\n",
       "      <td>{'criterion': 'entropy', 'max_depth': 6, 'max_...</td>\n",
       "      <td>0.642879</td>\n",
       "      <td>0.657630</td>\n",
       "      <td>0.637309</td>\n",
       "      <td>0.680804</td>\n",
       "      <td>0.642189</td>\n",
       "      <td>0.652163</td>\n",
       "      <td>0.015852</td>\n",
       "      <td>325</td>\n",
       "    </tr>\n",
       "  </tbody>\n",
       "</table>\n",
       "<p>1000 rows × 18 columns</p>\n",
       "</div>"
      ],
      "text/plain": [
       "     mean_fit_time  std_fit_time  mean_score_time  std_score_time  \\\n",
       "0         0.007394      0.000799         0.004999    6.641573e-07   \n",
       "1         0.010193      0.000979         0.004998    6.320333e-04   \n",
       "2         0.006995      0.000002         0.004998    1.311085e-06   \n",
       "3         0.006797      0.000748         0.013193    1.062316e-02   \n",
       "4         0.007795      0.000748         0.004997    6.324098e-04   \n",
       "..             ...           ...              ...             ...   \n",
       "995       0.013392      0.004078         0.004597    4.892790e-04   \n",
       "996       0.006396      0.000489         0.006397    3.319470e-03   \n",
       "997       0.009794      0.001719         0.005197    3.995441e-04   \n",
       "998       0.010993      0.003519         0.004799    3.996612e-04   \n",
       "999       0.015189      0.000399         0.004798    7.480740e-04   \n",
       "\n",
       "    param_criterion param_max_depth param_max_features param_min_samples_leaf  \\\n",
       "0              gini               2                  4                     68   \n",
       "1           entropy               4                  5                     88   \n",
       "2              gini               2                  2                     40   \n",
       "3              gini               2                  2                     38   \n",
       "4           entropy               2                  5                     81   \n",
       "..              ...             ...                ...                    ...   \n",
       "995            gini               5                  4                     95   \n",
       "996         entropy               2                  1                     33   \n",
       "997         entropy               6                  2                     24   \n",
       "998         entropy               3                  4                     35   \n",
       "999         entropy               6                  7                      9   \n",
       "\n",
       "    param_min_samples_split  \\\n",
       "0                        11   \n",
       "1                        72   \n",
       "2                        89   \n",
       "3                        27   \n",
       "4                        71   \n",
       "..                      ...   \n",
       "995                      48   \n",
       "996                      27   \n",
       "997                      37   \n",
       "998                      86   \n",
       "999                       2   \n",
       "\n",
       "                                                params  split0_test_score  \\\n",
       "0    {'criterion': 'gini', 'max_depth': 2, 'max_fea...           0.620999   \n",
       "1    {'criterion': 'entropy', 'max_depth': 4, 'max_...           0.667151   \n",
       "2    {'criterion': 'gini', 'max_depth': 2, 'max_fea...           0.625882   \n",
       "3    {'criterion': 'gini', 'max_depth': 2, 'max_fea...           0.639340   \n",
       "4    {'criterion': 'entropy', 'max_depth': 2, 'max_...           0.651519   \n",
       "..                                                 ...                ...   \n",
       "995  {'criterion': 'gini', 'max_depth': 5, 'max_fea...           0.656861   \n",
       "996  {'criterion': 'entropy', 'max_depth': 2, 'max_...           0.526085   \n",
       "997  {'criterion': 'entropy', 'max_depth': 6, 'max_...           0.593844   \n",
       "998  {'criterion': 'entropy', 'max_depth': 3, 'max_...           0.658270   \n",
       "999  {'criterion': 'entropy', 'max_depth': 6, 'max_...           0.642879   \n",
       "\n",
       "     split1_test_score  split2_test_score  split3_test_score  \\\n",
       "0             0.659341           0.628215           0.626067   \n",
       "1             0.672711           0.630760           0.672836   \n",
       "2             0.637515           0.533994           0.646436   \n",
       "3             0.493959           0.603629           0.639256   \n",
       "4             0.624621           0.669204           0.643470   \n",
       "..                 ...                ...                ...   \n",
       "995           0.666172           0.672625           0.656364   \n",
       "996           0.604647           0.495269           0.597413   \n",
       "997           0.629958           0.630456           0.610810   \n",
       "998           0.657988           0.665977           0.658016   \n",
       "999           0.657630           0.637309           0.680804   \n",
       "\n",
       "     split4_test_score  mean_test_score  std_test_score  rank_test_score  \n",
       "0             0.685817         0.644088        0.024834              491  \n",
       "1             0.616206         0.651933        0.023770              334  \n",
       "2             0.565562         0.601878        0.044178              895  \n",
       "3             0.568966         0.589030        0.054236              939  \n",
       "4             0.599328         0.637628        0.023917              621  \n",
       "..                 ...              ...             ...              ...  \n",
       "995           0.653069         0.661018        0.007258              143  \n",
       "996           0.500000         0.544683        0.047245              994  \n",
       "997           0.667681         0.626550        0.024642              769  \n",
       "998           0.603684         0.648787        0.022758              406  \n",
       "999           0.642189         0.652163        0.015852              325  \n",
       "\n",
       "[1000 rows x 18 columns]"
      ]
     },
     "execution_count": 89,
     "metadata": {},
     "output_type": "execute_result"
    }
   ],
   "source": [
    "pd.DataFrame(search.cv_results_)"
   ]
  },
  {
   "cell_type": "code",
   "execution_count": 90,
   "metadata": {},
   "outputs": [
    {
     "name": "stdout",
     "output_type": "stream",
     "text": [
      "accuracy score on train 0.8497304582210242\n",
      "AxesSubplot(0.125,0.125;0.62x0.755)\n",
      "auc_roc_score is  0.730200683731189\n"
     ]
    },
    {
     "data": {
      "image/png": "[encoded data removed]",
      "text/plain": [
       "<Figure size 432x288 with 2 Axes>"
      ]
     },
     "metadata": {
      "needs_background": "light"
     },
     "output_type": "display_data"
    }
   ],
   "source": [
    "\n",
    "dtr = DecisionTreeClassifier(**search.best_params_)\n",
    "dtr.fit(X_train,y_train)\n",
    "ytrain_prob = dtr.predict_proba(X_train)[:,1]\n",
    "ytrainpred = dtr.predict(X_train)\n",
    "print('accuracy score on train',accuracy_score(y_train,ytrainpred))\n",
    "print(sns.heatmap(confusion_matrix(y_train,ytrainpred),annot =True,fmt ='g'))\n",
    "print('auc_roc_score is ',roc_auc_score(y_train,ytrain_prob))\n",
    "\n",
    "\n"
   ]
  },
  {
   "cell_type": "code",
   "execution_count": 91,
   "metadata": {},
   "outputs": [
    {
     "name": "stdout",
     "output_type": "stream",
     "text": [
      "accuracy score on train 0.8466981132075472\n",
      "AxesSubplot(0.125,0.125;0.62x0.755)\n",
      "auc_roc_score is  0.7082702875871756\n"
     ]
    },
    {
     "data": {
      "image/png": "[encoded data removed]",
      "text/plain": [
       "<Figure size 432x288 with 2 Axes>"
      ]
     },
     "metadata": {
      "needs_background": "light"
     },
     "output_type": "display_data"
    }
   ],
   "source": [
    "ytest_prob = dtr.predict_proba(X_test)[:,1]\n",
    "ytestpred = dtr.predict(X_test)\n",
    "print('accuracy score on train',accuracy_score(y_test,ytestpred))\n",
    "print(sns.heatmap(confusion_matrix(y_test,ytestpred),annot =True,fmt ='g'))\n",
    "print('auc_roc_score is ',roc_auc_score(y_test,ytest_prob))"
   ]
  },
  {
   "cell_type": "markdown",
   "metadata": {},
   "source": [
    "## Gridsearch"
   ]
  },
  {
   "cell_type": "raw",
   "metadata": {},
   "source": [
    "we noticed that decision tree is overfitting (high accuracy in train and low accuracy in test). we will tune the tree to get the best results on both train and test."
   ]
  },
  {
   "cell_type": "code",
   "execution_count": 35,
   "metadata": {},
   "outputs": [
    {
     "name": "stdout",
     "output_type": "stream",
     "text": [
      "Wall time: 1min 9s\n"
     ]
    },
    {
     "data": {
      "text/plain": [
       "{'criterion': 'gini',\n",
       " 'max_depth': 5,\n",
       " 'max_features': 4,\n",
       " 'min_samples_leaf': 9,\n",
       " 'min_samples_split': 5}"
      ]
     },
     "execution_count": 35,
     "metadata": {},
     "output_type": "execute_result"
    }
   ],
   "source": [
    "\n",
    "%%time\n",
    "dtg = DecisionTreeClassifier()\n",
    "from sklearn.model_selection import GridSearchCV\n",
    "param_dist = {\"max_depth\": [2,3,4,5,6],\n",
    "              \"min_samples_split\" :[2,3,4,5,6,7,8,9,10],\n",
    "              \"max_features\": [1,2,3,4],\n",
    "              \"min_samples_leaf\": [1,2,3,4,5,6,7,8,9],\n",
    "              \"criterion\": [\"gini\", \"entropy\"]}\n",
    "clf = GridSearchCV(dtcc, param_dist,cv =5,scoring ='roc_auc',n_jobs =-1)\n",
    "search = clf.fit(X_train, y_train)\n",
    "search.best_params_"
   ]
  },
  {
   "cell_type": "code",
   "execution_count": 36,
   "metadata": {},
   "outputs": [
    {
     "data": {
      "text/plain": [
       "0.6964363365742158"
      ]
     },
     "execution_count": 36,
     "metadata": {},
     "output_type": "execute_result"
    }
   ],
   "source": [
    "search.score(X_train,y_train)##X_train, X_test, y_train, y_test\n"
   ]
  },
  {
   "cell_type": "code",
   "execution_count": 37,
   "metadata": {},
   "outputs": [
    {
     "data": {
      "text/plain": [
       "0.6936642105522561"
      ]
     },
     "execution_count": 37,
     "metadata": {},
     "output_type": "execute_result"
    }
   ],
   "source": [
    "search.score(X_test,y_test)"
   ]
  },
  {
   "cell_type": "code",
   "execution_count": 38,
   "metadata": {},
   "outputs": [
    {
     "data": {
      "text/html": [
       "<div>\n",
       "<style scoped>\n",
       "    .dataframe tbody tr th:only-of-type {\n",
       "        vertical-align: middle;\n",
       "    }\n",
       "\n",
       "    .dataframe tbody tr th {\n",
       "        vertical-align: top;\n",
       "    }\n",
       "\n",
       "    .dataframe thead th {\n",
       "        text-align: right;\n",
       "    }\n",
       "</style>\n",
       "<table border=\"1\" class=\"dataframe\">\n",
       "  <thead>\n",
       "    <tr style=\"text-align: right;\">\n",
       "      <th></th>\n",
       "      <th>mean_fit_time</th>\n",
       "      <th>std_fit_time</th>\n",
       "      <th>mean_score_time</th>\n",
       "      <th>std_score_time</th>\n",
       "      <th>param_criterion</th>\n",
       "      <th>param_max_depth</th>\n",
       "      <th>param_max_features</th>\n",
       "      <th>param_min_samples_leaf</th>\n",
       "      <th>param_min_samples_split</th>\n",
       "      <th>params</th>\n",
       "      <th>split0_test_score</th>\n",
       "      <th>split1_test_score</th>\n",
       "      <th>split2_test_score</th>\n",
       "      <th>split3_test_score</th>\n",
       "      <th>split4_test_score</th>\n",
       "      <th>mean_test_score</th>\n",
       "      <th>std_test_score</th>\n",
       "      <th>rank_test_score</th>\n",
       "    </tr>\n",
       "  </thead>\n",
       "  <tbody>\n",
       "    <tr>\n",
       "      <th>0</th>\n",
       "      <td>0.007795</td>\n",
       "      <td>0.000399</td>\n",
       "      <td>0.005397</td>\n",
       "      <td>0.000800</td>\n",
       "      <td>gini</td>\n",
       "      <td>2</td>\n",
       "      <td>1</td>\n",
       "      <td>1</td>\n",
       "      <td>2</td>\n",
       "      <td>{'criterion': 'gini', 'max_depth': 2, 'max_fea...</td>\n",
       "      <td>0.589769</td>\n",
       "      <td>0.532674</td>\n",
       "      <td>0.601886</td>\n",
       "      <td>0.623823</td>\n",
       "      <td>0.585154</td>\n",
       "      <td>0.586661</td>\n",
       "      <td>0.030131</td>\n",
       "      <td>3048</td>\n",
       "    </tr>\n",
       "    <tr>\n",
       "      <th>1</th>\n",
       "      <td>0.007794</td>\n",
       "      <td>0.001599</td>\n",
       "      <td>0.011194</td>\n",
       "      <td>0.012393</td>\n",
       "      <td>gini</td>\n",
       "      <td>2</td>\n",
       "      <td>1</td>\n",
       "      <td>1</td>\n",
       "      <td>3</td>\n",
       "      <td>{'criterion': 'gini', 'max_depth': 2, 'max_fea...</td>\n",
       "      <td>0.613113</td>\n",
       "      <td>0.567209</td>\n",
       "      <td>0.568021</td>\n",
       "      <td>0.594249</td>\n",
       "      <td>0.566076</td>\n",
       "      <td>0.581734</td>\n",
       "      <td>0.018897</td>\n",
       "      <td>3097</td>\n",
       "    </tr>\n",
       "    <tr>\n",
       "      <th>2</th>\n",
       "      <td>0.006795</td>\n",
       "      <td>0.000400</td>\n",
       "      <td>0.005197</td>\n",
       "      <td>0.000400</td>\n",
       "      <td>gini</td>\n",
       "      <td>2</td>\n",
       "      <td>1</td>\n",
       "      <td>1</td>\n",
       "      <td>4</td>\n",
       "      <td>{'criterion': 'gini', 'max_depth': 2, 'max_fea...</td>\n",
       "      <td>0.543847</td>\n",
       "      <td>0.560746</td>\n",
       "      <td>0.574463</td>\n",
       "      <td>0.596318</td>\n",
       "      <td>0.509982</td>\n",
       "      <td>0.557071</td>\n",
       "      <td>0.029150</td>\n",
       "      <td>3223</td>\n",
       "    </tr>\n",
       "    <tr>\n",
       "      <th>3</th>\n",
       "      <td>0.006196</td>\n",
       "      <td>0.000399</td>\n",
       "      <td>0.004197</td>\n",
       "      <td>0.000979</td>\n",
       "      <td>gini</td>\n",
       "      <td>2</td>\n",
       "      <td>1</td>\n",
       "      <td>1</td>\n",
       "      <td>5</td>\n",
       "      <td>{'criterion': 'gini', 'max_depth': 2, 'max_fea...</td>\n",
       "      <td>0.572816</td>\n",
       "      <td>0.667417</td>\n",
       "      <td>0.561374</td>\n",
       "      <td>0.609102</td>\n",
       "      <td>0.568933</td>\n",
       "      <td>0.595928</td>\n",
       "      <td>0.039348</td>\n",
       "      <td>2894</td>\n",
       "    </tr>\n",
       "    <tr>\n",
       "      <th>4</th>\n",
       "      <td>0.006996</td>\n",
       "      <td>0.000002</td>\n",
       "      <td>0.004997</td>\n",
       "      <td>0.000632</td>\n",
       "      <td>gini</td>\n",
       "      <td>2</td>\n",
       "      <td>1</td>\n",
       "      <td>1</td>\n",
       "      <td>6</td>\n",
       "      <td>{'criterion': 'gini', 'max_depth': 2, 'max_fea...</td>\n",
       "      <td>0.588393</td>\n",
       "      <td>0.614726</td>\n",
       "      <td>0.554456</td>\n",
       "      <td>0.575818</td>\n",
       "      <td>0.526050</td>\n",
       "      <td>0.571888</td>\n",
       "      <td>0.030093</td>\n",
       "      <td>3170</td>\n",
       "    </tr>\n",
       "    <tr>\n",
       "      <th>...</th>\n",
       "      <td>...</td>\n",
       "      <td>...</td>\n",
       "      <td>...</td>\n",
       "      <td>...</td>\n",
       "      <td>...</td>\n",
       "      <td>...</td>\n",
       "      <td>...</td>\n",
       "      <td>...</td>\n",
       "      <td>...</td>\n",
       "      <td>...</td>\n",
       "      <td>...</td>\n",
       "      <td>...</td>\n",
       "      <td>...</td>\n",
       "      <td>...</td>\n",
       "      <td>...</td>\n",
       "      <td>...</td>\n",
       "      <td>...</td>\n",
       "      <td>...</td>\n",
       "    </tr>\n",
       "    <tr>\n",
       "      <th>3235</th>\n",
       "      <td>0.022786</td>\n",
       "      <td>0.021596</td>\n",
       "      <td>0.007596</td>\n",
       "      <td>0.003553</td>\n",
       "      <td>entropy</td>\n",
       "      <td>6</td>\n",
       "      <td>4</td>\n",
       "      <td>9</td>\n",
       "      <td>6</td>\n",
       "      <td>{'criterion': 'entropy', 'max_depth': 6, 'max_...</td>\n",
       "      <td>0.658620</td>\n",
       "      <td>0.636768</td>\n",
       "      <td>0.628237</td>\n",
       "      <td>0.651964</td>\n",
       "      <td>0.592301</td>\n",
       "      <td>0.633578</td>\n",
       "      <td>0.023271</td>\n",
       "      <td>1253</td>\n",
       "    </tr>\n",
       "    <tr>\n",
       "      <th>3236</th>\n",
       "      <td>0.011792</td>\n",
       "      <td>0.000400</td>\n",
       "      <td>0.005198</td>\n",
       "      <td>0.000399</td>\n",
       "      <td>entropy</td>\n",
       "      <td>6</td>\n",
       "      <td>4</td>\n",
       "      <td>9</td>\n",
       "      <td>7</td>\n",
       "      <td>{'criterion': 'entropy', 'max_depth': 6, 'max_...</td>\n",
       "      <td>0.701593</td>\n",
       "      <td>0.698608</td>\n",
       "      <td>0.623744</td>\n",
       "      <td>0.620715</td>\n",
       "      <td>0.574439</td>\n",
       "      <td>0.643820</td>\n",
       "      <td>0.049173</td>\n",
       "      <td>622</td>\n",
       "    </tr>\n",
       "    <tr>\n",
       "      <th>3237</th>\n",
       "      <td>0.023585</td>\n",
       "      <td>0.014885</td>\n",
       "      <td>0.006198</td>\n",
       "      <td>0.001938</td>\n",
       "      <td>entropy</td>\n",
       "      <td>6</td>\n",
       "      <td>4</td>\n",
       "      <td>9</td>\n",
       "      <td>8</td>\n",
       "      <td>{'criterion': 'entropy', 'max_depth': 6, 'max_...</td>\n",
       "      <td>0.609180</td>\n",
       "      <td>0.652239</td>\n",
       "      <td>0.640796</td>\n",
       "      <td>0.580699</td>\n",
       "      <td>0.608861</td>\n",
       "      <td>0.618355</td>\n",
       "      <td>0.025471</td>\n",
       "      <td>2159</td>\n",
       "    </tr>\n",
       "    <tr>\n",
       "      <th>3238</th>\n",
       "      <td>0.012192</td>\n",
       "      <td>0.001166</td>\n",
       "      <td>0.004997</td>\n",
       "      <td>0.000632</td>\n",
       "      <td>entropy</td>\n",
       "      <td>6</td>\n",
       "      <td>4</td>\n",
       "      <td>9</td>\n",
       "      <td>9</td>\n",
       "      <td>{'criterion': 'entropy', 'max_depth': 6, 'max_...</td>\n",
       "      <td>0.656992</td>\n",
       "      <td>0.627414</td>\n",
       "      <td>0.613773</td>\n",
       "      <td>0.660391</td>\n",
       "      <td>0.659571</td>\n",
       "      <td>0.643628</td>\n",
       "      <td>0.019329</td>\n",
       "      <td>632</td>\n",
       "    </tr>\n",
       "    <tr>\n",
       "      <th>3239</th>\n",
       "      <td>0.011792</td>\n",
       "      <td>0.000748</td>\n",
       "      <td>0.006196</td>\n",
       "      <td>0.002481</td>\n",
       "      <td>entropy</td>\n",
       "      <td>6</td>\n",
       "      <td>4</td>\n",
       "      <td>9</td>\n",
       "      <td>10</td>\n",
       "      <td>{'criterion': 'entropy', 'max_depth': 6, 'max_...</td>\n",
       "      <td>0.679058</td>\n",
       "      <td>0.648006</td>\n",
       "      <td>0.633910</td>\n",
       "      <td>0.647224</td>\n",
       "      <td>0.640701</td>\n",
       "      <td>0.649780</td>\n",
       "      <td>0.015499</td>\n",
       "      <td>326</td>\n",
       "    </tr>\n",
       "  </tbody>\n",
       "</table>\n",
       "<p>3240 rows × 18 columns</p>\n",
       "</div>"
      ],
      "text/plain": [
       "      mean_fit_time  std_fit_time  mean_score_time  std_score_time  \\\n",
       "0          0.007795      0.000399         0.005397        0.000800   \n",
       "1          0.007794      0.001599         0.011194        0.012393   \n",
       "2          0.006795      0.000400         0.005197        0.000400   \n",
       "3          0.006196      0.000399         0.004197        0.000979   \n",
       "4          0.006996      0.000002         0.004997        0.000632   \n",
       "...             ...           ...              ...             ...   \n",
       "3235       0.022786      0.021596         0.007596        0.003553   \n",
       "3236       0.011792      0.000400         0.005198        0.000399   \n",
       "3237       0.023585      0.014885         0.006198        0.001938   \n",
       "3238       0.012192      0.001166         0.004997        0.000632   \n",
       "3239       0.011792      0.000748         0.006196        0.002481   \n",
       "\n",
       "     param_criterion param_max_depth param_max_features  \\\n",
       "0               gini               2                  1   \n",
       "1               gini               2                  1   \n",
       "2               gini               2                  1   \n",
       "3               gini               2                  1   \n",
       "4               gini               2                  1   \n",
       "...              ...             ...                ...   \n",
       "3235         entropy               6                  4   \n",
       "3236         entropy               6                  4   \n",
       "3237         entropy               6                  4   \n",
       "3238         entropy               6                  4   \n",
       "3239         entropy               6                  4   \n",
       "\n",
       "     param_min_samples_leaf param_min_samples_split  \\\n",
       "0                         1                       2   \n",
       "1                         1                       3   \n",
       "2                         1                       4   \n",
       "3                         1                       5   \n",
       "4                         1                       6   \n",
       "...                     ...                     ...   \n",
       "3235                      9                       6   \n",
       "3236                      9                       7   \n",
       "3237                      9                       8   \n",
       "3238                      9                       9   \n",
       "3239                      9                      10   \n",
       "\n",
       "                                                 params  split0_test_score  \\\n",
       "0     {'criterion': 'gini', 'max_depth': 2, 'max_fea...           0.589769   \n",
       "1     {'criterion': 'gini', 'max_depth': 2, 'max_fea...           0.613113   \n",
       "2     {'criterion': 'gini', 'max_depth': 2, 'max_fea...           0.543847   \n",
       "3     {'criterion': 'gini', 'max_depth': 2, 'max_fea...           0.572816   \n",
       "4     {'criterion': 'gini', 'max_depth': 2, 'max_fea...           0.588393   \n",
       "...                                                 ...                ...   \n",
       "3235  {'criterion': 'entropy', 'max_depth': 6, 'max_...           0.658620   \n",
       "3236  {'criterion': 'entropy', 'max_depth': 6, 'max_...           0.701593   \n",
       "3237  {'criterion': 'entropy', 'max_depth': 6, 'max_...           0.609180   \n",
       "3238  {'criterion': 'entropy', 'max_depth': 6, 'max_...           0.656992   \n",
       "3239  {'criterion': 'entropy', 'max_depth': 6, 'max_...           0.679058   \n",
       "\n",
       "      split1_test_score  split2_test_score  split3_test_score  \\\n",
       "0              0.532674           0.601886           0.623823   \n",
       "1              0.567209           0.568021           0.594249   \n",
       "2              0.560746           0.574463           0.596318   \n",
       "3              0.667417           0.561374           0.609102   \n",
       "4              0.614726           0.554456           0.575818   \n",
       "...                 ...                ...                ...   \n",
       "3235           0.636768           0.628237           0.651964   \n",
       "3236           0.698608           0.623744           0.620715   \n",
       "3237           0.652239           0.640796           0.580699   \n",
       "3238           0.627414           0.613773           0.660391   \n",
       "3239           0.648006           0.633910           0.647224   \n",
       "\n",
       "      split4_test_score  mean_test_score  std_test_score  rank_test_score  \n",
       "0              0.585154         0.586661        0.030131             3048  \n",
       "1              0.566076         0.581734        0.018897             3097  \n",
       "2              0.509982         0.557071        0.029150             3223  \n",
       "3              0.568933         0.595928        0.039348             2894  \n",
       "4              0.526050         0.571888        0.030093             3170  \n",
       "...                 ...              ...             ...              ...  \n",
       "3235           0.592301         0.633578        0.023271             1253  \n",
       "3236           0.574439         0.643820        0.049173              622  \n",
       "3237           0.608861         0.618355        0.025471             2159  \n",
       "3238           0.659571         0.643628        0.019329              632  \n",
       "3239           0.640701         0.649780        0.015499              326  \n",
       "\n",
       "[3240 rows x 18 columns]"
      ]
     },
     "execution_count": 38,
     "metadata": {},
     "output_type": "execute_result"
    }
   ],
   "source": [
    "pd.DataFrame(search.cv_results_)"
   ]
  },
  {
   "cell_type": "code",
   "execution_count": 39,
   "metadata": {},
   "outputs": [
    {
     "name": "stdout",
     "output_type": "stream",
     "text": [
      "accuracy score on train 0.8514150943396226\n",
      "AxesSubplot(0.125,0.125;0.62x0.755)\n",
      "auc_roc_score is  0.7298447008218542\n"
     ]
    },
    {
     "data": {
      "image/png": "[encoded data removed]",
      "text/plain": [
       "<Figure size 432x288 with 2 Axes>"
      ]
     },
     "metadata": {
      "needs_background": "light"
     },
     "output_type": "display_data"
    }
   ],
   "source": [
    "dtr = DecisionTreeClassifier(**search.best_params_)\n",
    "dtr.fit(X_train,y_train)\n",
    "ytrain_prob = dtr.predict_proba(X_train)[:,1]\n",
    "ytrainpred = dtr.predict(X_train)\n",
    "print('accuracy score on train',accuracy_score(y_train,ytrainpred))\n",
    "print(sns.heatmap(confusion_matrix(y_train,ytrainpred),annot =True,fmt ='g'))\n",
    "print('auc_roc_score is ',roc_auc_score(y_train,ytrain_prob))"
   ]
  },
  {
   "cell_type": "code",
   "execution_count": 40,
   "metadata": {},
   "outputs": [
    {
     "name": "stdout",
     "output_type": "stream",
     "text": [
      "accuracy score on train 0.8466981132075472\n",
      "AxesSubplot(0.125,0.125;0.62x0.755)\n",
      "auc_roc_score is  0.705369772542448\n"
     ]
    },
    {
     "data": {
      "image/png": "[encoded data removed]",
      "text/plain": [
       "<Figure size 432x288 with 2 Axes>"
      ]
     },
     "metadata": {
      "needs_background": "light"
     },
     "output_type": "display_data"
    }
   ],
   "source": [
    "ytest_prob = dtr.predict_proba(X_test)[:,1]\n",
    "ytestpred = dtr.predict(X_test)\n",
    "print('accuracy score on train',accuracy_score(y_test,ytestpred))\n",
    "print(sns.heatmap(confusion_matrix(y_test,ytestpred),annot =True,fmt ='g'))\n",
    "print('auc_roc_score is ',roc_auc_score(y_test,ytest_prob))"
   ]
  },
  {
   "cell_type": "code",
   "execution_count": null,
   "metadata": {},
   "outputs": [],
   "source": []
  }
 ],
 "metadata": {
  "kernelspec": {
   "display_name": "Python 3",
   "language": "python",
   "name": "python3"
  },
  "language_info": {
   "codemirror_mode": {
    "name": "ipython",
    "version": 3
   },
   "file_extension": ".py",
   "mimetype": "text/x-python",
   "name": "python",
   "nbconvert_exporter": "python",
   "pygments_lexer": "ipython3",
   "version": "3.7.6"
  }
 },
 "nbformat": 4,
 "nbformat_minor": 4
}
