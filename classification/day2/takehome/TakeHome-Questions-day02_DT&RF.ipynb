{
 "cells": [
  {
   "cell_type": "markdown",
   "metadata": {},
   "source": [
    "# Take Home Lab_Exercise (Decision Tree,Random Forest)"
   ]
  },
  {
   "cell_type": "raw",
   "metadata": {},
   "source": [
    "Campaign for selling personal loans.\n",
    "\n",
    "This case is about a bank (Thera Bank) which has a growing customer base. Majority of these customers are liability customers (depositors) with varying size of deposits. The number of customers who are also borrowers (asset customers) is quite small, and the bank is interested in expanding this base rapidly to bring in more loan business and in the process, earn more through the interest on loans. In particular, the management wants to explore ways of converting its liability customers to personal loan customers (while retaining them as depositors). A campaign that the bank ran last year for liability customers showed a healthy conversion rate of over 9% success. This has encouraged the retail marketing department to devise campaigns with better target marketing to increase the success ratio with minimal budget.\n",
    "The department wants to build a model that will help them identify the potential customers who have higher probability of purchasing the loan. This will increase the success ratio while at the same time reduce the cost of the campaign.\n",
    "The file Bank.xls contains data on 5000 customers. \n",
    "The data include customer demographic information (age, income, etc.), \n",
    "the customer's relationship with the bank (mortgage, securities account, etc.), \n",
    "and the customer response to the last personal loan campaign (Personal Loan). Among these 5000 customers, \n",
    "only 480 (= 9.6%) accepted the personal loan that was offered to them in the earlier campaign.\n"
   ]
  },
  {
   "cell_type": "raw",
   "metadata": {},
   "source": [
    "\tData Description:\t\t\t\t\t\t\t\t\n",
    "\n",
    "##\tID\tCustomer ID\t\t\t\t\t\t\t\n",
    "##\tAge\tCustomer's age in completed years\t\t\t\t\t\t\t\n",
    "##\tExperience\t#years of professional experience\t\t\t\t\t\t\t\n",
    "##\tIncome\tAnnual income of the customer ($000)\t\t\t\t\t\t\t\n",
    "##\tZIPCode\tHome Address ZIP code.\t\t\t\t\t\t\t\n",
    "##\tFamily\tFamily size of the customer\t\t\t\t\t\t\t\n",
    "##\tCCAvg\tAvg. spending on credit cards per month ($000)\t\t\t\t\t\t\t\n",
    "##\tEducation\tEducation Level. 1: Undergrad; 2: Graduate; 3: Advanced/Professional\t\t\t\t\t\t\t\n",
    "##\tMortgage\tValue of house mortgage if any. ($000)\t\t\t\t\t\t\t\n",
    "##\tPersonal Loan\tDid this customer accept the personal loan offered in the last campaign?\t\t\t\t\t\t\t\n",
    "##\tSecurities Account\tDoes the customer have a securities account with the bank?\t\t\t\t\t\t\t\n",
    "##\tCD Account\tDoes the customer have a certificate of deposit (CD) account with the bank?\t\t\t\t\t\t\t\n",
    "##\tOnline\tDoes the customer use internet banking facilities?\t\t\t\t\t\t\t\n",
    "##\tCreditCard\tDoes the customer use a credit card issued by UniversalBank?\t\t\t\t\t\t\t\n"
   ]
  },
  {
   "cell_type": "markdown",
   "metadata": {},
   "source": [
    "### 1.2 Import the Libraries"
   ]
  },
  {
   "cell_type": "code",
   "execution_count": null,
   "metadata": {},
   "outputs": [],
   "source": []
  },
  {
   "cell_type": "markdown",
   "metadata": {},
   "source": [
    "### 1.3 Load the dataset"
   ]
  },
  {
   "cell_type": "code",
   "execution_count": null,
   "metadata": {},
   "outputs": [],
   "source": []
  },
  {
   "cell_type": "markdown",
   "metadata": {},
   "source": [
    "### 1.4 Check the data type of variables"
   ]
  },
  {
   "cell_type": "code",
   "execution_count": null,
   "metadata": {},
   "outputs": [],
   "source": []
  },
  {
   "cell_type": "markdown",
   "metadata": {},
   "source": [
    "### 1.4 Use describe() to summarize the dataframe"
   ]
  },
  {
   "cell_type": "code",
   "execution_count": null,
   "metadata": {},
   "outputs": [],
   "source": []
  },
  {
   "cell_type": "markdown",
   "metadata": {},
   "source": [
    "### 1.5 EDA: Use pairplot to check the relationships between variables\n"
   ]
  },
  {
   "cell_type": "code",
   "execution_count": null,
   "metadata": {},
   "outputs": [],
   "source": []
  },
  {
   "cell_type": "markdown",
   "metadata": {},
   "source": [
    "### 1.6 Check the count of Personal Loan. (Hint: Use groupby)"
   ]
  },
  {
   "cell_type": "code",
   "execution_count": null,
   "metadata": {},
   "outputs": [],
   "source": []
  },
  {
   "cell_type": "markdown",
   "metadata": {},
   "source": [
    "### 1.7 Extract the independent variables (X) and dependent variable (Y)"
   ]
  },
  {
   "cell_type": "code",
   "execution_count": null,
   "metadata": {},
   "outputs": [],
   "source": []
  },
  {
   "cell_type": "markdown",
   "metadata": {},
   "source": [
    "### 1.8 Split the data into train and test set:(70/30)"
   ]
  },
  {
   "cell_type": "code",
   "execution_count": null,
   "metadata": {},
   "outputs": [],
   "source": []
  },
  {
   "cell_type": "markdown",
   "metadata": {},
   "source": [
    "### 1.9 Apply StandardScaler to preprocess the dataset"
   ]
  },
  {
   "cell_type": "code",
   "execution_count": null,
   "metadata": {},
   "outputs": [],
   "source": []
  },
  {
   "cell_type": "markdown",
   "metadata": {},
   "source": [
    "### 1.10 Buold a Decision Tree using Train data"
   ]
  },
  {
   "cell_type": "code",
   "execution_count": null,
   "metadata": {},
   "outputs": [],
   "source": []
  },
  {
   "cell_type": "markdown",
   "metadata": {},
   "source": [
    "### 1.10a)  Predict the testdata:"
   ]
  },
  {
   "cell_type": "code",
   "execution_count": null,
   "metadata": {},
   "outputs": [],
   "source": []
  },
  {
   "cell_type": "markdown",
   "metadata": {},
   "source": [
    "### 1.10b)  Evaluate the model:"
   ]
  },
  {
   "cell_type": "code",
   "execution_count": null,
   "metadata": {},
   "outputs": [],
   "source": []
  },
  {
   "cell_type": "markdown",
   "metadata": {},
   "source": [
    "## 1.11 Similarly build Random Forest classifier and compare it with Decision Tree"
   ]
  },
  {
   "cell_type": "code",
   "execution_count": null,
   "metadata": {},
   "outputs": [],
   "source": []
  }
 ],
 "metadata": {
  "colab": {
   "name": "Mini+Project+Bank+Loan.ipynb",
   "provenance": [],
   "version": "0.3.2"
  },
  "kernelspec": {
   "display_name": "Python 3",
   "language": "python",
   "name": "python3"
  },
  "language_info": {
   "codemirror_mode": {
    "name": "ipython",
    "version": 3
   },
   "file_extension": ".py",
   "mimetype": "text/x-python",
   "name": "python",
   "nbconvert_exporter": "python",
   "pygments_lexer": "ipython3",
   "version": "3.7.3"
  }
 },
 "nbformat": 4,
 "nbformat_minor": 1
}
